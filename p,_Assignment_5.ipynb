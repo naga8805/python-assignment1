{
  "nbformat": 4,
  "nbformat_minor": 0,
  "metadata": {
    "colab": {
      "provenance": []
    },
    "kernelspec": {
      "name": "python3",
      "display_name": "Python 3"
    },
    "language_info": {
      "name": "python"
    }
  },
  "cells": [
    {
      "cell_type": "markdown",
      "source": [
        "# Files, exceptional handling, logging and memory management Questions"
      ],
      "metadata": {
        "id": "FIDAbVnPuCmI"
      }
    },
    {
      "cell_type": "markdown",
      "source": [
        "# Theory Questions"
      ],
      "metadata": {
        "id": "9x1S-q8C9Vgj"
      }
    },
    {
      "cell_type": "markdown",
      "source": [
        "1. What is the difference between interpreted and compiled languages?"
      ],
      "metadata": {
        "id": "C_ELU-uj9am1"
      }
    },
    {
      "cell_type": "markdown",
      "source": [
        "**Interpreted Languages:**  \n",
        "\n",
        "Code is executed line by line by an interpreter program. It translates and runs instructions directly, without a separate compilation phase.\n",
        "\n",
        "* Examples: Python, JavaScript, Ruby.\n",
        "* Advantages: Platform independent (write once, run anywhere), easier debugging (errors detected at runtime), faster development cycles.\n",
        "* Disadvantages: Generally slower execution compared to compiled languages as translation happens during runtime.\n",
        "\n",
        "**Compiled Languages:**  \n",
        "\n",
        "Code is first translated into machine code (or an intermediate bytecode) by a compiler before execution. The compiled code is then run directly by the computer's processor.\n",
        "\n",
        "* Examples: C, C++, Java (compiles to bytecode which is then interpreted by JVM), Go.\n",
        "* Advantages: Generally faster execution because the translation is done once, before runtime; optimized code.\n",
        "* Disadvantages: Platform dependent (compiled code for one OS/architecture won't run on another without recompilation), longer development cycles due to compilation step, harder debugging (errors often found at compile time but runtime errors can be harder to trace)."
      ],
      "metadata": {
        "id": "TPEF9ayJ9eZg"
      }
    },
    {
      "cell_type": "markdown",
      "source": [
        "2. What is exception handling in Python?"
      ],
      "metadata": {
        "id": "2EzcpxNH-qgd"
      }
    },
    {
      "cell_type": "markdown",
      "source": [
        "Exception handling in Python is a mechanism that allows you to manage runtime errors (exceptions) that interrupt the normal flow of a program.  Instead of crashing, your program can gracefully handle these errors, preventing abrupt termination and providing a more robust user experience.  It uses try, except, else, and finally blocks.\n",
        "\n",
        "Example: Catching a ZeroDivisionError instead of letting the program crash."
      ],
      "metadata": {
        "id": "xRKbSSrC-xaj"
      }
    },
    {
      "cell_type": "markdown",
      "source": [
        "3. What is the purpose of the finally block in exception handling?"
      ],
      "metadata": {
        "id": "druj4eaUr4vq"
      }
    },
    {
      "cell_type": "markdown",
      "source": [
        "The finally block in exception handling is an optional block of code that is always executed, regardless of whether an exception occurred in the try block or not, and regardless of whether it was handled by an except block.\n",
        "\n",
        "Purpose: It is primarily used for cleanup operations that must happen, such as closing files, releasing network connections, or ensuring resources are deallocated, even if an error occurs.\n",
        "Example: Ensuring a file is closed even if an error occurs while reading it."
      ],
      "metadata": {
        "id": "YcMmP6eDr66z"
      }
    },
    {
      "cell_type": "markdown",
      "source": [
        "4. What is logging in Python?"
      ],
      "metadata": {
        "id": "aJ3UYrQTsDFr"
      }
    },
    {
      "cell_type": "markdown",
      "source": [
        "Logging in Python is a built-in module (logging) that provides a flexible and robust way to track events that occur while software runs.  It allows developers to record messages (e.g., debug information, warnings, errors) to various destinations like the console, a file, or even a network server.  This is crucial for debugging, monitoring, and understanding the behavior of applications, especially in production environments.\n",
        "\n",
        "Example: Recording an error message to a file when a specific problem occurs."
      ],
      "metadata": {
        "id": "TjeHUwGgsIFu"
      }
    },
    {
      "cell_type": "code",
      "source": [
        "import logging #\n",
        "logging.basicConfig(level=logging.INFO) #\n",
        "logging.info(\"This is an informational message.\") #\n",
        "logging.error(\"This is an error message.\") #"
      ],
      "metadata": {
        "colab": {
          "base_uri": "https://localhost:8080/"
        },
        "id": "DCuQJX5RuFDj",
        "outputId": "49a936e1-8892-41c1-c43f-890a561274ae"
      },
      "execution_count": 1,
      "outputs": [
        {
          "output_type": "stream",
          "name": "stderr",
          "text": [
            "ERROR:root:This is an error message.\n"
          ]
        }
      ]
    },
    {
      "cell_type": "markdown",
      "source": [
        "5. What is the significance of the __del__ method in Python?"
      ],
      "metadata": {
        "id": "7v9ITVbMsOwz"
      }
    },
    {
      "cell_type": "markdown",
      "source": [
        "The __del__ method, also known as the destructor, is a special method in Python that is called when an object is about to be garbage collected (i.e., when its reference count drops to zero and it's no longer reachable).\n",
        "\n",
        "Significance: Its primary purpose is to perform cleanup activities before an object is completely removed from memory. This might include closing file handles, releasing external resources (like database connections or network sockets), or explicitly deleting temporary files created by the object.\n",
        "Note: Its execution timing is not guaranteed, as Python's garbage collector determines when objects are truly deleted, and __del__ is not called if the program terminates abnormally. For critical resource management, with statements and context managers are generally preferred."
      ],
      "metadata": {
        "id": "F6tdrI8rsYsE"
      }
    },
    {
      "cell_type": "code",
      "source": [
        "class MyResource: #\n",
        "    def __init__(self, name): #\n",
        "        self.name = name #\n",
        "        print(f\"{self.name} resource created.\") #\n",
        "    def __del__(self): #\n",
        "        print(f\"{self.name} resource destroyed.\") #\n",
        "\n",
        "res = MyResource(\"Database Connection\") #\n",
        "# When 'res' is no longer referenced, __del__ will be called."
      ],
      "metadata": {
        "colab": {
          "base_uri": "https://localhost:8080/"
        },
        "id": "GRDzOfPsuQUz",
        "outputId": "2167e180-ab1c-4304-e912-f98ea41f2793"
      },
      "execution_count": 2,
      "outputs": [
        {
          "output_type": "stream",
          "name": "stdout",
          "text": [
            "Database Connection resource created.\n"
          ]
        }
      ]
    },
    {
      "cell_type": "markdown",
      "source": [
        "6. What is the difference between import and from ... import in Python?"
      ],
      "metadata": {
        "id": "WSlmgsdtsaS-"
      }
    },
    {
      "cell_type": "markdown",
      "source": [
        "Both statements are used to bring modules or their components into the current namespace, but they differ in how they do it:\n",
        "\n",
        "import module_name:\n",
        "* Imports the entire module into the current namespace.\n",
        "* You must prefix items from the module with the module name (e.g., math.pi, os.path.exists).\n",
        "* Advantage: Avoids naming conflicts if different modules have components with the same name.\n",
        "* Example: import math then print(math.sqrt(25))\n",
        "\n",
        "from module_name import item_name:\n",
        "\n",
        "* Imports specific items (functions, classes, variables) directly into the current namespace.\n",
        "You can use the imported items directly without prefixing them with the module name.\n",
        "* Advantage: Shorter code, directly accesses the needed items.\n",
        "* Disadvantage: Can lead to naming conflicts if you import items with the same name from different modules.\n",
        "* Example: from math import sqrt then print(sqrt(25))"
      ],
      "metadata": {
        "id": "2kXY8YqjsmZb"
      }
    },
    {
      "cell_type": "markdown",
      "source": [
        "7. How can you handle multiple exceptions in Python?"
      ],
      "metadata": {
        "id": "3-bNGlyPt1Gj"
      }
    },
    {
      "cell_type": "markdown",
      "source": [
        "You can handle multiple exceptions in Python using several except blocks or by grouping exceptions in a single except block.\n",
        "\n",
        "* Multiple except blocks: Define a separate except block for each type of exception you want to handle. The first matching except block will execute."
      ],
      "metadata": {
        "id": "ktoV4-tPums_"
      }
    },
    {
      "cell_type": "code",
      "source": [
        "try:\n",
        "    # code that might raise exceptions\n",
        "    pass\n",
        "except ZeroDivisionError:\n",
        "    print(\"Cannot divide by zero!\")\n",
        "except ValueError:\n",
        "    print(\"Invalid value encountered!\")\n",
        "except Exception as e: # A general catch-all for other errors\n",
        "    print(f\"An unexpected error occurred: {e}\")"
      ],
      "metadata": {
        "id": "e_ISn7sSutUh"
      },
      "execution_count": 3,
      "outputs": []
    },
    {
      "cell_type": "markdown",
      "source": [
        "* Single except block with a tuple of exceptions: Group multiple exception types into a tuple for a single except block to handle them all with the same code."
      ],
      "metadata": {
        "id": "2XCKrYVbvAqp"
      }
    },
    {
      "cell_type": "code",
      "source": [
        "try:\n",
        "    pass\n",
        "except (ZeroDivisionError, ValueError, TypeError) as e:\n",
        "    print(f\"An error occurred: {type(e).__name__} - {e}\")"
      ],
      "metadata": {
        "id": "JoKr-V7OvDIc"
      },
      "execution_count": 5,
      "outputs": []
    },
    {
      "cell_type": "markdown",
      "source": [
        "8. What is the purpose of the with statement when handling files in Python?"
      ],
      "metadata": {
        "id": "M12D9C4uvRTY"
      }
    },
    {
      "cell_type": "markdown",
      "source": [
        "The with statement (also known as a context manager) ensures that resources, especially files, are properly managed. It guarantees that the file is automatically closed after the block of code is executed, even if errors occur.\n",
        "* Example:"
      ],
      "metadata": {
        "id": "BSkSRH8avVCt"
      }
    },
    {
      "cell_type": "code",
      "source": [
        "with open(\"my_file.txt\", \"w\") as file: #\n",
        "    file.write(\"Hello, with statement!\") #\n",
        "# File is automatically closed here"
      ],
      "metadata": {
        "id": "4ab4bVJqvULG"
      },
      "execution_count": 7,
      "outputs": []
    },
    {
      "cell_type": "markdown",
      "source": [
        "9. What is the difference between multithreading and multiprocessing?"
      ],
      "metadata": {
        "id": "yPRl3fvIv86F"
      }
    },
    {
      "cell_type": "markdown",
      "source": [
        "* Multithreading: Involves running multiple threads concurrently within a single process. Threads share the same memory space. Due to Python's Global Interpreter Lock (GIL), multithreading in Python is often better for I/O-bound tasks (like network requests or file operations) rather than CPU-bound tasks.\n",
        "* Example: A web server handling multiple client requests simultaneously using threads.\n",
        "\n",
        "* Multiprocessing: Involves running multiple processes, each with its own interpreter and memory space. This allows for true parallel execution on multi-core processors and is suitable for CPU-bound tasks.\n",
        "* Example: Running a complex scientific computation by splitting it into multiple independent processes."
      ],
      "metadata": {
        "id": "GKmFGCLzwL70"
      }
    },
    {
      "cell_type": "markdown",
      "source": [
        "10. What are the advantages of using logging in a program?"
      ],
      "metadata": {
        "id": "a5RHanfNwWuX"
      }
    },
    {
      "cell_type": "markdown",
      "source": [
        "Using the logging module offers several significant advantages:\n",
        "\n",
        "* Debugging and Troubleshooting: Provides a clear record of program execution, helping identify where and why errors occurred.\n",
        "* Monitoring and Analysis: Allows tracking application behavior, performance, and key events in production environments.\n",
        "* Separation of Concerns: Keeps informational, warning, and error messages separate from the main program logic, making code cleaner.\n",
        "* Flexibility: Highly configurable; logs can be directed to the console, files, network, databases, etc., with different levels of detail.\n",
        "* Post-Mortem Analysis: Log files provide historical data that can be analyzed after a crash or incident to understand what happened.\n",
        "* Auditing: Can be used to record security-related events or user actions for auditing purposes.\n",
        "* Example: Logging informational messages about data processing steps and error messages when processing fails."
      ],
      "metadata": {
        "id": "EaWgwE9lwb94"
      }
    },
    {
      "cell_type": "markdown",
      "source": [
        "11. What is memory management in Python?"
      ],
      "metadata": {
        "id": "0wks-Wfrw5Bs"
      }
    },
    {
      "cell_type": "markdown",
      "source": [
        "Memory management in Python involves how memory is allocated and deallocated for objects during program execution. Python uses a private heap for object storage, and a garbage collector handles automatic memory deallocation of objects that are no longer referenced.\n",
        "\n",
        "* Example: When you create a variable x = 10, memory is allocated for the integer 10. When x is no longer used, Python's garbage collector frees that memory."
      ],
      "metadata": {
        "id": "tERRe3m-w-c7"
      }
    },
    {
      "cell_type": "markdown",
      "source": [
        "12. What are the basic steps involved in exception handling in Python?"
      ],
      "metadata": {
        "id": "zbs9e-qzxJnT"
      }
    },
    {
      "cell_type": "markdown",
      "source": [
        "The basic steps involved in exception handling in Python using try, except, else, and finally are:\n",
        "\n",
        "* 'try' block: This block contains the code that might raise an exception.\n",
        "* 'except' block(s): These blocks immediately follow the try block. If an exception occurs in the try block, Python looks for an except block that matches the type of exception. The code within the matching except block is executed to handle the error.\n",
        "* 'else' block (optional): This block is executed only if no exception occurs in the try block. It's often used for code that should only run if the try block completed successfully.\n",
        "* 'finally' block (optional): This block is always executed, regardless of whether an exception occurred or was handled. It's typically used for cleanup actions."
      ],
      "metadata": {
        "id": "Nb7qlvjyxOnC"
      }
    },
    {
      "cell_type": "markdown",
      "source": [
        "13. Why is memory management important in Python?"
      ],
      "metadata": {
        "id": "kSX3-0ZGxy9G"
      }
    },
    {
      "cell_type": "markdown",
      "source": [
        "Even though Python has automatic memory management, understanding its importance is crucial for:\n",
        "\n",
        "* **Preventing Memory Leaks:** Though less common than in manual memory languages, improper handling of references can still lead to objects not being garbage collected, consuming excessive memory.\n",
        "* **Optimizing Performance:** Efficient memory use can significantly impact program speed, especially for applications dealing with large datasets.\n",
        "* **Resource Efficiency**: Ensures that your program doesn't consume more memory than necessary, which is important for applications running on resource-constrained systems or servers.\n",
        "* **Debugging:** Understanding memory patterns can help diagnose performance bottlenecks or unexpected program behavior.\n",
        "* **Predictability:** Knowing how Python handles memory helps in writing more predictable and reliable code."
      ],
      "metadata": {
        "id": "tUrfdWrsx_eN"
      }
    },
    {
      "cell_type": "markdown",
      "source": [
        "14. What is the role of try and except in exception handling?"
      ],
      "metadata": {
        "id": "0HMLVV5wyXXD"
      }
    },
    {
      "cell_type": "markdown",
      "source": [
        "* try: The try block contains the code that is to be executed and might potentially raise an exception. Python attempts to execute all statements within this block.\n",
        "* except: The except block is executed if an exception occurs within the corresponding try block. It specifies the type of exception it can handle (or handles any exception if no type is specified) and contains the code to respond to that error, preventing the program from crashing.\n",
        "* Example:"
      ],
      "metadata": {
        "id": "aS2xGFsWyZGF"
      }
    },
    {
      "cell_type": "code",
      "source": [
        "try:\n",
        "    result = 10 / 0 # This will raise a ZeroDivisionError\n",
        "except ZeroDivisionError:\n",
        "    print(\"Cannot divide by zero!\")"
      ],
      "metadata": {
        "colab": {
          "base_uri": "https://localhost:8080/"
        },
        "id": "dWDidjLwypa3",
        "outputId": "b4a8fd5e-2c56-4ce6-bad0-c22b8e24f122"
      },
      "execution_count": 8,
      "outputs": [
        {
          "output_type": "stream",
          "name": "stdout",
          "text": [
            "Cannot divide by zero!\n"
          ]
        }
      ]
    },
    {
      "cell_type": "markdown",
      "source": [
        "15.  How does Python's garbage collection system work?"
      ],
      "metadata": {
        "id": "v0rSDV1iys8m"
      }
    },
    {
      "cell_type": "markdown",
      "source": [
        "Python's garbage collection primarily uses reference counting to track object references. When an object's reference count drops to zero, it means no variables are pointing to it, and it can be deallocated. Python also has a cycle detector to collect objects involved in reference cycles (where objects reference each other but are no longer accessible from the main program).\n",
        "\n",
        "Example:"
      ],
      "metadata": {
        "id": "3U_ZSZsJyxiL"
      }
    },
    {
      "cell_type": "code",
      "source": [
        "a = [1, 2] # Reference count of [1, 2] is 1 (by 'a')\n",
        "b = a       # Reference count of [1, 2] is 2 (by 'a' and 'b')\n",
        "del a       # Reference count is 1 (by 'b')\n",
        "del b       # Reference count is 0, object is eligible for garbage collection"
      ],
      "metadata": {
        "id": "pX0y1jmsy_jX"
      },
      "execution_count": 9,
      "outputs": []
    },
    {
      "cell_type": "markdown",
      "source": [
        "16. What is the purpose of the else block in exception handling?"
      ],
      "metadata": {
        "id": "fYcasPuXzPPy"
      }
    },
    {
      "cell_type": "markdown",
      "source": [
        "The else block in exception handling is an optional block that is executed only if the code inside the try block executes successfully and no exception is raised.\n",
        "\n",
        "* Purpose: It's used for code that should run specifically when the try block completes without errors. This helps to keep the try block focused on the code that might cause an exception, making the logic clearer.\n",
        "* Example:"
      ],
      "metadata": {
        "id": "pptMwrx8zX9H"
      }
    },
    {
      "cell_type": "code",
      "source": [
        "try:\n",
        "    num = int(\"123\")\n",
        "    result = num * 2\n",
        "except ValueError:\n",
        "    print(\"Invalid input for conversion.\")\n",
        "else: # This runs only if int(\"123\") succeeds\n",
        "    print(f\"Conversion successful. Result: {result}\")\n",
        "finally:\n",
        "    print(\"Operation completed.\")"
      ],
      "metadata": {
        "colab": {
          "base_uri": "https://localhost:8080/"
        },
        "id": "LKBN80b6zbMC",
        "outputId": "4d24a656-b9b8-454d-e1af-fc3ec6915261"
      },
      "execution_count": 10,
      "outputs": [
        {
          "output_type": "stream",
          "name": "stdout",
          "text": [
            "Conversion successful. Result: 246\n",
            "Operation completed.\n"
          ]
        }
      ]
    },
    {
      "cell_type": "markdown",
      "source": [
        "17. What are the common logging levels in Python?"
      ],
      "metadata": {
        "id": "2luhzCSozf8p"
      }
    },
    {
      "cell_type": "markdown",
      "source": [
        "The common logging levels in Python, in increasing order of severity, are:\n",
        "\n",
        "* DEBUG: Detailed information, typically of interest only when diagnosing problems.\n",
        "* INFO: Confirmation that things are working as expected.\n",
        "* WARNING: An indication that something unexpected happened, or indicative of some problem in the near future (e.g., ‘disk space low’). The software is still working as expected.\n",
        "* ERROR: Due to a more serious problem, the software has not been able to perform some function.\n",
        "* CRITICAL: A serious error, indicating that the program itself may be unable to continue running.\n",
        "\n",
        "* Example:"
      ],
      "metadata": {
        "id": "rbR-JOwczkDg"
      }
    },
    {
      "cell_type": "code",
      "source": [
        "import logging\n",
        "logging.basicConfig(level=logging.DEBUG)\n",
        "logging.debug(\"This is a debug message.\")\n",
        "logging.info(\"This is an info message.\")\n",
        "logging.warning(\"This is a warning message.\")\n",
        "logging.error(\"This is an error message.\")\n",
        "logging.critical(\"This is a critical message!\")"
      ],
      "metadata": {
        "colab": {
          "base_uri": "https://localhost:8080/"
        },
        "id": "A0aUrNhiz-23",
        "outputId": "becfdd83-e8e2-4fa6-f5c0-173419a9bb71"
      },
      "execution_count": 12,
      "outputs": [
        {
          "output_type": "stream",
          "name": "stderr",
          "text": [
            "WARNING:root:This is a warning message.\n",
            "ERROR:root:This is an error message.\n",
            "CRITICAL:root:This is a critical message!\n"
          ]
        }
      ]
    },
    {
      "cell_type": "markdown",
      "source": [
        "18. What is the difference between os.fork() and multiprocessing in Python?"
      ],
      "metadata": {
        "id": "jI1wGG3x0Fvd"
      }
    },
    {
      "cell_type": "markdown",
      "source": [
        "**os.fork():**\n",
        "\n",
        "* A low-level system call (available on Unix-like systems) that creates a new process (child process) that is a copy of the calling process (parent process).\n",
        "* The child process starts executing from the point where fork() was called.\n",
        "* It directly reflects the underlying operating system's fork() behavior.\n",
        "* More raw and less portable than the multiprocessing module.\n",
        "\n",
        "**multiprocessing module:**\n",
        "\n",
        "* A high-level, platform-independent API for creating and managing processes in Python.\n",
        "* It provides abstractions (like Process class, Pool, Queue, Pipe) that simplify inter-process communication and synchronization.\n",
        "* While multiprocessing on Unix-like systems often uses os.fork() internally as its default \"start method\" (unless configured otherwise), it also offers other start methods ('spawn' and 'forkserver') for better portability and robustness, especially on Windows.\n",
        "\n",
        "**Key difference:**\n",
        "\n",
        " multiprocessing abstracts away the complexities of os.fork() and provides a consistent, cross-platform way to achieve parallelism."
      ],
      "metadata": {
        "id": "v36Hxlm302gK"
      }
    },
    {
      "cell_type": "markdown",
      "source": [
        "19. What is the importance of closing a file in Python?"
      ],
      "metadata": {
        "id": "WjqgxvoW16o8"
      }
    },
    {
      "cell_type": "markdown",
      "source": [
        "It is crucial to close files in Python after you are done using them, for several reasons:\n",
        "\n",
        "* Resource Release: When a file is opened, the operating system allocates resources (like file descriptors). Closing the file releases these resources, preventing resource leaks.\n",
        "\n",
        "* Data Integrity: Changes made to a file (especially when writing) might be buffered in memory and not actually written to disk until the file is explicitly closed or the buffer is flushed. Failing to close the file can lead to data loss or corruption.\n",
        "* Preventing Conflicts: If a file is left open, other programs or even other parts of your own program might not be able to access or modify it, leading to errors or unexpected behavior.\n",
        "* Portability/Reliability: While Python's garbage collector might eventually close unreferenced files, relying on it is not guaranteed and can lead to unpredictable behavior, especially across different operating systems or Python versions. Explicitly closing ensures reliability.\n",
        "* Best Practice: Using with open(...) as a context manager is the recommended way to handle files, as it automatically ensures files are closed, even if errors occur.\n"
      ],
      "metadata": {
        "id": "bjYIIA9w1-pJ"
      }
    },
    {
      "cell_type": "code",
      "source": [
        "with open(\"data.txt\", \"w\") as f:\n",
        "    f.write(\"Some data\")\n",
        "# File is automatically closed here, ensuring data is saved and resources released."
      ],
      "metadata": {
        "id": "o_u8MZsI2UIV"
      },
      "execution_count": 14,
      "outputs": []
    },
    {
      "cell_type": "markdown",
      "source": [
        "20. What is the difference between file.read() and file.readline() in Python?"
      ],
      "metadata": {
        "id": "3N7qud-Z26wt"
      }
    },
    {
      "cell_type": "markdown",
      "source": [
        "Both methods are used to read content from a file object, but they do so differently:\n",
        "\n",
        "**file.read(size=-1):**\n",
        "\n",
        "* Reads the entire content of the file as a single string.\n",
        "If an optional size argument is provided, it reads at most size bytes.\n",
        "* The file pointer moves to the end of the file after reading.\n",
        "* Use Case: When you need to load the whole file into memory, typically for smaller files or when you need to process the content as one large string.\n",
        "\n",
        "**file.readline(size=-1):**\n",
        "\n",
        "* Reads a single line from the file.\n",
        "* Returns the line as a string, including the newline character (\\n) if present at the end of the line.\n",
        "* If an optional size argument is provided, it reads at most size bytes from the line.\n",
        "* The file pointer moves to the beginning of the next line.\n",
        "* Use Case: When you need to process a file line by line, especially for very large files that might not fit entirely into memory."
      ],
      "metadata": {
        "id": "kHyAHTCf3IUp"
      }
    },
    {
      "cell_type": "markdown",
      "source": [
        "21. What is the logging module in Python used for?"
      ],
      "metadata": {
        "id": "awmK8LAI3v5u"
      }
    },
    {
      "cell_type": "markdown",
      "source": [
        "The logging module in Python provides a flexible framework for emitting log messages from applications and libraries.  It is used for:\n",
        "\n",
        "* Recording Events: Tracking when and what events occur in your software.\n",
        "* Debugging: Helping developers understand the flow of execution and the state of variables during development.\n",
        "* Monitoring: Providing insights into application behavior, performance, and potential issues in production.\n",
        "* Auditing: Creating a trail of significant actions or security events.\n",
        "* Error Reporting: Capturing and reporting exceptions and error conditions.\n",
        "* Severity Levels: Distinguishing between different types of messages (DEBUG, INFO, WARNING, ERROR, CRITICAL) for filtering and prioritization.\n",
        "* Output Destinations: Sending logs to various places like the console, files, email, network sockets, etc."
      ],
      "metadata": {
        "id": "A44V5OOX30N6"
      }
    },
    {
      "cell_type": "markdown",
      "source": [
        "22. What is the os module in Python used for in file handling?"
      ],
      "metadata": {
        "id": "kWDLx0iX4Oic"
      }
    },
    {
      "cell_type": "markdown",
      "source": [
        "The os module in Python provides a way of using operating system-dependent functionality.  In file handling, it's particularly useful for:\n",
        "\n",
        "* Path Manipulation: Functions like os.path.join(), os.path.split(), os.path.basename(), os.path.dirname() for constructing, splitting, and extracting parts of file paths in an OS-independent way.\n",
        "* Checking File/Directory Existence: os.path.exists(), os.path.isfile(), os.path.isdir() to verify if a path points to an existing file or directory.\n",
        "* File and Directory Operations: os.remove() (delete file), os.rename() (rename file/directory), os.mkdir() (create directory), os.rmdir() (remove empty directory), os.walk() (traverse directory tree).\n",
        "* Getting File Information: os.path.getsize() (get file size), os.path.getmtime() (get last modification time).\n",
        "* Changing Current Directory: os.chdir().\n",
        "* Example: Checking if a file exists before trying to open it: if os.path.exists('my_file.txt'): ...\n"
      ],
      "metadata": {
        "id": "YRVT56bA4b-v"
      }
    },
    {
      "cell_type": "markdown",
      "source": [
        "23. What are the challenges associated with memory management in Python?"
      ],
      "metadata": {
        "id": "7zFrQWSR456h"
      }
    },
    {
      "cell_type": "markdown",
      "source": [
        "While Python's automatic memory management simplifies development, some challenges and considerations remain:\n",
        "\n",
        "* Memory Overhead: Python objects have a certain memory overhead (e.g., for reference counting, type information) which can lead to higher memory consumption compared to lower-level languages.\n",
        "* Circular References: As mentioned, cyclic references can prevent objects from being garbage collected by reference counting alone, requiring the additional cycle detector to run, which can be less efficient.\n",
        "* Unpredictable Garbage Collection: The exact timing of when the garbage collector runs can be unpredictable, making it hard to precisely control memory usage or debug memory-related issues in some cases.\n",
        "* Debugging Memory Leaks: Although less common, subtle memory leaks can still occur if references are unintentionally kept, preventing objects from being freed. Debugging these can be complex.\n",
        "* Global Interpreter Lock (GIL) and Memory: While not directly memory management, the GIL can impact how efficiently multi-threaded programs utilize memory on multi-core CPUs, as only one thread can execute Python bytecode at a time, limiting true parallel processing for CPU-bound tasks."
      ],
      "metadata": {
        "id": "lO9ocuoa5K9p"
      }
    },
    {
      "cell_type": "markdown",
      "source": [
        "24.  How do you raise an exception manually in Python?"
      ],
      "metadata": {
        "id": "6QCO_dzE5dev"
      }
    },
    {
      "cell_type": "markdown",
      "source": [
        "You can raise an exception manually in Python using the raise keyword.  This is useful for signaling that an error condition has occurred, especially when validating input or enforcing program logic.\n",
        "\n",
        "* Syntax: raise ExceptionType(\"Error message\")\n",
        "* Example:"
      ],
      "metadata": {
        "id": "Y2MNAGRa5qMg"
      }
    },
    {
      "cell_type": "code",
      "source": [
        "def process_positive_number(num):\n",
        "    if num < 0:\n",
        "        raise ValueError(\"Number must be positive!\") # Manually raise ValueError\n",
        "    return num * 2\n",
        "\n",
        "try:\n",
        "    result = process_positive_number(10)\n",
        "    print(f\"Result: {result}\")\n",
        "    result = process_positive_number(-5)\n",
        "    print(f\"Result: {result}\")\n",
        "except ValueError as e:\n",
        "    print(f\"Caught an error: {e}\")"
      ],
      "metadata": {
        "colab": {
          "base_uri": "https://localhost:8080/"
        },
        "id": "VKNe5LJB5vMd",
        "outputId": "568ff927-5614-43a0-dfd4-587b2c9000be"
      },
      "execution_count": 16,
      "outputs": [
        {
          "output_type": "stream",
          "name": "stdout",
          "text": [
            "Result: 20\n",
            "Caught an error: Number must be positive!\n"
          ]
        }
      ]
    },
    {
      "cell_type": "markdown",
      "source": [
        "25. Why is it important to use multithreading in certain applications?"
      ],
      "metadata": {
        "id": "ncwpDQaQ55Xg"
      }
    },
    {
      "cell_type": "markdown",
      "source": [
        "Multithreading is important in applications primarily when dealing with I/O-bound tasks (Input/Output-bound tasks) where the program spends a significant amount of time waiting for external operations to complete.\n",
        "\n",
        "* Responsiveness: Keeps the application responsive to user input while long-running I/O operations (like downloading files, database queries, network requests) happen in the background.\n",
        "\n",
        "* Improved User Experience: Prevents the UI from freezing or appearing unresponsive during blocking operations.\n",
        "* Concurrency for Waiting Tasks: Allows multiple tasks to appear to run \"at the same time\" by switching between threads when one thread is waiting for I/O, thus making better use of available CPU time.\n",
        "* Resource Sharing: Threads share the same memory space, making data sharing and communication between them easier and more efficient than between separate processes.\n",
        "* Example: A web server handling multiple client requests simultaneously, a GUI application performing background data fetches, or downloading multiple files concurrently."
      ],
      "metadata": {
        "id": "jxtvilQ65-ns"
      }
    },
    {
      "cell_type": "markdown",
      "source": [
        "# Practical Questions"
      ],
      "metadata": {
        "id": "jONWwPMWuhom"
      }
    },
    {
      "cell_type": "markdown",
      "source": [
        "1. How can you open a file for writing in Python and write a string to it?"
      ],
      "metadata": {
        "id": "-jZgr-wtum51"
      }
    },
    {
      "cell_type": "code",
      "source": [
        "# Using 'w' mode (will create/overwrite the file)\n",
        "with open('my_file.txt', 'w') as file:\n",
        "    file.write(\"Hello, this is a test string.\\n\")\n",
        "print(\"Hello, this is a sample string.\")"
      ],
      "metadata": {
        "colab": {
          "base_uri": "https://localhost:8080/"
        },
        "id": "Lm8X5UdsvATi",
        "outputId": "80ed9cec-c866-4417-d788-560e1965d4be"
      },
      "execution_count": null,
      "outputs": [
        {
          "output_type": "stream",
          "name": "stdout",
          "text": [
            "Hello, this is a sample string.\n"
          ]
        }
      ]
    },
    {
      "cell_type": "markdown",
      "source": [
        "2. Write a Python program to read the contents of a file and print each line?\n"
      ],
      "metadata": {
        "id": "9P79u3v4x5CM"
      }
    },
    {
      "cell_type": "markdown",
      "source": [
        "You can read a file line by line using a for loop directly on the file object, or using the readlines() method. The with statement ensures proper file closure."
      ],
      "metadata": {
        "id": "gxB3ZJlyz46l"
      }
    },
    {
      "cell_type": "code",
      "source": [
        "# First, create a sample file for reading\n",
        "with open('sample_read.txt', 'w') as f:\n",
        "    f.write(\"Line 1: Apples\\n\")\n",
        "    f.write(\"Line 2: Bananas\\n\")\n",
        "    f.write(\"Line 3: Cherries\\n\")\n",
        "\n",
        "print(\"Reading file 'sample_read.txt' line by line:\")\n",
        "with open('sample_read.txt', 'r') as file:\n",
        "    for line in file:\n",
        "        print(line.strip()) # .strip() removes trailing newline characters"
      ],
      "metadata": {
        "colab": {
          "base_uri": "https://localhost:8080/"
        },
        "id": "PJzwErzWyIUI",
        "outputId": "827f17dc-b174-4712-f0e5-05238f8ffa51"
      },
      "execution_count": null,
      "outputs": [
        {
          "output_type": "stream",
          "name": "stdout",
          "text": [
            "Reading file 'sample_read.txt' line by line:\n",
            "Line 1: Apples\n",
            "Line 2: Bananas\n",
            "Line 3: Cherries\n"
          ]
        }
      ]
    },
    {
      "cell_type": "markdown",
      "source": [
        "3. How would you handle a case where the file doesn't exist while trying to open it for reading?"
      ],
      "metadata": {
        "id": "cNZtRv9sz6un"
      }
    },
    {
      "cell_type": "markdown",
      "source": [
        "You can handle a FileNotFoundError using a try-except block."
      ],
      "metadata": {
        "id": "vbC3_8RJ0V2U"
      }
    },
    {
      "cell_type": "code",
      "source": [
        "try:\n",
        "    with open('non_existent_file.txt', 'r') as file:\n",
        "        content = file.read()\n",
        "        print(content)\n",
        "except FileNotFoundError:\n",
        "    print(\"Error: The file 'non_existent_file.txt' was not found.\")"
      ],
      "metadata": {
        "colab": {
          "base_uri": "https://localhost:8080/"
        },
        "id": "fd5YERBa0BX4",
        "outputId": "9e067933-c860-4675-9e92-c6307b042942"
      },
      "execution_count": null,
      "outputs": [
        {
          "output_type": "stream",
          "name": "stdout",
          "text": [
            "Error: The file 'non_existent_file.txt' was not found.\n"
          ]
        }
      ]
    },
    {
      "cell_type": "markdown",
      "source": [
        "4. Write a Python script that reads from one file and writes its content to another file."
      ],
      "metadata": {
        "id": "QLGc_oji0XcB"
      }
    },
    {
      "cell_type": "markdown",
      "source": [
        "This involves opening one file in read mode and another in write mode, then reading from the first and writing to the second."
      ],
      "metadata": {
        "id": "Om3SL7l-DkSN"
      }
    },
    {
      "cell_type": "code",
      "source": [
        "# Create a source file for demonstration\n",
        "with open('source.txt', 'w') as f:\n",
        "    f.write(\"This is the content from the source file.\\n\")\n",
        "    f.write(\"It will be copied to the destination file.\")\n",
        "\n",
        "source_file_name = 'source.txt'\n",
        "destination_file_name = 'destination.txt'\n",
        "\n",
        "try:\n",
        "    with open(source_file_name, 'r') as infile: # Open source for reading\n",
        "        content = infile.read() # Read all content\n",
        "    with open(destination_file_name, 'w') as outfile: # Open destination for writing\n",
        "        outfile.write(content) # Write content to destination\n",
        "    print(f\"Content from '{source_file_name}' copied to '{destination_file_name}'.\")\n",
        "except FileNotFoundError:\n",
        "    print(f\"Error: Source file '{source_file_name}' not found.\")\n",
        "except IOError as e:\n",
        "    print(f\"Error writing to file: {e}\")"
      ],
      "metadata": {
        "colab": {
          "base_uri": "https://localhost:8080/"
        },
        "id": "T1AwNNhI0dD_",
        "outputId": "5bded684-b3ae-45a6-b399-9b7c82c8b836"
      },
      "execution_count": null,
      "outputs": [
        {
          "output_type": "stream",
          "name": "stdout",
          "text": [
            "Content from 'source.txt' copied to 'destination.txt'.\n"
          ]
        }
      ]
    },
    {
      "cell_type": "markdown",
      "source": [
        "5. How would you catch and handle division by zero error in Python?"
      ],
      "metadata": {
        "id": "yXkKIuajDo2a"
      }
    },
    {
      "cell_type": "markdown",
      "source": [
        "You can use a try-except block to catch the ZeroDivisionError"
      ],
      "metadata": {
        "id": "TdtSjZ02Dv_d"
      }
    },
    {
      "cell_type": "code",
      "source": [
        "def safe_divide(numerator, denominator):\n",
        "    try:\n",
        "        result = numerator / denominator\n",
        "        print(f\"Result of division: {result}\")\n",
        "    except ZeroDivisionError:\n",
        "        print(\"Error: Cannot divide by zero!\")\n",
        "\n",
        "safe_divide(10, 2)\n",
        "safe_divide(10, 0)"
      ],
      "metadata": {
        "colab": {
          "base_uri": "https://localhost:8080/"
        },
        "id": "CFZo3nh6Dwtq",
        "outputId": "39b82c1f-cf9d-4492-d205-fc1bee463ce7"
      },
      "execution_count": null,
      "outputs": [
        {
          "output_type": "stream",
          "name": "stdout",
          "text": [
            "Result of division: 5.0\n",
            "Error: Cannot divide by zero!\n"
          ]
        }
      ]
    },
    {
      "cell_type": "markdown",
      "source": [
        "6. Write a Python program that logs an error message to a log file when a division by zero exception occurs?"
      ],
      "metadata": {
        "id": "6YD6XTQNDzbM"
      }
    },
    {
      "cell_type": "markdown",
      "source": [
        "This involves using the logging module to record the error."
      ],
      "metadata": {
        "id": "SClCnj5GD3KJ"
      }
    },
    {
      "cell_type": "code",
      "source": [
        "import logging\n",
        "\n",
        "# Configure logging to a file\n",
        "logging.basicConfig(filename='app_errors.log', level=logging.ERROR,\n",
        "                    format='%(asctime)s - %(levelname)s - %(message)s')\n",
        "\n",
        "def perform_division(numerator, denominator):\n",
        "    try:\n",
        "        result = numerator / denominator\n",
        "        print(f\"Division result: {result}\")\n",
        "    except ZeroDivisionError:\n",
        "        error_message = f\"Attempted division by zero: {numerator} / {denominator}\"\n",
        "        logging.error(error_message, exc_info=True) # Log the error with traceback\n",
        "        print(\"An error occurred and was logged.\")\n",
        "\n",
        "perform_division(10, 2)\n",
        "perform_division(10, 0)\n",
        "\n",
        "# Check app_errors.log file after running"
      ],
      "metadata": {
        "colab": {
          "base_uri": "https://localhost:8080/"
        },
        "id": "RlTnupmBD6Q6",
        "outputId": "6adca951-f63c-4be2-ca1a-1cecebf03c28"
      },
      "execution_count": null,
      "outputs": [
        {
          "output_type": "stream",
          "name": "stderr",
          "text": [
            "ERROR:root:Attempted division by zero: 10 / 0\n",
            "Traceback (most recent call last):\n",
            "  File \"<ipython-input-56-587ce3fdb110>\", line 9, in perform_division\n",
            "    result = numerator / denominator\n",
            "             ~~~~~~~~~~^~~~~~~~~~~~~\n",
            "ZeroDivisionError: division by zero\n"
          ]
        },
        {
          "output_type": "stream",
          "name": "stdout",
          "text": [
            "Division result: 5.0\n",
            "An error occurred and was logged.\n"
          ]
        }
      ]
    },
    {
      "cell_type": "markdown",
      "source": [
        "7.  How do you log information at different levels (INFO, ERROR, WARNING) in Python using the logging module?"
      ],
      "metadata": {
        "id": "XLdSk2plD9hv"
      }
    },
    {
      "cell_type": "markdown",
      "source": [
        "Ans. The logging module provides methods for different severity levels: info(), warning(), error(), debug(), critical(). You configure the basic level of the logger to decide which messages get processed."
      ],
      "metadata": {
        "id": "C6tj1BwzEI3P"
      }
    },
    {
      "cell_type": "code",
      "source": [
        "import logging\n",
        "\n",
        "# Configure basic logging to console (default)\n",
        "# Set level to INFO to see INFO, WARNING, ERROR, CRITICAL messages\n",
        "logging.basicConfig(level=logging.INFO, format='%(asctime)s - %(levelname)s - %(message)s')\n",
        "\n",
        "logging.debug(\"This is a DEBUG message. (Might not appear if level is INFO or higher)\")\n",
        "logging.info(\"This is an INFO message. Something happened.\")\n",
        "logging.warning(\"This is a WARNING message. Something unusual happened.\")\n",
        "logging.error(\"This is an ERROR message. Something went wrong.\")\n",
        "logging.critical(\"This is a CRITICAL message. A severe error, program might terminate.\")\n",
        "\n",
        "# To log to a file instead, configure filename:\n",
        "# logging.basicConfig(filename='my_app.log', level=logging.INFO, ...)"
      ],
      "metadata": {
        "colab": {
          "base_uri": "https://localhost:8080/"
        },
        "id": "wXgsmmESEK4o",
        "outputId": "bcdede63-a14f-4d4a-be14-b73b0f6a5926"
      },
      "execution_count": null,
      "outputs": [
        {
          "output_type": "stream",
          "name": "stderr",
          "text": [
            "WARNING:root:This is a WARNING message. Something unusual happened.\n",
            "ERROR:root:This is an ERROR message. Something went wrong.\n",
            "CRITICAL:root:This is a CRITICAL message. A severe error, program might terminate.\n"
          ]
        }
      ]
    },
    {
      "cell_type": "markdown",
      "source": [
        "8. Write a program to handle a file opening error using exception handling."
      ],
      "metadata": {
        "id": "ruSCLM8DEOIl"
      }
    },
    {
      "cell_type": "markdown",
      "source": [
        "Similar to question 3, using try-except FileNotFoundError is the standard approach."
      ],
      "metadata": {
        "id": "jU0oddi4EScL"
      }
    },
    {
      "cell_type": "code",
      "source": [
        "file_to_open = \"non_existent_document.txt\"\n",
        "\n",
        "try:\n",
        "    with open(file_to_open, 'r') as file:\n",
        "        content = file.read()\n",
        "        print(f\"File content:\\n{content}\")\n",
        "except FileNotFoundError:\n",
        "    print(f\"Error: The file '{file_to_open}' was not found. Please check the file path.\")\n",
        "except IOError as e: # Catch other potential I/O errors\n",
        "    print(f\"An I/O error occurred: {e}\")"
      ],
      "metadata": {
        "colab": {
          "base_uri": "https://localhost:8080/"
        },
        "id": "CHaBnPu-Eb2V",
        "outputId": "59c8c4d8-47e1-4d7c-9c73-f1b4db826ddd"
      },
      "execution_count": null,
      "outputs": [
        {
          "output_type": "stream",
          "name": "stdout",
          "text": [
            "Error: The file 'non_existent_document.txt' was not found. Please check the file path.\n"
          ]
        }
      ]
    },
    {
      "cell_type": "markdown",
      "source": [
        "9.  How can you read a file line by line and store its content in a list in Python?"
      ],
      "metadata": {
        "id": "QKmn3psKEfU8"
      }
    },
    {
      "cell_type": "markdown",
      "source": [
        "Ans. You can use a for loop to iterate over the file object, appending each line to a list. Remember to strip newline characters if not desired."
      ],
      "metadata": {
        "id": "hHwFIKBgEiny"
      }
    },
    {
      "cell_type": "code",
      "source": [
        "# Create a sample file\n",
        "with open('lines_file.txt', 'w') as f:\n",
        "    f.write(\"First line of text.\\n\")\n",
        "    f.write(\"Second line here.\\n\")\n",
        "    f.write(\"And the last line.\\n\")\n",
        "\n",
        "lines_list = []\n",
        "try:\n",
        "    with open('lines_file.txt', 'r') as file:\n",
        "        for line in file:\n",
        "            lines_list.append(line.strip()) # Add line, removing newline character\n",
        "    print(\"File content stored in a list:\")\n",
        "    print(lines_list)\n",
        "except FileNotFoundError:\n",
        "    print(\"Error: File not found.\")"
      ],
      "metadata": {
        "colab": {
          "base_uri": "https://localhost:8080/"
        },
        "id": "wTcjdnn-Emtm",
        "outputId": "aba905d4-9375-4a69-8558-34e271020308"
      },
      "execution_count": null,
      "outputs": [
        {
          "output_type": "stream",
          "name": "stdout",
          "text": [
            "File content stored in a list:\n",
            "['First line of text.', 'Second line here.', 'And the last line.']\n"
          ]
        }
      ]
    },
    {
      "cell_type": "markdown",
      "source": [
        "10. How can you append data to an existing file in Python?"
      ],
      "metadata": {
        "id": "abAIs6oNEqOR"
      }
    },
    {
      "cell_type": "markdown",
      "source": [
        "Ans. Open the file in append mode ('a'). If the file does not exist, it will be created. If it exists, new data will be written at the end of the file."
      ],
      "metadata": {
        "id": "w_67oQz_E0v3"
      }
    },
    {
      "cell_type": "code",
      "source": [
        "# Ensure the file exists (or create it) for appending\n",
        "with open('append_test.txt', 'w') as f:\n",
        "    f.write(\"Initial content.\\n\")\n",
        "\n",
        "print(\"Appending to 'append_test.txt':\")\n",
        "with open('append_test.txt', 'a') as file: # Open in append mode 'a'\n",
        "    file.write(\"This is new appended content.\\n\")\n",
        "    file.write(\"Another line added at the end.\\n\")\n",
        "print(\"Data appended. Check 'append_test.txt'.\")\n",
        "\n",
        "# Verify content\n",
        "with open('append_test.txt', 'r') as file:\n",
        "    print(\"\\nContent after appending:\")\n",
        "    print(file.read())"
      ],
      "metadata": {
        "colab": {
          "base_uri": "https://localhost:8080/"
        },
        "id": "LUI6QQeIEyj5",
        "outputId": "c8ef7cf2-d753-44de-a816-97dab7d8ce9c"
      },
      "execution_count": 17,
      "outputs": [
        {
          "output_type": "stream",
          "name": "stdout",
          "text": [
            "Appending to 'append_test.txt':\n",
            "Data appended. Check 'append_test.txt'.\n",
            "\n",
            "Content after appending:\n",
            "Initial content.\n",
            "This is new appended content.\n",
            "Another line added at the end.\n",
            "\n"
          ]
        }
      ]
    },
    {
      "cell_type": "markdown",
      "source": [
        "11. Write a Python program that uses a try-except block to handle an error when attempting to access a\n",
        "dictionary key that doesn't exist."
      ],
      "metadata": {
        "id": "m5DSjF0bE6CW"
      }
    },
    {
      "cell_type": "markdown",
      "source": [
        "Accessing a non-existent key in a dictionary raises a KeyError."
      ],
      "metadata": {
        "id": "Vdlj7TNEFBKp"
      }
    },
    {
      "cell_type": "code",
      "source": [
        "my_dict = {'name': 'Alice', 'age': 30}\n",
        "\n",
        "try:\n",
        "    city = my_dict['city'] # This key does not exist\n",
        "    print(f\"City: {city}\")\n",
        "except KeyError:\n",
        "    print(\"Error: The key 'city' does not exist in the dictionary.\")\n",
        "\n",
        "# Example with an existing key\n",
        "try:\n",
        "    name = my_dict['name']\n",
        "    print(f\"Name: {name}\")\n",
        "except KeyError:\n",
        "    print(\"Error: Key 'name' not found (this shouldn't happen here).\")"
      ],
      "metadata": {
        "colab": {
          "base_uri": "https://localhost:8080/"
        },
        "id": "wpw_psJWFFQr",
        "outputId": "626dbef9-409d-414a-d81d-626bba018e49"
      },
      "execution_count": 18,
      "outputs": [
        {
          "output_type": "stream",
          "name": "stdout",
          "text": [
            "Error: The key 'city' does not exist in the dictionary.\n",
            "Name: Alice\n"
          ]
        }
      ]
    },
    {
      "cell_type": "markdown",
      "source": [
        "12. Write a program that demonstrates using multiple except blocks to handle different types of exceptions."
      ],
      "metadata": {
        "id": "BJ90W1G5FIOw"
      }
    },
    {
      "cell_type": "markdown",
      "source": [
        "Ans. You can have multiple except blocks, each handling a specific exception type. The first except block that matches the exception will be executed."
      ],
      "metadata": {
        "id": "SPBIyuHjFMwN"
      }
    },
    {
      "cell_type": "code",
      "source": [
        "def demonstrate_exceptions(value, index):\n",
        "    try:\n",
        "        result = 10 / value # Potential ZeroDivisionError\n",
        "        my_list = [1, 2, 3]\n",
        "        item = my_list[index] # Potential IndexError\n",
        "        my_dict = {'a': 1, 'b': 2}\n",
        "        val = my_dict['c'] # Potential KeyError\n",
        "\n",
        "    except ZeroDivisionError:\n",
        "        print(\"Caught a ZeroDivisionError!\")\n",
        "    except IndexError:\n",
        "        print(\"Caught an IndexError! List index out of range.\")\n",
        "    except KeyError:\n",
        "        print(\"Caught a KeyError! Dictionary key not found.\")\n",
        "    except Exception as e: # Catch any other unexpected exceptions\n",
        "        print(f\"Caught an unexpected error: {e}\")\n",
        "    else: # Optional: runs if no exception occurs\n",
        "        print(\"No exceptions occurred in the try block.\")\n",
        "    finally:\n",
        "        print(\"Finally block executed (always runs).\")\n",
        "\n",
        "demonstrate_exceptions(0, 1)    # Triggers ZeroDivisionError\n",
        "print(\"-\" * 20)\n",
        "demonstrate_exceptions(5, 5)    # Triggers IndexError (after division succeeds)\n",
        "print(\"-\" * 20)\n",
        "demonstrate_exceptions(5, 1)    # Triggers KeyError (after division and index access succeed)\n",
        "print(\"-\" * 20)\n",
        "demonstrate_exceptions(5, 1)    # No specific exception caught by previous blocks, will trigger KeyError"
      ],
      "metadata": {
        "colab": {
          "base_uri": "https://localhost:8080/"
        },
        "id": "agSbB5F-FPv2",
        "outputId": "67bb6d11-2cd2-40bf-d70c-6c687119bf80"
      },
      "execution_count": 19,
      "outputs": [
        {
          "output_type": "stream",
          "name": "stdout",
          "text": [
            "Caught a ZeroDivisionError!\n",
            "Finally block executed (always runs).\n",
            "--------------------\n",
            "Caught an IndexError! List index out of range.\n",
            "Finally block executed (always runs).\n",
            "--------------------\n",
            "Caught a KeyError! Dictionary key not found.\n",
            "Finally block executed (always runs).\n",
            "--------------------\n",
            "Caught a KeyError! Dictionary key not found.\n",
            "Finally block executed (always runs).\n"
          ]
        }
      ]
    },
    {
      "cell_type": "markdown",
      "source": [
        "13. How would you check if a file exists before attempting to read it in Python?"
      ],
      "metadata": {
        "id": "FUYRqz77FcQa"
      }
    },
    {
      "cell_type": "code",
      "source": [
        "import os\n",
        "if os.path.exists('my_file.txt'):\n",
        "    print(\"File exists.\")"
      ],
      "metadata": {
        "colab": {
          "base_uri": "https://localhost:8080/"
        },
        "id": "JdO0OCGtFd6i",
        "outputId": "e246a58c-05a4-49a5-9243-8c1a142d2fa8"
      },
      "execution_count": 20,
      "outputs": [
        {
          "output_type": "stream",
          "name": "stdout",
          "text": [
            "File exists.\n"
          ]
        }
      ]
    },
    {
      "cell_type": "markdown",
      "source": [
        "14. Write a program that uses the logging module to log both informational and error messages."
      ],
      "metadata": {
        "id": "UbuCotKdF54q"
      }
    },
    {
      "cell_type": "markdown",
      "source": [
        "Ans. Configure basicConfig to set the lowest logging level you want to capture, and then use logging.info() and logging.error()."
      ],
      "metadata": {
        "id": "TUhp_4eBGByD"
      }
    },
    {
      "cell_type": "code",
      "source": [
        "import logging\n",
        "\n",
        "# Configure logging to a file\n",
        "logging.basicConfig(filename='app_activity.log', level=logging.INFO,\n",
        "                    format='%(asctime)s - %(levelname)s - %(message)s')\n",
        "\n",
        "def process_data(data):\n",
        "    logging.info(f\"Starting data processing for: {data}\")\n",
        "    try:\n",
        "        result = sum(data) / len(data)\n",
        "        logging.info(f\"Successfully processed data. Average: {result}\")\n",
        "        return result\n",
        "    except ZeroDivisionError:\n",
        "        logging.error(f\"Error: Division by zero when processing {data}\", exc_info=True)\n",
        "        return None\n",
        "    except TypeError as e:\n",
        "        logging.error(f\"Error: Invalid data type encountered: {e}\", exc_info=True)\n",
        "        return None\n",
        "\n",
        "process_data([1, 2, 3, 4, 5])\n",
        "process_data([]) # Empty list to cause ZeroDivisionError\n",
        "process_data([1, 'a', 3]) # Mixed types to cause TypeError\n",
        "\n",
        "print(\"Check 'app_activity.log' for messages.\")"
      ],
      "metadata": {
        "colab": {
          "base_uri": "https://localhost:8080/"
        },
        "id": "ZXbdy0gtGEGg",
        "outputId": "4a03e1d8-7d3c-4f90-b9c6-89e2c9487c96"
      },
      "execution_count": 21,
      "outputs": [
        {
          "output_type": "stream",
          "name": "stderr",
          "text": [
            "ERROR:root:Error: Division by zero when processing []\n",
            "Traceback (most recent call last):\n",
            "  File \"<ipython-input-21-7750f0ba8410>\", line 10, in process_data\n",
            "    result = sum(data) / len(data)\n",
            "             ~~~~~~~~~~^~~~~~~~~~~\n",
            "ZeroDivisionError: division by zero\n",
            "ERROR:root:Error: Invalid data type encountered: unsupported operand type(s) for +: 'int' and 'str'\n",
            "Traceback (most recent call last):\n",
            "  File \"<ipython-input-21-7750f0ba8410>\", line 10, in process_data\n",
            "    result = sum(data) / len(data)\n",
            "             ^^^^^^^^^\n",
            "TypeError: unsupported operand type(s) for +: 'int' and 'str'\n"
          ]
        },
        {
          "output_type": "stream",
          "name": "stdout",
          "text": [
            "Check 'app_activity.log' for messages.\n"
          ]
        }
      ]
    },
    {
      "cell_type": "markdown",
      "source": [
        "15. Write a Python program that prints the content of a file and handles the case when the file is empty."
      ],
      "metadata": {
        "id": "zjifIs0GGJ2y"
      }
    },
    {
      "cell_type": "code",
      "source": [
        "def read_and_check_file(filename):\n",
        "    try:\n",
        "        with open(filename, 'r') as file:\n",
        "            content = file.read() # Read all content\n",
        "            if content:\n",
        "                print(f\"\\nContent of '{filename}':\\n{content}\")\n",
        "            else:\n",
        "                print(f\"\\n'{filename}' is empty.\")\n",
        "    except FileNotFoundError:\n",
        "        print(f\"Error: File '{filename}' not found.\")\n",
        "    except Exception as e:\n",
        "        print(f\"An unexpected error occurred: {e}\")\n",
        "\n",
        "# Create a non-empty file\n",
        "with open('non_empty.txt', 'w') as f:\n",
        "    f.write(\"Some text here.\")\n",
        "read_and_check_file('non_empty.txt')\n",
        "\n",
        "# Create an empty file\n",
        "with open('empty_file.txt', 'w') as f:\n",
        "    pass # Creates an empty file\n",
        "read_and_check_file('empty_file.txt')\n",
        "\n",
        "# Try to read a non-existent file\n",
        "read_and_check_file('does_not_exist.txt')"
      ],
      "metadata": {
        "colab": {
          "base_uri": "https://localhost:8080/"
        },
        "id": "GawVn1izGVBk",
        "outputId": "cca460bf-4789-4abd-e833-aa15287d3065"
      },
      "execution_count": 22,
      "outputs": [
        {
          "output_type": "stream",
          "name": "stdout",
          "text": [
            "\n",
            "Content of 'non_empty.txt':\n",
            "Some text here.\n",
            "\n",
            "'empty_file.txt' is empty.\n",
            "Error: File 'does_not_exist.txt' not found.\n"
          ]
        }
      ]
    },
    {
      "cell_type": "markdown",
      "source": [
        "16. Demonstrate how to use memory profiling to check the memory usage of a small program."
      ],
      "metadata": {
        "id": "vAAhzXp8Ji6M"
      }
    },
    {
      "cell_type": "code",
      "source": [
        "## Creating a file to ensure it exists for reading\n",
        "file_to_open = \"existing_document.txt\"\n",
        "\n",
        "# Create the file with some content\n",
        "try:\n",
        "    with open(file_to_open, 'w') as file:\n",
        "        file.write(\"This file was created for demonstration.\\n\")\n",
        "        file.write(\"You should see this content printed.\\n\")\n",
        "    print(f\"Successfully created '{file_to_open}'.\")\n",
        "except IOError as e:\n",
        "    print(f\"Error creating file '{file_to_open}': {e}\")\n",
        "    # If file creation fails, we should stop here as reading will also fail\n",
        "    exit() # Exit the script if file creation failed\n",
        "\n",
        "## Now, use the original error handling to read the file (which now exists)\n",
        "try:\n",
        "    with open(file_to_open, 'r') as file:\n",
        "        content = file.read()\n",
        "        print(f\"\\nContent of '{file_to_open}':\\n{content}\")\n",
        "except FileNotFoundError:\n",
        "    # This block should ideally not be reached now that we created the file\n",
        "    print(f\"Error: The file '{file_to_open}' was not found (unexpected after creation).\")\n",
        "except IOError as e:\n",
        "    print(f\"An I/O error occurred while reading: {e}\")"
      ],
      "metadata": {
        "colab": {
          "base_uri": "https://localhost:8080/"
        },
        "id": "7qcZi30zJnOB",
        "outputId": "14703f66-be49-4a12-f9ef-cc127775a6e3"
      },
      "execution_count": null,
      "outputs": [
        {
          "output_type": "stream",
          "name": "stdout",
          "text": [
            "Successfully created 'existing_document.txt'.\n",
            "\n",
            "Content of 'existing_document.txt':\n",
            "This file was created for demonstration.\n",
            "You should see this content printed.\n",
            "\n"
          ]
        }
      ]
    },
    {
      "cell_type": "markdown",
      "source": [
        "17. Write a Python program to create and write a list of numbers to a file, one number per line."
      ],
      "metadata": {
        "id": "YSL3aVZMMylE"
      }
    },
    {
      "cell_type": "markdown",
      "source": [
        "Iterate through the list and write each number, followed by a newline character."
      ],
      "metadata": {
        "id": "81-BiF8_Nnv8"
      }
    },
    {
      "cell_type": "code",
      "source": [
        "numbers = [10, 20, 30, 40, 50, 60]\n",
        "output_filename = \"numbers_list.txt\"\n",
        "\n",
        "try:\n",
        "    with open(output_filename, 'w') as file:\n",
        "        for number in numbers:\n",
        "            file.write(f\"{number}\\n\") # Write each number and a newline\n",
        "    print(f\"List of numbers written to '{output_filename}'.\")\n",
        "except IOError as e:\n",
        "    print(f\"Error writing to file: {e}\")\n",
        "\n",
        "# Verify content\n",
        "with open(output_filename, 'r') as file:\n",
        "    print(\"\\nContent of the created file:\")\n",
        "    print(file.read())"
      ],
      "metadata": {
        "colab": {
          "base_uri": "https://localhost:8080/"
        },
        "id": "BWJGFSwVKS3M",
        "outputId": "58c06433-ca31-45ca-b28a-1287e1d0d9be"
      },
      "execution_count": null,
      "outputs": [
        {
          "output_type": "stream",
          "name": "stdout",
          "text": [
            "List of numbers written to 'numbers_list.txt'.\n",
            "\n",
            "Content of the created file:\n",
            "10\n",
            "20\n",
            "30\n",
            "40\n",
            "50\n",
            "60\n",
            "\n"
          ]
        }
      ]
    },
    {
      "cell_type": "markdown",
      "source": [
        "18.  How would you implement a basic logging setup that logs to a file with rotation after 1MB?"
      ],
      "metadata": {
        "id": "nd0-JvxANpz8"
      }
    },
    {
      "cell_type": "code",
      "source": [
        "import logging\n",
        "from logging.handlers import RotatingFileHandler\n",
        "\n",
        "handler = RotatingFileHandler(\"rotating.log\", maxBytes=1_000_000, backupCount=3)\n",
        "logging.basicConfig(handlers=[handler], level=logging.INFO)\n",
        "\n",
        "logging.info(\"This is a log message with rotation.\")"
      ],
      "metadata": {
        "id": "RhXoNp4-OSrS"
      },
      "execution_count": 23,
      "outputs": []
    },
    {
      "cell_type": "markdown",
      "source": [
        "19. Write a program that handles both IndexError and KeyError using a try-except block."
      ],
      "metadata": {
        "id": "7ml7oMMyPHdq"
      }
    },
    {
      "cell_type": "code",
      "source": [
        "try:\n",
        "    my_list = [1, 2, 3]\n",
        "    print(my_list[5])  # This will raise IndexError\n",
        "\n",
        "    my_dict = {\"a\": 1}\n",
        "    print(my_dict[\"b\"])  # This will raise KeyError\n",
        "except IndexError:\n",
        "    print(\"IndexError occurred.\")\n",
        "except KeyError:\n",
        "    print(\"KeyError occurred.\")"
      ],
      "metadata": {
        "colab": {
          "base_uri": "https://localhost:8080/"
        },
        "id": "RU5EXRELloGL",
        "outputId": "99e730eb-823f-445c-fc9e-a7f1865b8c5c"
      },
      "execution_count": null,
      "outputs": [
        {
          "output_type": "stream",
          "name": "stdout",
          "text": [
            "IndexError occurred.\n"
          ]
        }
      ]
    },
    {
      "cell_type": "markdown",
      "source": [
        "20. How would you open a file and read its contents using a context manager in Python?"
      ],
      "metadata": {
        "id": "U9Cv6N0cmAnM"
      }
    },
    {
      "cell_type": "markdown",
      "source": [
        "The with statement is Python's context manager, ensuring that resources (like files) are properly managed (opened and closed automatically)."
      ],
      "metadata": {
        "id": "rDF2SfA9m_Ed"
      }
    },
    {
      "cell_type": "code",
      "source": [
        "# Create a sample file\n",
        "with open('context_file.txt', 'w') as f:\n",
        "    f.write(\"Content managed by context manager.\\n\")\n",
        "    f.write(\"This line is also inside the file.\")\n",
        "\n",
        "try:\n",
        "    with open('context_file.txt', 'r') as file:\n",
        "        content = file.read()\n",
        "        print(f\"File content read using context manager:\\n{content}\")\n",
        "    # File is automatically closed here, even if errors occur within the 'with' block\n",
        "except FileNotFoundError:\n",
        "    print(\"Error: File not found.\")"
      ],
      "metadata": {
        "colab": {
          "base_uri": "https://localhost:8080/"
        },
        "id": "qRzY6kMflxL-",
        "outputId": "5a02e63d-262e-4189-ab94-9cd587cfff2f"
      },
      "execution_count": 24,
      "outputs": [
        {
          "output_type": "stream",
          "name": "stdout",
          "text": [
            "File content read using context manager:\n",
            "Content managed by context manager.\n",
            "This line is also inside the file.\n"
          ]
        }
      ]
    },
    {
      "cell_type": "markdown",
      "source": [
        "21.  Write a Python program that reads a file and prints the number of occurrences of a specific word."
      ],
      "metadata": {
        "id": "WVd0VW-fnAzJ"
      }
    },
    {
      "cell_type": "markdown",
      "source": [
        "Read the file content, convert it to lowercase to ensure case-insensitive counting, and then use the count() method or split and count words."
      ],
      "metadata": {
        "id": "Ywscxbgqngau"
      }
    },
    {
      "cell_type": "code",
      "source": [
        "def count_word_occurrences(filename, word_to_find):\n",
        "    count = 0\n",
        "    try:\n",
        "        with open(filename, 'r') as file:\n",
        "            content = file.read().lower() # Read content and convert to lowercase for case-insensitivity [cite: 39]\n",
        "            # A simple way to count: count occurrences of the word string\n",
        "            # This might count parts of words (e.g., 'and' in 'candy')\n",
        "            count = content.count(word_to_find.lower())\n",
        "\n",
        "            # A more robust way: split into words and count exact matches\n",
        "            # words = content.split()\n",
        "            # count = words.count(word_to_find.lower())\n",
        "        print(f\"The word '{word_to_find}' appears {count} time(s) in '{filename}'.\")\n",
        "    except FileNotFoundError:\n",
        "        print(f\"Error: File '{filename}' not found.\")\n",
        "    except Exception as e:\n",
        "        print(f\"An unexpected error occurred: {e}\")\n",
        "\n",
        "# Create a sample file\n",
        "with open('word_count_test.txt', 'w') as f:\n",
        "    f.write(\"Python is a great programming language. I love python.\\n\")\n",
        "    f.write(\"Learn Python to become a great developer. Python is fun.\")\n",
        "\n",
        "count_word_occurrences('word_count_test.txt', 'python')\n",
        "count_word_occurrences('word_count_test.txt', 'language')\n",
        "count_word_occurrences('word_count_test.txt', 'Java')"
      ],
      "metadata": {
        "colab": {
          "base_uri": "https://localhost:8080/"
        },
        "id": "1RJp-7ebnWZY",
        "outputId": "48e2f280-cece-44f3-bf57-312956951544"
      },
      "execution_count": 25,
      "outputs": [
        {
          "output_type": "stream",
          "name": "stdout",
          "text": [
            "The word 'python' appears 4 time(s) in 'word_count_test.txt'.\n",
            "The word 'language' appears 1 time(s) in 'word_count_test.txt'.\n",
            "The word 'Java' appears 0 time(s) in 'word_count_test.txt'.\n"
          ]
        }
      ]
    },
    {
      "cell_type": "markdown",
      "source": [
        "22. How can you check if a file is empty before attempting to read its contents?"
      ],
      "metadata": {
        "id": "3iMy6m7injeG"
      }
    },
    {
      "cell_type": "markdown",
      "source": [
        "You can check the file's size using os.path.getsize(). If the size is 0 bytes, the file is empty."
      ],
      "metadata": {
        "id": "RzhadjQ7nvFg"
      }
    },
    {
      "cell_type": "code",
      "source": [
        "import os\n",
        "\n",
        "def check_file_empty(filepath):\n",
        "    if not os.path.exists(filepath):\n",
        "        print(f\"File '{filepath}' does not exist.\")\n",
        "        return False\n",
        "    if os.path.getsize(filepath) == 0:\n",
        "        print(f\"File '{filepath}' is empty.\")\n",
        "        return True\n",
        "    else: # [cite: 40]\n",
        "        print(f\"File '{filepath}' is not empty.\")\n",
        "        return False\n",
        "\n",
        "# Create dummy files\n",
        "with open('empty_file_check.txt', 'w') as f:\n",
        "    pass # Creates an empty file\n",
        "with open('non_empty_file_check.txt', 'w') as f:\n",
        "    f.write(\"Some content.\")\n",
        "\n",
        "check_file_empty('empty_file_check.txt')\n",
        "check_file_empty('non_empty_file_check.txt')\n",
        "check_file_empty('non_existent_check.txt')"
      ],
      "metadata": {
        "colab": {
          "base_uri": "https://localhost:8080/"
        },
        "id": "Mr1JUFxRnpEG",
        "outputId": "5d948d87-3100-4973-8aae-7a8530676158"
      },
      "execution_count": 26,
      "outputs": [
        {
          "output_type": "stream",
          "name": "stdout",
          "text": [
            "File 'empty_file_check.txt' is empty.\n",
            "File 'non_empty_file_check.txt' is not empty.\n",
            "File 'non_existent_check.txt' does not exist.\n"
          ]
        },
        {
          "output_type": "execute_result",
          "data": {
            "text/plain": [
              "False"
            ]
          },
          "metadata": {},
          "execution_count": 26
        }
      ]
    },
    {
      "cell_type": "markdown",
      "source": [
        "23. Write a Python program that writes to a log file when an error occurs during file handling."
      ],
      "metadata": {
        "id": "thSnZk94nzW0"
      }
    },
    {
      "cell_type": "code",
      "source": [
        "import logging\n",
        "\n",
        "logging.basicConfig(filename=\"file_error.log\", level=logging.ERROR)\n",
        "\n",
        "try:\n",
        "    with open(\"non_existent.txt\", \"r\") as file:\n",
        "        content = file.read()\n",
        "except Exception as e:\n",
        "    logging.error(\"An error occurred: %s\", e)"
      ],
      "metadata": {
        "colab": {
          "base_uri": "https://localhost:8080/"
        },
        "id": "xQuhYUXWnXPm",
        "outputId": "dfd791b9-ba16-4c03-883c-1826b68d118c"
      },
      "execution_count": 27,
      "outputs": [
        {
          "output_type": "stream",
          "name": "stderr",
          "text": [
            "ERROR:root:An error occurred: [Errno 2] No such file or directory: 'non_existent.txt'\n"
          ]
        }
      ]
    }
  ]
}
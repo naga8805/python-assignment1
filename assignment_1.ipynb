{
  "nbformat": 4,
  "nbformat_minor": 0,
  "metadata": {
    "colab": {
      "provenance": []
    },
    "kernelspec": {
      "name": "python3",
      "display_name": "Python 3"
    },
    "language_info": {
      "name": "python"
    }
  },
  "cells": [
    {
      "cell_type": "markdown",
      "source": [
        "1.  What is Python, and why is it popular?\n"
      ],
      "metadata": {
        "id": "iYQf_mE2rgur"
      }
    },
    {
      "cell_type": "markdown",
      "source": [
        "Python is a high-level, interpreted programming language known for its and .  because it's\n",
        "\n",
        "-simplicity\n",
        "-readability\n",
        "-It is popular\n",
        "-beginner friendly\n",
        "-has vast libraries\n",
        "-supports multiple programming paradigms.\n",
        "-widely used"
      ],
      "metadata": {
        "id": "aVgyE5HvCe8f"
      }
    },
    {
      "cell_type": "markdown",
      "source": [],
      "metadata": {
        "id": "L19VAXjBCUKm"
      }
    },
    {
      "cell_type": "markdown",
      "source": [
        "2. What is an interpreter in Python?\n",
        "\n",
        "Ans: An interpreter is a program that reads and executes Python code line by line, converting it into machine-readable instructions allowing you to see the results immediately. Unlike compilers, which translate code into machine code before execution, interpreters translate and execute code at runtime."
      ],
      "metadata": {
        "id": "8l8YpOTECyrT"
      }
    },
    {
      "cell_type": "markdown",
      "source": [
        "3. What are pre-defined keywords in Python?\n",
        "\n",
        "Ans: Pre-defined keywords are reserved words that have special meaning in Python. These keywords cannot be used as identifiers, such as variable names, function names, or class names. They are essential for defining the structure and syntax of Python code. Here's a list of Python keywords:\n",
        "\n",
        "Example\n",
        "\n",
        "False,      await,      else,       import,     pass,\n",
        "None,       break,      except,     in,         raise,\n",
        "True,       class,      finally,    is,         return,\n",
        "and,        continue,   for,        lambda,     try,\n",
        "as,         def,        from,       nonlocal,   while,\n",
        "assert,     del,        global,     not,        with,\n",
        "async,      elif,       if,         or,         yield,"
      ],
      "metadata": {
        "id": "Fsj7nBlSErNJ"
      }
    },
    {
      "cell_type": "markdown",
      "source": [
        "4. Can keywords be used as variable names?\n",
        "\n",
        "Ans: No, keywords cannot be used as variable names because they are reserved for specific language syntax and functions. Using a keyword as a variable name will result in a syntax error."
      ],
      "metadata": {
        "id": "owJ7PWebFH-A"
      }
    },
    {
      "cell_type": "markdown",
      "source": [],
      "metadata": {
        "id": "fQJ3rIwVE_ym"
      }
    },
    {
      "cell_type": "markdown",
      "source": [
        "5. What is mutability in Python?\n",
        "\n",
        "Ans: Mutability refers to whether an object can be changed after it's created. If an object is mutable, its state or value can be changed in place without creating a new object. Conversely, if an object is immutable, its state cannot be altered after creation. Any operation that appears to modify an immutable object actually results in the creation of a new object.\n",
        "Common mutable data types in Python include **(lists, dictionaries, and sets.)** These types allow for operations like adding, removing, or updating elements directly. Immutable data types include **(strings, numbers, integers, floats, complex, and tuples).** When you perform an operation that seems to modify an immutable object, you are actually creating a new object with the modified value."
      ],
      "metadata": {
        "id": "c6dSd5flFUHK"
      }
    },
    {
      "cell_type": "markdown",
      "source": [
        "6. Why are lists mutable, but tuples are immutable?\n",
        "\n",
        "Ans: Lists are designed to store dynamic data, so they allow modification. Tuples, being immutable, ensure data integrity and are used for fixed data collections."
      ],
      "metadata": {
        "id": "LaG9IVn4FdFt"
      }
    },
    {
      "cell_type": "markdown",
      "source": [
        "7. What is the difference between '==' and 'is' operators in Python?\n",
        "\n",
        "Ans: == compares values (content equality)\n",
        "\n",
        "is: Evaluates whether two variables refer to the same object in memory. It returns True if they do and False if they don't, even if the objects have the same value.\n",
        "Example:"
      ],
      "metadata": {
        "id": "VeRDuk5PFrzH"
      }
    },
    {
      "cell_type": "code",
      "source": [
        "a = [1, 2, 3]\n",
        "b = [1, 2, 3]\n",
        "c = a\n",
        "\n",
        "print(a == b) # Output: True (same values)\n",
        "print(a is b) # Output: False (different objects)\n",
        "print(a is c) # Output: True (same object)"
      ],
      "metadata": {
        "id": "9DcQGbQWliPP"
      },
      "execution_count": null,
      "outputs": []
    },
    {
      "cell_type": "markdown",
      "source": [
        "8. What are logical operators in Python?\n",
        "\n",
        "Ans: Logical operators are used to combine multiple conditions.\n",
        "Logical operators in Python are used to combine or modify conditional statements, resulting in a Boolean value of True or False. The three main logical operators are:\n",
        "and: Returns True if both operands are True, otherwise returns False.\n",
        "or: Returns True if at least one of the operands is True, returns False only if both are False.\n",
        "not: Returns the opposite Boolean value of the operand. If the operand is True, it returns False, and vice versa.\n",
        "Python\n",
        "\n",
        "and (True if both are true)\n",
        "\n",
        "or (True if at least one is true)\n",
        "\n",
        "not (inverts the boolean value)"
      ],
      "metadata": {
        "id": "yGVM-aD2F2uf"
      }
    },
    {
      "cell_type": "code",
      "source": [
        "# Example\n",
        "a = True\n",
        "b = False\n",
        "\n",
        "print(a and b)  # Output: False\n",
        "print(a or b)   # Output: True\n",
        "print(not a)   # Output: False"
      ],
      "metadata": {
        "colab": {
          "base_uri": "https://localhost:8080/"
        },
        "id": "A9wzvEtcmj1C",
        "outputId": "ef64ac90-8811-406e-ef6b-a30bea6be149"
      },
      "execution_count": null,
      "outputs": [
        {
          "output_type": "stream",
          "name": "stdout",
          "text": [
            "False\n",
            "True\n",
            "False\n"
          ]
        }
      ]
    },
    {
      "cell_type": "markdown",
      "source": [
        "9. What is type casting in Python?\n",
        "\n",
        "Ans: Type casting is converting one data type into another, like converting a string to an integer using int().\n",
        "Type casting in Python, also known as type conversion, refers to the process of changing a variable's data type. It's essential for ensuring compatibility and flexibility in a program, especially when performing operations that require specific data types."
      ],
      "metadata": {
        "id": "3AMEQzQFF-3X"
      }
    },
    {
      "cell_type": "markdown",
      "source": [
        "10. What is the difference between implicit and explicit type casting?\n",
        "\n",
        "Ans: Implicit: Done automatically by Python (e.g., int + float = float)\n",
        "\n",
        "Explicit: Done manually by the programmer using functions like int(), float(), etc"
      ],
      "metadata": {
        "id": "eVfoQI8DGFZB"
      }
    },
    {
      "cell_type": "markdown",
      "source": [
        "11. What is the purpose of conditional statements in Python?\n",
        "\n",
        "Ans: Conditional statements in Python serve to control the flow of execution within a program, allowing different blocks of code to be executed based on whether specific conditions are met. They enable programs to make decisions and respond dynamically to varying inputs or situations. The primary conditional statements in Python are if, elif (else if), and else.\n",
        "if statement:\n",
        "The if statement evaluates a condition. If the condition is true, the block of code indented below the if statement is executed. If the condition is false, the block of code is skipped.\n",
        "elif statement:\n",
        "The elif statement allows for checking multiple conditions in sequence. It is used after an if statement and evaluates a new condition only if the preceding if or elif conditions are false. If the elif condition is true, its corresponding block of code is executed.\n",
        "else statement:\n",
        "The else statement provides a default block of code to be executed if none of the preceding if or elif conditions are true. It is placed at the end of a conditional structure."
      ],
      "metadata": {
        "id": "gSq30Ob6GO95"
      }
    },
    {
      "cell_type": "markdown",
      "source": [
        "12. How does the elif statement work?\n",
        "\n",
        "Ans: The “elif” keyword in Python, stands for “else if”. It can be used in conditional statements to check for multiple conditions. For example, if the first condition is false, it moves on to the next “elif” statement to check if that condition is true.\n",
        "\n",
        "\n"
      ],
      "metadata": {
        "id": "Pu7xh51rGcMq"
      }
    },
    {
      "cell_type": "markdown",
      "source": [
        "13. What is the difference between for and while loops?\n",
        "\n",
        "Ans: **for loop:**\n",
        "Ideal when you know the exact number of times you need to repeat a block of code.\n",
        "Often used for iterating over sequences (like lists, strings, or arrays) or when you have a clear starting point, condition, and increment/decrement.\n",
        "The number of iterations is typically determined by a counter variable or a sequence.\n",
        "Example: \"Print numbers from 1 to 10\".\n",
        "\n",
        "**while loop:**\n",
        "Best used when the number of iterations is unknown and depends on a condition that is checked repeatedly.\n",
        "The loop continues to execute as long as the condition remains true.\n",
        "Example: \"Keep asking for user input until a valid number is entered\".\n",
        "\n",
        "In essence:\n",
        "Use for when you know how many times to loop.\n",
        "Use while when you don't know how many times to loop, but you know when to stop."
      ],
      "metadata": {
        "id": "sLqNcepaGmkd"
      }
    },
    {
      "cell_type": "markdown",
      "source": [
        "14. Describe a scenario where a while loop is more suitable than a for loop.\n",
        "\n",
        "Ans: When waiting for user input like \"exit\" or reading data until a condition is met (e.g., while a sensor's value is below a threshold), a while loop is more appropriate."
      ],
      "metadata": {
        "id": "FQ00TOC0Gtni"
      }
    },
    {
      "cell_type": "markdown",
      "source": [
        "**Practical Questions with Code**"
      ],
      "metadata": {
        "id": "jn4k8kLeHA-3"
      }
    },
    {
      "cell_type": "markdown",
      "source": [
        "1. Write a Python program to print \"Hello, World!\""
      ],
      "metadata": {
        "id": "sTy3LI9BPewE"
      }
    },
    {
      "cell_type": "code",
      "source": [
        "print(\"Hello, World!\")"
      ],
      "metadata": {
        "id": "9X4aco17FSp9"
      },
      "execution_count": null,
      "outputs": []
    },
    {
      "cell_type": "markdown",
      "source": [
        "2. Write a Python program that displays your name and age."
      ],
      "metadata": {
        "id": "ZqEqL5o9Pu9A"
      }
    },
    {
      "cell_type": "code",
      "source": [
        "name = \"Nages\"\n",
        "age = 27\n",
        "print(\"Name:\", name)\n",
        "print(\"Age:\", age)"
      ],
      "metadata": {
        "id": "eRhG754dQx-O"
      },
      "execution_count": null,
      "outputs": []
    },
    {
      "cell_type": "markdown",
      "source": [],
      "metadata": {
        "id": "DXQn7uVvDM20"
      }
    },
    {
      "cell_type": "markdown",
      "source": [
        "3. Write code to print all the pre-defined keywords in Python using the keyword library."
      ],
      "metadata": {
        "id": "MasYNPN8P7DK"
      }
    },
    {
      "cell_type": "code",
      "source": [
        "import keyword\n",
        "print(keyword.kwlist)"
      ],
      "metadata": {
        "id": "7Uuji02MQ4IZ"
      },
      "execution_count": null,
      "outputs": []
    },
    {
      "cell_type": "markdown",
      "source": [
        "4.  Write a program that checks if a given word is a Python keyword."
      ],
      "metadata": {
        "id": "sBCFawU_QBEP"
      }
    },
    {
      "cell_type": "code",
      "source": [
        "import keyword\n",
        "word = input(\"Enter a word: \")\n",
        "if keyword.iskeyword(word):\n",
        "    print(f\"{word} is a Python keyword.\")\n",
        "else:\n",
        "    print(f\"{word} is not a Python keyword.\")"
      ],
      "metadata": {
        "id": "DFFtGPw0Q8P1"
      },
      "execution_count": null,
      "outputs": []
    },
    {
      "cell_type": "markdown",
      "source": [
        "5.  Create a list and tuple in Python, and demonstrate how attempting to change an element works differently\n",
        "for each."
      ],
      "metadata": {
        "id": "RlM30xQkQFby"
      }
    },
    {
      "cell_type": "code",
      "source": [
        "# List\n",
        "my_list = [1, 2, 3]\n",
        "my_list[0] = 10  # Allowed\n",
        "\n",
        "# Tuple\n",
        "my_tuple = (1, 2, 3)\n",
        "# my_tuple[0] = 10  # Not allowed - causes error"
      ],
      "metadata": {
        "id": "tqpE2_XvRARH"
      },
      "execution_count": null,
      "outputs": []
    },
    {
      "cell_type": "markdown",
      "source": [
        "6. Write a function to demonstrate the behavior of mutable and immutable arguments."
      ],
      "metadata": {
        "id": "r5RZcJGqQJgt"
      }
    },
    {
      "cell_type": "code",
      "source": [
        "def modify_values(a, b):\n",
        "    a += 10  # Immutable (int)\n",
        "    b.append(4)  # Mutable (list)\n",
        "    print(\"Inside function:\", a, b)\n",
        "\n",
        "x = 5\n",
        "y = [1, 2, 3]\n",
        "modify_values(x, y)\n",
        "print(\"Outside function:\", x, y)"
      ],
      "metadata": {
        "id": "TTP4xLEWRDcC"
      },
      "execution_count": null,
      "outputs": []
    },
    {
      "cell_type": "markdown",
      "source": [
        " 7. Write a program that performs basic arithmetic operations on two user-input numbers."
      ],
      "metadata": {
        "id": "pScbFokuQPFh"
      }
    },
    {
      "cell_type": "code",
      "source": [
        "a = int(input(\"Enter first number: \"))\n",
        "b = int(input(\"Enter second number: \"))\n",
        "print(\"Sum:\", a + b)\n",
        "print(\"Difference:\", a - b)\n",
        "print(\"Product:\", a * b)\n",
        "print(\"Quotient:\", a / b)"
      ],
      "metadata": {
        "id": "YpY9u-ceRG0F"
      },
      "execution_count": null,
      "outputs": []
    },
    {
      "cell_type": "markdown",
      "source": [
        "8. Write a program to demonstrate the use of logical operators."
      ],
      "metadata": {
        "id": "o3zwyYh1QTNv"
      }
    },
    {
      "cell_type": "code",
      "source": [
        "a = 10\n",
        "b = 20\n",
        "print(a > 5 and b < 30)\n",
        "print(a > 15 or b < 25)\n",
        "print(not(a > 15))"
      ],
      "metadata": {
        "id": "fMr72xKrRKQv"
      },
      "execution_count": null,
      "outputs": []
    },
    {
      "cell_type": "markdown",
      "source": [
        "9. Write a Python program to convert user input from string to integer, float, and boolean types."
      ],
      "metadata": {
        "id": "Ac-QRIIlQWM2"
      }
    },
    {
      "cell_type": "code",
      "source": [
        "value = input(\"Enter something: \")\n",
        "print(\"As Integer:\", int(value))\n",
        "print(\"As Float:\", float(value))\n",
        "print(\"As Boolean:\", bool(value))"
      ],
      "metadata": {
        "id": "Z6eeo-rFRM7G"
      },
      "execution_count": null,
      "outputs": []
    },
    {
      "cell_type": "markdown",
      "source": [
        " 10. Write code to demonstrate type casting with list elements."
      ],
      "metadata": {
        "id": "-JEIN8L6QZm0"
      }
    },
    {
      "cell_type": "code",
      "source": [
        "str_list = [\"1\", \"2\", \"3\"]\n",
        "int_list = [int(i) for i in str_list]\n",
        "print(int_list)"
      ],
      "metadata": {
        "id": "cePsSiXIRP-8"
      },
      "execution_count": null,
      "outputs": []
    },
    {
      "cell_type": "markdown",
      "source": [
        " 11. Write a program that checks if a number is positive, negative, or zero."
      ],
      "metadata": {
        "id": "m3Hqmb2nQdxY"
      }
    },
    {
      "cell_type": "code",
      "source": [
        "num = int(input(\"Enter a number: \"))\n",
        "if num > 0:\n",
        "    print(\"Positive\")\n",
        "elif num < 0:\n",
        "    print(\"Negative\")\n",
        "else:\n",
        "    print(\"Zero\")"
      ],
      "metadata": {
        "id": "ieIj_h0RRSpq"
      },
      "execution_count": null,
      "outputs": []
    },
    {
      "cell_type": "markdown",
      "source": [
        "12. Write a for loop to print numbers from 1 to 10."
      ],
      "metadata": {
        "id": "ljPjnyFxQgyP"
      }
    },
    {
      "cell_type": "code",
      "source": [
        "for i in range(1, 11):\n",
        "    print(i)"
      ],
      "metadata": {
        "id": "nwovTEiSRVld"
      },
      "execution_count": null,
      "outputs": []
    },
    {
      "cell_type": "markdown",
      "source": [
        " 13. Write a Python program to find the sum of all even numbers between 1 and 50."
      ],
      "metadata": {
        "id": "6BOCv6qPQj4c"
      }
    },
    {
      "cell_type": "code",
      "source": [
        "total = 0\n",
        "for i in range(2, 51, 2):\n",
        "    total += i\n",
        "print(\"Sum:\", total)"
      ],
      "metadata": {
        "id": "q-VpGObMRYiM"
      },
      "execution_count": null,
      "outputs": []
    },
    {
      "cell_type": "markdown",
      "source": [
        " 14. Write a program to reverse a string using a while loop."
      ],
      "metadata": {
        "id": "QaEA4jsIQnNk"
      }
    },
    {
      "cell_type": "code",
      "source": [
        "text = \"hello\"\n",
        "i = len(text) - 1\n",
        "while i >= 0:\n",
        "    print(text[i], end=\"\")\n",
        "    i -= 1"
      ],
      "metadata": {
        "id": "0qNo6LiwRbaR"
      },
      "execution_count": null,
      "outputs": []
    },
    {
      "cell_type": "markdown",
      "source": [
        " 15. Write a Python program to calculate the factorial of a number provided by the user using a while loop."
      ],
      "metadata": {
        "id": "pSH3mr5gQqS5"
      }
    },
    {
      "cell_type": "code",
      "source": [
        "num = int(input(\"Enter a number: \"))\n",
        "factorial = 1\n",
        "while num > 1:\n",
        "    factorial *= num\n",
        "    num -= 1\n",
        "print(\"Factorial:\", factorial)"
      ],
      "metadata": {
        "id": "wS4eUOA2ReI1"
      },
      "execution_count": null,
      "outputs": []
    }
  ]
}
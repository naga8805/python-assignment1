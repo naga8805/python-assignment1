{
  "nbformat": 4,
  "nbformat_minor": 0,
  "metadata": {
    "colab": {
      "provenance": []
    },
    "kernelspec": {
      "name": "python3",
      "display_name": "Python 3"
    },
    "language_info": {
      "name": "python"
    }
  },
  "cells": [
    {
      "cell_type": "markdown",
      "source": [
        "**1. What are data structures, and why are they important?**"
      ],
      "metadata": {
        "id": "sNf2zWdNwXPZ"
      }
    },
    {
      "cell_type": "markdown",
      "source": [
        "Data structures are fundamental to computer science, defining how data is organized, stored, and processed in a computer system. They provide a way to efficiently access, manage, and manipulate data, which is crucial for building efficient and effective software applications.\n",
        "\n",
        "Why are Data Structures Important?\n",
        "\n",
        "Efficiency:\n",
        "Readability and Maintainability:\n",
        "Problem-Solving:\n",
        "Foundation for Algorithms:\n",
        "Real-World Applications:"
      ],
      "metadata": {
        "id": "OL8WL5SKwdA1"
      }
    },
    {
      "cell_type": "markdown",
      "source": [
        "**2.  Explain the difference between mutable and immutable data types with examples.**"
      ],
      "metadata": {
        "id": "ulSwmrkwxik3"
      }
    },
    {
      "cell_type": "markdown",
      "source": [
        "🔹 Mutable Data Types:\n",
        "Can be changed after creation.\n",
        "\n",
        "Modifications happen in-place.\n",
        "\n",
        "Examples: List, Dictionary, Set\n",
        "\n",
        "Example:"
      ],
      "metadata": {
        "id": "aTqsFTFEyXDE"
      }
    },
    {
      "cell_type": "code",
      "source": [
        "my_list = [1, 2, 3]\n",
        "my_list[0] = 10  # Modified"
      ],
      "metadata": {
        "id": "ekm3BT9qyybs"
      },
      "execution_count": 48,
      "outputs": []
    },
    {
      "cell_type": "markdown",
      "source": [
        "🔹 Immutable Data Types:\n",
        "Cannot be changed after creation.\n",
        "\n",
        "Any change creates a new object.\n",
        "\n",
        "Examples: int, float, string, tuple, frozenset"
      ],
      "metadata": {
        "id": "cTcdDnl6zBbt"
      }
    },
    {
      "cell_type": "code",
      "source": [
        "my_str = \"hello\"\n",
        "my_str = \"world\"  # New string created, original 'hello' unchanged"
      ],
      "metadata": {
        "id": "or7p3wYAzDeW"
      },
      "execution_count": 47,
      "outputs": []
    },
    {
      "cell_type": "markdown",
      "source": [
        "**3. What are the main differences between lists and tuples in Python?**"
      ],
      "metadata": {
        "id": "5fObRMUC0WR7"
      }
    },
    {
      "cell_type": "markdown",
      "source": [
        "the main difference between lists and tuples lies in their mutability. Lists are mutable, meaning their elements can be modified after creation, while tuples are immutable, meaning their elements cannot be changed once they are created\n",
        "\n",
        "# **Lists:**\n",
        "\n",
        "Mutable: Elements can be added, removed, or changed after the list is created.\n",
        "Syntax: Defined using square brackets [].\n",
        "Usage: Suitable for scenarios where the data needs to be updated or modified dynamically.\n",
        "Example: my_list = [1, 2, 3]; my_list.append(4); print(my_list) # Output:\n",
        "\n",
        "# Tuples:\n",
        "\n",
        "Immutable: Elements cannot be changed after the tuple is created.\n",
        "Syntax: Defined using parentheses ().\n",
        "Usage: Useful for situations where data integrity is important, and you want to ensure elements remain unchanged.\n",
        "Example: my_tuple = (1, 2, 3); # my_tuple[0] = 4 # This will cause an error because tuples are immutable"
      ],
      "metadata": {
        "id": "c3V6glWg0ocX"
      }
    },
    {
      "cell_type": "markdown",
      "source": [
        "**4. Describe how dictionaries store data**"
      ],
      "metadata": {
        "id": "s4hh0mGM1lEU"
      }
    },
    {
      "cell_type": "markdown",
      "source": [
        "Dictionaries are unordered collections of data and are represented with curly brackets { } . Like lists, dictionaries are mutable(changeable) and indexed. With dictionaries, data is stored in a key:value format. In this example, myCar is the variable that we have assigned our dictionary to"
      ],
      "metadata": {
        "id": "ttbxOalx1x8F"
      }
    },
    {
      "cell_type": "markdown",
      "source": [
        "Example:"
      ],
      "metadata": {
        "id": "k33tTpZg2cSY"
      }
    },
    {
      "cell_type": "code",
      "source": [
        "my_dict = {\"fruit\": \"apple\", \"price\": 50}\n",
        "# 'fruit' is key → 'apple' is value\n",
        "# 'price' is key → 50 is value"
      ],
      "metadata": {
        "id": "Ni8BUb802Zni"
      },
      "execution_count": 46,
      "outputs": []
    },
    {
      "cell_type": "markdown",
      "source": [
        "**5. Why might you use a set instead of a list in Python?**"
      ],
      "metadata": {
        "id": "UKXasaNE2hrG"
      }
    },
    {
      "cell_type": "markdown",
      "source": [
        "# Unique Elements Only\n",
        "\n",
        "Sets automatically\n",
        "\n",
        "remove duplicates.\n",
        "\n",
        "Example: {1, 2, 2, 3} → {1, 2, 3}\n",
        "\n",
        "# Faster Membership Testing\n",
        "\n",
        "Checking if an item exists is faster in a set (O(1)) than a list (O(n)).\n",
        "\n",
        "Example: if x in my_set: is faster.\n",
        "\n",
        "# Set Operations\n",
        "\n",
        "Supports union, intersection, difference easily.\n",
        "\n",
        "Example: set1 & set2 for intersection.\n",
        "\n"
      ],
      "metadata": {
        "id": "eyckyNyH4dIG"
      }
    },
    {
      "cell_type": "markdown",
      "source": [
        "**6. What is a string in Python, and how is it different from a list?**"
      ],
      "metadata": {
        "id": "vvVSHYTu5LbT"
      }
    },
    {
      "cell_type": "markdown",
      "source": [
        "What is a String in Python?\n",
        "\n",
        "A string in Python is a sequence of characters, which can be letters, numbers, symbols, or spaces. It is used to represent text and is enclosed within either single quotes ('...'), double quotes (\"...\"), or triple quotes ('''...''' or \"\"\"...\"\"\")."
      ],
      "metadata": {
        "id": "78EroRRb5_1q"
      }
    },
    {
      "cell_type": "markdown",
      "source": [
        "| Feature      | String                     | List                          |\n",
        "| ------------ | -------------------------- | ----------------------------- |\n",
        "| Data Type    | Sequence of **characters** | Sequence of **any data type** |\n",
        "| Mutability   | **Immutable**              | **Mutable**                   |\n",
        "| Syntax       | Quotes: `\"Hello\"`          | Brackets: `[1, 2, 3]`         |\n",
        "| Elements     | Only **characters**        | Can hold **mixed types**      |\n",
        "| Modification | Cannot change characters   | Can change elements           |"
      ],
      "metadata": {
        "id": "bFlKGDju5Y5b"
      }
    },
    {
      "cell_type": "markdown",
      "source": [
        "**7. How do tuples ensure data integrity in Python?**"
      ],
      "metadata": {
        "id": "ozX6rcdT6P1C"
      }
    },
    {
      "cell_type": "markdown",
      "source": [
        "Tuples are immutable to ensure that their contents remain constant throughout their lifecycle, guaranteeing data integrity and reliability. This immutability allows tuples to be used as keys in dictionaries and elements in sets, as they can be hashed."
      ],
      "metadata": {
        "id": "-UEzcNMg1Nxn"
      }
    },
    {
      "cell_type": "markdown",
      "source": [
        "**8. What is a hash table, and how does it relate to dictionaries in Python?**"
      ],
      "metadata": {
        "id": "VJfihucT158B"
      }
    },
    {
      "cell_type": "markdown",
      "source": [
        "A hash table is a data structure that stores data in key-value pairs, where each key is unique and used to access its corresponding value. It uses a hash function to compute an index (or hash code) for each key, which determines the position of the value in an array (the \"hash table\"). This allows for fast average-case lookups, insertions, and deletions.\n",
        "\n",
        "In Python, dictionaries are implemented using hash tables. When a key-value pair is added to a dictionary, Python calculates the hash value of the key and uses it to determine where to store the value. When you look up a value using its key, Python again calculates the hash value and uses it to quickly locate the value in the hash table. This is why dictionaries in Python provide efficient access to their elements, with an average time complexity of O(1) for lookups, insertions, and deletions."
      ],
      "metadata": {
        "id": "-thc6QB22h58"
      }
    },
    {
      "cell_type": "markdown",
      "source": [
        "**9. Can lists contain different data types in Python?**"
      ],
      "metadata": {
        "id": "bu-e9N4p3rX8"
      }
    },
    {
      "cell_type": "markdown",
      "source": [
        "Yes, lists in Python can contain elements of different data types. A single list can hold integers, floats, strings, booleans, and even other lists, tuples, or dictionaries. This flexibility is a key feature of Python lists.\n",
        "\n",
        "Example:"
      ],
      "metadata": {
        "id": "pHVfiI233xHP"
      }
    },
    {
      "cell_type": "code",
      "source": [
        "my_list = [1, \"hello\", 3.14, True, [1, 2, 3]]\n",
        "print(my_list)"
      ],
      "metadata": {
        "colab": {
          "base_uri": "https://localhost:8080/"
        },
        "id": "w-Uypd9u38Sh",
        "outputId": "4f361fc3-28df-4f0e-aef6-05d855725e15"
      },
      "execution_count": 45,
      "outputs": [
        {
          "output_type": "stream",
          "name": "stdout",
          "text": [
            "[1, 'hello', 3.14, True, [1, 2, 3]]\n"
          ]
        }
      ]
    },
    {
      "cell_type": "markdown",
      "source": [
        "**10. Explain why strings are immutable in Python?**"
      ],
      "metadata": {
        "id": "au-qyYnl4gJx"
      }
    },
    {
      "cell_type": "markdown",
      "source": [
        "Strings are immutable in Python for several reasons:\n",
        "# Memory Efficiency\n",
        "\n",
        "Immutable strings can be safely shared between variables without copying.\n",
        "\n",
        "# Hashability\n",
        "\n",
        "Immutable strings can be used as keys in dictionaries & sets.\n",
        "\n",
        "# Data Safety\n",
        "\n",
        "Prevents accidental changes to strings after creation.\n",
        "\n",
        "# Performance Optimization\n",
        "\n",
        "String operations can be optimized internally by Python (e.g., string interning).\n",
        "\n",
        "# Consistency\n",
        "\n",
        "Immutable strings ensure predictable behavior in programs."
      ],
      "metadata": {
        "id": "QRs3w9UK4mob"
      }
    },
    {
      "cell_type": "markdown",
      "source": [
        "**11. What advantages do dictionaries offer over lists for certain tasks?**"
      ],
      "metadata": {
        "id": "rAJKLcIP6LBI"
      }
    },
    {
      "cell_type": "markdown",
      "source": [
        "They make code much easier to read if we need to generate key:value pairs. We can also do the same with a list of lists (where inner lists are pairs of \"keys\" and \"values\"), but this looks more complex and confusing.\n",
        "We can look up a certain value in a dictionary very quickly."
      ],
      "metadata": {
        "id": "MaLNvcaBh3xf"
      }
    },
    {
      "cell_type": "markdown",
      "source": [
        "**12. Describe a scenario where using a tuple would be preferable over a list?**"
      ],
      "metadata": {
        "id": "Dh3xoKpLiwme"
      }
    },
    {
      "cell_type": "markdown",
      "source": [
        "Explanation: Tuples are immutable, meaning their elements cannot be modified (added, removed, or changed) once the tuple is created. This immutability makes them suitable for representing fixed collections of data, such as:\n",
        "\n",
        "Coordinates:\n",
        "\n",
        "Representing a point in 2D or 3D space (e.g., (x, y) or (x, y, z)). You wouldn't want the coordinates of a point to accidentally change.\n",
        "\n",
        "Configuration settings:\n",
        "\n",
        "Storing application settings that should remain constant throughout the program's execution.\n",
        "\n",
        "Records:\n",
        "\n",
        "Representing a single record of data where the number and order of items are fixed (e.g., a database row).\n",
        "\n",
        "Keys in a dictionary:\n",
        "\n",
        "Tuples can be used as keys in a dictionary because they are hashable (due to their immutability), whereas lists cannot.\n",
        "\n",
        "In these scenarios, using a tuple provides data integrity and prevents unintended modifications, making your code more robust and easier to reason about."
      ],
      "metadata": {
        "id": "G6ix3djQrFOl"
      }
    },
    {
      "cell_type": "markdown",
      "source": [
        " 13. How do sets handle duplicate values in Python?"
      ],
      "metadata": {
        "id": "hcBh59LbqU0s"
      }
    },
    {
      "cell_type": "markdown",
      "source": [
        "While the document doesn't explicitly state how sets handle duplicate values, the fundamental characteristic of a set in Python (and in mathematics) is that it only stores unique elements.\n",
        "\n",
        "Therefore, when you attempt to add a duplicate value to a set, Python automatically ignores the duplicate. The set will only contain one instance of that value.\n",
        "\n",
        "Example"
      ],
      "metadata": {
        "id": "-byXrJxZqVSm"
      }
    },
    {
      "cell_type": "code",
      "source": [
        "my_list_with_duplicates = [1, 2, 2, 3, 4, 4, 4, 5]\n",
        "my_set = set(my_list_with_duplicates)\n",
        "print(my_set)"
      ],
      "metadata": {
        "id": "XAdfs6bQ4Kfh",
        "colab": {
          "base_uri": "https://localhost:8080/"
        },
        "outputId": "23eb8225-0572-4792-d165-9d4d267f37bc"
      },
      "execution_count": 44,
      "outputs": [
        {
          "output_type": "stream",
          "name": "stdout",
          "text": [
            "{1, 2, 3, 4, 5}\n"
          ]
        }
      ]
    },
    {
      "cell_type": "markdown",
      "source": [
        "As you can see, the duplicate values (2 and 4) were automatically removed when the list was converted into a set. This behavior ensures that sets always contain only unique elements."
      ],
      "metadata": {
        "id": "wo3lnlG4tXO-"
      }
    },
    {
      "cell_type": "markdown",
      "source": [
        "**14. How does the “in” keyword work differently for lists and dictionaries?**"
      ],
      "metadata": {
        "id": "VFcCgtRdtbrW"
      }
    },
    {
      "cell_type": "markdown",
      "source": [
        "Here's how the \"in\" keyword behaves differently for these two data structures in Python:\n",
        "\n",
        "For Lists:\n",
        "\n",
        "When you use the \"in\" keyword with a list, it checks if the specified value exists as an element within the list.\n",
        "Python iterates through the elements of the list sequentially until it finds a match or reaches the end of the list.\n",
        "The time complexity of this operation is generally O(n), where n is the number of elements in the list, because in the worst case, it might have to examine every element.\n",
        "Example:"
      ],
      "metadata": {
        "id": "2_uFIzoztxZA"
      }
    },
    {
      "cell_type": "code",
      "source": [
        "my_list = ['apple', 'banana', 'cherry']\n",
        "print('banana' in my_list)  # Output: True\n",
        "print('grape' in my_list)   # Output: False"
      ],
      "metadata": {
        "colab": {
          "base_uri": "https://localhost:8080/"
        },
        "id": "tY1KuJAIuGni",
        "outputId": "b5008b39-fb69-459b-a63a-5204aa3d90c9"
      },
      "execution_count": 43,
      "outputs": [
        {
          "output_type": "stream",
          "name": "stdout",
          "text": [
            "True\n",
            "False\n"
          ]
        }
      ]
    },
    {
      "cell_type": "markdown",
      "source": [
        "For Dictionaries:\n",
        "\n",
        "When you use the \"in\" keyword with a dictionary, by default, it checks if the specified value exists as a key in the dictionary.\n",
        "Python does not iterate through the values. Instead, it leverages the underlying hash table structure of the dictionary for very efficient key lookups.\n",
        "The average time complexity of this operation is O(1) (constant time), regardless of the size of the dictionary, because hash table lookups are very fast.\n",
        "Example:"
      ],
      "metadata": {
        "id": "2RMlhOkYuK0T"
      }
    },
    {
      "cell_type": "code",
      "source": [
        "my_dict = {'name': 'Alice', 'age': 30, 'city': 'Paris'}\n",
        "print('name' in my_dict)   # Output: True (checks for the key 'name')\n",
        "print('Alice' in my_dict)  # Output: False (by default, it doesn't check values)"
      ],
      "metadata": {
        "colab": {
          "base_uri": "https://localhost:8080/"
        },
        "id": "vi1MX4TFuP1f",
        "outputId": "6ac650ec-c77c-48ce-b588-f5a7395ba4e2"
      },
      "execution_count": 42,
      "outputs": [
        {
          "output_type": "stream",
          "name": "stdout",
          "text": [
            "True\n",
            "False\n"
          ]
        }
      ]
    },
    {
      "cell_type": "markdown",
      "source": [
        "Checking for Values in a Dictionary:\n",
        "\n",
        "If you want to check if a specific value exists in a dictionary, you need to use the .values() method:"
      ],
      "metadata": {
        "id": "bg6mIvcFuTgF"
      }
    },
    {
      "cell_type": "code",
      "source": [
        "my_dict = {'name': 'Alice', 'age': 30, 'city': 'Paris'}\n",
        "print('Alice' in my_dict.values())  # Output: True"
      ],
      "metadata": {
        "colab": {
          "base_uri": "https://localhost:8080/"
        },
        "id": "QmG415SiulZZ",
        "outputId": "5d6bb5de-dc4d-4ffd-fd69-6591dcc91f72"
      },
      "execution_count": 41,
      "outputs": [
        {
          "output_type": "stream",
          "name": "stdout",
          "text": [
            "True\n"
          ]
        }
      ]
    },
    {
      "cell_type": "markdown",
      "source": [
        "In summary, the \"in\" keyword provides a quick way to check for membership, but it operates on values in lists and keys (by default) in dictionaries, with significant differences in efficiency due to their underlying data structures."
      ],
      "metadata": {
        "id": "JEVh0GxvuqKR"
      }
    },
    {
      "cell_type": "markdown",
      "source": [
        "**15. Can you modify the elements of a tuple? Explain why or why not?**"
      ],
      "metadata": {
        "id": "JHgNB5P2urI3"
      }
    },
    {
      "cell_type": "markdown",
      "source": [
        "The answer is no, you cannot modify the elements of a tuple after it has been created.\n",
        "\n",
        "Here's why:\n",
        "\n",
        "Immutability: Tuples are a data type in Python that is defined as immutable.  This fundamental property means that once a tuple is created, its contents cannot be changed. You cannot add, remove, or change the values of the individual elements within the tuple.\n",
        "\n",
        "This immutability is a key distinction between tuples and lists, which are mutable. Lists allow you to modify their elements after creation."
      ],
      "metadata": {
        "id": "LG5T5VGuu2v5"
      }
    },
    {
      "cell_type": "markdown",
      "source": [
        "**16. What is a nested dictionary, and give an example of its use case?**"
      ],
      "metadata": {
        "id": "jKDHlKgAvCDm"
      }
    },
    {
      "cell_type": "markdown",
      "source": [
        "What is a nested dictionary?\n",
        "\n",
        "A nested dictionary is a dictionary in Python where one or more values within the dictionary are themselves dictionaries. This creates a hierarchical structure, allowing you to represent more complex relationships between data.  Instead of a simple key-value pair, you have a key that points to another dictionary, which can even contain further nested dictionaries.\n",
        "\n",
        "Example of its use case:\n",
        "\n",
        "A nested dictionary is helpful for organizing data with multiple levels of categorization. Here's a common example: representing user profiles:"
      ],
      "metadata": {
        "id": "Ch2dc7MZBaFc"
      }
    },
    {
      "cell_type": "code",
      "source": [
        "user_profiles = {\n",
        "    \"user123\": {\n",
        "        \"name\": \"Alice Smith\",\n",
        "        \"age\": 30,\n",
        "        \"location\": {\n",
        "            \"city\": \"New York\",\n",
        "            \"country\": \"USA\"\n",
        "        },\n",
        "        \"interests\": [\"reading\", \"travel\", \"photography\"]\n",
        "    },\n",
        "    \"user456\": {\n",
        "        \"name\": \"Bob Johnson\",\n",
        "        \"age\": 25,\n",
        "        \"location\": {\n",
        "            \"city\": \"London\",\n",
        "            \"country\": \"UK\"\n",
        "        },\n",
        "        \"interests\": [\"music\", \"sports\", \"coding\"]\n",
        "    }\n",
        "}"
      ],
      "metadata": {
        "id": "QNvdoGSwBdbX"
      },
      "execution_count": 1,
      "outputs": []
    },
    {
      "cell_type": "markdown",
      "source": [
        "**17. Describe the time complexity of accessing elements in a dictionary?**"
      ],
      "metadata": {
        "id": "D76JB1zVB2g7"
      }
    },
    {
      "cell_type": "markdown",
      "source": [
        "Accessing an element in a dictionary using its key typically has a time complexity of O(1) on average, meaning it takes constant time, regardless of the dictionary's size. However, in the worst-case scenario, it can degrade to O(n), where n is the number of key-value pairs, if there are many hash collisions.\n",
        "\n",
        "Explanation:\n",
        "Dictionaries, in most programming languages, are implemented using hash tables. Hash tables use a hash function to map keys to indices in an array (or a similar structure). When you access an element by its key, the hash function quickly determines the potential location of that key-value pair in the array. This lookup is very efficient and takes constant time on average, hence O(1)."
      ],
      "metadata": {
        "id": "9oj-T674B6xU"
      }
    },
    {
      "cell_type": "markdown",
      "source": [
        "**18. In what situations are lists preferred over dictionaries?**"
      ],
      "metadata": {
        "id": "Bs1YywiqCl-b"
      }
    },
    {
      "cell_type": "markdown",
      "source": [
        "While dictionaries offer efficient key-based lookups, lists are preferred in scenarios where:\n",
        "\n",
        "# Order is important:\n",
        "\n",
        " If the order of the elements matters, lists are the way to go. Lists maintain the order in which elements are inserted, while dictionaries, prior to Python 3.7, did not guarantee to preserve insertion order.\n",
        "\n",
        "# Data is sequential:\n",
        "\n",
        " When you have a collection of data where the order represents a sequence or series, lists are more natural. For example, a list of days in a week, a list of steps in an algorithm, or a list of songs in a playlist.\n",
        "\n",
        "# You need to access elements by index:\n",
        "\n",
        " If you need to access elements by their position (index), lists provide direct access using the index. Dictionaries are designed for access by key, not by a positional index.\n",
        "\n",
        "# You have a collection of similar data:\n",
        "\n",
        " If you are storing a collection of items that are all of the same type and purpose, lists are often simpler. For example, a list of numbers, a list of names, or a list of colors.\n",
        "\n",
        "# Memory efficiency is a concern:\n",
        "\n",
        " In some cases, lists can be more memory-efficient than dictionaries, especially if you don't need the overhead of key-value pairs."
      ],
      "metadata": {
        "id": "WwW1dLPKCx36"
      }
    },
    {
      "cell_type": "markdown",
      "source": [
        "**19. Why are dictionaries considered unordered, and how does that affect data retrieval?**"
      ],
      "metadata": {
        "id": "4hGi0bUiFHEo"
      }
    },
    {
      "cell_type": "markdown",
      "source": [
        "# Why are dictionaries considered unordered?\n",
        "\n",
        "Dictionaries in Python (specifically before Python 3.7) are traditionally implemented using hash tables.  Hash tables are designed for efficient key-based lookups, not for storing data in a specific sequence.\n",
        "The order in which key-value pairs are stored in a hash table depends on the hash values of the keys and how the hash table manages collisions (situations where different keys have the same hash value). This storage order is essentially arbitrary and can change as you add or remove items from the dictionary.\n",
        "Therefore, before Python 3.7, you could not rely on dictionaries to maintain the order in which you inserted the key-value pairs.\n",
        "\n",
        "# How does this affect data retrieval?\n",
        "\n",
        "You cannot rely on index-based access: Because dictionaries are unordered (before 3.7), you cannot access elements using a numerical index like you would with a list (e.g., my_dict[0]). Accessing elements must be done by their keys.\n",
        "Iteration order is not guaranteed (before Python 3.7): If you iterate through a dictionary (e.g., using a for loop), the order in which you retrieve the key-value pairs is not predictable before Python 3.7. It might seem to be in the order of insertion in some cases, but you shouldn't rely on that.\n",
        "Efficiency of key-based retrieval: The unordered nature of dictionaries is actually what makes them so efficient for data retrieval when you know the key. Hash tables provide very fast lookups (average time complexity of O(1)) because they can quickly locate the memory address where the value associated with a given key is stored."
      ],
      "metadata": {
        "id": "4GVLmnFHFga0"
      }
    },
    {
      "cell_type": "markdown",
      "source": [
        "20.  Explain the difference between a list and a dictionary in terms of data retrieval?"
      ],
      "metadata": {
        "id": "CI7PaEGcGU1l"
      }
    },
    {
      "cell_type": "markdown",
      "source": [
        "In terms of data retrieval, a dictionary excels at quickly accessing values using unique keys, while a list retrieves values based on their position (index) in a sequence. Lists require searching through elements, while dictionaries use hashing for near-instantaneous lookup, making them significantly faster for accessing data by a specific identifier.\n",
        "\n",
        "# Lists:\n",
        "Retrieval: Accessed by index (position), starting from 0. To get a specific element, you need to know its index, and the list might need to be searched sequentially until the element is found.\n",
        "Time Complexity: Finding an element in a list can be slow, particularly for large lists, as it might involve searching through many elements.\n",
        "Example: my_list[2] retrieves the element at index 2.\n",
        "# Dictionaries:\n",
        "Retrieval: Accessed by unique keys. Values are associated with keys, and you can quickly retrieve a value by providing its corresponding key.\n",
        "Time Complexity: Dictionaries use hashing to map keys to values, enabling very fast lookups (typically constant time).\n",
        "Example: my_dictionary[\"name\"] retrieves the value associated with the key \"name\"."
      ],
      "metadata": {
        "id": "foxeGLqhGg0o"
      }
    },
    {
      "cell_type": "markdown",
      "source": [
        "# PRACTICAL QUESTIONS"
      ],
      "metadata": {
        "id": "fG2ekvr7vIMW"
      }
    },
    {
      "cell_type": "markdown",
      "source": [
        "1. Write a code to create a string with your name and print it."
      ],
      "metadata": {
        "id": "4Qz8BmHQI_hF"
      }
    },
    {
      "cell_type": "code",
      "source": [
        "my_name = \"G Nageswar Reddy\"\n",
        "print(my_name)"
      ],
      "metadata": {
        "colab": {
          "base_uri": "https://localhost:8080/"
        },
        "id": "IC0ZfuuIJK8b",
        "outputId": "f049c807-cd76-4858-9b2d-6447f494cebd"
      },
      "execution_count": 2,
      "outputs": [
        {
          "output_type": "stream",
          "name": "stdout",
          "text": [
            "G Nageswar Reddy\n"
          ]
        }
      ]
    },
    {
      "cell_type": "markdown",
      "source": [
        "2. Write a code to find the length of the string \"Hello World\""
      ],
      "metadata": {
        "id": "KiwjqbTpJbwq"
      }
    },
    {
      "cell_type": "code",
      "source": [
        "my_string = \"Hello World\"\n",
        "length = len(my_string)\n",
        "print(length)"
      ],
      "metadata": {
        "colab": {
          "base_uri": "https://localhost:8080/"
        },
        "id": "BZLNQv7SJi-W",
        "outputId": "16646493-27f0-4a96-b814-43821d5a542a"
      },
      "execution_count": 3,
      "outputs": [
        {
          "output_type": "stream",
          "name": "stdout",
          "text": [
            "11\n"
          ]
        }
      ]
    },
    {
      "cell_type": "markdown",
      "source": [
        "3. Write a code to slice the first 3 characters from the string \"Python Programming\""
      ],
      "metadata": {
        "id": "uYMZCREaJtaA"
      }
    },
    {
      "cell_type": "code",
      "source": [
        "my_string = \"Python Programming\"\n",
        "sliced_string = my_string[:3]\n",
        "print(sliced_string)"
      ],
      "metadata": {
        "colab": {
          "base_uri": "https://localhost:8080/"
        },
        "id": "H6ABlVxyJzWD",
        "outputId": "624b0311-cb60-454e-f179-206a82573204"
      },
      "execution_count": 4,
      "outputs": [
        {
          "output_type": "stream",
          "name": "stdout",
          "text": [
            "Pyt\n"
          ]
        }
      ]
    },
    {
      "cell_type": "markdown",
      "source": [
        "4. Write a code to convert the string \"hello\" to uppercase."
      ],
      "metadata": {
        "id": "uRAKMBCGKssU"
      }
    },
    {
      "cell_type": "code",
      "source": [
        "my_string = \"hello\"\n",
        "upper_case_string = my_string.upper()\n",
        "print(upper_case_string)"
      ],
      "metadata": {
        "colab": {
          "base_uri": "https://localhost:8080/"
        },
        "id": "0AOI2RJoKsNe",
        "outputId": "261599f7-e88b-4cab-b426-c752b3763e34"
      },
      "execution_count": 5,
      "outputs": [
        {
          "output_type": "stream",
          "name": "stdout",
          "text": [
            "HELLO\n"
          ]
        }
      ]
    },
    {
      "cell_type": "markdown",
      "source": [
        "5.Write a code to replace the word \"apple\" with \"orange\" in the string \"I like apple\"."
      ],
      "metadata": {
        "id": "ZzpKmUT6K47B"
      }
    },
    {
      "cell_type": "code",
      "source": [
        "my_string = \"I like apple\"\n",
        "new_string = my_string.replace(\"apple\", \"orange\")\n",
        "print(new_string)"
      ],
      "metadata": {
        "colab": {
          "base_uri": "https://localhost:8080/"
        },
        "id": "pIbm-x1OK33F",
        "outputId": "2d6f17df-3348-4cd0-b091-7cebde02c9a5"
      },
      "execution_count": 6,
      "outputs": [
        {
          "output_type": "stream",
          "name": "stdout",
          "text": [
            "I like orange\n"
          ]
        }
      ]
    },
    {
      "cell_type": "markdown",
      "source": [
        "6. Write a code to create a list with numbers 1 to 5 and print it."
      ],
      "metadata": {
        "id": "qyv_DI_ALJYd"
      }
    },
    {
      "cell_type": "code",
      "source": [
        "my_list = [1, 2, 3, 4, 5]\n",
        "print(my_list)"
      ],
      "metadata": {
        "colab": {
          "base_uri": "https://localhost:8080/"
        },
        "id": "eIzX4s5RLGlx",
        "outputId": "0a041688-517d-4673-e414-d5ab33ee9448"
      },
      "execution_count": 7,
      "outputs": [
        {
          "output_type": "stream",
          "name": "stdout",
          "text": [
            "[1, 2, 3, 4, 5]\n"
          ]
        }
      ]
    },
    {
      "cell_type": "markdown",
      "source": [
        "7. Write a code to append the number 10 to the list [1, 2, 3, 4]"
      ],
      "metadata": {
        "id": "oiJv3nYZMEhz"
      }
    },
    {
      "cell_type": "code",
      "source": [
        "my_list = [1, 2, 3, 4]\n",
        "my_list.append(10)\n",
        "print(my_list)"
      ],
      "metadata": {
        "colab": {
          "base_uri": "https://localhost:8080/"
        },
        "id": "IrL73sAjMQfP",
        "outputId": "0c096d6a-7cfd-4b8d-a1f9-f6907ea92a6c"
      },
      "execution_count": 8,
      "outputs": [
        {
          "output_type": "stream",
          "name": "stdout",
          "text": [
            "[1, 2, 3, 4, 10]\n"
          ]
        }
      ]
    },
    {
      "cell_type": "markdown",
      "source": [
        "8. Write a code to remove the number 3 from the list [1, 2, 3, 4, 5]."
      ],
      "metadata": {
        "id": "sBQeBXJOMWDR"
      }
    },
    {
      "cell_type": "code",
      "source": [
        "my_list = [1, 2, 3, 4, 5]\n",
        "my_list.remove(3)\n",
        "print(my_list)"
      ],
      "metadata": {
        "colab": {
          "base_uri": "https://localhost:8080/"
        },
        "id": "niVLOuneMbHh",
        "outputId": "3479aca0-64ee-4025-8ec7-7af7a174c20c"
      },
      "execution_count": 40,
      "outputs": [
        {
          "output_type": "stream",
          "name": "stdout",
          "text": [
            "[1, 2, 4, 5]\n"
          ]
        }
      ]
    },
    {
      "cell_type": "markdown",
      "source": [
        "9. Write a code to access the second element in the list ['a', 'b', 'c', 'd']"
      ],
      "metadata": {
        "id": "pV85K4iMMga2"
      }
    },
    {
      "cell_type": "code",
      "source": [
        "my_list = ['a', 'b', 'c', 'd']\n",
        "second_element = my_list[1]\n",
        "print(second_element)"
      ],
      "metadata": {
        "colab": {
          "base_uri": "https://localhost:8080/"
        },
        "id": "Mf_syz8xMlTy",
        "outputId": "0386bd9e-9907-475a-b90a-2aed305b9abc"
      },
      "execution_count": 9,
      "outputs": [
        {
          "output_type": "stream",
          "name": "stdout",
          "text": [
            "b\n"
          ]
        }
      ]
    },
    {
      "cell_type": "markdown",
      "source": [
        "10. Write a code to reverse the list [10, 20, 30, 40, 50]."
      ],
      "metadata": {
        "id": "7GN5F9D7Ms-v"
      }
    },
    {
      "cell_type": "code",
      "source": [
        "my_list = [10, 20, 30, 40, 50]\n",
        "my_list.reverse()\n",
        "print(my_list)"
      ],
      "metadata": {
        "colab": {
          "base_uri": "https://localhost:8080/"
        },
        "id": "OnmyVFFyMzUC",
        "outputId": "1be1d270-228e-4c68-fecf-b53bddfe1768"
      },
      "execution_count": 10,
      "outputs": [
        {
          "output_type": "stream",
          "name": "stdout",
          "text": [
            "[50, 40, 30, 20, 10]\n"
          ]
        }
      ]
    },
    {
      "cell_type": "markdown",
      "source": [
        "11. Write a code to create a tuple with the elements 100, 200, 300 and print it."
      ],
      "metadata": {
        "id": "_FyAwaxrM4nG"
      }
    },
    {
      "cell_type": "code",
      "source": [
        "my_tuple = (100, 200, 300)\n",
        "print(my_tuple)"
      ],
      "metadata": {
        "colab": {
          "base_uri": "https://localhost:8080/"
        },
        "id": "hmPx89SuM-g7",
        "outputId": "954ef6fd-5ef0-4a67-fc5a-3bcc6ca05266"
      },
      "execution_count": 11,
      "outputs": [
        {
          "output_type": "stream",
          "name": "stdout",
          "text": [
            "(100, 200, 300)\n"
          ]
        }
      ]
    },
    {
      "cell_type": "markdown",
      "source": [
        "12. Write a code to access the second-to-last element of the tuple ('red', 'green', 'blue', 'yellow')."
      ],
      "metadata": {
        "id": "_GlZ1VhsNGTN"
      }
    },
    {
      "cell_type": "code",
      "source": [
        "my_tuple = ('red', 'green', 'blue', 'yellow')\n",
        "second_to_last = my_tuple[-2]\n",
        "print(second_to_last)"
      ],
      "metadata": {
        "colab": {
          "base_uri": "https://localhost:8080/"
        },
        "id": "-fgxwr0aNLFO",
        "outputId": "30d4849a-71f5-4cbd-bd39-24fcc44ff2b6"
      },
      "execution_count": 12,
      "outputs": [
        {
          "output_type": "stream",
          "name": "stdout",
          "text": [
            "blue\n"
          ]
        }
      ]
    },
    {
      "cell_type": "markdown",
      "source": [
        "13. Write a code to find the minimum number in the tuple (10, 20, 5, 15)."
      ],
      "metadata": {
        "id": "jLh2GGqzN9ED"
      }
    },
    {
      "cell_type": "code",
      "source": [
        "my_tuple = (10, 20, 5, 15)\n",
        "minimum_number = min(my_tuple)\n",
        "print(minimum_number)"
      ],
      "metadata": {
        "colab": {
          "base_uri": "https://localhost:8080/"
        },
        "id": "yTCPwiuiODMw",
        "outputId": "9c2ffe09-d34a-4c61-f701-01caf2888653"
      },
      "execution_count": 13,
      "outputs": [
        {
          "output_type": "stream",
          "name": "stdout",
          "text": [
            "5\n"
          ]
        }
      ]
    },
    {
      "cell_type": "markdown",
      "source": [
        "14.  Write a code to find the index of the element \"cat\" in the tuple ('dog', 'cat', 'rabbit')."
      ],
      "metadata": {
        "id": "NxYAcr7eOmsd"
      }
    },
    {
      "cell_type": "code",
      "source": [
        "my_tuple = ('dog', 'cat', 'rabbit')\n",
        "index_of_cat = my_tuple.index('cat')\n",
        "print(index_of_cat)"
      ],
      "metadata": {
        "colab": {
          "base_uri": "https://localhost:8080/"
        },
        "id": "tO25ivpcOrdD",
        "outputId": "f87049e5-1f2c-42a9-86ed-1f099f7862df"
      },
      "execution_count": 14,
      "outputs": [
        {
          "output_type": "stream",
          "name": "stdout",
          "text": [
            "1\n"
          ]
        }
      ]
    },
    {
      "cell_type": "markdown",
      "source": [
        "15. Write a code to create a tuple containing three different fruits and check if \"kiwi\" is in it."
      ],
      "metadata": {
        "id": "upkSnXMCO2SV"
      }
    },
    {
      "cell_type": "code",
      "source": [
        "my_tuple = ('apple', 'banana', 'orange')\n",
        "is_kiwi_in = 'kiwi' in my_tuple\n",
        "print(is_kiwi_in)"
      ],
      "metadata": {
        "colab": {
          "base_uri": "https://localhost:8080/"
        },
        "id": "O81T2IEAO6sL",
        "outputId": "8043682a-f077-47d8-e496-29723a75dcfb"
      },
      "execution_count": 15,
      "outputs": [
        {
          "output_type": "stream",
          "name": "stdout",
          "text": [
            "False\n"
          ]
        }
      ]
    },
    {
      "cell_type": "markdown",
      "source": [
        "16. Write a code to create a set with the elements 'a', 'b', 'c' and print it."
      ],
      "metadata": {
        "id": "CmqUru7RPHVB"
      }
    },
    {
      "cell_type": "code",
      "source": [
        "my_set = {'a', 'b', 'c'}\n",
        "print(my_set)"
      ],
      "metadata": {
        "colab": {
          "base_uri": "https://localhost:8080/"
        },
        "id": "eND3wXx9PMEX",
        "outputId": "f01dcee0-efd7-4142-ba07-421f35b5143d"
      },
      "execution_count": 16,
      "outputs": [
        {
          "output_type": "stream",
          "name": "stdout",
          "text": [
            "{'b', 'a', 'c'}\n"
          ]
        }
      ]
    },
    {
      "cell_type": "markdown",
      "source": [
        "17. Write a code to clear all elements from the set {1, 2, 3, 4, 5}."
      ],
      "metadata": {
        "id": "GS7pRa3yPUQ-"
      }
    },
    {
      "cell_type": "code",
      "source": [
        "my_set = {1, 2, 3, 4, 5}\n",
        "my_set.clear()\n",
        "print(my_set)"
      ],
      "metadata": {
        "colab": {
          "base_uri": "https://localhost:8080/"
        },
        "id": "CEZlvGafPZQY",
        "outputId": "1b8a810d-c4ab-4fbb-d060-e5099dee09cf"
      },
      "execution_count": 17,
      "outputs": [
        {
          "output_type": "stream",
          "name": "stdout",
          "text": [
            "set()\n"
          ]
        }
      ]
    },
    {
      "cell_type": "markdown",
      "source": [
        "18. Write a code to remove the element 4 from the set {1, 2, 3, 4}."
      ],
      "metadata": {
        "id": "2PYyTS3TPjHK"
      }
    },
    {
      "cell_type": "code",
      "source": [
        "my_set = {1, 2, 3, 4}\n",
        "my_set.remove(4)\n",
        "print(my_set)"
      ],
      "metadata": {
        "colab": {
          "base_uri": "https://localhost:8080/"
        },
        "id": "a71G_QrLPnhP",
        "outputId": "977fcab6-a8ae-4ca0-c378-c4b5454a3859"
      },
      "execution_count": 18,
      "outputs": [
        {
          "output_type": "stream",
          "name": "stdout",
          "text": [
            "{1, 2, 3}\n"
          ]
        }
      ]
    },
    {
      "cell_type": "markdown",
      "source": [
        "19. Write a code to find the union of two sets {1, 2, 3} and {3, 4, 5}"
      ],
      "metadata": {
        "id": "xj2OvdktPtqs"
      }
    },
    {
      "cell_type": "code",
      "source": [
        "set1 = {1, 2, 3}\n",
        "set2 = {3, 4, 5}\n",
        "union_set = set1.union(set2)\n",
        "print(union_set)"
      ],
      "metadata": {
        "colab": {
          "base_uri": "https://localhost:8080/"
        },
        "id": "tdPX0DknPyDw",
        "outputId": "44eb1853-57e7-4140-8253-f28711448f78"
      },
      "execution_count": 19,
      "outputs": [
        {
          "output_type": "stream",
          "name": "stdout",
          "text": [
            "{1, 2, 3, 4, 5}\n"
          ]
        }
      ]
    },
    {
      "cell_type": "markdown",
      "source": [
        "20. Write a code to find the intersection of two sets {1, 2, 3} and {2, 3, 4}."
      ],
      "metadata": {
        "id": "1qP2xjy3P2Nc"
      }
    },
    {
      "cell_type": "code",
      "source": [
        "set1 = {1, 2, 3}\n",
        "set2 = {2, 3, 4}\n",
        "intersection_set = set1.intersection(set2)\n",
        "print(intersection_set)"
      ],
      "metadata": {
        "colab": {
          "base_uri": "https://localhost:8080/"
        },
        "id": "AxqwxS_8P_EH",
        "outputId": "d45148ef-9fbf-4afe-a808-e7ef7f07ea7b"
      },
      "execution_count": 20,
      "outputs": [
        {
          "output_type": "stream",
          "name": "stdout",
          "text": [
            "{2, 3}\n"
          ]
        }
      ]
    },
    {
      "cell_type": "markdown",
      "source": [
        "21. Write a code to create a dictionary with the keys \"name\", \"age\", and \"city\", and print it."
      ],
      "metadata": {
        "id": "06N_kGqqQDtQ"
      }
    },
    {
      "cell_type": "code",
      "source": [
        "my_dict = {\"name\": \"Ram Charan\", \"age\": 30, \"city\": \"Hyderabad\"}\n",
        "print(my_dict)"
      ],
      "metadata": {
        "colab": {
          "base_uri": "https://localhost:8080/"
        },
        "id": "e0tLBhsrQIhF",
        "outputId": "7ec96f1c-2ca8-4838-cca3-a64a1fc37ffb"
      },
      "execution_count": 23,
      "outputs": [
        {
          "output_type": "stream",
          "name": "stdout",
          "text": [
            "{'name': 'Ram Charan', 'age': 30, 'city': 'Hyderabad'}\n"
          ]
        }
      ]
    },
    {
      "cell_type": "markdown",
      "source": [
        "22. Write a code to add a new key-value pair \"country\": \"USA\" to the dictionary {'name': 'John', 'age': 25}."
      ],
      "metadata": {
        "id": "v_Lb8FDaQY4f"
      }
    },
    {
      "cell_type": "code",
      "source": [
        "my_dict = {'name': 'John', 'age': 25}\n",
        "my_dict[\"country\"] = \"USA\"\n",
        "print(my_dict)"
      ],
      "metadata": {
        "colab": {
          "base_uri": "https://localhost:8080/"
        },
        "id": "tKb1djsbQecj",
        "outputId": "a6980016-f4e9-4233-855b-7af8fd511273"
      },
      "execution_count": 24,
      "outputs": [
        {
          "output_type": "stream",
          "name": "stdout",
          "text": [
            "{'name': 'John', 'age': 25, 'country': 'USA'}\n"
          ]
        }
      ]
    },
    {
      "cell_type": "markdown",
      "source": [
        "23. Write a code to access the value associated with the key \"name\" in the dictionary {'name': 'Alice', 'age': 30}."
      ],
      "metadata": {
        "id": "sWi8iEdFQ3VM"
      }
    },
    {
      "cell_type": "code",
      "source": [
        "my_dict = {'name': 'Alice', 'age': 30}\n",
        "name_value = my_dict[\"name\"]\n",
        "print(name_value)"
      ],
      "metadata": {
        "colab": {
          "base_uri": "https://localhost:8080/"
        },
        "id": "7W-RMgEgQ7XE",
        "outputId": "5e4aaf43-7c16-49dc-ba15-9defb3a0f01e"
      },
      "execution_count": 25,
      "outputs": [
        {
          "output_type": "stream",
          "name": "stdout",
          "text": [
            "Alice\n"
          ]
        }
      ]
    },
    {
      "cell_type": "markdown",
      "source": [
        "24. Write a code to remove the key \"age\" from the dictionary {'name': 'Bob', 'age': 22, 'city': 'New York'}."
      ],
      "metadata": {
        "id": "wZveC6TTQ_oF"
      }
    },
    {
      "cell_type": "code",
      "source": [
        "my_dict = {'name': 'Bob', 'age': 22, 'city': 'New York'}\n",
        "del my_dict[\"age\"]\n",
        "print(my_dict)"
      ],
      "metadata": {
        "colab": {
          "base_uri": "https://localhost:8080/"
        },
        "id": "iEJzkMCORFEO",
        "outputId": "2e058b8d-3cb5-49ce-c1df-031a439bf817"
      },
      "execution_count": 39,
      "outputs": [
        {
          "output_type": "stream",
          "name": "stdout",
          "text": [
            "{'name': 'Bob', 'city': 'New York'}\n"
          ]
        }
      ]
    },
    {
      "cell_type": "markdown",
      "source": [
        "25. Write a code to check if the key \"city\" exists in the dictionary {'name': 'Alice', 'city': 'Paris'}."
      ],
      "metadata": {
        "id": "N9ukr3FXRIX4"
      }
    },
    {
      "cell_type": "code",
      "source": [
        "my_dict = {'name': 'Alice', 'city': 'Paris'}\n",
        "city_exists = \"city\" in my_dict\n",
        "print(city_exists)"
      ],
      "metadata": {
        "colab": {
          "base_uri": "https://localhost:8080/"
        },
        "id": "ZxeGa-seRM-C",
        "outputId": "ce47c7f8-46a5-4594-b988-31cf8add2ab2"
      },
      "execution_count": 26,
      "outputs": [
        {
          "output_type": "stream",
          "name": "stdout",
          "text": [
            "True\n"
          ]
        }
      ]
    },
    {
      "cell_type": "markdown",
      "source": [
        "26. Write a code to create a list, a tuple, and a dictionary, and print them all."
      ],
      "metadata": {
        "id": "yz31j4cdRUf-"
      }
    },
    {
      "cell_type": "code",
      "source": [
        "my_list = [1, 2, 3]\n",
        "my_tuple = ('a', 'b', 'c')\n",
        "my_dict = {'key1': 'value1', 'key2': 'value2'}\n",
        "\n",
        "print(\"List:\", my_list)\n",
        "print(\"Tuple:\", my_tuple)\n",
        "print(\"Dictionary:\", my_dict)"
      ],
      "metadata": {
        "colab": {
          "base_uri": "https://localhost:8080/"
        },
        "id": "X2biWd83RYTP",
        "outputId": "2013359f-e846-4eea-826e-a069234eb94b"
      },
      "execution_count": 27,
      "outputs": [
        {
          "output_type": "stream",
          "name": "stdout",
          "text": [
            "List: [1, 2, 3]\n",
            "Tuple: ('a', 'b', 'c')\n",
            "Dictionary: {'key1': 'value1', 'key2': 'value2'}\n"
          ]
        }
      ]
    },
    {
      "cell_type": "markdown",
      "source": [
        "27. Write a code to create a list of 5 random numbers between 1 and 100, sort it in ascending order, and print the\n",
        "result.(replaced)."
      ],
      "metadata": {
        "id": "FPQXqzIFRlyd"
      }
    },
    {
      "cell_type": "code",
      "source": [
        "import random\n",
        "\n",
        "random_numbers = []\n",
        "for _ in range(5):\n",
        "    random_numbers.append(random.randint(1, 100))\n",
        "\n",
        "random_numbers.sort()\n",
        "print(random_numbers)"
      ],
      "metadata": {
        "colab": {
          "base_uri": "https://localhost:8080/"
        },
        "id": "YZ981zbORqzx",
        "outputId": "181bc33f-490a-4c43-9585-4534a86ddb83"
      },
      "execution_count": 33,
      "outputs": [
        {
          "output_type": "stream",
          "name": "stdout",
          "text": [
            "[29, 31, 48, 48, 53]\n"
          ]
        }
      ]
    },
    {
      "cell_type": "markdown",
      "source": [
        "28. Write a code to create a list with strings and print the element at the third index."
      ],
      "metadata": {
        "id": "RompMED-SGkk"
      }
    },
    {
      "cell_type": "code",
      "source": [
        "string_list = [\"apple\", \"banana\", \"cherry\", \"date\", \"elderberry\"]\n",
        "third_index_element = string_list[2]\n",
        "print(third_index_element)"
      ],
      "metadata": {
        "colab": {
          "base_uri": "https://localhost:8080/"
        },
        "id": "ZQoqFXoYSLTs",
        "outputId": "996d27c8-814f-4321-f5f7-d581ee764ed3"
      },
      "execution_count": 34,
      "outputs": [
        {
          "output_type": "stream",
          "name": "stdout",
          "text": [
            "cherry\n"
          ]
        }
      ]
    },
    {
      "cell_type": "markdown",
      "source": [
        "29.  Write a code to combine two dictionaries into one and print the result."
      ],
      "metadata": {
        "id": "rpaRkqH-SWtI"
      }
    },
    {
      "cell_type": "code",
      "source": [
        "dict1 = {'a': 1, 'b': 2}\n",
        "dict2 = {'c': 3, 'd': 4}\n",
        "combined_dict = dict1.copy()  # Create a copy to avoid modifying dict1\n",
        "combined_dict.update(dict2)\n",
        "print(combined_dict)"
      ],
      "metadata": {
        "colab": {
          "base_uri": "https://localhost:8080/"
        },
        "id": "tvCvRk-NSc_4",
        "outputId": "c1ec515a-dd14-4565-d630-842c33e651db"
      },
      "execution_count": 35,
      "outputs": [
        {
          "output_type": "stream",
          "name": "stdout",
          "text": [
            "{'a': 1, 'b': 2, 'c': 3, 'd': 4}\n"
          ]
        }
      ]
    },
    {
      "cell_type": "markdown",
      "source": [
        "30.  Write a code to convert a list of strings into a set."
      ],
      "metadata": {
        "id": "G3QVmpkcSvHV"
      }
    },
    {
      "cell_type": "code",
      "source": [
        "string_list = [\"apple\", \"banana\", \"apple\", \"cherry\"]  # List with a duplicate\n",
        "string_set = set(string_list)\n",
        "print(string_set, type(string_set))"
      ],
      "metadata": {
        "colab": {
          "base_uri": "https://localhost:8080/"
        },
        "id": "jcSAUjK1Szn8",
        "outputId": "accc0cb0-3361-4b33-b187-3673a14cba9f"
      },
      "execution_count": 38,
      "outputs": [
        {
          "output_type": "stream",
          "name": "stdout",
          "text": [
            "{'apple', 'banana', 'cherry'} <class 'set'>\n"
          ]
        }
      ]
    }
  ]
}
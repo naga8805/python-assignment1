{
  "nbformat": 4,
  "nbformat_minor": 0,
  "metadata": {
    "colab": {
      "provenance": []
    },
    "kernelspec": {
      "name": "python3",
      "display_name": "Python 3"
    },
    "language_info": {
      "name": "python"
    }
  },
  "cells": [
    {
      "cell_type": "markdown",
      "source": [
        "# Theoretical Questions"
      ],
      "metadata": {
        "id": "5hB2-OejDLzX"
      }
    },
    {
      "cell_type": "markdown",
      "source": [
        "**1. What is a Support Vector Machine (SVM)?**"
      ],
      "metadata": {
        "id": "IP1FkLDfDQz_"
      }
    },
    {
      "cell_type": "markdown",
      "source": [
        "**Answer**\n",
        "\n",
        "A Support Vector Machine (SVM) is a supervised machine learning algorithm used for classification and regression tasks. It works by finding the optimal hyperplane that best separates data points into different categories, maximizing the margin between them"
      ],
      "metadata": {
        "id": "hmM8hrQVZtc6"
      }
    },
    {
      "cell_type": "markdown",
      "source": [
        "**2. What is the difference between Hard Margin and Soft Margin SVM?**"
      ],
      "metadata": {
        "id": "Mu22AtU7DdFA"
      }
    },
    {
      "cell_type": "markdown",
      "source": [
        "**Answer**\n",
        "\n",
        "**Hard Margin SVM:**\n",
        "\n",
        "* **Assumes data is linearly separable:**\n",
        "It requires that all data points can be perfectly separated by a hyperplane with a margin.\n",
        "* **Strict separation:**\n",
        "No data points are allowed to be on the wrong side of the margin (or even on the margin itself).\n",
        "* **Sensitive to outliers:**\n",
        "A single outlier can drastically change the decision boundary, potentially leading to overfitting.\n",
        "* **Simple optimization:**\n",
        "The optimization problem is straightforward as it aims to find the hyperplane that maximizes the margin and perfectly separates the data.\n",
        "\n",
        "**Soft Margin SVM:**\n",
        "\n",
        "* **Allows for misclassifications:**\n",
        "It introduces \"slack variables\" to allow some data points to be on the wrong side of the margin or even within the margin.\n",
        "* **Balances margin maximization and error minimization:**\n",
        "It finds a balance between maximizing the margin (to reduce generalization error) and minimizing the number of misclassifications (to avoid overfitting).\n",
        "* **More robust to outliers:**\n",
        "By allowing for some misclassifications, it's less sensitive to outliers and can generalize better to real-world, non-perfectly separable data.\n",
        "* **More complex optimization:**\n",
        "The optimization problem involves a regularization parameter that controls the trade-off between margin maximization and error minimization."
      ],
      "metadata": {
        "id": "m6OCeR1aaCDg"
      }
    },
    {
      "cell_type": "markdown",
      "source": [
        "**3. What is the mathematical intuition behind SVM?**"
      ],
      "metadata": {
        "id": "aXUCJikyDhYh"
      }
    },
    {
      "cell_type": "markdown",
      "source": [
        "**Answer**\n",
        "\n",
        "The core mathematical intuition behind Support Vector Machines (SVMs) is to find the optimal hyperplane that maximizes the margin between different classes in a dataset. This hyperplane acts as a decision boundary, and the margin is the distance between the hyperplane and the closest data points (called support vectors) of each class. By maximizing this margin, SVMs aim to create a more robust and generalizable classifier.\n",
        "\n",
        "**Here's a breakdown of the key mathematical concepts:**\n",
        "\n",
        "1. **Linear Separability:** SVMs work best when data is linearly separable, meaning a straight line (in 2D) or hyperplane (in higher dimensions) can perfectly divide the data points into their respective classes.\n",
        "2. **Hyperplane Equation:** The hyperplane is defined by a linear equation. For example, in a 2D space, it's represented as w·x + b = 0, where w is the weight vector, x is the input vector, and b is the bias term.\n",
        "3. **Margin Maximization:** The goal is to find the w and b that maximize the margin. The margin is calculated as the distance between the hyperplane and the closest data points (support vectors) on either side.\n",
        "4. **Support Vectors:** These are the data points closest to the hyperplane, essentially defining the boundaries of the margin. They play a crucial role in determining the optimal hyperplane.\n",
        "5. **Optimization Problem:** Finding the optimal hyperplane with maximum margin is formulated as a constrained optimization problem. The objective is to minimize the norm of the weight vector (||w||), subject to the constraint that all data points are classified correctly with a margin of at least 1.\n",
        "6. **Kernel Trick:** When data is not linearly separable, SVMs use kernel functions to implicitly map the data into a higher-dimensional space where it might become linearly separable. This allows SVMs to handle non-linear relationships between data points.\n",
        "\n",
        "In essence, SVMs use mathematical principles to find the best decision boundary that not only separates data but also provides a buffer zone (the margin) for better generalization and robustness."
      ],
      "metadata": {
        "id": "ALI8edt6ezte"
      }
    },
    {
      "cell_type": "markdown",
      "source": [
        "**4. What is the role of Lagrange Multipliers in SVM?**"
      ],
      "metadata": {
        "id": "ZlDuI-hMDkCz"
      }
    },
    {
      "cell_type": "markdown",
      "source": [
        "**Answer**\n",
        "\n",
        "In Support Vector Machines (SVMs), Lagrange multipliers are used to convert the constrained optimization problem of finding the optimal hyperplane into a dual optimization problem. This allows for easier computation and analysis of the SVM model, especially when dealing with complex datasets. Lagrange multipliers help incorporate the constraints (correct classification and margin maximization) into the objective function, transforming the problem into a form where the solution can be found by maximizing a dual function."
      ],
      "metadata": {
        "id": "ovyKHZ6UfiR1"
      }
    },
    {
      "cell_type": "markdown",
      "source": [
        "**5. What are Support Vectors in SVM?**"
      ],
      "metadata": {
        "id": "6P3tdbWYDoIP"
      }
    },
    {
      "cell_type": "markdown",
      "source": [
        "**Answer**\n",
        "\n",
        "In support vector machines (SVMs), support vectors are the data points that are closest to the decision boundary (hyperplane) and directly influence the position and orientation of that boundary. They are the \"support\" for the hyperplane, hence the name. These points are critical because they determine the margin of separation between different classes.\n",
        "\n",
        "**Here's a more detailed explanation:**\n",
        "\n",
        "* **Decision Boundary:**\n",
        "SVMs aim to find the optimal hyperplane that best separates data points belonging to different classes.\n",
        "* **Margin:**\n",
        "The margin is the distance between the hyperplane and the closest data points from each class.\n",
        "* **Support Vectors:**\n",
        "These are the data points that lie closest to the hyperplane, on the edge of the margin.\n",
        "* **Importance:**\n",
        "Only the support vectors are used to define the hyperplane; other data points have no impact on the decision boundary.\n",
        "* **Linear and Non-linear SVMs:**\n",
        "In linear SVMs, support vectors are the data points closest to the separating line. In non-linear SVMs, the data is transformed to a higher dimension where a hyperplane can be used to separate the data, and the support vectors are the points closest to that hyperplane."
      ],
      "metadata": {
        "id": "RYw9cpiVf3Kn"
      }
    },
    {
      "cell_type": "markdown",
      "source": [
        "**6. What is a Support Vector Classifier (SVC)?**"
      ],
      "metadata": {
        "id": "-ObYlMQXDr94"
      }
    },
    {
      "cell_type": "markdown",
      "source": [
        "**Answer**\n",
        "\n",
        "A Support Vector Classifier (SVC) is a type of Support Vector Machine (SVM) specifically used for classification tasks. It aims to find the optimal hyperplane that best separates data points into different classes by maximizing the margin between the hyperplane and the nearest data points (support vectors)."
      ],
      "metadata": {
        "id": "XVA5xmvch4BD"
      }
    },
    {
      "cell_type": "markdown",
      "source": [
        "**7. What is a Support Vector Regressor (SVR)?**"
      ],
      "metadata": {
        "id": "MMTQkFBZDxBR"
      }
    },
    {
      "cell_type": "markdown",
      "source": [
        "**Answer**\n",
        "\n",
        "Support Vector Regression (SVR) is a machine learning technique used for regression tasks, predicting continuous numerical values. It's an extension of Support Vector Machines (SVMs), which are typically used for classification. SVR aims to find a hyperplane that best fits the data points while considering a margin of error, essentially minimizing prediction errors within a specified range."
      ],
      "metadata": {
        "id": "Er5djGzziNh6"
      }
    },
    {
      "cell_type": "markdown",
      "source": [
        "**8. What is the Kernel Trick in SVM?**"
      ],
      "metadata": {
        "id": "lS1sXFjDD09D"
      }
    },
    {
      "cell_type": "markdown",
      "source": [
        "**Answer**\n",
        "\n",
        "The Kernel Trick is a technique used by SVM to handle non-linearly separable data. Instead of explicitly transforming the data into a higher-dimensional space, the kernel trick uses a kernel function to calculate the dot product of the data points in that higher-dimensional space. This allows the SVM to find a linear decision boundary in the higher-dimensional space, which corresponds to a non-linear boundary in the original feature space, without the computational cost of the actual transformation."
      ],
      "metadata": {
        "id": "fUyMRfvqi8k2"
      }
    },
    {
      "cell_type": "markdown",
      "source": [
        "**9. Compare Linear Kernel, Polynomial Kernel, and RBF Kernel.**"
      ],
      "metadata": {
        "id": "sP7YpdwTD7q9"
      }
    },
    {
      "cell_type": "markdown",
      "source": [
        "**Answer**\n",
        "\n",
        "**Linear Kernel:**\n",
        "\n",
        "* **Description:** The simplest kernel, representing a dot product between input vectors. It's computationally efficient and suitable for linearly separable data.\n",
        "* **Use Cases:** When data is linearly separable, or when dealing with high-dimensional data where computational cost is a concern.\n",
        "* **Advantages:** Fast, simple to implement, and produces interpretable results.\n",
        "* **Disadvantages:** May not be suitable for complex, non-linear relationships.\n",
        "\n",
        "**Polynomial Kernel:**\n",
        "\n",
        "* **Description:**\n",
        "Introduces non-linearity by raising the dot product to a power (degree) and adding a constant term. The degree controls the complexity of the polynomial.\n",
        "* **Use Cases:**\n",
        "When data exhibits polynomial patterns, like in image classification or computer vision tasks.\n",
        "* **Advantages:**\n",
        "Can model some non-linear relationships, more flexible than linear kernel.\n",
        "* **Disadvantages:**\n",
        "Higher degree polynomials can lead to overfitting. Parameter tuning (degree and constant) is required.\n",
        "\n",
        "**RBF Kernel:**\n",
        "\n",
        "* **Description:**\n",
        "A non-linear kernel that measures the similarity between data points based on their distance in a high-dimensional space. It uses a Gaussian distribution to define similarity.\n",
        "* **Use Cases:**\n",
        "Default choice for SVMs when data is not linearly separable, or when the relationship between features is complex and unknown.\n",
        "* **Advantages:**\n",
        "Highly flexible, can model complex non-linear relationships, and often provides good performance.\n",
        "* **Disadvantages:**\n",
        "More computationally expensive than linear and polynomial kernels, and sensitive to the gamma parameter (controls the kernel's width)."
      ],
      "metadata": {
        "id": "XG1Z8t2fjnXr"
      }
    },
    {
      "cell_type": "markdown",
      "source": [
        "**10. What is the effect of the C parameter in SVM?**"
      ],
      "metadata": {
        "id": "Wt1dKJl8D_EJ"
      }
    },
    {
      "cell_type": "markdown",
      "source": [
        "**Answer**\n",
        "\n",
        "In Support Vector Machines (SVMs), the C parameter acts as a regularization parameter. It controls the trade-off between achieving a wider margin (which generally leads to better generalization) and minimizing misclassifications of training data points. A higher C value prioritizes minimizing training errors, potentially leading to a smaller margin and overfitting, while a smaller C value emphasizes a wider margin, even if it means accepting more misclassifications.\n",
        "\n",
        "**Here's a more detailed explanation:**\n",
        "\n",
        "**High C:**\n",
        "\n",
        "When C is large, the SVM algorithm is more strict about misclassifications. It tries to find a decision boundary that perfectly classifies all training examples, even if it means the margin is narrow. This can lead to overfitting, where the model performs well on the training data but poorly on unseen data.\n",
        "\n",
        "**Low C:**\n",
        "\n",
        "When C is small, the SVM algorithm is more tolerant of misclassifications. It prioritizes finding a wider margin that separates the classes, even if some training points fall within that margin. This can lead to better generalization to new, unseen data but might result in a higher number of misclassifications on the training set.\n",
        "\n",
        "In essence, C helps SVM find the right balance between model complexity and generalization ability. It's a crucial parameter to tune when using SVMs, as the optimal value depends on the specific dataset and desired model behavior."
      ],
      "metadata": {
        "id": "ngzPX3i3qQZR"
      }
    },
    {
      "cell_type": "markdown",
      "source": [
        "**11.  What is the role of the Gamma parameter in RBF Kernel SVM?**"
      ],
      "metadata": {
        "id": "rFaKnMHfEIRL"
      }
    },
    {
      "cell_type": "markdown",
      "source": [
        "**Answer**\n",
        "\n",
        "The Gamma parameter (often denoted as gamma) in Radial Basis Function (RBF) Kernel Support Vector Machines (SVMs) plays a crucial role in controlling the shape and flexibility of the decision boundary. It essentially defines how far the influence of a single training example reaches within the model.\n",
        "\n",
        "**Here's a breakdown of the role of the Gamma parameter:**\n",
        "\n",
        "1. **Influence of Training Examples:** A small Gamma value means each training example's influence extends further, resulting in a larger area of influence. Conversely, a large Gamma value restricts the influence of each training example to a smaller, more localized region.\n",
        "\n",
        "2. **Decision Boundary Smoothness and Complexity:**\n",
        "\n",
        "* **Small Gamma:** Leads to a smoother, less complex decision boundary. This can result in underfitting if the model is too simplistic.\n",
        "* **Large Gamma:** Results in a more complex and \"wiggly\" decision boundary that closely fits the training data, which can lead to overfitting.\n",
        "\n",
        "3. **Trade-off between Bias and Variance:** Gamma helps manage the trade-off between bias and variance.\n",
        "\n",
        "* **Underfitting (High Bias, Low Variance):** Can be caused by a small Gamma.\n",
        "* **Overfitting (Low Bias, High Variance):** Can be a consequence of a large Gamma.\n",
        "\n",
        "4. **Relationship to Standard Deviation (Sigma):** Gamma is often considered the inverse of the standard deviation of the RBF kernel.\n",
        "\n",
        "**Tuning the Gamma Parameter:** Finding the optimal Gamma value is crucial and is typically done using hyperparameter tuning techniques like Grid Search or Randomized Search in conjunction with cross-validation.\n",
        "\n",
        "In summary, Gamma allows adjustment of the decision boundary's flexibility and complexity, enabling the model to learn non-linear relationships. Proper tuning is essential to balance fitting training data and generalizing to new data, avoiding both underfitting and overfitting."
      ],
      "metadata": {
        "id": "LrDeWrQnrLkK"
      }
    },
    {
      "cell_type": "markdown",
      "source": [
        "**12. What is the Naive Bayes classifier, and why is it called \"Naive\"?**"
      ],
      "metadata": {
        "id": "3iOanWMCETe1"
      }
    },
    {
      "cell_type": "markdown",
      "source": [
        "**Answer**\n",
        "\n",
        "The Naive Bayes classifier is a simple yet powerful machine learning algorithm that uses Bayes' theorem to classify data. It's called \"naive\" because it makes a simplifying assumption that all features used for classification are independent of each other, which is often not true in real-world scenarios. Despite this simplification, it's surprisingly effective in many classification tasks, especially those involving text data.\n",
        "\n",
        "**Why it's called \"naive\":**\n",
        "\n",
        "* In reality, features often influence each other. For example, in a spam filter, the presence of certain words might be more likely if other specific words are also present.\n",
        "* The Naive Bayes classifier ignores these dependencies and treats each feature as if it contributes independently to the classification decision.\n",
        "* This simplification makes the calculations much easier and faster, but it can also lead to less accurate results if the feature dependencies are strong.\n",
        "\n",
        "**Example:**\n",
        "\n",
        "Imagine classifying emails as spam or not spam. A Naive Bayes classifier might consider the presence of the word \"free\" as a feature. It would calculate the probability of \"free\" appearing in spam emails and the probability of \"free\" appearing in non-spam emails independently. However, in reality, the word \"free\" might be more likely to appear in an email that also contains the words \"discount\" or \"offer\". The Naive Bayes classifier ignores this potential dependency."
      ],
      "metadata": {
        "id": "9W5havwI3MAt"
      }
    },
    {
      "cell_type": "markdown",
      "source": [
        "**13. What is Bayes’ Theorem?**"
      ],
      "metadata": {
        "id": "Y-76DRAoEYMb"
      }
    },
    {
      "cell_type": "markdown",
      "source": [
        "**Answer**\n",
        "\n",
        "Bayes' Theorem is a mathematical formula that describes how to update the probability of a hypothesis as new evidence or information becomes available. It essentially allows you to calculate the probability of an event based on prior knowledge of conditions related to the event.\n",
        "\n",
        "**Key Components:**\n",
        "\n",
        "**Prior Probability (P(A)):**\n",
        "This is your initial belief or probability of an event (A) before considering any new evidence.\n",
        "**Likelihood (P(B|A)):**\n",
        "This is the probability of observing new evidence (B) given that the event (A) is true.\n",
        "**Posterior Probability (P(A|B)):**\n",
        "This is the updated probability of the event (A) after considering the new evidence (B).\n",
        "**Marginal Likelihood (P(B)):**\n",
        "This is the total probability of observing the evidence (B), regardless of whether the event (A) is true or false.\n",
        "\n",
        "**Formula:**\n",
        "\n",
        "The formula for Bayes' Theorem is:\n",
        "\n",
        "P(A|B) = [P(B|A) * P(A)] / P(B)\n",
        "\n",
        "**Where:**\n",
        "\n",
        "* P(A|B) is the probability of event A given event B.\n",
        "* P(B|A) is the probability of event B given event A.\n",
        "* P(A) is the prior probability of event A.\n",
        "* P(B) is the probability of event B.\n",
        "\n",
        "**How it works:**\n",
        "\n",
        "Bayes' Theorem helps you update your beliefs by combining your prior knowledge (prior probability) with new evidence (likelihood) to arrive at a more informed and accurate probability (posterior probability)."
      ],
      "metadata": {
        "id": "2qG_MYHb4A2S"
      }
    },
    {
      "cell_type": "markdown",
      "source": [
        "**14. Explain the differences between Gaussian Naive Bayes, Multinomial Naive Bayes, and Bernoulli Naive Bayes.**"
      ],
      "metadata": {
        "id": "LbtFwksFEf0j"
      }
    },
    {
      "cell_type": "markdown",
      "source": [
        "**Answer**\n",
        "\n",
        "1. **Gaussian Naive Bayes (GaussianNB)**\n",
        "\n",
        "* **Assumption:** Features are assumed to follow a normal (Gaussian) distribution.\n",
        "* **Data type:** Primarily for continuous features (e.g., height, weight, temperature, sensor readings).\n",
        "* **How it works:** It calculates the mean and variance for each feature within each class during training. These statistics are then used to estimate the likelihood of observing new feature values, given a specific class, using the Gaussian Probability Density Function (PDF).\n",
        "* **Applications:** Spam detection, sentiment analysis, medical diagnosis (e.g., predicting diseases based on symptoms like age and blood pressure).\n",
        "\n",
        "2. **Multinomial Naive Bayes (MultinomialNB)**\n",
        "\n",
        "* **Assumption:** Features are assumed to follow a multinomial distribution.\n",
        "* **Data type:** Handles discrete features, especially counts or frequencies (e.g., word counts in text documents).\n",
        "* **How it works:** Focuses on the frequencies of events, such as word occurrences in a document, to classify text. It calculates the probability of each word's occurrence within different categories and uses these probabilities to classify new documents.\n",
        "* **Applications:** Text classification, such as spam filtering, sentiment analysis, news categorization.\n",
        "\n",
        "3. **Bernoulli Naïve Bayes (BernoulliNB)**\n",
        "\n",
        "* **Assumption:** Features are binary (0 or 1), indicating the presence or absence of a feature, and follow a Bernoulli distribution.\n",
        "* **Data type:** Suited for binary/boolean features (e.g., whether a word exists in a document or not, \"yes\" or \"no\").\n",
        "* **How it works:** Instead of considering word frequencies like Multinomial Naive Bayes, it focuses on the presence or absence of specific words in a document. It calculates the probability of a word being present or absent given a particular class.\n",
        "* **Applications:** Spam filtering, text classification where only the presence/absence of words is important, sentiment analysis based on the presence of positive/negative keywords.\n",
        "\n",
        "**In Summary**\n",
        "\n",
        "The key difference lies in how each variant models the distribution of features. Gaussian Naïve Bayes uses a Gaussian (normal) distribution for continuous features, while Multinomial Naïve Bayes utilizes a multinomial distribution for discrete counts or frequencies. Bernoulli Naïve Bayes, on the other hand, operates on binary features, assuming they follow a Bernoulli distribution. The choice of which Naive Bayes classifier to use depends on the nature of your data and the specific problem you are trying to solve."
      ],
      "metadata": {
        "id": "1KOqYQDY4CIM"
      }
    },
    {
      "cell_type": "markdown",
      "source": [
        "**15. When should you use Gaussian Naive Bayes over other variants?**"
      ],
      "metadata": {
        "id": "crX7CM0fElQW"
      }
    },
    {
      "cell_type": "markdown",
      "source": [
        "**Answer**\n",
        "\n",
        "Gaussian Naive Bayes is best used when dealing with continuous numerical data that is assumed to follow a Gaussian (normal) distribution. This means the data should be symmetrical and form a bell curve when plotted. It's particularly useful when dealing with features like temperature, height, or weight, where values are measured rather than counted.\n",
        "\n",
        "Here's a more detailed breakdown:\n",
        "\n",
        "**Continuous Numerical Data:**\n",
        "Gaussian Naive Bayes is designed for data that can take on any value within a range, not just specific, separate values.\n",
        "\n",
        "**Gaussian Distribution Assumption:**\n",
        "The core assumption of this variant is that the data for each feature within each class is normally distributed. This means you can model the probability of a feature value using a Gaussian probability density function\n",
        "\n",
        "**When to Use it Over Other Variants:**\n",
        "\n",
        "* **Multinomial Naive Bayes:** Use this for discrete data (like word counts in text classification).\n",
        "* **Bernoulli Naive Bayes:** Use this for binary data (like presence or absence of a feature).\n",
        "* If your data doesn't fit a Gaussian distribution, you might consider transforming it (e.g., using Box-Cox transformation) or using a different algorithm altogether."
      ],
      "metadata": {
        "id": "sZP6BKCw4Dpi"
      }
    },
    {
      "cell_type": "markdown",
      "source": [
        "**16. What are the key assumptions made by Naive Bayes?**"
      ],
      "metadata": {
        "id": "Kk06YTeOEqBF"
      }
    },
    {
      "cell_type": "markdown",
      "source": [
        "**Answer**\n",
        "\n",
        "The core assumption of the Naive Bayes classifier is that features are conditionally independent of each other given the class label. This \"naive\" independence assumption simplifies calculations, allowing the algorithm to treat each feature's contribution as independent, even if they are not truly independent in reality. Additionally, some Naive Bayes variants make specific assumptions about data distributions, such as the Gaussian Naive Bayes assuming continuous features are normally distributed.\n",
        "\n",
        "**Here's a more detailed breakdown:**\n",
        "\n",
        "* **Conditional Independence:**\n",
        "The most crucial assumption is that the presence or absence of one feature does not influence the probability of another feature, given the class. This means, for example, in spam detection, the presence of \"discount\" and \"cheap\" in an email would be considered independently when calculating the probability of spam, even if they often appear together in real-world spam emails.\n",
        "\n",
        "* **Feature Independence:**\n",
        "While conditional independence is the key assumption, Naive Bayes also generally assumes that all features are equally important and contribute independently to the final classification decision.\n",
        "\n",
        "* **Distribution Assumptions:**\n",
        "Certain Naive Bayes variants, like Gaussian Naive Bayes, assume specific data distributions for continuous features. Gaussian Naive Bayes assumes that features are normally distributed within each class.\n",
        "\n",
        "* **No Missing Data:**\n",
        "Naive Bayes, in general, does not handle missing data well, and the presence of missing values can significantly impact the model's performance."
      ],
      "metadata": {
        "id": "MGU4yIpz4Ejf"
      }
    },
    {
      "cell_type": "markdown",
      "source": [
        "**17. What are the advantages and disadvantages of Naive Bayes?**"
      ],
      "metadata": {
        "id": "UkeoLnXxEumn"
      }
    },
    {
      "cell_type": "markdown",
      "source": [
        "**Answer**\n",
        "\n",
        "**Advantages:**\n",
        "\n",
        "* **Speed and Efficiency:**\n",
        "Naive Bayes is computationally inexpensive and can train and predict quickly, even with large datasets.\n",
        "* **Simple to Implement:**\n",
        "The algorithm is straightforward to understand and implement, making it accessible for beginners.\n",
        "* **Good for Text Classification:**\n",
        "Naive Bayes excels in text-based tasks like spam filtering and sentiment analysis due to its ability to handle high-dimensional data and its speed.\n",
        "* **Requires Less Training Data:**\n",
        "Compared to more complex models, Naive Bayes can generalize well from smaller datasets.\n",
        "* **Handles Multi-class Classification:**\n",
        "It easily handles problems with multiple classes without needing major modifications.\n",
        "* **Robust to Irrelevant Features:**\n",
        "The algorithm is relatively unaffected by irrelevant features in the data.\n",
        "\n",
        "**Disadvantages:**\n",
        "\n",
        "* **Assumption of Feature Independence:**\n",
        "The core limitation is the assumption that features are independent, which is rarely true in real-world data.\n",
        "* **Limited in Capturing Complex Relationships:**\n",
        "Due to the independence assumption, Naive Bayes struggles to model complex relationships between features.\n",
        "* **Sensitive to Data Distribution:**\n",
        "For continuous features, it often assumes a normal distribution, which might not be accurate.\n",
        "* **Probability Estimates Can Be Unreliable:**\n",
        "Naive Bayes probabilities can be poorly calibrated and not reflect true confidence.\n",
        "* **Struggles with Class Imbalance:**\n",
        "In datasets with highly imbalanced classes, it can predict the majority class more often.\n",
        "* **Not Suitable for Regression:**\n",
        "Naive Bayes is designed for classification tasks and cannot be used for regression problems."
      ],
      "metadata": {
        "id": "_rv9BD1M4FSX"
      }
    },
    {
      "cell_type": "markdown",
      "source": [
        "**18. Why is Naive Bayes a good choice for text classification?**"
      ],
      "metadata": {
        "id": "CVZXo7JgE0gc"
      }
    },
    {
      "cell_type": "markdown",
      "source": [
        "**Answer**\n",
        "\n",
        "Naive Bayes classifiers, particularly the Multinomial Naive Bayes (MNB) and Bernoulli Naive Bayes (BNB) variants, have emerged as popular and effective choices for text classification tasks due to a combination of factors:\n",
        "\n",
        "1. **Simplicity and Efficiency**\n",
        "\n",
        "* **Easy to implement and understand:** Naive Bayes models are conceptually straightforward and relatively easy to implement, even from scratch, making them a good starting point for text classification projects.\n",
        "* **Fast training and prediction:** The independence assumption significantly reduces the computational complexity, making Naive Bayes models very efficient for training and making predictions, even with large datasets and high-dimensional feature spaces commonly encountered in text classification.\n",
        "* **Low memory requirements:** Naive Bayes classifiers require minimal memory storage compared to some more complex models, according to IBM.\n",
        "\n",
        "2. **Suitability for text data**\n",
        "\n",
        "* **Handles discrete data (word counts/frequencies):** Multinomial Naive Bayes is designed to work effectively with discrete features, particularly word counts or frequencies, which are the standard way of representing text in models like Bag-of-Words (BoW).\n",
        "* **Handles high-dimensional data:** Text data often involves a vast vocabulary, resulting in high-dimensional feature spaces. Naive Bayes performs well in these scenarios, scaling efficiently to large numbers of features, says upGrad.\n",
        "* **Robustness to irrelevant features:** Naive Bayes can be less sensitive to irrelevant features because the conditional probability for each feature is calculated independently.\n",
        "\n",
        "3. **Performance and interpretability**\n",
        "\n",
        "* **Surprising effectiveness:** Despite the unrealistic assumption of feature independence, Naive Bayes often yields remarkably good performance in text classification tasks, like spam detection and sentiment analysis.\n",
        "* **Good baseline model:** Its simplicity and reasonable performance make Naive Bayes a strong baseline classifier to compare more complex models against.\n",
        "* **Easy interpretability:** The probabilistic nature of Naive Bayes makes it relatively easy to understand which features contribute most to a particular classification decision, fostering greater interpretability.\n",
        "\n",
        "4. **Scalability**\n",
        "\n",
        "* **Efficient with large datasets:** Naive Bayes classifiers can efficiently handle large volumes of text data due to their computational simplicity and reliance on counting occurrences and probabilities.\n",
        "* **Suitable for real-time predictions:** The speed of Naive Bayes makes it ideal for applications requiring real-time predictions, like filtering incoming emails or categorizing tweets.\n",
        "\n",
        "**In conclusion**\n",
        "\n",
        "Naive Bayes algorithms provide a balance of simplicity, speed, and reasonable accuracy that makes them particularly well-suited for text classification. Their ability to handle high-dimensional, discrete text data efficiently, coupled with surprising effectiveness, makes them a valuable tool for tasks like spam detection, sentiment analysis, and document categorization. While more sophisticated deep learning models exist, Naive Bayes often serves as a robust and interpretable baseline for text classification problems."
      ],
      "metadata": {
        "id": "1IoLTa5j4GF5"
      }
    },
    {
      "cell_type": "markdown",
      "source": [
        "**19. Compare SVM and Naive Bayes for classification tasks.**"
      ],
      "metadata": {
        "id": "e2pO5y0_E6y6"
      }
    },
    {
      "cell_type": "markdown",
      "source": [
        "**Answer**\n",
        "\n",
        "Support Vector Machines (SVMs) and Naive Bayes (NB) classifiers are both widely used and highly effective machine learning algorithms for various classification tasks. They differ significantly in their underlying principles and approaches, leading to different strengths and weaknesses in practical applications.\n",
        "\n",
        "**Here's a comparison based on key criteria:**\n",
        "\n",
        "1. **Model type and approach**\n",
        "\n",
        "* SVM: Discriminative model. It focuses on finding the optimal hyperplane (decision boundary) that separates different classes with the largest margin, based on the geometrical properties of the data.\n",
        "* Naive Bayes: Generative model. It learns the probability distribution of features for each class and then uses Bayes' Theorem to calculate the probability of a data point belonging to a particular class, assuming feature independence given the class label.\n",
        "\n",
        "2. **Key assumptions**\n",
        "\n",
        "* SVM: Makes no explicit assumptions about the underlying distribution of data or independence between features.\n",
        "* Naive Bayes: Assumes that features are conditionally independent given the class label. This \"naive\" assumption simplifies computations but may not always hold true in real-world datasets.\n",
        "\n",
        "3. **Handling of high-dimensional data**\n",
        "\n",
        "* SVM: Excels in high-dimensional spaces, a common characteristic of text classification tasks (e.g., when using TF-IDF features). As per Medium, it can effectively handle situations where the number of features exceeds the number of samples.\n",
        "* Naive Bayes: Also handles high-dimensional data efficiently due to the independence assumption, which simplifies probability calculations and reduces the risk of the curse of dimensionality.\n",
        "\n",
        "4. **Performance**\n",
        "\n",
        "* SVM: Often achieves higher accuracy, especially when the data is not linearly separable and complex decision boundaries are required, leveraging the \"kernel trick\" to map data into higher-dimensional spaces for better separation.\n",
        "* Naive Bayes: Can achieve surprisingly good performance, especially when the feature independence assumption holds reasonably well or with sufficient amounts of data, according to Medium. However, it may struggle with highly correlated features.\n",
        "* Comparative Studies: Some studies suggest SVM may outperform Naive Bayes in terms of overall accuracy and balanced performance, particularly when dealing with complex datasets or where feature interactions are significant. However, other studies report Naive Bayes outperforming SVM in specific scenarios like classifying sentiments in healthcare companies stock comments in Bursa Malaysia or when dealing with small training sets or snippets of text. The choice often depends on the specific dataset and task at hand.\n",
        "\n",
        "5. **Computational complexity**\n",
        "\n",
        "* SVM: Training can be computationally expensive, especially with large datasets, and requires careful tuning of hyperparameters like the kernel type and regularization parameters.\n",
        "* Naive Bayes: Known for its computational efficiency, with fast training and prediction times, making it suitable for large datasets and real-time applications.\n",
        "\n",
        "6. **Interpretability**\n",
        "\n",
        "* SVM: Offers less interpretability as the decision boundary (hyperplane) can be difficult to interpret, especially with non-linear kernels, and provides limited insight into feature importance.\n",
        "* Naive Bayes: Provides a more intuitive and straightforward interpretation because it directly computes class probabilities, making it easier to understand the contribution of individual features.\n",
        "\n",
        "7. **Scalability**\n",
        "\n",
        "* SVM: Less scalable with extremely large datasets due to memory-intensive nature when working with high-dimensional feature spaces.\n",
        "* Naive Bayes: Scales well with large datasets and can efficiently handle a large number of features."
      ],
      "metadata": {
        "id": "JYrrxG-c4G9x"
      }
    },
    {
      "cell_type": "markdown",
      "source": [
        "**20. How does Laplace Smoothing help in Naive Bayes?**"
      ],
      "metadata": {
        "id": "ZnQVtoyWFAgV"
      }
    },
    {
      "cell_type": "markdown",
      "source": [
        "**Answer**\n",
        "\n",
        "Laplace smoothing, also known as add-one smoothing, helps address the problem of zero probabilities in Naive Bayes classifiers. By adding a small value (typically 1) to both the numerator and denominator of probability calculations, it ensures that no probability is ever zero, even for features not seen in the training data for a specific class. This prevents the classifier from being overly influenced by rare or unseen features and improves its ability to generalize to new data.\n",
        "\n",
        "**Here's a more detailed explanation:**\n",
        "\n",
        "* **Zero Probability Problem:**\n",
        "In Naive Bayes, probabilities are calculated based on the frequency of features within different classes. If a feature is not present in the training data for a particular class, its probability becomes zero, which can lead to inaccurate predictions.\n",
        "* **Laplace Smoothing Solution:**\n",
        "Laplace smoothing adds a small value (often 1, but it can be any small positive value) to both the numerator (count of the feature in the class) and the denominator (total count of all features in that class). This ensures that no probability is zero.\n",
        "* **Regularization:**\n",
        "Laplace smoothing acts as a form of regularization. It prevents the classifier from becoming overly confident in its predictions based on limited training data.\n",
        "* **Improved Generalization:**\n",
        "By preventing zero probabilities, Laplace smoothing helps the classifier generalize better to unseen data. It allows the model to make reasonable predictions even when encountering features it hasn't seen before.\n",
        "\n",
        "**Example:**\n",
        "\n",
        "If the word \"amount\" is not present in any spam emails during training, its probability of occurring in a spam email would be zero. However, with Laplace smoothing, a small probability (e.g., 1/10001 if we add 1 and there are 10000 total words) would be assigned, preventing the classifier from incorrectly labeling all \"amount\" containing emails as non-spam.\n",
        "\n",
        "In essence, Laplace smoothing adds a little bit of \"smoothing\" to the probability estimates, making the Naive Bayes classifier more robust and reliable, especially when dealing with limited training data or rare features."
      ],
      "metadata": {
        "id": "9axHmMgT4Hvj"
      }
    },
    {
      "cell_type": "markdown",
      "source": [
        "# Practical Questions"
      ],
      "metadata": {
        "id": "dKeXoySGGGMw"
      }
    },
    {
      "cell_type": "markdown",
      "source": [
        "**21. Write a Python program to train an SVM Classifier on the Iris dataset and evaluate accuracy.**"
      ],
      "metadata": {
        "id": "VuLLIeYvGSpk"
      }
    },
    {
      "cell_type": "code",
      "source": [
        "# Import necessary libraries\n",
        "from sklearn import datasets\n",
        "from sklearn.model_selection import train_test_split\n",
        "from sklearn.svm import SVC\n",
        "from sklearn.metrics import accuracy_score, classification_report\n",
        "from sklearn.preprocessing import StandardScaler\n",
        "\n",
        "# 1. Load the Iris dataset\n",
        "iris = datasets.load_iris()\n",
        "X = iris.data  # Features\n",
        "y = iris.target  # Target labels\n",
        "\n",
        "# 2. Split the data into training and testing sets\n",
        "# We use a 70-30 split with a random state for reproducibility\n",
        "X_train, X_test, y_train, y_test = train_test_split(X, y, test_size=0.3, random_state=42)\n",
        "\n",
        "# 3. Feature Scaling (important for SVM)\n",
        "# Standardize the features to improve SVM performance\n",
        "scaler = StandardScaler()\n",
        "X_train_scaled = scaler.fit_transform(X_train)\n",
        "X_test_scaled = scaler.transform(X_test)\n",
        "\n",
        "# 4. Create and train the SVM model\n",
        "# Using a Radial Basis Function (RBF) kernel, which is a common choice for non-linear datasets.\n",
        "# You can experiment with other kernels like 'linear' or 'poly'.\n",
        "svm_model = SVC(kernel='rbf', random_state=42)\n",
        "svm_model.fit(X_train_scaled, y_train)\n",
        "\n",
        "# 5. Make predictions on the test set\n",
        "y_pred = svm_model.predict(X_test_scaled)\n",
        "\n",
        "# 6. Evaluate the model\n",
        "accuracy = accuracy_score(y_test, y_pred)\n",
        "print(f\"Accuracy: {accuracy:.2f}\")\n",
        "\n",
        "print(\"\\nClassification Report:\")\n",
        "print(classification_report(y_test, y_pred))\n",
        "\n",
        "# Example of making a prediction on new data\n",
        "new_sample = [[5.1, 3.5, 1.4, 0.2]]  # Example: Features of an Iris-Setosa\n",
        "new_sample_scaled = scaler.transform(new_sample)\n",
        "predicted_class = svm_model.predict(new_sample_scaled)\n",
        "print(f\"\\nPredicted class for new sample: {iris.target_names[predicted_class[0]]}\")"
      ],
      "metadata": {
        "colab": {
          "base_uri": "https://localhost:8080/"
        },
        "id": "RI417J0lbEl3",
        "outputId": "44cc9057-0255-45d5-96f9-36269f31fabe"
      },
      "execution_count": 1,
      "outputs": [
        {
          "output_type": "stream",
          "name": "stdout",
          "text": [
            "Accuracy: 1.00\n",
            "\n",
            "Classification Report:\n",
            "              precision    recall  f1-score   support\n",
            "\n",
            "           0       1.00      1.00      1.00        19\n",
            "           1       1.00      1.00      1.00        13\n",
            "           2       1.00      1.00      1.00        13\n",
            "\n",
            "    accuracy                           1.00        45\n",
            "   macro avg       1.00      1.00      1.00        45\n",
            "weighted avg       1.00      1.00      1.00        45\n",
            "\n",
            "\n",
            "Predicted class for new sample: setosa\n"
          ]
        }
      ]
    },
    {
      "cell_type": "markdown",
      "source": [
        "**22. Write a Python program to train two SVM classifiers with Linear and RBF kernels on the Wine dataset, then compare their accuracies.**"
      ],
      "metadata": {
        "id": "taQ0OPBBHbPQ"
      }
    },
    {
      "cell_type": "code",
      "source": [
        "# Import necessary libraries\n",
        "from sklearn import datasets\n",
        "from sklearn.model_selection import train_test_split\n",
        "from sklearn.svm import SVC\n",
        "from sklearn.metrics import accuracy_score, classification_report\n",
        "from sklearn.preprocessing import StandardScaler\n",
        "\n",
        "# 1. Load the Wine dataset\n",
        "wine = datasets.load_wine()\n",
        "X = wine.data  # Features\n",
        "y = wine.target  # Target labels\n",
        "\n",
        "# 2. Split the data into training and testing sets\n",
        "# We use a 70-30 split with a random state for reproducibility\n",
        "X_train, X_test, y_train, y_test = train_test_split(X, y, test_size=0.3, random_state=42)\n",
        "\n",
        "# 3. Feature Scaling (important for SVM)\n",
        "# Standardize the features to improve SVM performance\n",
        "scaler = StandardScaler()\n",
        "X_train_scaled = scaler.fit_transform(X_train)\n",
        "X_test_scaled = scaler.transform(X_test)\n",
        "\n",
        "# 4. Train the SVM Classifier with a Linear Kernel\n",
        "print(\"--- SVM with Linear Kernel ---\")\n",
        "svm_linear = SVC(kernel='linear', random_state=42) # Creating a linear SVM classifier\n",
        "svm_linear.fit(X_train_scaled, y_train) # Training the classifier\n",
        "\n",
        "# 5. Make predictions and evaluate the Linear Kernel SVM\n",
        "y_pred_linear = svm_linear.predict(X_test_scaled)\n",
        "accuracy_linear = accuracy_score(y_test, y_pred_linear)\n",
        "print(f\"Accuracy (Linear Kernel): {accuracy_linear:.2f}\")\n",
        "\n",
        "print(\"\\nClassification Report (Linear Kernel):\")\n",
        "print(classification_report(y_test, y_pred_linear))\n",
        "\n",
        "# 6. Train the SVM Classifier with an RBF (Radial Basis Function) Kernel\n",
        "print(\"\\n--- SVM with RBF Kernel ---\")\n",
        "svm_rbf = SVC(kernel='rbf', random_state=42) # Creating an RBF SVM classifier\n",
        "svm_rbf.fit(X_train_scaled, y_train) # Training the classifier\n",
        "\n",
        "# 7. Make predictions and evaluate the RBF Kernel SVM\n",
        "y_pred_rbf = svm_rbf.predict(X_test_scaled)\n",
        "accuracy_rbf = accuracy_score(y_test, y_pred_rbf)\n",
        "print(f\"Accuracy (RBF Kernel): {accuracy_rbf:.2f}\")\n",
        "\n",
        "print(\"\\nClassification Report (RBF Kernel):\")\n",
        "print(classification_report(y_test, y_pred_rbf))\n",
        "\n",
        "# 8. Compare accuracies\n",
        "print(\"\\n--- Accuracy Comparison ---\")\n",
        "print(f\"Linear Kernel SVM Accuracy: {accuracy_linear:.2f}\")\n",
        "print(f\"RBF Kernel SVM Accuracy: {accuracy_rbf:.2f}\")\n",
        "\n",
        "if accuracy_rbf > accuracy_linear:\n",
        "    print(\"\\nThe RBF kernel SVM performed better on this dataset.\")\n",
        "elif accuracy_linear > accuracy_rbf:\n",
        "    print(\"\\nThe Linear kernel SVM performed better on this dataset.\")\n",
        "else:\n",
        "    print(\"\\nBoth Linear and RBF kernel SVMs achieved the same accuracy on this dataset.\")"
      ],
      "metadata": {
        "colab": {
          "base_uri": "https://localhost:8080/"
        },
        "id": "shhhp-wbdA92",
        "outputId": "3ba8ae43-f327-4dd8-f12e-9f7b7e0ba523"
      },
      "execution_count": 2,
      "outputs": [
        {
          "output_type": "stream",
          "name": "stdout",
          "text": [
            "--- SVM with Linear Kernel ---\n",
            "Accuracy (Linear Kernel): 0.98\n",
            "\n",
            "Classification Report (Linear Kernel):\n",
            "              precision    recall  f1-score   support\n",
            "\n",
            "           0       1.00      1.00      1.00        19\n",
            "           1       1.00      0.95      0.98        21\n",
            "           2       0.93      1.00      0.97        14\n",
            "\n",
            "    accuracy                           0.98        54\n",
            "   macro avg       0.98      0.98      0.98        54\n",
            "weighted avg       0.98      0.98      0.98        54\n",
            "\n",
            "\n",
            "--- SVM with RBF Kernel ---\n",
            "Accuracy (RBF Kernel): 0.98\n",
            "\n",
            "Classification Report (RBF Kernel):\n",
            "              precision    recall  f1-score   support\n",
            "\n",
            "           0       1.00      1.00      1.00        19\n",
            "           1       0.95      1.00      0.98        21\n",
            "           2       1.00      0.93      0.96        14\n",
            "\n",
            "    accuracy                           0.98        54\n",
            "   macro avg       0.98      0.98      0.98        54\n",
            "weighted avg       0.98      0.98      0.98        54\n",
            "\n",
            "\n",
            "--- Accuracy Comparison ---\n",
            "Linear Kernel SVM Accuracy: 0.98\n",
            "RBF Kernel SVM Accuracy: 0.98\n",
            "\n",
            "Both Linear and RBF kernel SVMs achieved the same accuracy on this dataset.\n"
          ]
        }
      ]
    },
    {
      "cell_type": "markdown",
      "source": [
        "**23. Write a Python program to train an SVM Regressor (SVR) on a housing dataset and evaluate it using Mean Squared Error (MSE).**"
      ],
      "metadata": {
        "id": "cR_l5AU5Hhh3"
      }
    },
    {
      "cell_type": "markdown",
      "source": [
        "**Answer**\n",
        "\n",
        "**Training and evaluating SVR on a housing dataset**\n",
        "\n",
        "This Python program demonstrates how to train a Support Vector Regressor (SVR) model on the California Housing dataset (a built-in dataset in scikit-learn that's well-suited for regression tasks) and evaluate its performance using Mean Squared Error (MSE)."
      ],
      "metadata": {
        "id": "H8Hwa1JNdaqQ"
      }
    },
    {
      "cell_type": "code",
      "source": [
        "# Import necessary libraries\n",
        "from sklearn.datasets import fetch_california_housing\n",
        "from sklearn.model_selection import train_test_split\n",
        "from sklearn.svm import SVR\n",
        "from sklearn.metrics import mean_squared_error\n",
        "from sklearn.preprocessing import StandardScaler\n",
        "\n",
        "# 1. Load the California Housing dataset\n",
        "housing = fetch_california_housing()\n",
        "X = housing.data  # Features\n",
        "y = housing.target  # Target (median house value)\n",
        "\n",
        "# 2. Split the data into training and testing sets\n",
        "# We use a 70-30 split with a random state for reproducibility\n",
        "X_train, X_test, y_train, y_test = train_test_split(X, y, test_size=0.3, random_state=42)\n",
        "\n",
        "# 3. Feature Scaling (essential for SVR)\n",
        "# Standardize the features to improve SVR performance\n",
        "scaler = StandardScaler()\n",
        "X_train_scaled = scaler.fit_transform(X_train)\n",
        "X_test_scaled = scaler.transform(X_test)\n",
        "\n",
        "# 4. Create and train the SVR model\n",
        "# Using an RBF kernel, common for non-linear relationships.\n",
        "# C: Regularization parameter. Higher C means less regularization (more sensitive to errors).\n",
        "# epsilon: Epsilon-tube parameter. Defines the margin of tolerance for errors.\n",
        "#          Points within this margin don't incur a penalty.\n",
        "svr_model = SVR(kernel='rbf', C=100, epsilon=0.1) # You can adjust these parameters\n",
        "svr_model.fit(X_train_scaled, y_train)\n",
        "\n",
        "# 5. Make predictions on the test set\n",
        "y_pred = svr_model.predict(X_test_scaled)\n",
        "\n",
        "# 6. Evaluate the model using Mean Squared Error (MSE)\n",
        "mse = mean_squared_error(y_test, y_pred)\n",
        "print(f\"Mean Squared Error (MSE): {mse:.4f}\")\n",
        "\n",
        "# Optional: You can also calculate Root Mean Squared Error (RMSE) for better interpretability\n",
        "import numpy as np\n",
        "rmse = np.sqrt(mse)\n",
        "print(f\"Root Mean Squared Error (RMSE): {rmse:.4f}\")\n",
        "\n",
        "# Example of making a prediction on new data\n",
        "# Create a dummy new sample with 8 features, matching the California Housing dataset structure.\n",
        "new_sample = [[8.3252, 41.0, 6.984127, 1.023809, 322.0, 2.555555, 37.88, -122.23]]\n",
        "new_sample_scaled = scaler.transform(new_sample)\n",
        "predicted_value = svr_model.predict(new_sample_scaled)\n",
        "print(f\"\\nPredicted median house value for new sample: ${predicted_value[0]*100000:.2f}\") # Multiply by 100,000 for actual value"
      ],
      "metadata": {
        "colab": {
          "base_uri": "https://localhost:8080/"
        },
        "id": "sI6EFaQ3daMF",
        "outputId": "088ce5aa-e5a9-46b4-afc9-2486472ee249"
      },
      "execution_count": 3,
      "outputs": [
        {
          "output_type": "stream",
          "name": "stdout",
          "text": [
            "Mean Squared Error (MSE): 0.3099\n",
            "Root Mean Squared Error (RMSE): 0.5567\n",
            "\n",
            "Predicted median house value for new sample: $421388.67\n"
          ]
        }
      ]
    },
    {
      "cell_type": "markdown",
      "source": [
        "**24.  Write a Python program to train an SVM Classifier with a Polynomial Kernel and visualize the decision boundary.**"
      ],
      "metadata": {
        "id": "gBEpIDBYH-iP"
      }
    },
    {
      "cell_type": "markdown",
      "source": [
        "**Answer**\n",
        "\n",
        "This Python program demonstrates how to train a Support Vector Machine (SVM) classifier with a Polynomial Kernel and visualize its decision boundary. We'll use a synthetic dataset (make_moons) to illustrate non-linear separation."
      ],
      "metadata": {
        "id": "5gEuwiAHerFg"
      }
    },
    {
      "cell_type": "code",
      "source": [
        "# Import necessary libraries\n",
        "import numpy as np\n",
        "import matplotlib.pyplot as plt\n",
        "from sklearn import datasets\n",
        "from sklearn.model_selection import train_test_split\n",
        "from sklearn.svm import SVC\n",
        "from sklearn.metrics import accuracy_score\n",
        "from sklearn.preprocessing import StandardScaler\n",
        "from matplotlib.colors import ListedColormap\n",
        "\n",
        "# 1. Create a non-linearly separable dataset (make_moons)\n",
        "# This dataset is ideal for illustrating the power of non-linear kernels like the polynomial kernel.\n",
        "X, y = datasets.make_moons(n_samples=100, noise=0.15, random_state=42)\n",
        "\n",
        "# 2. Split the data into training and testing sets\n",
        "X_train, X_test, y_train, y_test = train_test_split(X, y, test_size=0.3, random_state=42)\n",
        "\n",
        "# 3. Feature Scaling\n",
        "# Standardize the features, which is essential for most SVM kernels, including polynomial, for optimal performance.\n",
        "scaler = StandardScaler()\n",
        "X_train_scaled = scaler.fit_transform(X_train)\n",
        "X_test_scaled = scaler.transform(X_test)\n",
        "\n",
        "# 4. Create and train the SVM classifier with a Polynomial Kernel\n",
        "# kernel='poly': Specifies the polynomial kernel.\n",
        "# degree: The degree of the polynomial function (e.g., 3 for cubic, 2 for quadratic).\n",
        "# coef0: The independent term in the kernel function.\n",
        "# C: Regularization parameter.\n",
        "svm_poly = SVC(kernel='poly', degree=3, coef0=1, C=5, random_state=42) # Adjust degree, coef0, C for different results\n",
        "svm_poly.fit(X_train_scaled, y_train)\n",
        "\n",
        "# 5. Make predictions and evaluate the model\n",
        "y_pred = svm_poly.predict(X_test_scaled)\n",
        "accuracy = accuracy_score(y_test, y_pred)\n",
        "print(f\"Accuracy (Polynomial Kernel): {accuracy:.2f}\")\n",
        "\n",
        "# 6. Visualize the decision boundary\n",
        "def plot_decision_boundary(X, y, classifier, title=\"Decision Boundary\"):\n",
        "    \"\"\"\n",
        "    Function to visualize the decision boundary of a classifier.\n",
        "\n",
        "    Args:\n",
        "        X (np.ndarray): Feature matrix.\n",
        "        y (np.ndarray): Target labels.\n",
        "        classifier (sklearn.base.BaseEstimator): Trained classifier model.\n",
        "        title (str, optional): Plot title. Defaults to \"Decision Boundary\".\n",
        "    \"\"\"\n",
        "    h = .02  # Step size in the mesh\n",
        "    x_min, x_max = X[:, 0].min() - 1, X[:, 0].max() + 1\n",
        "    y_min, y_max = X[:, 1].min() - 1, X[:, 1].max() + 1\n",
        "    xx, yy = np.meshgrid(np.arange(x_min, x_max, h),\n",
        "                         np.arange(y_min, y_max, h))\n",
        "\n",
        "    Z = classifier.predict(np.c_[xx.ravel(), yy.ravel()])\n",
        "    Z = Z.reshape(xx.shape)\n",
        "\n",
        "    plt.figure(figsize=(8, 6))\n",
        "    plt.contourf(xx, yy, Z, cmap=ListedColormap(['#FFAAAA', '#AAAAFF']), alpha=0.8)\n",
        "    plt.scatter(X[:, 0], X[:, 1], c=y, cmap=ListedColormap(['#FF0000', '#0000FF']), edgecolors='k', marker='o')\n",
        "    plt.xlabel(\"Feature 1\")\n",
        "    plt.ylabel(\"Feature 2\")\n",
        "    plt.title(title)\n",
        "    plt.xlim(xx.min(), xx.max())\n",
        "    plt.ylim(yy.min(), yy.max())\n",
        "    plt.show()\n",
        "\n",
        "# Plot the decision boundary of the polynomial kernel SVM on the test set\n",
        "plot_decision_boundary(X_test_scaled, y_test, svm_poly,\n",
        "                       title=f\"SVM (Polynomial Kernel - Degree 3) Decision Boundary\\nAccuracy: {accuracy:.2f}\")"
      ],
      "metadata": {
        "colab": {
          "base_uri": "https://localhost:8080/",
          "height": 602
        },
        "id": "W9C3Bm3aejX1",
        "outputId": "33358551-6bc7-45ea-ffa7-c57cfd775851"
      },
      "execution_count": 4,
      "outputs": [
        {
          "output_type": "stream",
          "name": "stdout",
          "text": [
            "Accuracy (Polynomial Kernel): 0.93\n"
          ]
        },
        {
          "output_type": "display_data",
          "data": {
            "text/plain": [
              "<Figure size 800x600 with 1 Axes>"
            ],
            "image/png": "[encoded data removed]"
          },
          "metadata": {}
        }
      ]
    },
    {
      "cell_type": "markdown",
      "source": [
        "**25. Write a Python program to train a Gaussian Naive Bayes classifier on the Breast Cancer dataset and evaluate accuracy.**"
      ],
      "metadata": {
        "id": "Wm4-VprmIUNT"
      }
    },
    {
      "cell_type": "markdown",
      "source": [
        "**Answer**\n",
        "\n",
        "This Python program demonstrates how to train a Gaussian Naive Bayes classifier on the Breast Cancer Wisconsin dataset (a standard dataset for binary classification) and evaluate its accuracy using scikit-learn. The dataset consists of features computed from digitized images of fine needle aspirates (FNA) of breast masses, with the goal of classifying tumors as either malignant or benign."
      ],
      "metadata": {
        "id": "pLNULLJrfH-z"
      }
    },
    {
      "cell_type": "code",
      "source": [
        "# Import necessary libraries\n",
        "from sklearn.datasets import load_breast_cancer\n",
        "from sklearn.model_selection import train_test_split\n",
        "from sklearn.naive_bayes import GaussianNB\n",
        "from sklearn.metrics import accuracy_score, classification_report\n",
        "from sklearn.preprocessing import StandardScaler\n",
        "\n",
        "# 1. Load the Breast Cancer dataset\n",
        "cancer = load_breast_cancer()\n",
        "X = cancer.data  # Features\n",
        "y = cancer.target  # Target labels (0 for malignant, 1 for benign)\n",
        "\n",
        "# 2. Split the data into training and testing sets\n",
        "# We use a 70-30 split with a random state for reproducibility\n",
        "X_train, X_test, y_train, y_test = train_test_split(X, y, test_size=0.3, random_state=42)\n",
        "\n",
        "# 3. Feature Scaling (Optional but recommended for some models)\n",
        "# Although Gaussian Naive Bayes is not directly sensitive to feature scaling,\n",
        "# standardizing features can be beneficial in general, and especially if you\n",
        "# plan to compare its performance with other algorithms that are sensitive to scaling.\n",
        "scaler = StandardScaler()\n",
        "X_train_scaled = scaler.fit_transform(X_train)\n",
        "X_test_scaled = scaler.transform(X_test)\n",
        "\n",
        "# 4. Create and train the Gaussian Naive Bayes classifier\n",
        "gnb_model = GaussianNB() # Initialize GaussianNB classifier\n",
        "gnb_model.fit(X_train_scaled, y_train) # Train the classifier on the scaled training data\n",
        "\n",
        "# 5. Make predictions on the test set\n",
        "y_pred = gnb_model.predict(X_test_scaled) # Predict the target values for the test data\n",
        "\n",
        "# 6. Evaluate the model\n",
        "accuracy = accuracy_score(y_test, y_pred)\n",
        "print(f\"Accuracy: {accuracy:.2f}\")\n",
        "\n",
        "print(\"\\nClassification Report:\")\n",
        "print(classification_report(y_test, y_pred, target_names=cancer.target_names))\n",
        "\n",
        "# Example of making a prediction on new data\n",
        "# Create a dummy new sample with 30 features, matching the Breast Cancer dataset structure.\n",
        "new_sample = [[17.99, 10.38, 122.8, 1001.0, 0.1184, 0.2776, 0.3001, 0.1471, 0.2419, 0.07871,\n",
        "               1.095, 0.9053, 8.589, 153.4, 0.006399, 0.04904, 0.05373, 0.01587, 0.03003, 0.006193,\n",
        "               25.38, 17.33, 184.6, 2019.0, 0.1622, 0.6656, 0.7119, 0.2654, 0.4601, 0.1189]]\n",
        "new_sample_scaled = scaler.transform(new_sample)\n",
        "predicted_class = gnb_model.predict(new_sample_scaled)\n",
        "print(f\"\\nPredicted diagnosis for new sample: {cancer.target_names[predicted_class[0]]}\")\n"
      ],
      "metadata": {
        "colab": {
          "base_uri": "https://localhost:8080/"
        },
        "id": "OepqZ6Rfe95S",
        "outputId": "f873c1bf-d122-476c-f377-b4c533748f28"
      },
      "execution_count": 5,
      "outputs": [
        {
          "output_type": "stream",
          "name": "stdout",
          "text": [
            "Accuracy: 0.94\n",
            "\n",
            "Classification Report:\n",
            "              precision    recall  f1-score   support\n",
            "\n",
            "   malignant       0.92      0.90      0.91        63\n",
            "      benign       0.94      0.95      0.95       108\n",
            "\n",
            "    accuracy                           0.94       171\n",
            "   macro avg       0.93      0.93      0.93       171\n",
            "weighted avg       0.94      0.94      0.94       171\n",
            "\n",
            "\n",
            "Predicted diagnosis for new sample: malignant\n"
          ]
        }
      ]
    },
    {
      "cell_type": "markdown",
      "source": [
        "**26. Write a Python program to train a Multinomial Naive Bayes classifier for text classification using the 20 Newsgroups dataset.**"
      ],
      "metadata": {
        "id": "XEApWLiRIb_6"
      }
    },
    {
      "cell_type": "code",
      "source": [
        "# Multinomial Naive Bayes on 20 Newsgroups Dataset\n",
        "\n",
        "from sklearn.datasets import fetch_20newsgroups\n",
        "from sklearn.feature_extraction.text import CountVectorizer\n",
        "from sklearn.model_selection import train_test_split\n",
        "from sklearn.naive_bayes import MultinomialNB\n",
        "from sklearn.metrics import accuracy_score, classification_report\n",
        "\n",
        "# Load the 20 Newsgroups dataset\n",
        "data = fetch_20newsgroups(subset='all', shuffle=True, random_state=42)\n",
        "\n",
        "# Convert text into feature vectors (Bag of Words)\n",
        "vectorizer = CountVectorizer(stop_words='english', max_features=5000)\n",
        "X = vectorizer.fit_transform(data.data)\n",
        "y = data.target\n",
        "\n",
        "# Split into train and test\n",
        "X_train, X_test, y_train, y_test = train_test_split(\n",
        "    X, y, test_size=0.25, random_state=42\n",
        ")\n",
        "\n",
        "# Train Multinomial Naive Bayes\n",
        "nb = MultinomialNB()\n",
        "nb.fit(X_train, y_train)\n",
        "\n",
        "# Predictions\n",
        "y_pred = nb.predict(X_test)\n",
        "\n",
        "# Evaluate\n",
        "print(\"Accuracy:\", accuracy_score(y_test, y_pred))\n",
        "print(\"\\nClassification Report:\\n\", classification_report(y_test, y_pred, target_names=data.target_names))\n"
      ],
      "metadata": {
        "colab": {
          "base_uri": "https://localhost:8080/"
        },
        "id": "U842VVNPftfQ",
        "outputId": "e0656ca6-2c93-41ce-adaa-e09a26a80f5a"
      },
      "execution_count": 6,
      "outputs": [
        {
          "output_type": "stream",
          "name": "stdout",
          "text": [
            "Accuracy: 0.8166383701188455\n",
            "\n",
            "Classification Report:\n",
            "                           precision    recall  f1-score   support\n",
            "\n",
            "             alt.atheism       0.82      0.88      0.85       198\n",
            "           comp.graphics       0.61      0.79      0.69       245\n",
            " comp.os.ms-windows.misc       0.84      0.07      0.12       242\n",
            "comp.sys.ibm.pc.hardware       0.54      0.77      0.63       238\n",
            "   comp.sys.mac.hardware       0.72      0.87      0.79       250\n",
            "          comp.windows.x       0.75      0.79      0.77       260\n",
            "            misc.forsale       0.81      0.77      0.79       241\n",
            "               rec.autos       0.81      0.91      0.86       244\n",
            "         rec.motorcycles       0.85      0.92      0.88       219\n",
            "      rec.sport.baseball       0.94      0.92      0.93       261\n",
            "        rec.sport.hockey       0.95      0.94      0.94       245\n",
            "               sci.crypt       0.96      0.92      0.94       251\n",
            "         sci.electronics       0.77      0.79      0.78       249\n",
            "                 sci.med       0.96      0.86      0.90       249\n",
            "               sci.space       0.90      0.91      0.90       240\n",
            "  soc.religion.christian       0.91      0.94      0.92       245\n",
            "      talk.politics.guns       0.82      0.91      0.86       230\n",
            "   talk.politics.mideast       0.98      0.88      0.93       234\n",
            "      talk.politics.misc       0.84      0.81      0.82       207\n",
            "      talk.religion.misc       0.81      0.66      0.73       164\n",
            "\n",
            "                accuracy                           0.82      4712\n",
            "               macro avg       0.83      0.81      0.80      4712\n",
            "            weighted avg       0.83      0.82      0.80      4712\n",
            "\n"
          ]
        }
      ]
    },
    {
      "cell_type": "markdown",
      "source": [
        "**27. Write a Python program to train an SVM Classifier with different C values and compare the decision boundaries visually.**"
      ],
      "metadata": {
        "id": "l4Vzx5l5IkXD"
      }
    },
    {
      "cell_type": "code",
      "source": [
        "# SVM with different C values - Decision Boundary Visualization\n",
        "\n",
        "import matplotlib.pyplot as plt\n",
        "import numpy as np\n",
        "from sklearn import datasets\n",
        "from sklearn.svm import SVC\n",
        "from sklearn.preprocessing import StandardScaler\n",
        "\n",
        "# Generate synthetic dataset (2D for visualization)\n",
        "X, y = datasets.make_classification(\n",
        "    n_samples=200, n_features=2, n_redundant=0,\n",
        "    n_informative=2, n_clusters_per_class=1,\n",
        "    random_state=42\n",
        ")\n",
        "\n",
        "# Standardize features\n",
        "scaler = StandardScaler()\n",
        "X = scaler.fit_transform(X)\n",
        "\n",
        "# Different C values to compare\n",
        "C_values = [0.1, 1, 10]\n",
        "\n",
        "plt.figure(figsize=(12, 4))\n",
        "\n",
        "for i, C in enumerate(C_values, 1):\n",
        "    clf = SVC(kernel=\"linear\", C=C)\n",
        "    clf.fit(X, y)\n",
        "\n",
        "    # Create meshgrid for decision boundary\n",
        "    ax = plt.subplot(1, 3, i)\n",
        "    ax.set_title(f\"SVM (C={C})\")\n",
        "    ax.scatter(X[:, 0], X[:, 1], c=y, cmap=\"coolwarm\", s=20, edgecolors=\"k\")\n",
        "\n",
        "    xlim = ax.get_xlim()\n",
        "    ylim = ax.get_ylim()\n",
        "\n",
        "    xx, yy = np.meshgrid(\n",
        "        np.linspace(xlim[0], xlim[1], 200),\n",
        "        np.linspace(ylim[0], ylim[1], 200)\n",
        "    )\n",
        "\n",
        "    Z = clf.decision_function(np.c_[xx.ravel(), yy.ravel()])\n",
        "    Z = Z.reshape(xx.shape)\n",
        "\n",
        "    # Draw decision boundary and margins\n",
        "    ax.contour(xx, yy, Z, colors=\"k\", levels=[0], alpha=0.8, linestyles=[\"-\"])\n",
        "    ax.contour(xx, yy, Z, colors=\"k\", levels=[-1, 1], alpha=0.5, linestyles=[\"--\"])\n",
        "\n",
        "plt.tight_layout()\n",
        "plt.show()\n"
      ],
      "metadata": {
        "colab": {
          "base_uri": "https://localhost:8080/",
          "height": 337
        },
        "id": "CoX-u_tAgBA_",
        "outputId": "7150408e-b86d-4cfc-be5c-57c67f4952c9"
      },
      "execution_count": 7,
      "outputs": [
        {
          "output_type": "display_data",
          "data": {
            "text/plain": [
              "<Figure size 1200x400 with 3 Axes>"
            ],
            "image/png": "[encoded data removed]"
          },
          "metadata": {}
        }
      ]
    },
    {
      "cell_type": "markdown",
      "source": [
        "**28. Write a Python program to train a Bernoulli Naive Bayes classifier for binary classification on a dataset with binary features.**"
      ],
      "metadata": {
        "id": "72WVkdpxIs-F"
      }
    },
    {
      "cell_type": "code",
      "source": [
        "# Bernoulli Naive Bayes for Binary Classification\n",
        "\n",
        "from sklearn.datasets import make_classification\n",
        "from sklearn.model_selection import train_test_split\n",
        "from sklearn.naive_bayes import BernoulliNB\n",
        "from sklearn.metrics import accuracy_score, classification_report\n",
        "import numpy as np\n",
        "\n",
        "# Generate synthetic binary dataset\n",
        "X, y = make_classification(\n",
        "    n_samples=500, n_features=20, n_informative=10,\n",
        "    n_redundant=0, n_classes=2, random_state=42\n",
        ")\n",
        "\n",
        "# Convert continuous features into binary (0/1)\n",
        "X_binary = (X > 0).astype(int)\n",
        "\n",
        "# Split into train & test\n",
        "X_train, X_test, y_train, y_test = train_test_split(\n",
        "    X_binary, y, test_size=0.25, random_state=42, stratify=y\n",
        ")\n",
        "\n",
        "# Train Bernoulli Naive Bayes\n",
        "bnb = BernoulliNB()\n",
        "bnb.fit(X_train, y_train)\n",
        "\n",
        "# Predictions\n",
        "y_pred = bnb.predict(X_test)\n",
        "\n",
        "# Evaluation\n",
        "print(\"Accuracy:\", accuracy_score(y_test, y_pred))\n",
        "print(\"\\nClassification Report:\\n\", classification_report(y_test, y_pred))\n"
      ],
      "metadata": {
        "colab": {
          "base_uri": "https://localhost:8080/"
        },
        "id": "Wz43e1-5gNRJ",
        "outputId": "b1d89e4c-eb44-42c3-da84-ca50c8ec565d"
      },
      "execution_count": 8,
      "outputs": [
        {
          "output_type": "stream",
          "name": "stdout",
          "text": [
            "Accuracy: 0.776\n",
            "\n",
            "Classification Report:\n",
            "               precision    recall  f1-score   support\n",
            "\n",
            "           0       0.81      0.73      0.77        63\n",
            "           1       0.75      0.82      0.78        62\n",
            "\n",
            "    accuracy                           0.78       125\n",
            "   macro avg       0.78      0.78      0.78       125\n",
            "weighted avg       0.78      0.78      0.78       125\n",
            "\n"
          ]
        }
      ]
    },
    {
      "cell_type": "markdown",
      "source": [
        "**29. Write a Python program to apply feature scaling before training an SVM model and compare results with unscaled data.**"
      ],
      "metadata": {
        "id": "EW7LJg5kI3Gx"
      }
    },
    {
      "cell_type": "markdown",
      "source": [
        "**Answer**\n",
        "\n",
        "Here’s a clean Python program that shows how feature scaling impacts SVM performance by comparing accuracy with and without scaling."
      ],
      "metadata": {
        "id": "wvV5KuJPgeLB"
      }
    },
    {
      "cell_type": "code",
      "source": [
        "# Feature Scaling effect on SVM Classification\n",
        "\n",
        "from sklearn.datasets import load_wine\n",
        "from sklearn.model_selection import train_test_split\n",
        "from sklearn.svm import SVC\n",
        "from sklearn.pipeline import make_pipeline\n",
        "from sklearn.preprocessing import StandardScaler\n",
        "\n",
        "# Load dataset\n",
        "X, y = load_wine(return_X_y=True)\n",
        "\n",
        "# Split into train & test\n",
        "X_train, X_test, y_train, y_test = train_test_split(\n",
        "    X, y, test_size=0.25, random_state=42, stratify=y\n",
        ")\n",
        "\n",
        "# ----- Without Feature Scaling -----\n",
        "svm_unscaled = SVC(kernel=\"rbf\", C=1.0, gamma=\"scale\", random_state=42)\n",
        "svm_unscaled.fit(X_train, y_train)\n",
        "acc_unscaled = svm_unscaled.score(X_test, y_test)\n",
        "\n",
        "# ----- With Feature Scaling -----\n",
        "svm_scaled = make_pipeline(StandardScaler(), SVC(kernel=\"rbf\", C=1.0, gamma=\"scale\", random_state=42))\n",
        "svm_scaled.fit(X_train, y_train)\n",
        "acc_scaled = svm_scaled.score(X_test, y_test)\n",
        "\n",
        "# Results\n",
        "print(\"Accuracy without scaling:\", acc_unscaled)\n",
        "print(\"Accuracy with scaling:\", acc_scaled)\n"
      ],
      "metadata": {
        "colab": {
          "base_uri": "https://localhost:8080/"
        },
        "id": "xEIK1tnDgl1_",
        "outputId": "6d1a195e-02a6-4630-9ba2-54720b81222f"
      },
      "execution_count": 9,
      "outputs": [
        {
          "output_type": "stream",
          "name": "stdout",
          "text": [
            "Accuracy without scaling: 0.7111111111111111\n",
            "Accuracy with scaling: 0.9777777777777777\n"
          ]
        }
      ]
    },
    {
      "cell_type": "markdown",
      "source": [
        "**30. Write a Python program to train a Gaussian Naive Bayes model and compare the predictions before and after Laplace Smoothing.**"
      ],
      "metadata": {
        "id": "6B9u1b4eI_SV"
      }
    },
    {
      "cell_type": "markdown",
      "source": [
        "**Answer**\n",
        "\n",
        "Here’s a Python program to train a Gaussian Naïve Bayes model and compare predictions before and after Laplace smoothing (controlled by the var_smoothing parameter)."
      ],
      "metadata": {
        "id": "xF53G2NBgxvq"
      }
    },
    {
      "cell_type": "code",
      "source": [
        "# Gaussian Naive Bayes - Effect of Laplace Smoothing\n",
        "\n",
        "from sklearn.datasets import load_iris\n",
        "from sklearn.model_selection import train_test_split\n",
        "from sklearn.naive_bayes import GaussianNB\n",
        "from sklearn.metrics import accuracy_score\n",
        "\n",
        "# Load dataset\n",
        "X, y = load_iris(return_X_y=True)\n",
        "\n",
        "# Split into train & test\n",
        "X_train, X_test, y_train, y_test = train_test_split(\n",
        "    X, y, test_size=0.25, random_state=42, stratify=y\n",
        ")\n",
        "\n",
        "# ----- Without Laplace Smoothing (very small variance added) -----\n",
        "gnb_no_smooth = GaussianNB(var_smoothing=1e-9)\n",
        "gnb_no_smooth.fit(X_train, y_train)\n",
        "y_pred_no_smooth = gnb_no_smooth.predict(X_test)\n",
        "acc_no_smooth = accuracy_score(y_test, y_pred_no_smooth)\n",
        "\n",
        "# ----- With Laplace Smoothing (larger variance added) -----\n",
        "gnb_smooth = GaussianNB(var_smoothing=1e-2)\n",
        "gnb_smooth.fit(X_train, y_train)\n",
        "y_pred_smooth = gnb_smooth.predict(X_test)\n",
        "acc_smooth = accuracy_score(y_test, y_pred_smooth)\n",
        "\n",
        "# Results\n",
        "print(\"Accuracy without Laplace smoothing:\", acc_no_smooth)\n",
        "print(\"Accuracy with Laplace smoothing:\", acc_smooth)\n"
      ],
      "metadata": {
        "colab": {
          "base_uri": "https://localhost:8080/"
        },
        "id": "KZuVfeivg3sD",
        "outputId": "d6ba88e4-a899-4d4d-cc1b-7f5c5b2a4cf5"
      },
      "execution_count": 10,
      "outputs": [
        {
          "output_type": "stream",
          "name": "stdout",
          "text": [
            "Accuracy without Laplace smoothing: 0.9210526315789473\n",
            "Accuracy with Laplace smoothing: 0.9473684210526315\n"
          ]
        }
      ]
    },
    {
      "cell_type": "markdown",
      "source": [
        "**31. Write a Python program to train an SVM Classifier and use GridSearchCV to tune the hyperparameters (C, gamma, kernel).**"
      ],
      "metadata": {
        "id": "goZ9jJRVJHBo"
      }
    },
    {
      "cell_type": "code",
      "source": [
        "# SVM with GridSearchCV Hyperparameter Tuning\n",
        "\n",
        "from sklearn.datasets import load_wine\n",
        "from sklearn.model_selection import train_test_split, GridSearchCV\n",
        "from sklearn.svm import SVC\n",
        "from sklearn.preprocessing import StandardScaler\n",
        "from sklearn.pipeline import make_pipeline\n",
        "\n",
        "# Load dataset\n",
        "X, y = load_wine(return_X_y=True)\n",
        "\n",
        "# Split into train & test\n",
        "X_train, X_test, y_train, y_test = train_test_split(\n",
        "    X, y, test_size=0.25, random_state=42, stratify=y\n",
        ")\n",
        "\n",
        "# Create pipeline (scaling + SVM)\n",
        "pipe = make_pipeline(StandardScaler(), SVC())\n",
        "\n",
        "# Define hyperparameter grid\n",
        "param_grid = {\n",
        "    \"svc__C\": [0.1, 1, 10],\n",
        "    \"svc__gamma\": [\"scale\", 0.1, 0.01],\n",
        "    \"svc__kernel\": [\"linear\", \"rbf\", \"poly\"]\n",
        "}\n",
        "\n",
        "# GridSearchCV\n",
        "grid = GridSearchCV(pipe, param_grid, cv=5, scoring=\"accuracy\", n_jobs=-1)\n",
        "grid.fit(X_train, y_train)\n",
        "\n",
        "# Results\n",
        "print(\"Best Parameters:\", grid.best_params_)\n",
        "print(\"Best Cross-Validation Accuracy:\", grid.best_score_)\n",
        "print(\"Test Accuracy:\", grid.score(X_test, y_test))\n"
      ],
      "metadata": {
        "colab": {
          "base_uri": "https://localhost:8080/"
        },
        "id": "WnjQy7R2hOSN",
        "outputId": "9c649366-f118-4460-e02a-bdb1637306a4"
      },
      "execution_count": 11,
      "outputs": [
        {
          "output_type": "stream",
          "name": "stdout",
          "text": [
            "Best Parameters: {'svc__C': 1, 'svc__gamma': 'scale', 'svc__kernel': 'linear'}\n",
            "Best Cross-Validation Accuracy: 0.9923076923076923\n",
            "Test Accuracy: 0.9555555555555556\n"
          ]
        }
      ]
    },
    {
      "cell_type": "markdown",
      "source": [
        "**32. Write a Python program to train an SVM Classifier on an imbalanced dataset and apply class weighting and check it improve accuracy.**"
      ],
      "metadata": {
        "id": "y9efTiFxJWcY"
      }
    },
    {
      "cell_type": "code",
      "source": [
        "# SVM on Imbalanced Dataset with Class Weights\n",
        "\n",
        "from sklearn.datasets import make_classification\n",
        "from sklearn.model_selection import train_test_split\n",
        "from sklearn.svm import SVC\n",
        "from sklearn.preprocessing import StandardScaler\n",
        "from sklearn.pipeline import make_pipeline\n",
        "from sklearn.metrics import accuracy_score, classification_report\n",
        "import numpy as np\n",
        "\n",
        "# Create an imbalanced dataset\n",
        "X, y = make_classification(\n",
        "    n_samples=1000, n_features=20, n_informative=10, n_redundant=0,\n",
        "    weights=[0.9, 0.1],  # 90% class 0, 10% class 1\n",
        "    random_state=42\n",
        ")\n",
        "\n",
        "# Train-test split\n",
        "X_train, X_test, y_train, y_test = train_test_split(\n",
        "    X, y, test_size=0.25, stratify=y, random_state=42\n",
        ")\n",
        "\n",
        "# ----- SVM without class weights -----\n",
        "clf_no_weight = make_pipeline(StandardScaler(), SVC(kernel=\"rbf\", C=1.0, gamma=\"scale\", random_state=42))\n",
        "clf_no_weight.fit(X_train, y_train)\n",
        "y_pred_no_weight = clf_no_weight.predict(X_test)\n",
        "\n",
        "# ----- SVM with class weights (balanced) -----\n",
        "clf_weighted = make_pipeline(StandardScaler(), SVC(kernel=\"rbf\", C=1.0, gamma=\"scale\", class_weight=\"balanced\", random_state=42))\n",
        "clf_weighted.fit(X_train, y_train)\n",
        "y_pred_weighted = clf_weighted.predict(X_test)\n",
        "\n",
        "# ----- Evaluation -----\n",
        "print(\"Accuracy without class weights:\", accuracy_score(y_test, y_pred_no_weight))\n",
        "print(\"Accuracy with class weights:\", accuracy_score(y_test, y_pred_weighted))\n",
        "\n",
        "print(\"\\nClassification Report without class weights:\\n\", classification_report(y_test, y_pred_no_weight))\n",
        "print(\"\\nClassification Report with class weights:\\n\", classification_report(y_test, y_pred_weighted))\n"
      ],
      "metadata": {
        "colab": {
          "base_uri": "https://localhost:8080/"
        },
        "id": "arx1j6J0hja3",
        "outputId": "0e0532b9-342c-4b36-c7fd-8b188590abd9"
      },
      "execution_count": 12,
      "outputs": [
        {
          "output_type": "stream",
          "name": "stdout",
          "text": [
            "Accuracy without class weights: 0.916\n",
            "Accuracy with class weights: 0.924\n",
            "\n",
            "Classification Report without class weights:\n",
            "               precision    recall  f1-score   support\n",
            "\n",
            "           0       0.91      1.00      0.96       224\n",
            "           1       1.00      0.19      0.32        26\n",
            "\n",
            "    accuracy                           0.92       250\n",
            "   macro avg       0.96      0.60      0.64       250\n",
            "weighted avg       0.92      0.92      0.89       250\n",
            "\n",
            "\n",
            "Classification Report with class weights:\n",
            "               precision    recall  f1-score   support\n",
            "\n",
            "           0       0.94      0.97      0.96       224\n",
            "           1       0.68      0.50      0.58        26\n",
            "\n",
            "    accuracy                           0.92       250\n",
            "   macro avg       0.81      0.74      0.77       250\n",
            "weighted avg       0.92      0.92      0.92       250\n",
            "\n"
          ]
        }
      ]
    },
    {
      "cell_type": "markdown",
      "source": [
        "**33. Write a Python program to implement a Naive Bayes classifier for spam detection using email data.**"
      ],
      "metadata": {
        "id": "UmG9HTiFJdCZ"
      }
    },
    {
      "cell_type": "code",
      "source": [
        "# Naive Bayes for Spam Detection\n",
        "\n",
        "from sklearn.model_selection import train_test_split\n",
        "from sklearn.feature_extraction.text import CountVectorizer\n",
        "from sklearn.naive_bayes import MultinomialNB\n",
        "from sklearn.metrics import accuracy_score, classification_report\n",
        "\n",
        "# Example email dataset (spam = 1, ham = 0)\n",
        "emails = [\n",
        "    \"Win money now!!! Claim your free prize\",\n",
        "    \"Lowest prices on meds, buy now\",\n",
        "    \"Congratulations, you won a lottery jackpot\",\n",
        "    \"Cheap loans available, click here\",\n",
        "    \"Hello friend, how are you doing?\",\n",
        "    \"Meeting scheduled for tomorrow morning\",\n",
        "    \"Please review the attached project report\",\n",
        "    \"Let's catch up over coffee this weekend\"\n",
        "]\n",
        "\n",
        "labels = [1, 1, 1, 1, 0, 0, 0, 0]  # 1 = spam, 0 = ham\n",
        "\n",
        "# Convert text to numerical features (Bag of Words)\n",
        "vectorizer = CountVectorizer(stop_words=\"english\")\n",
        "X = vectorizer.fit_transform(emails)\n",
        "\n",
        "# Train-test split\n",
        "X_train, X_test, y_train, y_test = train_test_split(\n",
        "    X, labels, test_size=0.25, random_state=42\n",
        ")\n",
        "\n",
        "# Train Naive Bayes (Multinomial works best for text)\n",
        "nb = MultinomialNB()\n",
        "nb.fit(X_train, y_train)\n",
        "\n",
        "# Predictions\n",
        "y_pred = nb.predict(X_test)\n",
        "\n",
        "# Evaluation\n",
        "print(\"Accuracy:\", accuracy_score(y_test, y_pred))\n",
        "print(\"\\nClassification Report:\\n\", classification_report(y_test, y_pred, target_names=[\"Ham\", \"Spam\"]))\n"
      ],
      "metadata": {
        "colab": {
          "base_uri": "https://localhost:8080/"
        },
        "id": "KZbQXSLdh1EX",
        "outputId": "95edf6fd-3129-4d4b-fc41-9c35f1f6eacd"
      },
      "execution_count": 13,
      "outputs": [
        {
          "output_type": "stream",
          "name": "stdout",
          "text": [
            "Accuracy: 0.5\n",
            "\n",
            "Classification Report:\n",
            "               precision    recall  f1-score   support\n",
            "\n",
            "         Ham       0.50      1.00      0.67         1\n",
            "        Spam       0.00      0.00      0.00         1\n",
            "\n",
            "    accuracy                           0.50         2\n",
            "   macro avg       0.25      0.50      0.33         2\n",
            "weighted avg       0.25      0.50      0.33         2\n",
            "\n"
          ]
        },
        {
          "output_type": "stream",
          "name": "stderr",
          "text": [
            "/usr/local/lib/python3.11/dist-packages/sklearn/metrics/_classification.py:1565: UndefinedMetricWarning: Precision is ill-defined and being set to 0.0 in labels with no predicted samples. Use `zero_division` parameter to control this behavior.\n",
            "  _warn_prf(average, modifier, f\"{metric.capitalize()} is\", len(result))\n",
            "/usr/local/lib/python3.11/dist-packages/sklearn/metrics/_classification.py:1565: UndefinedMetricWarning: Precision is ill-defined and being set to 0.0 in labels with no predicted samples. Use `zero_division` parameter to control this behavior.\n",
            "  _warn_prf(average, modifier, f\"{metric.capitalize()} is\", len(result))\n",
            "/usr/local/lib/python3.11/dist-packages/sklearn/metrics/_classification.py:1565: UndefinedMetricWarning: Precision is ill-defined and being set to 0.0 in labels with no predicted samples. Use `zero_division` parameter to control this behavior.\n",
            "  _warn_prf(average, modifier, f\"{metric.capitalize()} is\", len(result))\n"
          ]
        }
      ]
    },
    {
      "cell_type": "markdown",
      "source": [
        "**34.  Write a Python program to train an SVM Classifier and a Naive Bayes Classifier on the same dataset and compare their accuracy.**"
      ],
      "metadata": {
        "id": "5u1xEezlKAj6"
      }
    },
    {
      "cell_type": "code",
      "source": [
        "# Compare SVM and Naive Bayes Classifiers on the same dataset\n",
        "\n",
        "from sklearn.datasets import load_digits\n",
        "from sklearn.model_selection import train_test_split\n",
        "from sklearn.svm import SVC\n",
        "from sklearn.naive_bayes import MultinomialNB\n",
        "from sklearn.preprocessing import MinMaxScaler\n",
        "from sklearn.metrics import accuracy_score\n",
        "\n",
        "# Load dataset\n",
        "X, y = load_digits(return_X_y=True)\n",
        "\n",
        "# For MultinomialNB, features should be non-negative (use MinMaxScaler)\n",
        "scaler = MinMaxScaler()\n",
        "X_scaled = scaler.fit_transform(X)\n",
        "\n",
        "# Train-test split\n",
        "X_train, X_test, y_train, y_test = train_test_split(\n",
        "    X_scaled, y, test_size=0.25, stratify=y, random_state=42\n",
        ")\n",
        "\n",
        "# ----- SVM Classifier -----\n",
        "svm = SVC(kernel=\"linear\", random_state=42)\n",
        "svm.fit(X_train, y_train)\n",
        "y_pred_svm = svm.predict(X_test)\n",
        "acc_svm = accuracy_score(y_test, y_pred_svm)\n",
        "\n",
        "# ----- Naive Bayes Classifier -----\n",
        "nb = MultinomialNB()\n",
        "nb.fit(X_train, y_train)\n",
        "y_pred_nb = nb.predict(X_test)\n",
        "acc_nb = accuracy_score(y_test, y_pred_nb)\n",
        "\n",
        "# Results\n",
        "print(\"SVM Accuracy:\", acc_svm)\n",
        "print(\"Naive Bayes Accuracy:\", acc_nb)"
      ],
      "metadata": {
        "colab": {
          "base_uri": "https://localhost:8080/"
        },
        "id": "JK1SeKjwiDEY",
        "outputId": "53f31b6e-6fed-4b13-8cd4-78c0157bf612"
      },
      "execution_count": 15,
      "outputs": [
        {
          "output_type": "stream",
          "name": "stdout",
          "text": [
            "SVM Accuracy: 0.9844444444444445\n",
            "Naive Bayes Accuracy: 0.8844444444444445\n"
          ]
        }
      ]
    },
    {
      "cell_type": "markdown",
      "source": [
        "**35. Write a Python program to perform feature selection before training a Naive Bayes classifier and compare results.**"
      ],
      "metadata": {
        "id": "QUSCOUfHKHfQ"
      }
    },
    {
      "cell_type": "code",
      "source": [
        "# Feature Selection + Naive Bayes Classifier\n",
        "\n",
        "from sklearn.datasets import load_digits\n",
        "from sklearn.model_selection import train_test_split\n",
        "from sklearn.naive_bayes import MultinomialNB\n",
        "from sklearn.preprocessing import MinMaxScaler\n",
        "from sklearn.feature_selection import SelectKBest, chi2\n",
        "from sklearn.metrics import accuracy_score\n",
        "\n",
        "# Load dataset\n",
        "X, y = load_digits(return_X_y=True)\n",
        "\n",
        "# Scale features to [0,1] for MultinomialNB\n",
        "scaler = MinMaxScaler()\n",
        "X_scaled = scaler.fit_transform(X)\n",
        "\n",
        "# Train-test split\n",
        "X_train, X_test, y_train, y_test = train_test_split(\n",
        "    X_scaled, y, test_size=0.25, stratify=y, random_state=42\n",
        ")\n",
        "\n",
        "# ----- Baseline: Naive Bayes without feature selection -----\n",
        "nb = MultinomialNB()\n",
        "nb.fit(X_train, y_train)\n",
        "y_pred_base = nb.predict(X_test)\n",
        "acc_base = accuracy_score(y_test, y_pred_base)\n",
        "\n",
        "# ----- With Feature Selection (SelectKBest + chi2) -----\n",
        "selector = SelectKBest(chi2, k=32)  # keep top 32 features\n",
        "X_train_sel = selector.fit_transform(X_train, y_train)\n",
        "X_test_sel = selector.transform(X_test)\n",
        "\n",
        "nb_sel = MultinomialNB()\n",
        "nb_sel.fit(X_train_sel, y_train)\n",
        "y_pred_sel = nb_sel.predict(X_test_sel)\n",
        "acc_sel = accuracy_score(y_test, y_pred_sel)\n",
        "\n",
        "# Results\n",
        "print(\"Naive Bayes Accuracy without Feature Selection:\", acc_base)\n",
        "print(\"Naive Bayes Accuracy with Feature Selection:\", acc_sel)\n"
      ],
      "metadata": {
        "colab": {
          "base_uri": "https://localhost:8080/"
        },
        "id": "0mDcgLiPikAV",
        "outputId": "68837c66-59f6-4fbe-a09c-d15585cfb20c"
      },
      "execution_count": 16,
      "outputs": [
        {
          "output_type": "stream",
          "name": "stdout",
          "text": [
            "Naive Bayes Accuracy without Feature Selection: 0.8844444444444445\n",
            "Naive Bayes Accuracy with Feature Selection: 0.8777777777777778\n"
          ]
        }
      ]
    },
    {
      "cell_type": "markdown",
      "source": [
        "**36. Write a Python program to train an SVM Classifier using One-vs-Rest (OvR) and One-vs-One (OvO) strategies on the Wine dataset and compare their accuracy.**"
      ],
      "metadata": {
        "id": "mWsYPjLPKWVB"
      }
    },
    {
      "cell_type": "code",
      "source": [
        "# SVM with OvR and OvO strategies on Wine dataset\n",
        "\n",
        "from sklearn.datasets import load_wine\n",
        "from sklearn.model_selection import train_test_split\n",
        "from sklearn.preprocessing import StandardScaler\n",
        "from sklearn.svm import SVC, LinearSVC\n",
        "from sklearn.pipeline import make_pipeline\n",
        "from sklearn.metrics import accuracy_score\n",
        "\n",
        "# Load dataset\n",
        "X, y = load_wine(return_X_y=True)\n",
        "\n",
        "# Split into train & test\n",
        "X_train, X_test, y_train, y_test = train_test_split(\n",
        "    X, y, test_size=0.25, stratify=y, random_state=42\n",
        ")\n",
        "\n",
        "# ----- One-vs-Rest (OvR) using LinearSVC (default strategy = OvR) -----\n",
        "ovr_clf = make_pipeline(StandardScaler(), LinearSVC(random_state=42, max_iter=5000))\n",
        "ovr_clf.fit(X_train, y_train)\n",
        "y_pred_ovr = ovr_clf.predict(X_test)\n",
        "acc_ovr = accuracy_score(y_test, y_pred_ovr)\n",
        "\n",
        "# ----- One-vs-One (OvO) using SVC with decision_function_shape='ovo' -----\n",
        "ovo_clf = make_pipeline(StandardScaler(), SVC(kernel=\"rbf\", decision_function_shape=\"ovo\", random_state=42))\n",
        "ovo_clf.fit(X_train, y_train)\n",
        "y_pred_ovo = ovo_clf.predict(X_test)\n",
        "acc_ovo = accuracy_score(y_test, y_pred_ovo)\n",
        "\n",
        "# Results\n",
        "print(\"Accuracy with One-vs-Rest (OvR):\", acc_ovr)\n",
        "print(\"Accuracy with One-vs-One (OvO):\", acc_ovo)\n"
      ],
      "metadata": {
        "colab": {
          "base_uri": "https://localhost:8080/"
        },
        "id": "uLx-UYn9i6Hr",
        "outputId": "4dcf546a-ae7e-4744-c682-02d84191f421"
      },
      "execution_count": 17,
      "outputs": [
        {
          "output_type": "stream",
          "name": "stdout",
          "text": [
            "Accuracy with One-vs-Rest (OvR): 0.9777777777777777\n",
            "Accuracy with One-vs-One (OvO): 0.9777777777777777\n"
          ]
        }
      ]
    },
    {
      "cell_type": "markdown",
      "source": [
        "**37. Write a Python program to train an SVM Classifier using Linear, Polynomial, and RBF kernels on the Breast Cancer dataset and compare their accuracy.**"
      ],
      "metadata": {
        "id": "425nMxzgKptM"
      }
    },
    {
      "cell_type": "code",
      "source": [
        "# SVM with Linear, Polynomial, and RBF kernels on Breast Cancer dataset\n",
        "\n",
        "from sklearn.datasets import load_breast_cancer\n",
        "from sklearn.model_selection import train_test_split\n",
        "from sklearn.preprocessing import StandardScaler\n",
        "from sklearn.svm import SVC\n",
        "from sklearn.pipeline import make_pipeline\n",
        "from sklearn.metrics import accuracy_score\n",
        "\n",
        "# Load dataset\n",
        "X, y = load_breast_cancer(return_X_y=True)\n",
        "\n",
        "# Split into train & test\n",
        "X_train, X_test, y_train, y_test = train_test_split(\n",
        "    X, y, test_size=0.25, stratify=y, random_state=42\n",
        ")\n",
        "\n",
        "# Define kernels\n",
        "kernels = [\"linear\", \"poly\", \"rbf\"]\n",
        "results = {}\n",
        "\n",
        "for kernel in kernels:\n",
        "    clf = make_pipeline(StandardScaler(), SVC(kernel=kernel, degree=3, gamma=\"scale\", random_state=42))\n",
        "    clf.fit(X_train, y_train)\n",
        "    y_pred = clf.predict(X_test)\n",
        "    acc = accuracy_score(y_test, y_pred)\n",
        "    results[kernel] = acc\n",
        "\n",
        "# Results\n",
        "print(\"SVM Accuracy with Different Kernels:\")\n",
        "for k, v in results.items():\n",
        "    print(f\"{k.capitalize()} Kernel: {v:.4f}\")\n"
      ],
      "metadata": {
        "colab": {
          "base_uri": "https://localhost:8080/"
        },
        "id": "DKJidSv0jHl9",
        "outputId": "72a107f1-6214-4cee-f990-ae1063876208"
      },
      "execution_count": 18,
      "outputs": [
        {
          "output_type": "stream",
          "name": "stdout",
          "text": [
            "SVM Accuracy with Different Kernels:\n",
            "Linear Kernel: 0.9860\n",
            "Poly Kernel: 0.9021\n",
            "Rbf Kernel: 0.9790\n"
          ]
        }
      ]
    },
    {
      "cell_type": "markdown",
      "source": [
        "**38. Write a Python program to train an SVM Classifier using Stratified K-Fold Cross-Validation and compute the average accuracy.**"
      ],
      "metadata": {
        "id": "kcZFcmfMKyFo"
      }
    },
    {
      "cell_type": "code",
      "source": [
        "# SVM with Stratified K-Fold Cross-Validation\n",
        "\n",
        "from sklearn.datasets import load_wine\n",
        "from sklearn.svm import SVC\n",
        "from sklearn.preprocessing import StandardScaler\n",
        "from sklearn.pipeline import make_pipeline\n",
        "from sklearn.model_selection import StratifiedKFold, cross_val_score\n",
        "import numpy as np\n",
        "\n",
        "# Load dataset\n",
        "X, y = load_wine(return_X_y=True)\n",
        "\n",
        "# Define SVM model with scaling\n",
        "clf = make_pipeline(StandardScaler(), SVC(kernel=\"rbf\", gamma=\"scale\", C=1.0, random_state=42))\n",
        "\n",
        "# Define Stratified K-Fold (preserves class balance in folds)\n",
        "skf = StratifiedKFold(n_splits=5, shuffle=True, random_state=42)\n",
        "\n",
        "# Perform cross-validation\n",
        "scores = cross_val_score(clf, X, y, cv=skf, scoring=\"accuracy\")\n",
        "\n",
        "# Results\n",
        "print(\"Accuracy for each fold:\", scores)\n",
        "print(\"Average Accuracy:\", np.mean(scores))\n"
      ],
      "metadata": {
        "colab": {
          "base_uri": "https://localhost:8080/"
        },
        "id": "0G3ZVGVujVrG",
        "outputId": "2ecc94e2-8144-4f14-d4f3-4f9bef02f0b1"
      },
      "execution_count": 19,
      "outputs": [
        {
          "output_type": "stream",
          "name": "stdout",
          "text": [
            "Accuracy for each fold: [0.94444444 1.         0.97222222 1.         1.        ]\n",
            "Average Accuracy: 0.9833333333333332\n"
          ]
        }
      ]
    },
    {
      "cell_type": "markdown",
      "source": [
        "**39. Write a Python program to train a Naive Bayes classifier using different prior probabilities and compare performance.**"
      ],
      "metadata": {
        "id": "OxzsR4wdK9Cr"
      }
    },
    {
      "cell_type": "markdown",
      "source": [
        "**Answer**\n",
        "\n",
        "We’ll use the Breast Cancer dataset (binary classification)."
      ],
      "metadata": {
        "id": "AnE2PT_ajmFG"
      }
    },
    {
      "cell_type": "code",
      "source": [
        "# Naive Bayes with Different Class Priors\n",
        "\n",
        "from sklearn.datasets import load_breast_cancer\n",
        "from sklearn.model_selection import train_test_split\n",
        "from sklearn.naive_bayes import GaussianNB\n",
        "from sklearn.metrics import accuracy_score\n",
        "\n",
        "# Load dataset\n",
        "X, y = load_breast_cancer(return_X_y=True)\n",
        "\n",
        "# Split into train & test\n",
        "X_train, X_test, y_train, y_test = train_test_split(\n",
        "    X, y, test_size=0.25, stratify=y, random_state=42\n",
        ")\n",
        "\n",
        "# Define priors to test\n",
        "priors_list = [\n",
        "    None,           # Let the model learn from data\n",
        "    [0.5, 0.5],     # Equal priors\n",
        "    [0.3, 0.7],     # Skewed towards class 1\n",
        "    [0.7, 0.3]      # Skewed towards class 0\n",
        "]\n",
        "\n",
        "# Train & compare\n",
        "for priors in priors_list:\n",
        "    nb = GaussianNB(priors=priors)\n",
        "    nb.fit(X_train, y_train)\n",
        "    y_pred = nb.predict(X_test)\n",
        "    acc = accuracy_score(y_test, y_pred)\n",
        "    print(f\"Priors={priors} -> Accuracy: {acc:.4f}\")\n"
      ],
      "metadata": {
        "colab": {
          "base_uri": "https://localhost:8080/"
        },
        "id": "KgJrkfBLjt7a",
        "outputId": "730881c4-6a5d-40eb-900c-64c18af463d7"
      },
      "execution_count": 20,
      "outputs": [
        {
          "output_type": "stream",
          "name": "stdout",
          "text": [
            "Priors=None -> Accuracy: 0.9371\n",
            "Priors=[0.5, 0.5] -> Accuracy: 0.9371\n",
            "Priors=[0.3, 0.7] -> Accuracy: 0.9441\n",
            "Priors=[0.7, 0.3] -> Accuracy: 0.9301\n"
          ]
        }
      ]
    },
    {
      "cell_type": "markdown",
      "source": [
        "**40. Write a Python program to perform Recursive Feature Elimination (RFE) before training an SVM Classifier and compare accuracy.**"
      ],
      "metadata": {
        "id": "_-WDsLPFLFO6"
      }
    },
    {
      "cell_type": "markdown",
      "source": [
        "**Answer**\n",
        "\n",
        "Here’s a Python program to perform Recursive Feature Elimination (RFE) before training an SVM Classifier and compare the accuracy with the baseline (no feature selection).\n",
        "\n",
        "We’ll use the Wine dataset."
      ],
      "metadata": {
        "id": "Lf8qsL2OkCEr"
      }
    },
    {
      "cell_type": "code",
      "source": [
        "# Recursive Feature Elimination (RFE) with SVM Classifier\n",
        "\n",
        "from sklearn.datasets import load_wine\n",
        "from sklearn.model_selection import train_test_split\n",
        "from sklearn.preprocessing import StandardScaler\n",
        "from sklearn.pipeline import make_pipeline\n",
        "from sklearn.svm import SVC, LinearSVC\n",
        "from sklearn.feature_selection import RFE\n",
        "from sklearn.metrics import accuracy_score\n",
        "\n",
        "# Load dataset\n",
        "X, y = load_wine(return_X_y=True)\n",
        "\n",
        "# Split into train & test\n",
        "X_train, X_test, y_train, y_test = train_test_split(\n",
        "    X, y, test_size=0.25, stratify=y, random_state=42\n",
        ")\n",
        "\n",
        "# ----- Baseline: Train on all features -----\n",
        "baseline_clf = make_pipeline(StandardScaler(), SVC(kernel=\"linear\", random_state=42))\n",
        "baseline_clf.fit(X_train, y_train)\n",
        "y_pred_base = baseline_clf.predict(X_test)\n",
        "acc_base = accuracy_score(y_test, y_pred_base)\n",
        "\n",
        "# ----- With RFE (feature selection) -----\n",
        "# Use LinearSVC as estimator inside RFE\n",
        "estimator = LinearSVC(max_iter=5000, random_state=42)\n",
        "rfe = RFE(estimator, n_features_to_select=8)  # keep top 8 features\n",
        "X_train_rfe = rfe.fit_transform(X_train, y_train)\n",
        "X_test_rfe = rfe.transform(X_test)\n",
        "\n",
        "rfe_clf = make_pipeline(StandardScaler(), SVC(kernel=\"linear\", random_state=42))\n",
        "rfe_clf.fit(X_train_rfe, y_train)\n",
        "y_pred_rfe = rfe_clf.predict(X_test_rfe)\n",
        "acc_rfe = accuracy_score(y_test, y_pred_rfe)\n",
        "\n",
        "# Results\n",
        "print(\"Accuracy without RFE (all features):\", acc_base)\n",
        "print(\"Accuracy with RFE (8 selected features):\", acc_rfe)\n"
      ],
      "metadata": {
        "colab": {
          "base_uri": "https://localhost:8080/"
        },
        "id": "GfmSFDUAkHx6",
        "outputId": "4a7d95a1-0ff1-408a-d1c3-b17c74c4038e"
      },
      "execution_count": 21,
      "outputs": [
        {
          "output_type": "stream",
          "name": "stdout",
          "text": [
            "Accuracy without RFE (all features): 0.9555555555555556\n",
            "Accuracy with RFE (8 selected features): 0.8666666666666667\n"
          ]
        }
      ]
    },
    {
      "cell_type": "markdown",
      "source": [
        "**41. Write a Python program to train an SVM Classifier and evaluate its performance using Precision, Recall, and F1-Score instead of accuracy.**"
      ],
      "metadata": {
        "id": "qlwj2BTnLNy7"
      }
    },
    {
      "cell_type": "markdown",
      "source": [
        "**Answer**\n",
        "\n",
        "Here’s a Python program to train an SVM Classifier and evaluate it using Precision, Recall, and F1-Score instead of just accuracy.\n",
        "\n",
        "We’ll use the Breast Cancer dataset (binary classification)."
      ],
      "metadata": {
        "id": "E4FQOe2NkTka"
      }
    },
    {
      "cell_type": "code",
      "source": [
        "# SVM with Precision, Recall, and F1-Score evaluation\n",
        "\n",
        "from sklearn.datasets import load_breast_cancer\n",
        "from sklearn.model_selection import train_test_split\n",
        "from sklearn.preprocessing import StandardScaler\n",
        "from sklearn.svm import SVC\n",
        "from sklearn.pipeline import make_pipeline\n",
        "from sklearn.metrics import precision_score, recall_score, f1_score\n",
        "\n",
        "# Load dataset\n",
        "X, y = load_breast_cancer(return_X_y=True)\n",
        "\n",
        "# Split into train & test\n",
        "X_train, X_test, y_train, y_test = train_test_split(\n",
        "    X, y, test_size=0.25, stratify=y, random_state=42\n",
        ")\n",
        "\n",
        "# Train SVM with scaling\n",
        "clf = make_pipeline(StandardScaler(), SVC(kernel=\"rbf\", random_state=42))\n",
        "clf.fit(X_train, y_train)\n",
        "\n",
        "# Predictions\n",
        "y_pred = clf.predict(X_test)\n",
        "\n",
        "# Evaluate Precision, Recall, F1\n",
        "precision = precision_score(y_test, y_pred)\n",
        "recall = recall_score(y_test, y_pred)\n",
        "f1 = f1_score(y_test, y_pred)\n",
        "\n",
        "print(\"Precision:\", round(precision, 4))\n",
        "print(\"Recall:\", round(recall, 4))\n",
        "print(\"F1-Score:\", round(f1, 4))\n"
      ],
      "metadata": {
        "colab": {
          "base_uri": "https://localhost:8080/"
        },
        "id": "9no-x7w1kZh5",
        "outputId": "eefd3f72-8aea-493b-c0de-ab63fc69274d"
      },
      "execution_count": 22,
      "outputs": [
        {
          "output_type": "stream",
          "name": "stdout",
          "text": [
            "Precision: 0.9888\n",
            "Recall: 0.9778\n",
            "F1-Score: 0.9832\n"
          ]
        }
      ]
    },
    {
      "cell_type": "markdown",
      "source": [
        "**42. Write a Python program to train a Naive Bayes Classifier and evaluate its performance using Log Loss (Cross-Entropy Loss).**"
      ],
      "metadata": {
        "id": "YMrmKIZKLXb7"
      }
    },
    {
      "cell_type": "markdown",
      "source": [
        "**Answer**\n",
        "\n",
        "Here’s a Python program to train a Naive Bayes classifier and evaluate its performance using Log Loss (Cross-Entropy Loss).\n",
        "\n",
        "We’ll use the Breast Cancer dataset."
      ],
      "metadata": {
        "id": "tTi9Y9pQkmVU"
      }
    },
    {
      "cell_type": "code",
      "source": [
        "# Naive Bayes with Log Loss (Cross-Entropy Loss)\n",
        "\n",
        "from sklearn.datasets import load_breast_cancer\n",
        "from sklearn.model_selection import train_test_split\n",
        "from sklearn.naive_bayes import GaussianNB\n",
        "from sklearn.metrics import log_loss\n",
        "\n",
        "# Load dataset\n",
        "X, y = load_breast_cancer(return_X_y=True)\n",
        "\n",
        "# Split into train & test\n",
        "X_train, X_test, y_train, y_test = train_test_split(\n",
        "    X, y, test_size=0.25, stratify=y, random_state=42\n",
        ")\n",
        "\n",
        "# Train Naive Bayes\n",
        "nb = GaussianNB()\n",
        "nb.fit(X_train, y_train)\n",
        "\n",
        "# Predict probabilities\n",
        "y_proba = nb.predict_proba(X_test)\n",
        "\n",
        "# Compute Log Loss\n",
        "loss = log_loss(y_test, y_proba)\n",
        "\n",
        "print(\"Log Loss (Cross-Entropy Loss):\", round(loss, 4))\n"
      ],
      "metadata": {
        "colab": {
          "base_uri": "https://localhost:8080/"
        },
        "id": "H0DY9ATAkrYM",
        "outputId": "ca25c3ff-d7c2-406a-9bde-4fd0384d4999"
      },
      "execution_count": 23,
      "outputs": [
        {
          "output_type": "stream",
          "name": "stdout",
          "text": [
            "Log Loss (Cross-Entropy Loss): 0.3671\n"
          ]
        }
      ]
    },
    {
      "cell_type": "markdown",
      "source": [
        "**43. Write a Python program to train an SVM Classifier and visualize the Confusion Matrix using seaborn.**"
      ],
      "metadata": {
        "id": "3fMAVauPLg1e"
      }
    },
    {
      "cell_type": "markdown",
      "source": [
        "**Answer**\n",
        "\n",
        "Here’s a Python program that trains an SVM Classifier and visualizes the Confusion Matrix using seaborn heatmap.\n",
        "\n",
        "We’ll use the Digits dataset (multi-class classification)."
      ],
      "metadata": {
        "id": "iuD8JNmHlGug"
      }
    },
    {
      "cell_type": "code",
      "source": [
        "# SVM with Confusion Matrix Visualization using seaborn\n",
        "\n",
        "import seaborn as sns\n",
        "import matplotlib.pyplot as plt\n",
        "from sklearn.datasets import load_digits\n",
        "from sklearn.model_selection import train_test_split\n",
        "from sklearn.svm import SVC\n",
        "from sklearn.metrics import confusion_matrix\n",
        "\n",
        "# Load dataset\n",
        "X, y = load_digits(return_X_y=True)\n",
        "\n",
        "# Train-test split\n",
        "X_train, X_test, y_train, y_test = train_test_split(\n",
        "    X, y, test_size=0.25, stratify=y, random_state=42\n",
        ")\n",
        "\n",
        "# Train SVM\n",
        "clf = SVC(kernel=\"linear\", random_state=42)\n",
        "clf.fit(X_train, y_train)\n",
        "\n",
        "# Predictions\n",
        "y_pred = clf.predict(X_test)\n",
        "\n",
        "# Confusion Matrix\n",
        "cm = confusion_matrix(y_test, y_pred)\n",
        "\n",
        "# Plot using seaborn\n",
        "plt.figure(figsize=(8,6))\n",
        "sns.heatmap(cm, annot=True, fmt=\"d\", cmap=\"Blues\", cbar=False)\n",
        "plt.title(\"Confusion Matrix - SVM (Digits Dataset)\")\n",
        "plt.xlabel(\"Predicted Label\")\n",
        "plt.ylabel(\"True Label\")\n",
        "plt.show()\n"
      ],
      "metadata": {
        "colab": {
          "base_uri": "https://localhost:8080/",
          "height": 564
        },
        "id": "mhqKHKMVlL1i",
        "outputId": "b88cba4f-af0c-49f4-e437-17ea195e1360"
      },
      "execution_count": 24,
      "outputs": [
        {
          "output_type": "display_data",
          "data": {
            "text/plain": [
              "<Figure size 800x600 with 1 Axes>"
            ],
            "image/png": "[encoded data removed]"
          },
          "metadata": {}
        }
      ]
    },
    {
      "cell_type": "markdown",
      "source": [
        "**44. Write a Python program to train an SVM Regressor (SVR) and evaluate its performance using Mean Absolute Error (MAE) instead of MSE.**"
      ],
      "metadata": {
        "id": "OxFQ2GEwLpU5"
      }
    },
    {
      "cell_type": "markdown",
      "source": [
        "**Answer**\n",
        "\n",
        "Here’s a Python program to train an SVM Regressor (SVR) and evaluate its performance using Mean Absolute Error (MAE) instead of MSE.\n",
        "\n",
        "We’ll use the California Housing dataset (if available) or fall back to synthetic regression data."
      ],
      "metadata": {
        "id": "ChZDizXBlX_P"
      }
    },
    {
      "cell_type": "code",
      "source": [
        "# SVR Regression with MAE Evaluation\n",
        "\n",
        "from sklearn.datasets import fetch_california_housing, make_regression\n",
        "from sklearn.model_selection import train_test_split\n",
        "from sklearn.preprocessing import StandardScaler\n",
        "from sklearn.svm import SVR\n",
        "from sklearn.pipeline import make_pipeline\n",
        "from sklearn.metrics import mean_absolute_error\n",
        "\n",
        "# Try to load California Housing, fallback to synthetic dataset if not available\n",
        "try:\n",
        "    X, y = fetch_california_housing(return_X_y=True)\n",
        "except Exception:\n",
        "    X, y = make_regression(n_samples=2000, n_features=8, noise=10.0, random_state=42)\n",
        "\n",
        "# Split dataset\n",
        "X_train, X_test, y_train, y_test = train_test_split(\n",
        "    X, y, test_size=0.25, random_state=42\n",
        ")\n",
        "\n",
        "# Train SVR with scaling\n",
        "svr = make_pipeline(StandardScaler(), SVR(kernel=\"rbf\", C=100, gamma=\"scale\"))\n",
        "svr.fit(X_train, y_train)\n",
        "\n",
        "# Predictions\n",
        "y_pred = svr.predict(X_test)\n",
        "\n",
        "# Evaluate using MAE\n",
        "mae = mean_absolute_error(y_test, y_pred)\n",
        "\n",
        "print(\"Mean Absolute Error (MAE):\", round(mae, 4))\n"
      ],
      "metadata": {
        "colab": {
          "base_uri": "https://localhost:8080/"
        },
        "id": "kQimL2mClet5",
        "outputId": "249c94ea-4b56-4910-8c2a-8173db4cbe09"
      },
      "execution_count": 25,
      "outputs": [
        {
          "output_type": "stream",
          "name": "stdout",
          "text": [
            "Mean Absolute Error (MAE): 0.3702\n"
          ]
        }
      ]
    },
    {
      "cell_type": "markdown",
      "source": [
        "**45. Write a Python program to train a Naive Bayes classifier and evaluate its performance using the ROC-AUC score.**"
      ],
      "metadata": {
        "id": "AEcUuSH-LwHa"
      }
    },
    {
      "cell_type": "markdown",
      "source": [
        "**Answer**\n",
        "\n",
        "Here’s a Python program to train a Naïve Bayes classifier and evaluate its performance using the ROC-AUC score.\n",
        "\n",
        "We’ll use the Breast Cancer dataset (binary classification)."
      ],
      "metadata": {
        "id": "02rDq72Jl5Mj"
      }
    },
    {
      "cell_type": "code",
      "source": [
        "# Naive Bayes with ROC-AUC Evaluation\n",
        "\n",
        "from sklearn.datasets import load_breast_cancer\n",
        "from sklearn.model_selection import train_test_split\n",
        "from sklearn.naive_bayes import GaussianNB\n",
        "from sklearn.metrics import roc_auc_score, roc_curve\n",
        "import matplotlib.pyplot as plt\n",
        "\n",
        "# Load dataset\n",
        "X, y = load_breast_cancer(return_X_y=True)\n",
        "\n",
        "# Train-test split\n",
        "X_train, X_test, y_train, y_test = train_test_split(\n",
        "    X, y, test_size=0.25, stratify=y, random_state=42\n",
        ")\n",
        "\n",
        "# Train Naive Bayes\n",
        "nb = GaussianNB()\n",
        "nb.fit(X_train, y_train)\n",
        "\n",
        "# Predict probabilities\n",
        "y_proba = nb.predict_proba(X_test)[:, 1]\n",
        "\n",
        "# ROC-AUC score\n",
        "auc = roc_auc_score(y_test, y_proba)\n",
        "print(\"ROC-AUC Score:\", round(auc, 4))\n",
        "\n",
        "# Plot ROC Curve\n",
        "fpr, tpr, _ = roc_curve(y_test, y_proba)\n",
        "plt.figure(figsize=(6,5))\n",
        "plt.plot(fpr, tpr, label=f\"Naive Bayes (AUC = {auc:.3f})\")\n",
        "plt.plot([0,1], [0,1], linestyle=\"--\", color=\"gray\")\n",
        "plt.xlabel(\"False Positive Rate\")\n",
        "plt.ylabel(\"True Positive Rate\")\n",
        "plt.title(\"ROC Curve - Naive Bayes (Breast Cancer Dataset)\")\n",
        "plt.legend()\n",
        "plt.show()\n"
      ],
      "metadata": {
        "colab": {
          "base_uri": "https://localhost:8080/",
          "height": 504
        },
        "id": "P15mKLS8mA6d",
        "outputId": "58528328-b508-4099-9fc0-e9ca301313d3"
      },
      "execution_count": 26,
      "outputs": [
        {
          "output_type": "stream",
          "name": "stdout",
          "text": [
            "ROC-AUC Score: 0.9893\n"
          ]
        },
        {
          "output_type": "display_data",
          "data": {
            "text/plain": [
              "<Figure size 600x500 with 1 Axes>"
            ],
            "image/png": "[encoded data removed]"
          },
          "metadata": {}
        }
      ]
    },
    {
      "cell_type": "markdown",
      "source": [
        "**46. Write a Python program to train an SVM Classifier and visualize the Precision-Recall Curve.**"
      ],
      "metadata": {
        "id": "ce0uf0IwMQp-"
      }
    },
    {
      "cell_type": "markdown",
      "source": [
        "**Answer**\n",
        "\n",
        "Here’s a Python program to train an SVM Classifier and visualize the Precision-Recall Curve.\n",
        "\n",
        "We’ll use the Breast Cancer dataset (binary classification)."
      ],
      "metadata": {
        "id": "bYf4k53qmPcQ"
      }
    },
    {
      "cell_type": "code",
      "source": [
        "# SVM with Precision-Recall Curve Visualization\n",
        "\n",
        "import matplotlib.pyplot as plt\n",
        "from sklearn.datasets import load_breast_cancer\n",
        "from sklearn.model_selection import train_test_split\n",
        "from sklearn.preprocessing import StandardScaler\n",
        "from sklearn.svm import SVC\n",
        "from sklearn.pipeline import make_pipeline\n",
        "from sklearn.metrics import precision_recall_curve, average_precision_score\n",
        "\n",
        "# Load dataset\n",
        "X, y = load_breast_cancer(return_X_y=True)\n",
        "\n",
        "# Train-test split\n",
        "X_train, X_test, y_train, y_test = train_test_split(\n",
        "    X, y, test_size=0.25, stratify=y, random_state=42\n",
        ")\n",
        "\n",
        "# Train SVM with probability estimates enabled\n",
        "clf = make_pipeline(StandardScaler(), SVC(kernel=\"rbf\", probability=True, random_state=42))\n",
        "clf.fit(X_train, y_train)\n",
        "\n",
        "# Predict probabilities\n",
        "y_scores = clf.predict_proba(X_test)[:, 1]\n",
        "\n",
        "# Compute Precision-Recall values\n",
        "precision, recall, _ = precision_recall_curve(y_test, y_scores)\n",
        "avg_precision = average_precision_score(y_test, y_scores)\n",
        "\n",
        "# Plot Precision-Recall Curve\n",
        "plt.figure(figsize=(6,5))\n",
        "plt.plot(recall, precision, label=f\"SVM (AP = {avg_precision:.3f})\")\n",
        "plt.xlabel(\"Recall\")\n",
        "plt.ylabel(\"Precision\")\n",
        "plt.title(\"Precision-Recall Curve - SVM (Breast Cancer Dataset)\")\n",
        "plt.legend()\n",
        "plt.show()"
      ],
      "metadata": {
        "colab": {
          "base_uri": "https://localhost:8080/",
          "height": 487
        },
        "id": "zxCTyzs5mV6g",
        "outputId": "b6c38b40-6542-48ec-c382-8b6062eb8d1b"
      },
      "execution_count": 27,
      "outputs": [
        {
          "output_type": "display_data",
          "data": {
            "text/plain": [
              "<Figure size 600x500 with 1 Axes>"
            ],
            "image/png": "[encoded data removed]"
          },
          "metadata": {}
        }
      ]
    },
    {
      "cell_type": "code",
      "source": [],
      "metadata": {
        "id": "yN13HffWmXK1"
      },
      "execution_count": null,
      "outputs": []
    }
  ]
}
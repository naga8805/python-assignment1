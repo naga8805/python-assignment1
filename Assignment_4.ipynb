{
  "nbformat": 4,
  "nbformat_minor": 0,
  "metadata": {
    "colab": {
      "provenance": []
    },
    "kernelspec": {
      "name": "python3",
      "display_name": "Python 3"
    },
    "language_info": {
      "name": "python"
    }
  },
  "cells": [
    {
      "cell_type": "markdown",
      "source": [
        "# Python OOPs Questions"
      ],
      "metadata": {
        "id": "k1-Gkm091n9q"
      }
    },
    {
      "cell_type": "markdown",
      "source": [
        "1. What is Object-Oriented Programming (OOP)?"
      ],
      "metadata": {
        "id": "QyEPN_Lc2DAp"
      }
    },
    {
      "cell_type": "markdown",
      "source": [
        "Ans. Object-Oriented Programming is a programming paradigm that organizes software design around data, or objects, rather than functions and logic. It uses classes and objects to create models based on real-world scenarios. In OOP, objects contain both data (attributes) and behavior (methods), making code more modular, reusable, and easier to maintain."
      ],
      "metadata": {
        "id": "bnstLWyS2137"
      }
    },
    {
      "cell_type": "markdown",
      "source": [
        "2. What is a class in OOP?"
      ],
      "metadata": {
        "id": "NPLX-6v324Ao"
      }
    },
    {
      "cell_type": "markdown",
      "source": [
        "Ans. A class in OOP is a blueprint or a template for creating objects. It defines the common properties (attributes) and behaviors (methods) that all objects of that type will have. It doesn't store data itself but serves as a specification for objects.\n",
        "\n",
        "Example: A Car class might define that all cars have color and brand attributes and start() and stop() methods."
      ],
      "metadata": {
        "id": "AkaT_EQq3A01"
      }
    },
    {
      "cell_type": "markdown",
      "source": [
        "3. What is an object in OOP?"
      ],
      "metadata": {
        "id": "Xlz_eega3Ono"
      }
    },
    {
      "cell_type": "markdown",
      "source": [
        " An object in OOP is an instance of a class. It is a concrete entity created from a class blueprint, possessing the attributes and behaviors defined by its class. Objects are the actual \"things\" in memory that store data and can perform actions.\n",
        "\n",
        "Example: If Car is a class, then my_red_toyota = Car(\"red\", \"Toyota\") would make my_red_toyota an object of the Car class."
      ],
      "metadata": {
        "id": "S52zZFRQ3TBT"
      }
    },
    {
      "cell_type": "markdown",
      "source": [
        "4. What is the difference between abstraction and encapsulation?"
      ],
      "metadata": {
        "id": "cVjnXmSZ5L97"
      }
    },
    {
      "cell_type": "markdown",
      "source": [
        "Ans.\n",
        "\n",
        " **Abstraction:** Abstraction means showing only the essential features of an object while hiding the complex implementation details. It focuses on \"what\" an object does rather than \"how\" it does it. It simplifies complex systems by breaking them down into smaller, manageable pieces.\n",
        "\n",
        "**Example:** When you drive a car, you use the steering wheel, accelerator, and brake. You don't need to know the intricate details of the engine or transmission to drive it.\n",
        "\n",
        "**Encapsulation:** Encapsulation is the bundling of data (attributes) and methods that operate on that data into a single unit (a class), and restricting direct access to some of an object's components. This \"hiding\" of internal state protects the data from unauthorized access and modification.\n",
        "\n",
        "Example: In a BankAccount class, the _balance attribute is private (encapsulated), and you can only change it through public methods like deposit() or withdraw(), ensuring data integrity."
      ],
      "metadata": {
        "id": "0iNDVo1rFo_z"
      }
    },
    {
      "cell_type": "code",
      "source": [
        "class BankAccount:\n",
        "    def __init__(self):\n",
        "        self.__balance = 0  # Encapsulated\n",
        "\n",
        "    def deposit(self, amount):\n",
        "        self.__balance += amount"
      ],
      "metadata": {
        "id": "zVFt7xnUGSkl"
      },
      "execution_count": 46,
      "outputs": []
    },
    {
      "cell_type": "markdown",
      "source": [
        "5. What are dunder methods in Python?"
      ],
      "metadata": {
        "id": "ZLKhrjgcGXXh"
      }
    },
    {
      "cell_type": "markdown",
      "source": [
        "Dunder methods (short for \"double underscore methods\") are special methods in Python that have two leading and two trailing underscores (e.g., __init__, __str__, __add__). They allow Python classes to implement certain operations with built-in functions or syntax. They are also known as magic methods.\n",
        "\n",
        "Example:\n",
        "__init__: The constructor method, called when a new object is created.\n",
        "__str__: Defines the string representation of an object, typically for human-readable output."
      ],
      "metadata": {
        "id": "ZLMORLvMGd12"
      }
    },
    {
      "cell_type": "code",
      "source": [
        "#Example\n",
        "class Book:\n",
        "    def __init__(self, title):\n",
        "        self.title = title\n",
        "\n",
        "    def __str__(self):\n",
        "        return f\"Book: {self.title}\"\n",
        "\n",
        "b = Book(\"Python Magic!\")\n",
        "print(b)  # Output: Book: Python Magic!"
      ],
      "metadata": {
        "colab": {
          "base_uri": "https://localhost:8080/"
        },
        "id": "YVybtcT5GneX",
        "outputId": "ec48eaef-d4b2-4dbd-800f-34653a7ad3f9"
      },
      "execution_count": null,
      "outputs": [
        {
          "output_type": "stream",
          "name": "stdout",
          "text": [
            "Book: Python Magic!\n"
          ]
        }
      ]
    },
    {
      "cell_type": "markdown",
      "source": [
        "6. Explain the concept of inheritance in OOP?"
      ],
      "metadata": {
        "id": "Nx76ZOBsZp2g"
      }
    },
    {
      "cell_type": "markdown",
      "source": [
        "Inheritance is a mechanism in OOP where a new class (subclass/derived class) derives properties and behaviors (attributes and methods) from an existing class (superclass/base class). This promotes code reusability and establishes a \"is-a\" relationship between classes."
      ],
      "metadata": {
        "id": "mEqTDiiEZsTG"
      }
    },
    {
      "cell_type": "code",
      "source": [
        "#Example\n",
        "# Parent class\n",
        "class Animal:\n",
        "    def speak(self):\n",
        "        print(\"Animal makes a sound\")\n",
        "\n",
        "# Child class\n",
        "class Dog(Animal):\n",
        "    def bark(self):\n",
        "        print(\"Dog barks\")\n",
        "\n",
        "# Creating objects\n",
        "a = Animal()\n",
        "a.speak()  # Output: Animal makes a sound\n",
        "\n",
        "d = Dog()\n",
        "d.speak()  # Inherited method\n",
        "d.bark()   # Child's own method"
      ],
      "metadata": {
        "colab": {
          "base_uri": "https://localhost:8080/"
        },
        "id": "sFBu_MEiaH5o",
        "outputId": "16ede88a-8d31-4823-b966-aa9c0b18cf41"
      },
      "execution_count": null,
      "outputs": [
        {
          "output_type": "stream",
          "name": "stdout",
          "text": [
            "Animal makes a sound\n",
            "Animal makes a sound\n",
            "Dog barks\n"
          ]
        }
      ]
    },
    {
      "cell_type": "markdown",
      "source": [
        "7. What is polymorphism in OOP?"
      ],
      "metadata": {
        "id": "z3rAN1MMaZUo"
      }
    },
    {
      "cell_type": "markdown",
      "source": [
        "Polymorphism means \"many forms.\" In OOP, it refers to the ability of different objects to respond to the same method call in their own specific ways. This is achieved through method overriding (where a subclass provides a different implementation for a method defined in its superclass) or method overloading (though Python doesn't support traditional method overloading by signature, it achieves a form of it through default arguments or variable arguments).\n",
        "\n",
        "Example"
      ],
      "metadata": {
        "id": "vFpHfkHKafDo"
      }
    },
    {
      "cell_type": "code",
      "source": [
        "class Animal:\n",
        "    def make_sound(self):\n",
        "        print(\"Animal sound\")\n",
        "\n",
        "class Dog(Animal):\n",
        "    def make_sound(self):\n",
        "        print(\"Bark\")\n",
        "\n",
        "class Cat(Animal):\n",
        "    def make_sound(self):\n",
        "        print(\"Meow\")\n",
        "\n",
        "# Polymorphism in action\n",
        "def animal_sound(animal):\n",
        "    animal.make_sound()\n",
        "\n",
        "a = Animal()\n",
        "d = Dog()\n",
        "c = Cat()\n",
        "\n",
        "animal_sound(a)  # Animal sound\n",
        "animal_sound(d)  # Bark\n",
        "animal_sound(c)  # Meow"
      ],
      "metadata": {
        "colab": {
          "base_uri": "https://localhost:8080/"
        },
        "id": "jUkPS1v1a1AO",
        "outputId": "91d0c0a5-04ad-4819-f021-736be8b4a669"
      },
      "execution_count": null,
      "outputs": [
        {
          "output_type": "stream",
          "name": "stdout",
          "text": [
            "Animal sound\n",
            "Bark\n",
            "Meow\n"
          ]
        }
      ]
    },
    {
      "cell_type": "markdown",
      "source": [
        "Here:\n",
        "animal_sound() doesn’t care what kind of animal it gets.\n",
        "It calls the same method (make_sound()), and each class has its own implementation. Polymorphism is about having same method names, but different behaviors depending on the object’s class."
      ],
      "metadata": {
        "id": "TdIwS9ZxbGp0"
      }
    },
    {
      "cell_type": "markdown",
      "source": [
        "8. How is encapsulation achieved in Python?"
      ],
      "metadata": {
        "id": "ODCn3cYKbQX6"
      }
    },
    {
      "cell_type": "markdown",
      "source": [
        "In Python, encapsulation is achieved through conventions rather than strict access modifiers (like private in Java/C++).\n",
        "\n",
        "Public attributes/methods: By default, all attributes and methods are public and can be accessed directly.\n",
        "Protected attributes/methods: By convention, attributes or methods prefixed with a single underscore (_) are considered \"protected,\" indicating they should not be accessed directly from outside the class, but this is merely a hint to the programmer.\n",
        "Private attributes/methods (Name Mangling): Attributes or methods prefixed with double underscores (__) undergo \"name mangling.\" This makes them harder, but not impossible, to access from outside the class by changing their name internally.\n",
        "Example:"
      ],
      "metadata": {
        "id": "uISvzDz6j3o2"
      }
    },
    {
      "cell_type": "code",
      "source": [
        "class MyClass:\n",
        "    def __init__(self):\n",
        "        self.public_var = \"I am public\"\n",
        "        self._protected_var = \"I am protected (by convention)\"\n",
        "        self.__private_var = \"I am private (name mangled)\"\n",
        "\n",
        "obj = MyClass()\n",
        "print(obj.public_var)\n",
        "# print(obj.__private_var) # This would typically raise an AttributeError\n",
        "print(obj._MyClass__private_var) # Accessing mangled name (discouraged)"
      ],
      "metadata": {
        "colab": {
          "base_uri": "https://localhost:8080/"
        },
        "id": "OUBnLmzObWKJ",
        "outputId": "ff25dfeb-a70a-4e46-f8db-1f7946284a8c"
      },
      "execution_count": null,
      "outputs": [
        {
          "output_type": "stream",
          "name": "stdout",
          "text": [
            "I am public\n",
            "I am private (name mangled)\n"
          ]
        }
      ]
    },
    {
      "cell_type": "markdown",
      "source": [
        "9. What is a constructor in Python?"
      ],
      "metadata": {
        "id": "XiyQIdQskF9d"
      }
    },
    {
      "cell_type": "markdown",
      "source": [
        "A constructor in Python is a special method named __init__. It is automatically called when a new object (an instance of the class) is created. Its primary purpose is to initialize the object's attributes with starting values.\n",
        "\n",
        "Example:"
      ],
      "metadata": {
        "id": "uUkVWxZfkeX9"
      }
    },
    {
      "cell_type": "code",
      "source": [
        "class Dog:\n",
        "    def __init__(self, name, breed): # __init__ is the constructor\n",
        "        self.name = name\n",
        "        self.breed = breed\n",
        "\n",
        "my_dog = Dog(\"Buddy\", \"Golden Retriever\") # Dog() calls __init__\n",
        "print(my_dog.name) # Output: Buddy"
      ],
      "metadata": {
        "colab": {
          "base_uri": "https://localhost:8080/"
        },
        "id": "na6YXNszkiQU",
        "outputId": "cef1fa9d-fefb-4a2c-bb17-64d302b0468d"
      },
      "execution_count": null,
      "outputs": [
        {
          "output_type": "stream",
          "name": "stdout",
          "text": [
            "Buddy\n"
          ]
        }
      ]
    },
    {
      "cell_type": "markdown",
      "source": [
        "10. What are class and static methods in Python?"
      ],
      "metadata": {
        "id": "ssblS8lhkmkp"
      }
    },
    {
      "cell_type": "markdown",
      "source": [
        "**Class Methods:**\n",
        "\n",
        "Decorated with @classmethod.\n",
        "Take cls (conventionally) as their first argument, which refers to the class itself (not an instance).\n",
        "Can access and modify class-level attributes.\n",
        "Can be called on the class itself (ClassName.method()) or an instance (instance.method()).\n",
        "Use Case: Factory methods (creating instances of the class with specific initializations), or operations that affect the class state.\n",
        "\n",
        "Example:"
      ],
      "metadata": {
        "id": "jeSMs2o-k5AX"
      }
    },
    {
      "cell_type": "code",
      "source": [
        "class Dog:\n",
        "    dogs_count = 0  # Class variable\n",
        "\n",
        "    def __init__(self, name):\n",
        "        self.name = name\n",
        "        Dog.dogs_count += 1\n",
        "\n",
        "    @classmethod\n",
        "    def how_many_dogs(cls):\n",
        "        print(f\"There are {cls.dogs_count} dogs.\")\n",
        "\n",
        "# Create some dogs\n",
        "d1 = Dog(\"Buddy\")\n",
        "d2 = Dog(\"Charlie\")\n",
        "Dog.how_many_dogs()  # Output: There are 2 dogs."
      ],
      "metadata": {
        "colab": {
          "base_uri": "https://localhost:8080/"
        },
        "id": "OnOLGKqSl4vr",
        "outputId": "71b6e2c3-ba24-4cee-9d59-03b1ce0a96f9"
      },
      "execution_count": null,
      "outputs": [
        {
          "output_type": "stream",
          "name": "stdout",
          "text": [
            "There are 2 dogs.\n"
          ]
        }
      ]
    },
    {
      "cell_type": "markdown",
      "source": [
        "Static Methods:\n",
        "\n",
        "Decorated with @staticmethod.\n",
        "Do not take self or cls as their first argument. They behave like regular functions, but are logically grouped within a class.\n",
        "Cannot access or modify instance or class attributes directly.\n",
        "Can be called on the class itself or an instance.\n",
        "Use Case:\n",
        "\n",
        " Utility functions that logically belong to the class but don't need access to class or instance state.\n",
        "\n",
        "Example:"
      ],
      "metadata": {
        "id": "Xt6re62lmHBB"
      }
    },
    {
      "cell_type": "code",
      "source": [
        "class MathUtils:\n",
        "    @staticmethod\n",
        "    def add(a, b):\n",
        "        return a + b\n",
        "\n",
        "print(MathUtils.add(3, 4))  # Output: 7\n"
      ],
      "metadata": {
        "colab": {
          "base_uri": "https://localhost:8080/"
        },
        "id": "z2AYPvKdmWDU",
        "outputId": "34191d93-63e7-4ecd-b799-9fb92289d364"
      },
      "execution_count": null,
      "outputs": [
        {
          "output_type": "stream",
          "name": "stdout",
          "text": [
            "7\n"
          ]
        }
      ]
    },
    {
      "cell_type": "markdown",
      "source": [
        "11. What is method overloading in Python?"
      ],
      "metadata": {
        "id": "dfMOeSVmmuf5"
      }
    },
    {
      "cell_type": "markdown",
      "source": [
        "Traditional method overloading (where multiple methods with the same name but different parameter lists exist in the same class) is not directly supported in Python in the same way as in languages like Java or C++. If you define multiple methods with the same name, the last one defined will override the previous ones.\n",
        "However, Python achieves similar functionality using:\n",
        "\n",
        "Default argument values: Providing default values for parameters.\n",
        "Variable arguments (*args, **kwargs): Accepting an arbitrary number of arguments.\n",
        "\n",
        "Example (simulated overloading using default arguments):"
      ],
      "metadata": {
        "id": "fmAzGU-mmzDw"
      }
    },
    {
      "cell_type": "code",
      "source": [
        "class Calculator:\n",
        "    def add(self, a, b=None, c=None):\n",
        "        if b is None and c is None:\n",
        "            return a\n",
        "        elif c is None:\n",
        "            return a + b\n",
        "        else:\n",
        "            return a + b + c\n",
        "\n",
        "calc = Calculator()\n",
        "print(calc.add(5))        # Output: 5\n",
        "print(calc.add(5, 3))     # Output: 8\n",
        "print(calc.add(5, 3, 2))  # Output: 10"
      ],
      "metadata": {
        "colab": {
          "base_uri": "https://localhost:8080/"
        },
        "id": "cCkmVHb-nCm-",
        "outputId": "b626c557-28bb-47ab-ff9d-1c8bcc8aa19b"
      },
      "execution_count": null,
      "outputs": [
        {
          "output_type": "stream",
          "name": "stdout",
          "text": [
            "5\n",
            "8\n",
            "10\n"
          ]
        }
      ]
    },
    {
      "cell_type": "markdown",
      "source": [
        "12. What is method overriding in OOP?"
      ],
      "metadata": {
        "id": "8E3SzvuUnTPd"
      }
    },
    {
      "cell_type": "markdown",
      "source": [
        "Method overriding is a feature in OOP where a subclass provides its own specific implementation for a method that is already defined in its superclass. This allows subclasses to behave differently from their parent classes while maintaining the same method signature.\n",
        "\n",
        "Example:"
      ],
      "metadata": {
        "id": "VRpPV4AAnVhB"
      }
    },
    {
      "cell_type": "code",
      "source": [
        "class Animal:\n",
        "    def speak(self):\n",
        "        print(\"Animal makes a sound\")\n",
        "\n",
        "class Dog(Animal):\n",
        "    def speak(self): # Overrides the speak method from Animal\n",
        "        print(\"Woof!\")\n",
        "\n",
        "animal = Animal()\n",
        "dog = Dog()\n",
        "animal.speak() # Output: Animal makes a sound\n",
        "dog.speak()    # Output: Woof!"
      ],
      "metadata": {
        "colab": {
          "base_uri": "https://localhost:8080/"
        },
        "id": "Iy0IS-crnbKe",
        "outputId": "e0b66d40-8f1a-4fa2-bcd6-72a4a02f5864"
      },
      "execution_count": null,
      "outputs": [
        {
          "output_type": "stream",
          "name": "stdout",
          "text": [
            "Animal makes a sound\n",
            "Woof!\n"
          ]
        }
      ]
    },
    {
      "cell_type": "markdown",
      "source": [
        "13. What is a property decorator in Python?"
      ],
      "metadata": {
        "id": "Y6jHOCw7nhtq"
      }
    },
    {
      "cell_type": "markdown",
      "source": [
        "The @property decorator in Python is a built-in decorator that is used to define methods that can be accessed like attributes (without using parentheses). It allows you to define \"getter,\" \"setter,\" and \"deleter\" methods for an attribute, providing a way to add custom logic (e.g., validation) when an attribute is accessed, modified, or deleted, while still maintaining simple attribute access syntax.\n",
        "\n",
        "Example:"
      ],
      "metadata": {
        "id": "M1zH4MJGnokz"
      }
    },
    {
      "cell_type": "code",
      "source": [
        "class Circle:\n",
        "    def __init__(self, radius):\n",
        "        self._radius = radius # Private convention\n",
        "\n",
        "    @property\n",
        "    def radius(self): # Getter method for 'radius'\n",
        "        return self._radius\n",
        "\n",
        "    @radius.setter\n",
        "    def radius(self, value): # Setter method for 'radius'\n",
        "        if value < 0:\n",
        "            raise ValueError(\"Radius cannot be negative\")\n",
        "        self._radius = value\n",
        "\n",
        "c = Circle(5)\n",
        "print(c.radius) # Accessing like an attribute (calls getter)\n",
        "c.radius = 7    # Setting like an attribute (calls setter)\n",
        "print(c.radius)\n",
        "# c.radius = -1   # This would raise ValueError"
      ],
      "metadata": {
        "colab": {
          "base_uri": "https://localhost:8080/"
        },
        "id": "gm-8neHWnslz",
        "outputId": "9ba6c5b8-8e19-4422-f260-2e2b0c411ab8"
      },
      "execution_count": null,
      "outputs": [
        {
          "output_type": "stream",
          "name": "stdout",
          "text": [
            "5\n",
            "7\n"
          ]
        }
      ]
    },
    {
      "cell_type": "markdown",
      "source": [
        "14. Why is polymorphism important in OOP?"
      ],
      "metadata": {
        "id": "1u1bxf322wuM"
      }
    },
    {
      "cell_type": "markdown",
      "source": [
        "Polymorphism is important in OOP for several reasons:\n",
        "\n",
        "**Flexibility and Extensibility:**\n",
        "\n",
        " It allows you to write generic code that can work with objects of different classes, as long as those classes share a common interface (e.g., a common method name). This makes your code more flexible and easier to extend with new classes without modifying existing code.\n",
        "\n",
        "**Code Reusability:**\n",
        "\n",
        " You can define a general behavior in a base class and specialize it in derived classes, reducing code duplication.\n",
        "\n",
        "**Simplified Interface:**\n",
        "\n",
        " It allows you to treat objects of different types uniformly through a common interface, simplifying the client code.\n",
        "\n",
        "**Dynamic Binding (Runtime Polymorphism):**\n",
        "\n",
        " The specific method implementation to be executed is determined at runtime, based on the actual type of the object.\n",
        "\n",
        "Example:"
      ],
      "metadata": {
        "id": "KKbjqx0l25fa"
      }
    },
    {
      "cell_type": "code",
      "source": [
        "class Shape:\n",
        "    def draw(self):\n",
        "        raise NotImplementedError\n",
        "\n",
        "class Circle(Shape):\n",
        "    def draw(self):\n",
        "        print(\"Drawing a circle.\")\n",
        "\n",
        "class Square(Shape):\n",
        "    def draw(self):\n",
        "        print(\"Drawing a square.\")\n",
        "\n",
        "def draw_all_shapes(shapes):\n",
        "    for shape in shapes:\n",
        "        shape.draw() # Polymorphic call\n",
        "\n",
        "shapes_list = [Circle(), Square()]\n",
        "draw_all_shapes(shapes_list)\n",
        "# This function works for any shape object as long as it has a draw() method."
      ],
      "metadata": {
        "colab": {
          "base_uri": "https://localhost:8080/"
        },
        "id": "mmz9cERr3cEs",
        "outputId": "f0ce4266-8994-4a9f-e176-103feb099107"
      },
      "execution_count": null,
      "outputs": [
        {
          "output_type": "stream",
          "name": "stdout",
          "text": [
            "Drawing a circle.\n",
            "Drawing a square.\n"
          ]
        }
      ]
    },
    {
      "cell_type": "markdown",
      "source": [
        "15. What is an abstract class in Python?"
      ],
      "metadata": {
        "id": "d1ihtbqY3gOw"
      }
    },
    {
      "cell_type": "markdown",
      "source": [
        "An abstract class is a class that cannot be instantiated directly (you cannot create objects of it). It is designed to be inherited by other classes (subclasses). Abstract classes often contain one or more abstract methods, which are methods declared but without an implementation in the abstract class itself. Subclasses are then required to provide implementations for these abstract methods. In Python, you typically use the abc module (Abstract Base Classes) to define abstract classes and methods.\n",
        "\n",
        "Example:"
      ],
      "metadata": {
        "id": "EPHi7jw73m52"
      }
    },
    {
      "cell_type": "code",
      "source": [
        "from abc import ABC, abstractmethod\n",
        "\n",
        "class Animal(ABC): # Abstract Base Class\n",
        "    @abstractmethod\n",
        "    def sound(self): # Abstract method\n",
        "        pass\n",
        "\n",
        "class Dog(Animal):\n",
        "    def sound(self): # Must implement sound()\n",
        "        print(\"Woof!\")\n",
        "\n",
        "# animal = Animal() # This would raise TypeError: Can't instantiate abstract class Animal\n",
        "dog = Dog()\n",
        "dog.sound() # Output: Woof!"
      ],
      "metadata": {
        "colab": {
          "base_uri": "https://localhost:8080/"
        },
        "id": "clNjc1o93uSs",
        "outputId": "c2a7e6df-847b-463b-a6b0-44ac4f3126fd"
      },
      "execution_count": null,
      "outputs": [
        {
          "output_type": "stream",
          "name": "stdout",
          "text": [
            "Woof!\n"
          ]
        }
      ]
    },
    {
      "cell_type": "markdown",
      "source": [
        "16. What are the advantages of OOP?"
      ],
      "metadata": {
        "id": "shtNANXO30ZR"
      }
    },
    {
      "cell_type": "markdown",
      "source": [
        "The advantages of Object-Oriented Programming (OOP) include:\n",
        "\n",
        "* **Modularity:** Objects are self-contained units, making code easier to understand, manage, and debug.\n",
        "\n",
        "* **Reusability:** Classes can be reused across different parts of a program or in different projects, reducing development time and effort.\n",
        "\n",
        "* **Maintainability:** OOP makes it easier to modify or extend code because changes in one part of the system have minimal impact on other parts.\n",
        "\n",
        "* **Extensibility:** New features and functionalities can be added without affecting existing code.\n",
        "\n",
        "* **Data Security (Encapsulation):** Encapsulation helps in protecting data from unauthorized access or modification.\n",
        "\n",
        "* **Flexibility (Polymorphism):** Allows objects of different classes to be treated uniformly, enhancing flexibility.\n",
        "Real-World Modeling: OOP helps in mapping real-world problems more effectively into software solutions due to its object-centric approach."
      ],
      "metadata": {
        "id": "mVp5DUvM35vn"
      }
    },
    {
      "cell_type": "markdown",
      "source": [
        "17. What is the difference between a class variable and an instance variable?"
      ],
      "metadata": {
        "id": "jnjKlLVa4PYt"
      }
    },
    {
      "cell_type": "markdown",
      "source": [
        "**Class Variable:**\n",
        "\n",
        "* Defined directly within the class, but outside any method.\n",
        "* Shared among all instances (objects) of that class.\n",
        "* Accessed using the class name (e.g., ClassName.variable_name) or instance name (instance.variable_name), but modification via an instance name often creates an instance variable.\n",
        "* **Use Case:** Storing data that is common to all instances of a class, like a counter for the number of objects created, or a constant value.\n",
        "\n",
        "**Instance Variable:**\n",
        "\n",
        "* Defined inside methods (typically __init__) using self.variable_name.\n",
        "* Unique to each instance of the class. Each object has its own copy of the instance variables.\n",
        "* Accessed using the instance name (e.g., instance.variable_name).\n",
        "* **Use Case:** Storing data that is specific to a particular object, like a person's name or a car's color."
      ],
      "metadata": {
        "id": "zObAjo-l5F2c"
      }
    },
    {
      "cell_type": "markdown",
      "source": [
        "Example of class variable"
      ],
      "metadata": {
        "id": "xYUtRyVV-MUC"
      }
    },
    {
      "cell_type": "code",
      "source": [
        "class Dog:\n",
        "    species = \"Canis familiaris\"  # class variable\n",
        "\n",
        "    def __init__(self, name):\n",
        "        self.name = name  # instance variable\n",
        "\n",
        "# Create dogs\n",
        "d1 = Dog(\"Buddy\")\n",
        "d2 = Dog(\"Max\")\n",
        "\n",
        "print(d1.species)  # Output: Canis familiaris\n",
        "print(d2.species)  # Output: Canis familiaris\n",
        "\n",
        "Dog.species = \"Canis lupus familiaris\"  # modify class variable\n",
        "print(d1.species)  # Output: Canis lupus familiaris\n",
        "print(d2.species)  # Output: Canis lupus familiaris"
      ],
      "metadata": {
        "colab": {
          "base_uri": "https://localhost:8080/"
        },
        "id": "A54w4CXy912O",
        "outputId": "9b9a0e34-5c5d-496a-ee28-de70654fa22e"
      },
      "execution_count": 35,
      "outputs": [
        {
          "output_type": "stream",
          "name": "stdout",
          "text": [
            "Canis familiaris\n",
            "Canis familiaris\n",
            "Canis lupus familiaris\n",
            "Canis lupus familiaris\n"
          ]
        }
      ]
    },
    {
      "cell_type": "markdown",
      "source": [
        "Example of instance variable"
      ],
      "metadata": {
        "id": "7xu2V1Oe-Vgk"
      }
    },
    {
      "cell_type": "code",
      "source": [
        "class Dog:\n",
        "    def __init__(self, name):\n",
        "        self.name = name  # instance variable\n",
        "\n",
        "d1 = Dog(\"Buddy\")\n",
        "d2 = Dog(\"Max\")\n",
        "\n",
        "print(d1.name)  # Output: Buddy\n",
        "print(d2.name)  # Output: Max\n",
        "\n",
        "d1.name = \"Charlie\"  # modifying instance variable\n",
        "print(d1.name)  # Output: Charlie\n",
        "print(d2.name)  # Output: Max"
      ],
      "metadata": {
        "colab": {
          "base_uri": "https://localhost:8080/"
        },
        "id": "qiXwIDGd97LT",
        "outputId": "de6d8fc5-7b5a-47c7-82f5-bcda62747aee"
      },
      "execution_count": 36,
      "outputs": [
        {
          "output_type": "stream",
          "name": "stdout",
          "text": [
            "Buddy\n",
            "Max\n",
            "Charlie\n",
            "Max\n"
          ]
        }
      ]
    },
    {
      "cell_type": "markdown",
      "source": [
        "18. What is multiple inheritance in Python?"
      ],
      "metadata": {
        "id": "ecoRUHmE-atD"
      }
    },
    {
      "cell_type": "markdown",
      "source": [
        "Multiple inheritance is an OOP feature where a class can inherit properties and behaviors from more than one parent (base) class. This allows a subclass to combine functionalities from several distinct sources. Python supports multiple inheritance."
      ],
      "metadata": {
        "id": "El_MI3P9-sRf"
      }
    },
    {
      "cell_type": "markdown",
      "source": [
        "Example:"
      ],
      "metadata": {
        "id": "FP1RvHfj-6I3"
      }
    },
    {
      "cell_type": "code",
      "source": [
        "class Father:\n",
        "    def gardening(self):\n",
        "        print(\"I enjoy gardening.\")\n",
        "\n",
        "class Mother:\n",
        "    def cooking(self):\n",
        "        print(\"I love cooking.\")\n",
        "\n",
        "# Child class inheriting from both Father and Mother\n",
        "class Child(Father, Mother):\n",
        "    def sports(self):\n",
        "        print(\"I play football.\")\n",
        "\n",
        "# Create an instance\n",
        "c = Child()\n",
        "c.gardening()  # Output: I enjoy gardening.\n",
        "c.cooking()    # Output: I love cooking.\n",
        "c.sports()     # Output: I play football."
      ],
      "metadata": {
        "id": "7RFjUmrT-3rB"
      },
      "execution_count": null,
      "outputs": []
    },
    {
      "cell_type": "markdown",
      "source": [
        "Here, Child inherits from both Father and Mother. So it has access to both gardening and cooking methods."
      ],
      "metadata": {
        "id": "8oMgQThF-89R"
      }
    },
    {
      "cell_type": "markdown",
      "source": [
        "19. Explain the purpose of __str__ and __repr__ methods in Python."
      ],
      "metadata": {
        "id": "vGnYw0CY_ndZ"
      }
    },
    {
      "cell_type": "markdown",
      "source": [
        "__str__ (for \"string\"):\n",
        "\n",
        "* Purpose: To provide a human-readable string representation of an object. It's intended for display to the end-user.\n",
        "* Usage: Called by str() built-in function and by print().\n",
        "* Goal: Readability.\n",
        "\n",
        "__repr__ (for \"representation\"):\n",
        "\n",
        "* Purpose: To provide an unambiguous, developer-friendly string representation of an object. It's primarily used for debugging and development. The output should ideally be a valid Python expression that could recreate the object (if possible).\n",
        "* Usage: Called by repr() built-in function, and as a fallback for __str__ if __str__ is not defined. It's what you see when you type an object in a Python interactive shell.\n",
        "* Goal: Unambiguity."
      ],
      "metadata": {
        "id": "xdj7P0jN_r8c"
      }
    },
    {
      "cell_type": "markdown",
      "source": [
        "Example;"
      ],
      "metadata": {
        "id": "Sg3f042OAE8i"
      }
    },
    {
      "cell_type": "code",
      "source": [
        "class MyPoint:\n",
        "    def __init__(self, x, y):\n",
        "        self.x = x\n",
        "        self.y = y\n",
        "\n",
        "    def __str__(self):\n",
        "        return f\"({self.x}, {self.y})\" # Human-readable\n",
        "\n",
        "    def __repr__(self):\n",
        "        return f\"MyPoint(x={self.x}, y={self.y})\" # Developer-friendly, recreateable\n",
        "\n",
        "p = MyPoint(1, 2)\n",
        "print(str(p))  # Calls __str__ -> Output: (1, 2)\n",
        "print(p)       # Also calls __str__ -> Output: (1, 2)\n",
        "print(repr(p)) # Calls __repr__ -> Output: MyPoint(x=1, y=2)"
      ],
      "metadata": {
        "colab": {
          "base_uri": "https://localhost:8080/"
        },
        "id": "_61gx0gW_gM7",
        "outputId": "4e4bda1b-497b-412c-a449-d5928d17769d"
      },
      "execution_count": 39,
      "outputs": [
        {
          "output_type": "stream",
          "name": "stdout",
          "text": [
            "(1, 2)\n",
            "(1, 2)\n",
            "MyPoint(x=1, y=2)\n"
          ]
        }
      ]
    },
    {
      "cell_type": "markdown",
      "source": [
        "20. What is the significance of the ‘super()’ function in Python?"
      ],
      "metadata": {
        "id": "_j7N3P18Ad25"
      }
    },
    {
      "cell_type": "markdown",
      "source": [
        "The super() function in Python is used to call methods from the parent (superclass) or sibling classes in an inheritance hierarchy. Its primary significance is to enable cooperative multiple inheritance by ensuring that methods in the Method Resolution Order (MRO) are called correctly and only once. It's most commonly used to call the parent class's __init__ method to ensure proper initialization of inherited attributes.\n",
        "\n",
        "Example:"
      ],
      "metadata": {
        "id": "MnpGxQyBAkHI"
      }
    },
    {
      "cell_type": "code",
      "source": [
        "class Animal:\n",
        "    def __init__(self, name):\n",
        "        self.name = name\n",
        "        print(f\"Animal '{self.name}' initialized.\")\n",
        "\n",
        "class Dog(Animal):\n",
        "    def __init__(self, name, breed):\n",
        "        super().__init__(name) # Calls Animal's __init__\n",
        "        self.breed = breed\n",
        "        print(f\"Dog '{self.name}' of breed '{self.breed}' initialized.\")\n",
        "\n",
        "my_dog = Dog(\"Buddy\", \"Golden Retriever\")\n",
        "# Output:\n",
        "# Animal 'Buddy' initialized.\n",
        "# Dog 'Buddy' of breed 'Golden Retriever' initialized."
      ],
      "metadata": {
        "colab": {
          "base_uri": "https://localhost:8080/"
        },
        "id": "OdBJuhfVAs-b",
        "outputId": "0234d9c4-cd16-4f31-8476-fb331466ded6"
      },
      "execution_count": 40,
      "outputs": [
        {
          "output_type": "stream",
          "name": "stdout",
          "text": [
            "Animal 'Buddy' initialized.\n",
            "Dog 'Buddy' of breed 'Golden Retriever' initialized.\n"
          ]
        }
      ]
    },
    {
      "cell_type": "markdown",
      "source": [
        "21.  What is the significance of the __del__ method in Python?"
      ],
      "metadata": {
        "id": "OR7ToRZ8Azy3"
      }
    },
    {
      "cell_type": "markdown",
      "source": [
        "The __del__ method (also known as the destructor) is a special method in Python that is called when an object is about to be \"destroyed\" or garbage collected (when its reference count drops to zero). Its primary significance is to perform cleanup activities before an object is removed from memory, such as closing file handles, releasing network connections, or freeing up other external resources.\n",
        "\n",
        "**Note:** Its execution timing is not guaranteed, as Python's garbage collector determines when objects are truly deleted. It's generally not recommended for critical resource management; with statements and context managers are preferred.\n",
        "\n",
        "Example:"
      ],
      "metadata": {
        "id": "6Vm7rWm4A4u1"
      }
    },
    {
      "cell_type": "code",
      "source": [
        "class MyResource:\n",
        "    def __init__(self, name):\n",
        "        self.name = name\n",
        "        print(f\"Resource '{self.name}' created.\")\n",
        "\n",
        "    def __del__(self):\n",
        "        print(f\"Resource '{self.name}' is being destroyed (cleaned up).\")\n",
        "\n",
        "obj1 = MyResource(\"File_1\")\n",
        "obj2 = MyResource(\"Network_Connection\")\n",
        "\n",
        "# When references go out of scope or explicitly deleted:\n",
        "del obj1\n",
        "# Output (may vary slightly depending on GC):\n",
        "# Resource 'File_1' is being destroyed (cleaned up).\n",
        "# (obj2 will be destroyed when the program ends or its reference count drops)"
      ],
      "metadata": {
        "colab": {
          "base_uri": "https://localhost:8080/"
        },
        "id": "sEEYJUN7BE-l",
        "outputId": "908b9ec3-4471-421d-87d5-7389594fa522"
      },
      "execution_count": 41,
      "outputs": [
        {
          "output_type": "stream",
          "name": "stdout",
          "text": [
            "Resource 'File_1' created.\n",
            "Resource 'Network_Connection' created.\n",
            "Resource 'File_1' is being destroyed (cleaned up).\n"
          ]
        }
      ]
    },
    {
      "cell_type": "markdown",
      "source": [
        "22. What is the difference between @staticmethod and @classmethod in Python?"
      ],
      "metadata": {
        "id": "D-EVoFKSBQHP"
      }
    },
    {
      "cell_type": "markdown",
      "source": [
        "**@staticmethod:**\n",
        "\n",
        "* Decorated with @staticmethod.\n",
        "* Does not take self (instance) or cls (class) as its first argument.\n",
        "* Behaves like a regular function defined inside a class. It has no access to instance-specific data or class-specific data unless passed explicitly.\n",
        "* Use Case: Utility functions that logically belong to the class but don't operate on specific instances or class state.\n",
        "\n",
        "**@classmethod:**\n",
        "\n",
        "* Decorated with @classmethod.\n",
        "* Takes cls (conventionally) as its first argument, which refers to the class itself.\n",
        "* Can access and modify class-level attributes and can be used to create other instances of the class (factory methods).\n",
        "* Use Case: Factory methods, or operations that affect the class state, or methods that need to access other class methods/attributes.\n",
        "\n",
        "Example:"
      ],
      "metadata": {
        "id": "emk3WZULBVpN"
      }
    },
    {
      "cell_type": "code",
      "source": [
        "class MyClass:\n",
        "    class_variable = 0\n",
        "\n",
        "    def __init__(self, instance_value):\n",
        "        self.instance_value = instance_value\n",
        "\n",
        "    @classmethod\n",
        "    def increment_class_variable(cls):\n",
        "        cls.class_variable += 1\n",
        "        print(f\"Class variable: {cls.class_variable}\")\n",
        "\n",
        "    @staticmethod\n",
        "    def helper_function(x, y):\n",
        "        return x + y\n",
        "\n",
        "obj = MyClass(10)\n",
        "MyClass.increment_class_variable() # Call class method on class\n",
        "obj.increment_class_variable()     # Also works on instance\n",
        "\n",
        "result = MyClass.helper_function(5, 7) # Call static method on class\n",
        "print(f\"Helper result: {result}\")"
      ],
      "metadata": {
        "colab": {
          "base_uri": "https://localhost:8080/"
        },
        "id": "7a8JBewCB7Jm",
        "outputId": "f22dc66d-a931-476e-c5e8-cab37ca04c8d"
      },
      "execution_count": 42,
      "outputs": [
        {
          "output_type": "stream",
          "name": "stdout",
          "text": [
            "Class variable: 1\n",
            "Class variable: 2\n",
            "Helper result: 12\n"
          ]
        }
      ]
    },
    {
      "cell_type": "markdown",
      "source": [
        "23. How does polymorphism work in Python with inheritance?"
      ],
      "metadata": {
        "id": "-kGw0qR4B82t"
      }
    },
    {
      "cell_type": "markdown",
      "source": [
        "In Python, polymorphism with inheritance primarily works through method overriding. When a subclass inherits from a superclass, it can provide its own implementation for a method that is already defined in the superclass. When this method is called on an object, Python's dynamic typing (or \"duck typing\") determines which version of the method to execute at runtime based on the actual type of the object.\n",
        "\n",
        "**Mechanism:**\n",
        "\n",
        "* Inheritance: A subclass inherits methods from a base class.\n",
        "* Overriding: The subclass redefines one or more of these inherited methods.\n",
        "* Dynamic Dispatch: When a method is called on an object, Python looks for the method first in the object's class. If not found, it traverses the Method Resolution Order (MRO) up the inheritance hierarchy until it finds the method.\n",
        "\n",
        "Example: (Same as Polymorphism theory question example)"
      ],
      "metadata": {
        "id": "FwBTv2IPCEoi"
      }
    },
    {
      "cell_type": "code",
      "source": [
        "class Bird:\n",
        "    def fly(self):\n",
        "        print(\"Bird flies!\")\n",
        "\n",
        "class Sparrow(Bird):\n",
        "    def fly(self): # Overrides fly()\n",
        "        print(\"Sparrow flies gracefully.\")\n",
        "\n",
        "class Penguin(Bird):\n",
        "    def fly(self): # Overrides fly() differently\n",
        "        print(\"Penguin cannot fly, it waddles.\")\n",
        "\n",
        "def make_it_fly(bird_obj):\n",
        "    bird_obj.fly() # Polymorphic call - the specific fly() depends on the object type\n",
        "\n",
        "bird1 = Bird()\n",
        "bird2 = Sparrow()\n",
        "bird3 = Penguin()\n",
        "\n",
        "make_it_fly(bird1) # Output: Bird flies!\n",
        "make_it_fly(bird2) # Output: Sparrow flies gracefully.\n",
        "make_it_fly(bird3) # Output: Penguin cannot fly, it waddles."
      ],
      "metadata": {
        "colab": {
          "base_uri": "https://localhost:8080/"
        },
        "id": "OjMbYEoCCXIC",
        "outputId": "277ad739-39a7-4557-d7de-82d439e8398e"
      },
      "execution_count": 43,
      "outputs": [
        {
          "output_type": "stream",
          "name": "stdout",
          "text": [
            "Bird flies!\n",
            "Sparrow flies gracefully.\n",
            "Penguin cannot fly, it waddles.\n"
          ]
        }
      ]
    },
    {
      "cell_type": "markdown",
      "source": [
        "24. What is method chaining in Python OOP?"
      ],
      "metadata": {
        "id": "3TayEnNsCbHF"
      }
    },
    {
      "cell_type": "markdown",
      "source": [
        "Method chaining (or fluent interface) is a technique where multiple method calls are strung together on the same object in a single line of code. This is possible when each method returns the object itself (self), allowing the next method call to be applied directly to the result of the previous one. It enhances readability for sequences of operations."
      ],
      "metadata": {
        "id": "rWdu_BqsCftb"
      }
    },
    {
      "cell_type": "markdown",
      "source": [
        "Example:"
      ],
      "metadata": {
        "id": "xKSkXLwoCnx-"
      }
    },
    {
      "cell_type": "code",
      "source": [
        "class Calculator:\n",
        "    def __init__(self, value=0):\n",
        "        self.value = value\n",
        "\n",
        "    def add(self, num):\n",
        "        self.value += num\n",
        "        return self # Return self to allow chaining\n",
        "\n",
        "    def subtract(self, num):\n",
        "        self.value -= num\n",
        "        return self # Return self to allow chaining\n",
        "\n",
        "    def get_result(self):\n",
        "        return self.value\n",
        "\n",
        "calc = Calculator(10)\n",
        "result = calc.add(5).subtract(2).add(10).get_result() # Chaining\n",
        "print(result) # Output: 23 (10 + 5 - 2 + 10)"
      ],
      "metadata": {
        "colab": {
          "base_uri": "https://localhost:8080/"
        },
        "id": "UoygRgsOCjhY",
        "outputId": "4c997c99-7246-4832-dab1-37080bbcfbf0"
      },
      "execution_count": 44,
      "outputs": [
        {
          "output_type": "stream",
          "name": "stdout",
          "text": [
            "23\n"
          ]
        }
      ]
    },
    {
      "cell_type": "markdown",
      "source": [
        "25. What is the purpose of the __call__ method in Python?"
      ],
      "metadata": {
        "id": "jo6pSzxgCr66"
      }
    },
    {
      "cell_type": "markdown",
      "source": [
        "The __call__ method is a special dunder method that allows an object of a class to be called like a function. If a class implements __call__, then instances of that class can be invoked using parentheses () as if they were functions. This makes the objects \"callable.\"\n",
        "\n",
        "* Use Case: Useful for creating objects that act as customizable functions, or for decorators that need to be instantiated with arguments.\n",
        "\n",
        "Example:"
      ],
      "metadata": {
        "id": "2vOXg1EdCwOW"
      }
    },
    {
      "cell_type": "code",
      "source": [
        "class Multiplier:\n",
        "    def __init__(self, factor):\n",
        "        self.factor = factor\n",
        "\n",
        "    def __call__(self, number): # Makes instances callable\n",
        "        return number * self.factor\n",
        "\n",
        "double = Multiplier(2)\n",
        "triple = Multiplier(3)\n",
        "\n",
        "print(double(5)) # Calling 'double' object like a function -> Output: 10\n",
        "print(triple(7)) # Calling 'triple' object like a function -> Output: 21"
      ],
      "metadata": {
        "colab": {
          "base_uri": "https://localhost:8080/"
        },
        "id": "C5Re49cSC5Uk",
        "outputId": "4b7dea03-13ab-495e-80cd-49a39db0e65d"
      },
      "execution_count": 45,
      "outputs": [
        {
          "output_type": "stream",
          "name": "stdout",
          "text": [
            "10\n",
            "21\n"
          ]
        }
      ]
    },
    {
      "cell_type": "markdown",
      "source": [
        "# Practical Questions"
      ],
      "metadata": {
        "id": "8RovdNDelrgc"
      }
    },
    {
      "cell_type": "markdown",
      "source": [
        "1. Create a parent class Animal with a method speak() that prints a generic message. Create a child class Dog\n",
        "that overrides the speak() method to print \"Bark!\"."
      ],
      "metadata": {
        "id": "2k49ut3ulxkI"
      }
    },
    {
      "cell_type": "code",
      "execution_count": null,
      "metadata": {
        "colab": {
          "base_uri": "https://localhost:8080/"
        },
        "id": "tYTkehGzldbR",
        "outputId": "7edcb242-4752-4837-ebf6-353df456b822"
      },
      "outputs": [
        {
          "output_type": "stream",
          "name": "stdout",
          "text": [
            "Animal makes a generic sound.\n",
            "Bark!\n"
          ]
        }
      ],
      "source": [
        "class Animal:\n",
        "    def speak(self):\n",
        "        print(\"Animal makes a generic sound.\")\n",
        "\n",
        "class Dog(Animal):\n",
        "    def speak(self): # Overrides the speak method\n",
        "        print(\"Bark!\")\n",
        "\n",
        "# Example usage:\n",
        "my_animal = Animal()\n",
        "my_animal.speak()\n",
        "\n",
        "my_dog = Dog()\n",
        "my_dog.speak()"
      ]
    },
    {
      "cell_type": "markdown",
      "source": [
        "2. Write a program to create an abstract class Shape with a method area(). Derive classes Circle and Rectangle\n",
        "from it and implement the area() method in both."
      ],
      "metadata": {
        "id": "niq73K9bsmj4"
      }
    },
    {
      "cell_type": "code",
      "source": [
        "from abc import ABC, abstractmethod\n",
        "import math\n",
        "\n",
        "class Shape(ABC): # Abstract Base Class\n",
        "    @abstractmethod\n",
        "    def area(self):\n",
        "        pass\n",
        "\n",
        "class Circle(Shape):\n",
        "    def __init__(self, radius):\n",
        "        self.radius = radius\n",
        "\n",
        "    def area(self):\n",
        "        return math.pi * self.radius ** 2\n",
        "\n",
        "class Rectangle(Shape):\n",
        "    def __init__(self, length, width):\n",
        "        self.length = length\n",
        "        self.width = width\n",
        "\n",
        "    def area(self):\n",
        "        return self.length * self.width\n",
        "\n",
        "# Example usage:\n",
        "circle = Circle(5)\n",
        "print(f\"Area of circle: {circle.area():.2f}\")\n",
        "\n",
        "rectangle = Rectangle(4, 6)\n",
        "print(f\"Area of rectangle: {rectangle.area()}\")"
      ],
      "metadata": {
        "colab": {
          "base_uri": "https://localhost:8080/"
        },
        "id": "8_hO0E2YsnWw",
        "outputId": "6db2a492-6b95-4588-8b47-7e6e7de9731c"
      },
      "execution_count": null,
      "outputs": [
        {
          "output_type": "stream",
          "name": "stdout",
          "text": [
            "Area of circle: 78.54\n",
            "Area of rectangle: 24\n"
          ]
        }
      ]
    },
    {
      "cell_type": "markdown",
      "source": [
        "3. Implement a multi-level inheritance scenario where a class Vehicle has an attribute type. Derive a class Car\n",
        "and further derive a class ElectricCar that adds a battery attribute."
      ],
      "metadata": {
        "id": "fQVCWX41tK_k"
      }
    },
    {
      "cell_type": "code",
      "source": [
        "class Vehicle:\n",
        "    def __init__(self, vehicle_type):\n",
        "        self.type = vehicle_type\n",
        "        print(f\"Vehicle type: {self.type}\")\n",
        "\n",
        "class Car(Vehicle):\n",
        "    def __init__(self, brand, vehicle_type=\"Car\"):\n",
        "        super().__init__(vehicle_type)\n",
        "        self.brand = brand\n",
        "        print(f\"Car brand: {self.brand}\")\n",
        "\n",
        "class ElectricCar(Car):\n",
        "    def __init__(self, brand, battery_kwh, vehicle_type=\"Electric Car\"):\n",
        "        super().__init__(brand, vehicle_type)\n",
        "        self.battery = battery_kwh\n",
        "        print(f\"Electric Car battery (kWh): {self.battery}\")\n",
        "\n",
        "# Example usage:\n",
        "my_electric_car = ElectricCar(\"Tesla\", 100)\n",
        "print(f\"My car is a {my_electric_car.brand} {my_electric_car.type} with a {my_electric_car.battery} kWh battery.\")"
      ],
      "metadata": {
        "colab": {
          "base_uri": "https://localhost:8080/"
        },
        "id": "dm4jorXQtOE6",
        "outputId": "e5ebed12-d7b1-4551-e907-a6bf77860c82"
      },
      "execution_count": null,
      "outputs": [
        {
          "output_type": "stream",
          "name": "stdout",
          "text": [
            "Vehicle type: Electric Car\n",
            "Car brand: Tesla\n",
            "Electric Car battery (kWh): 100\n",
            "My car is a Tesla Electric Car with a 100 kWh battery.\n"
          ]
        }
      ]
    },
    {
      "cell_type": "markdown",
      "source": [
        "4. Demonstrate polymorphism by creating a base class Bird with a method fly(). Create two derived classes\n",
        "Sparrow and Penguin that override the fly() method."
      ],
      "metadata": {
        "id": "YNpzdiGJtcZa"
      }
    },
    {
      "cell_type": "code",
      "source": [
        "class Bird:\n",
        "    def fly(self):\n",
        "        print(\"This bird flies.\")\n",
        "\n",
        "class Sparrow(Bird):\n",
        "    def fly(self):\n",
        "        print(\"Sparrow flies gracefully.\")\n",
        "\n",
        "class Penguin(Bird):\n",
        "    def fly(self):\n",
        "        print(\"Penguin cannot fly, it swims!\")\n",
        "\n",
        "# Function demonstrating polymorphism\n",
        "def make_bird_fly(bird_obj):\n",
        "    bird_obj.fly()\n",
        "\n",
        "# Example usage:\n",
        "bird = Bird()\n",
        "sparrow = Sparrow()\n",
        "penguin = Penguin()\n",
        "\n",
        "make_bird_fly(bird)\n",
        "make_bird_fly(sparrow)\n",
        "make_bird_fly(penguin)"
      ],
      "metadata": {
        "colab": {
          "base_uri": "https://localhost:8080/"
        },
        "id": "zd3WJNWhthCs",
        "outputId": "3828f312-5e87-4163-e991-27ed21da8bd0"
      },
      "execution_count": null,
      "outputs": [
        {
          "output_type": "stream",
          "name": "stdout",
          "text": [
            "This bird flies.\n",
            "Sparrow flies gracefully.\n",
            "Penguin cannot fly, it swims!\n"
          ]
        }
      ]
    },
    {
      "cell_type": "markdown",
      "source": [
        "5. Write a program to demonstrate encapsulation by creating a class BankAccount with private attributes\n",
        "balance and methods to deposit, withdraw, and check balance."
      ],
      "metadata": {
        "id": "sAtkfmW6ttC3"
      }
    },
    {
      "cell_type": "code",
      "source": [
        "class BankAccount:\n",
        "    def __init__(self, initial_balance):\n",
        "        self.__balance = initial_balance # Private attribute using __\n",
        "\n",
        "    def deposit(self, amount):\n",
        "        if amount > 0:\n",
        "            self.__balance += amount\n",
        "            print(f\"Deposited: ${amount}. New balance: ${self.__balance}\")\n",
        "        else:\n",
        "            print(\"Deposit amount must be positive.\")\n",
        "\n",
        "    def withdraw(self, amount):\n",
        "        if amount > 0 and amount <= self.__balance:\n",
        "            self.__balance -= amount\n",
        "            print(f\"Withdrew: ${amount}. New balance: ${self.__balance}\")\n",
        "        elif amount > self.__balance:\n",
        "            print(\"Insufficient funds.\")\n",
        "        else:\n",
        "            print(\"Withdrawal amount must be positive.\")\n",
        "\n",
        "    def check_balance(self):\n",
        "        print(f\"Current balance: ${self.__balance}\")\n",
        "\n",
        "# Example usage:\n",
        "account = BankAccount(1000)\n",
        "account.check_balance()\n",
        "\n",
        "account.deposit(200)\n",
        "account.withdraw(500)\n",
        "account.withdraw(1000) # Insufficient funds\n",
        "\n",
        "# Trying to access __balance directly will fail (due to name mangling)\n",
        "# print(account.__balance) # AttributeError"
      ],
      "metadata": {
        "colab": {
          "base_uri": "https://localhost:8080/"
        },
        "id": "EjXkNa5rtwXW",
        "outputId": "402f9c63-9d87-451c-c012-357c572bc173"
      },
      "execution_count": null,
      "outputs": [
        {
          "output_type": "stream",
          "name": "stdout",
          "text": [
            "Current balance: $1000\n",
            "Deposited: $200. New balance: $1200\n",
            "Withdrew: $500. New balance: $700\n",
            "Insufficient funds.\n"
          ]
        }
      ]
    },
    {
      "cell_type": "markdown",
      "source": [
        "6. Demonstrate runtime polymorphism using a method play() in a base class Instrument. Derive classes Guitar\n",
        "and Piano that implement their own version of play()."
      ],
      "metadata": {
        "id": "3X8m_Slyva5T"
      }
    },
    {
      "cell_type": "code",
      "source": [
        "class Instrument:\n",
        "    def play(self):\n",
        "        print(\"Instrument plays a sound.\")\n",
        "\n",
        "class Guitar(Instrument):\n",
        "    def play(self):\n",
        "        print(\"Guitar strums a melody.\")\n",
        "\n",
        "class Piano(Instrument):\n",
        "    def play(self):\n",
        "        print(\"Piano plays a harmonious tune.\")\n",
        "\n",
        "# Function demonstrating runtime polymorphism\n",
        "def jam_session(instrument_obj):\n",
        "    instrument_obj.play()\n",
        "\n",
        "# Example usage:\n",
        "general_instrument = Instrument()\n",
        "guitar = Guitar()\n",
        "piano = Piano()\n",
        "\n",
        "jam_session(general_instrument)\n",
        "jam_session(guitar)\n",
        "jam_session(piano)"
      ],
      "metadata": {
        "colab": {
          "base_uri": "https://localhost:8080/"
        },
        "id": "LtzFS-IWveCa",
        "outputId": "759b7f75-3c42-4b5e-eb5e-382febf66174"
      },
      "execution_count": null,
      "outputs": [
        {
          "output_type": "stream",
          "name": "stdout",
          "text": [
            "Instrument plays a sound.\n",
            "Guitar strums a melody.\n",
            "Piano plays a harmonious tune.\n"
          ]
        }
      ]
    },
    {
      "cell_type": "markdown",
      "source": [
        "7. Create a class MathOperations with a class method add_numbers() to add two numbers and a static\n",
        "method subtract_numbers() to subtract two numbers."
      ],
      "metadata": {
        "id": "LdkjeTKKvuej"
      }
    },
    {
      "cell_type": "code",
      "source": [
        "class MathOperations:\n",
        "    @classmethod\n",
        "    def add_numbers(cls, a, b):\n",
        "        print(f\"Adding numbers using a class method (Class: {cls.__name__}):\")\n",
        "        return a + b\n",
        "\n",
        "    @staticmethod\n",
        "    def subtract_numbers(a, b):\n",
        "        print(\"Subtracting numbers using a static method:\")\n",
        "        return a - b\n",
        "\n",
        "# Example usage:\n",
        "sum_result = MathOperations.add_numbers(10, 5)\n",
        "print(f\"Sum: {sum_result}\")\n",
        "\n",
        "diff_result = MathOperations.subtract_numbers(10, 5)\n",
        "print(f\"Difference: {diff_result}\")"
      ],
      "metadata": {
        "colab": {
          "base_uri": "https://localhost:8080/"
        },
        "id": "SJpqX505vydX",
        "outputId": "4ea274f6-f601-4936-a541-433569225cc4"
      },
      "execution_count": null,
      "outputs": [
        {
          "output_type": "stream",
          "name": "stdout",
          "text": [
            "Adding numbers using a class method (Class: MathOperations):\n",
            "Sum: 15\n",
            "Subtracting numbers using a static method:\n",
            "Difference: 5\n"
          ]
        }
      ]
    },
    {
      "cell_type": "markdown",
      "source": [
        "8. Implement a class Person with a class method to count the total number of persons created."
      ],
      "metadata": {
        "id": "2VmnuozBwF_2"
      }
    },
    {
      "cell_type": "code",
      "source": [
        "class Person:\n",
        "    _total_persons = 0 # Class variable to keep count\n",
        "\n",
        "    def __init__(self, name):\n",
        "        self.name = name\n",
        "        Person._total_persons += 1 # Increment count upon creation\n",
        "\n",
        "    @classmethod\n",
        "    def get_total_persons(cls):\n",
        "        return cls._total_persons\n",
        "\n",
        "# Example usage:\n",
        "p1 = Person(\"Alice\")\n",
        "p2 = Person(\"Bob\")\n",
        "p3 = Person(\"Charlie\")\n",
        "\n",
        "print(f\"Total number of persons created: {Person.get_total_persons()}\")"
      ],
      "metadata": {
        "colab": {
          "base_uri": "https://localhost:8080/"
        },
        "id": "WwCKdVFpwbpb",
        "outputId": "6f50bcec-4047-4fa4-bd32-7b5216edae8e"
      },
      "execution_count": null,
      "outputs": [
        {
          "output_type": "stream",
          "name": "stdout",
          "text": [
            "Total number of persons created: 3\n"
          ]
        }
      ]
    },
    {
      "cell_type": "markdown",
      "source": [
        "9. Write a class Fraction with attributes numerator and denominator. Override the str method to display the\n",
        "fraction as \"numerator/denominator\"."
      ],
      "metadata": {
        "id": "v7DLcsXAwjwk"
      }
    },
    {
      "cell_type": "code",
      "source": [
        "class Fraction:\n",
        "    def __init__(self, numerator, denominator):\n",
        "        if denominator == 0:\n",
        "            raise ValueError(\"Denominator cannot be zero.\")\n",
        "        self.numerator = numerator\n",
        "        self.denominator = denominator\n",
        "\n",
        "    def __str__(self):\n",
        "        return f\"{self.numerator}/{self.denominator}\"\n",
        "\n",
        "# Example usage:\n",
        "frac1 = Fraction(3, 4)\n",
        "frac2 = Fraction(1, 2)\n",
        "\n",
        "print(f\"Fraction 1: {frac1}\") # Calls __str__\n",
        "print(f\"Fraction 2: {frac2}\") # Calls __str__"
      ],
      "metadata": {
        "colab": {
          "base_uri": "https://localhost:8080/"
        },
        "id": "pPToBzh6wkwk",
        "outputId": "16c97d80-0bc3-4e55-977f-facb3ef90533"
      },
      "execution_count": null,
      "outputs": [
        {
          "output_type": "stream",
          "name": "stdout",
          "text": [
            "Fraction 1: 3/4\n",
            "Fraction 2: 1/2\n"
          ]
        }
      ]
    },
    {
      "cell_type": "markdown",
      "source": [
        "10. Demonstrate operator overloading by creating a class Vector and overriding the add method to add two\n",
        "vectors."
      ],
      "metadata": {
        "id": "RSXKzJQ2w43x"
      }
    },
    {
      "cell_type": "code",
      "source": [
        "class Vector:\n",
        "    def __init__(self, x, y):\n",
        "        self.x = x\n",
        "        self.y = y\n",
        "\n",
        "    def __str__(self):\n",
        "        return f\"Vector({self.x}, {self.y})\"\n",
        "\n",
        "    def __add__(self, other): # Overloads the '+' operator\n",
        "        if isinstance(other, Vector):\n",
        "            return Vector(self.x + other.x, self.y + other.y)\n",
        "        else:\n",
        "            raise TypeError(\"Can only add Vector objects to a Vector.\")\n",
        "\n",
        "# Example usage:\n",
        "v1 = Vector(2, 3)\n",
        "v2 = Vector(5, 7)\n",
        "\n",
        "v3 = v1 + v2 # This calls v1.__add__(v2)\n",
        "print(f\"Vector 1: {v1}\")\n",
        "print(f\"Vector 2: {v2}\")\n",
        "print(f\"Sum of vectors: {v3}\") # Output: Vector(7, 10)"
      ],
      "metadata": {
        "colab": {
          "base_uri": "https://localhost:8080/"
        },
        "id": "dIkEoLeWw6ZP",
        "outputId": "8d6b4f6c-e04e-4961-a8bf-a1160b666784"
      },
      "execution_count": null,
      "outputs": [
        {
          "output_type": "stream",
          "name": "stdout",
          "text": [
            "Vector 1: Vector(2, 3)\n",
            "Vector 2: Vector(5, 7)\n",
            "Sum of vectors: Vector(7, 10)\n"
          ]
        }
      ]
    },
    {
      "cell_type": "markdown",
      "source": [
        "11. Create a class Person with attributes name and age. Add a method greet() that prints \"Hello, my name is\n",
        "{name} and I am {age} years old.\""
      ],
      "metadata": {
        "id": "xNt16aMMxDhq"
      }
    },
    {
      "cell_type": "code",
      "source": [
        "class Person:\n",
        "    def __init__(self, name, age):\n",
        "        self.name = name\n",
        "        self.age = age\n",
        "\n",
        "    def greet(self):\n",
        "        print(f\"Hello, my name is {self.name} and I am {self.age} years old.\")\n",
        "\n",
        "# Example usage:\n",
        "person1 = Person(\"Alice\", 30)\n",
        "person1.greet()\n",
        "\n",
        "person2 = Person(\"Bob\", 25)\n",
        "person2.greet()"
      ],
      "metadata": {
        "colab": {
          "base_uri": "https://localhost:8080/"
        },
        "id": "L8UPBoYexIUY",
        "outputId": "21e54104-b498-4d90-898a-8ce80a96f9f0"
      },
      "execution_count": null,
      "outputs": [
        {
          "output_type": "stream",
          "name": "stdout",
          "text": [
            "Hello, my name is Alice and I am 30 years old.\n",
            "Hello, my name is Bob and I am 25 years old.\n"
          ]
        }
      ]
    },
    {
      "cell_type": "markdown",
      "source": [
        "12. Implement a class Student with attributes name and grades. Create a method average_grade() to compute\n",
        "the average of the grades."
      ],
      "metadata": {
        "id": "6_-yHzZzxpue"
      }
    },
    {
      "cell_type": "code",
      "source": [
        "class Student:\n",
        "    def __init__(self, name, grades):\n",
        "        self.name = name\n",
        "        # Ensure grades is a list or tuple of numbers\n",
        "        if not isinstance(grades, (list, tuple)) or not all(isinstance(g, (int, float)) for g in grades):\n",
        "            raise ValueError(\"Grades must be a list or tuple of numbers.\")\n",
        "        self.grades = grades\n",
        "\n",
        "    def average_grade(self):\n",
        "        if not self.grades:\n",
        "            return 0 # Handle empty grades list\n",
        "        return sum(self.grades) / len(self.grades)\n",
        "\n",
        "# Example usage:\n",
        "student1 = Student(\"Emily\", [85, 90, 78, 92])\n",
        "print(f\"{student1.name}'s average grade: {student1.average_grade():.2f}\")\n",
        "\n",
        "student2 = Student(\"David\", [70, 65, 80])\n",
        "print(f\"{student2.name}'s average grade: {student2.average_grade():.2f}\")"
      ],
      "metadata": {
        "colab": {
          "base_uri": "https://localhost:8080/"
        },
        "id": "3NjKLTSSxsv0",
        "outputId": "a53dea9f-54ba-40a1-b9e0-bf6814d52171"
      },
      "execution_count": null,
      "outputs": [
        {
          "output_type": "stream",
          "name": "stdout",
          "text": [
            "Emily's average grade: 86.25\n",
            "David's average grade: 71.67\n"
          ]
        }
      ]
    },
    {
      "cell_type": "markdown",
      "source": [
        "13. Create a class Rectangle with methods set_dimensions() to set the dimensions and area() to calculate the\n",
        "area."
      ],
      "metadata": {
        "id": "ngTK5l7ex0KQ"
      }
    },
    {
      "cell_type": "code",
      "source": [
        "class Rectangle:\n",
        "    def __init__(self, length=0, width=0):\n",
        "        self.length = length\n",
        "        self.width = width\n",
        "\n",
        "    def set_dimensions(self, length, width):\n",
        "        if length <= 0 or width <= 0:\n",
        "            raise ValueError(\"Dimensions must be positive.\")\n",
        "        self.length = length\n",
        "        self.width = width\n",
        "        print(f\"Dimensions set to: Length={self.length}, Width={self.width}\")\n",
        "\n",
        "    def area(self):\n",
        "        return self.length * self.width\n",
        "\n",
        "# Example usage:\n",
        "rect = Rectangle()\n",
        "rect.set_dimensions(10, 5)\n",
        "print(f\"Area of rectangle: {rect.area()}\")\n",
        "\n",
        "rect2 = Rectangle(7, 3)\n",
        "print(f\"Area of rect2: {rect2.area()}\")"
      ],
      "metadata": {
        "colab": {
          "base_uri": "https://localhost:8080/"
        },
        "id": "Veji7qUIx46W",
        "outputId": "42a31f39-20e8-4706-db85-454059e335fd"
      },
      "execution_count": null,
      "outputs": [
        {
          "output_type": "stream",
          "name": "stdout",
          "text": [
            "Dimensions set to: Length=10, Width=5\n",
            "Area of rectangle: 50\n",
            "Area of rect2: 21\n"
          ]
        }
      ]
    },
    {
      "cell_type": "markdown",
      "source": [
        "14. Create a class Employee with a method calculate_salary() that computes the salary based on hours worked\n",
        "and hourly rate. Create a derived class Manager that adds a bonus to the salary."
      ],
      "metadata": {
        "id": "e2iyq5CIyBUx"
      }
    },
    {
      "cell_type": "code",
      "source": [
        "class Employee:\n",
        "    def __init__(self, name, hourly_rate):\n",
        "        self.name = name\n",
        "        self.hourly_rate = hourly_rate\n",
        "\n",
        "    def calculate_salary(self, hours_worked):\n",
        "        return hours_worked * self.hourly_rate\n",
        "\n",
        "class Manager(Employee):\n",
        "    def __init__(self, name, hourly_rate, bonus):\n",
        "        super().__init__(name, hourly_rate)\n",
        "        self.bonus = bonus\n",
        "\n",
        "    def calculate_salary(self, hours_worked):\n",
        "        base_salary = super().calculate_salary(hours_worked)\n",
        "        return base_salary + self.bonus\n",
        "\n",
        "# Example usage:\n",
        "employee = Employee(\"John Doe\", 20)\n",
        "print(f\"Employee {employee.name}'s salary for 40 hours: ${employee.calculate_salary(40)}\")\n",
        "\n",
        "manager = Manager(\"Jane Smith\", 30, 500)\n",
        "print(f\"Manager {manager.name}'s salary for 40 hours: ${manager.calculate_salary(40)}\")"
      ],
      "metadata": {
        "colab": {
          "base_uri": "https://localhost:8080/"
        },
        "id": "sxmsEgflyIZ-",
        "outputId": "3e14f610-c42f-40cf-d926-2563f8e314b1"
      },
      "execution_count": null,
      "outputs": [
        {
          "output_type": "stream",
          "name": "stdout",
          "text": [
            "Employee John Doe's salary for 40 hours: $800\n",
            "Manager Jane Smith's salary for 40 hours: $1700\n"
          ]
        }
      ]
    },
    {
      "cell_type": "markdown",
      "source": [
        "15. Create a class Product with attributes name, price, and quantity. Implement a method total_price() that\n",
        "calculates the total price of the product."
      ],
      "metadata": {
        "id": "9n-WdLwEyYzE"
      }
    },
    {
      "cell_type": "code",
      "source": [
        "class Product:\n",
        "    def __init__(self, name, price, quantity):\n",
        "        if price < 0 or quantity < 0:\n",
        "            raise ValueError(\"Price and quantity cannot be negative.\")\n",
        "        self.name = name\n",
        "        self.price = price\n",
        "        self.quantity = quantity\n",
        "\n",
        "    def total_price(self):\n",
        "        return self.price * self.quantity\n",
        "\n",
        "# Example usage:\n",
        "laptop = Product(\"Laptop\", 1200, 2)\n",
        "print(f\"Total price for {laptop.quantity} {laptop.name}s: ${laptop.total_price()}\")\n",
        "\n",
        "keyboard = Product(\"Mechanical Keyboard\", 80, 5)\n",
        "print(f\"Total price for {keyboard.quantity} {keyboard.name}s: ${keyboard.total_price()}\")"
      ],
      "metadata": {
        "colab": {
          "base_uri": "https://localhost:8080/"
        },
        "id": "BS07w60Eyc_D",
        "outputId": "eef8b37e-6bc5-4af9-ef73-8eaa47fc723e"
      },
      "execution_count": null,
      "outputs": [
        {
          "output_type": "stream",
          "name": "stdout",
          "text": [
            "Total price for 2 Laptops: $2400\n",
            "Total price for 5 Mechanical Keyboards: $400\n"
          ]
        }
      ]
    },
    {
      "cell_type": "markdown",
      "source": [
        "16. Create a class Animal with an abstract method sound(). Create two derived classes Cow and Sheep that\n",
        "implement the sound() method."
      ],
      "metadata": {
        "id": "xT8-Bbosy8ul"
      }
    },
    {
      "cell_type": "code",
      "source": [
        "from abc import ABC, abstractmethod\n",
        "\n",
        "class Animal(ABC):\n",
        "    @abstractmethod\n",
        "    def sound(self):\n",
        "        pass\n",
        "\n",
        "class Cow(Animal):\n",
        "    def sound(self):\n",
        "        print(\"Moo!\")\n",
        "\n",
        "class Sheep(Animal):\n",
        "    def sound(self):\n",
        "        print(\"Baa!\")\n",
        "\n",
        "# Example usage:\n",
        "cow = Cow()\n",
        "cow.sound()\n",
        "\n",
        "sheep = Sheep()\n",
        "sheep.sound()"
      ],
      "metadata": {
        "colab": {
          "base_uri": "https://localhost:8080/"
        },
        "id": "GRH419NGzAa2",
        "outputId": "287378f9-c29b-4091-d34c-4cb781386ec3"
      },
      "execution_count": null,
      "outputs": [
        {
          "output_type": "stream",
          "name": "stdout",
          "text": [
            "Moo!\n",
            "Baa!\n"
          ]
        }
      ]
    },
    {
      "cell_type": "markdown",
      "source": [
        "17. Create a class Book with attributes title, author, and year_published. Add a method get_book_info() that\n",
        "returns a formatted string with the book's details."
      ],
      "metadata": {
        "id": "NFhuRr-s06IA"
      }
    },
    {
      "cell_type": "code",
      "source": [
        "class Book:\n",
        "    def __init__(self, title, author, year_published):\n",
        "        self.title = title\n",
        "        self.author = author\n",
        "        self.year_published = year_published\n",
        "\n",
        "    def get_book_info(self):\n",
        "        return f\"Title: {self.title}, Author: {self.author}, Published: {self.year_published}\"\n",
        "\n",
        "# Example usage:\n",
        "book1 = Book(\"The Hitchhiker's Guide to the Galaxy\", \"Douglas Adams\", 1979)\n",
        "print(book1.get_book_info())\n",
        "\n",
        "book2 = Book(\"1984\", \"George Orwell\", 1949)\n",
        "print(book2.get_book_info())"
      ],
      "metadata": {
        "colab": {
          "base_uri": "https://localhost:8080/"
        },
        "id": "Ro_3rZNr07j4",
        "outputId": "7a40be5c-5239-4485-a343-4074ed0f5961"
      },
      "execution_count": null,
      "outputs": [
        {
          "output_type": "stream",
          "name": "stdout",
          "text": [
            "Title: The Hitchhiker's Guide to the Galaxy, Author: Douglas Adams, Published: 1979\n",
            "Title: 1984, Author: George Orwell, Published: 1949\n"
          ]
        }
      ]
    },
    {
      "cell_type": "markdown",
      "source": [
        "18. Create a class House with attributes address and price. Create a derived class Mansion that adds an\n",
        "attribute number_of_rooms."
      ],
      "metadata": {
        "id": "uzGH59UJ0_uy"
      }
    },
    {
      "cell_type": "code",
      "source": [
        "class House:\n",
        "    def __init__(self, address, price):\n",
        "        self.address = address\n",
        "        self.price = price\n",
        "\n",
        "    def get_info(self):\n",
        "        return f\"Address: {self.address}, Price: ${self.price:,.2f}\"\n",
        "\n",
        "class Mansion(House):\n",
        "    def __init__(self, address, price, number_of_rooms):\n",
        "        super().__init__(address, price)\n",
        "        self.number_of_rooms = number_of_rooms\n",
        "\n",
        "    def get_info(self):\n",
        "        house_info = super().get_info()\n",
        "        return f\"{house_info}, Rooms: {self.number_of_rooms}\"\n",
        "\n",
        "# Example usage:\n",
        "house = House(\"123 Main St\", 250000)\n",
        "print(f\"House info: {house.get_info()}\")\n",
        "\n",
        "mansion = Mansion(\"456 Grand Ave\", 5000000, 20)\n",
        "print(f\"Mansion info: {mansion.get_info()}\")"
      ],
      "metadata": {
        "colab": {
          "base_uri": "https://localhost:8080/"
        },
        "id": "LiRAnXD61ESL",
        "outputId": "32b86d3e-1b50-469b-f6a6-f0196e2c8570"
      },
      "execution_count": null,
      "outputs": [
        {
          "output_type": "stream",
          "name": "stdout",
          "text": [
            "House info: Address: 123 Main St, Price: $250,000.00\n",
            "Mansion info: Address: 456 Grand Ave, Price: $5,000,000.00, Rooms: 20\n"
          ]
        }
      ]
    }
  ]
}
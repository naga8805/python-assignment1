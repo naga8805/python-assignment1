{
  "nbformat": 4,
  "nbformat_minor": 0,
  "metadata": {
    "colab": {
      "provenance": []
    },
    "kernelspec": {
      "name": "python3",
      "display_name": "Python 3"
    },
    "language_info": {
      "name": "python"
    }
  },
  "cells": [
    {
      "cell_type": "markdown",
      "source": [
        "# THEORY QUESTIONS"
      ],
      "metadata": {
        "id": "Wa__MsG1wgdt"
      }
    },
    {
      "cell_type": "markdown",
      "source": [
        "**1. What is the difference between a function and a method in Python?**"
      ],
      "metadata": {
        "id": "77_FWsSIws3h"
      }
    },
    {
      "cell_type": "markdown",
      "source": [
        "The key difference between a function and a method in Python lies in their association and invocation:\n",
        "\n",
        "**Function:**\n",
        "\n",
        "A function is a block of code that performs a specific task and is defined independently of any class. It's called directly by its name, and it can accept arguments and return values.\n",
        "\n",
        "**Method:**\n",
        "\n",
        "A method is also a block of code that performs a specific task, but it's associated with an object (instance of a class). It's called on an object using dot notation (e.g., object.method()), and it automatically receives the object itself as the first argument (conventionally named self).\n",
        "\n",
        "EXAMPLE:\n",
        "\n",
        "Function: Independent block of code. Defined using def."
      ],
      "metadata": {
        "id": "sqTP5uIcwzQF"
      }
    },
    {
      "cell_type": "code",
      "execution_count": null,
      "metadata": {
        "id": "n2_OvS-qv-lu"
      },
      "outputs": [],
      "source": [
        "def greet():\n",
        "    print(\"Hello!\")"
      ]
    },
    {
      "cell_type": "markdown",
      "source": [
        "* Method: A function attached to an object (usually a class)."
      ],
      "metadata": {
        "id": "nCaynzybzQCI"
      }
    },
    {
      "cell_type": "code",
      "source": [
        "name = \"Alice\"\n",
        "print(name.upper())  # upper() is a string method"
      ],
      "metadata": {
        "colab": {
          "base_uri": "https://localhost:8080/"
        },
        "id": "a5_a-XGizB-t",
        "outputId": "719cee99-8822-4f11-9bef-49e2ec5d8483"
      },
      "execution_count": null,
      "outputs": [
        {
          "output_type": "stream",
          "name": "stdout",
          "text": [
            "ALICE\n"
          ]
        }
      ]
    },
    {
      "cell_type": "markdown",
      "source": [
        "**2. Explain the concept of function arguments and parameters in Python.**"
      ],
      "metadata": {
        "id": "Kz-Zjp6azjeV"
      }
    },
    {
      "cell_type": "markdown",
      "source": [
        "**Parameters:**\n",
        "\n",
        " These are the names listed in the function definition. They act as placeholders for the values that the function expects to receive when it's called.\n",
        "\n",
        "**Arguments:**\n",
        "\n",
        " These are the actual values that are passed to the function when it is called. These values are assigned to the corresponding parameters.\n",
        "Example:"
      ],
      "metadata": {
        "id": "nkSVdbjA0FZn"
      }
    },
    {
      "cell_type": "code",
      "source": [
        "def add_numbers(a, b): # 'a' and 'b' are parameters\n",
        "    return a + b\n",
        "\n",
        "result = add_numbers(5, 3) # 5 and 3 are arguments\n",
        "print(result) # Output: 8"
      ],
      "metadata": {
        "colab": {
          "base_uri": "https://localhost:8080/"
        },
        "id": "ejDg9SyV0y9K",
        "outputId": "97d8d08e-0770-4229-8b01-cacd88bc9f9c"
      },
      "execution_count": null,
      "outputs": [
        {
          "output_type": "stream",
          "name": "stdout",
          "text": [
            "8\n"
          ]
        }
      ]
    },
    {
      "cell_type": "markdown",
      "source": [
        "**3. What are the different ways to define and call a function in Python?**"
      ],
      "metadata": {
        "id": "YmYScnPY1Pzc"
      }
    },
    {
      "cell_type": "markdown",
      "source": [
        "**Defining a function:**\n",
        "\n",
        " Functions are defined using the def keyword, followed by the function name, parentheses (), and a colon :. The function body is indented.\n",
        "Example:"
      ],
      "metadata": {
        "id": "PyJreKgF1WXm"
      }
    },
    {
      "cell_type": "code",
      "source": [
        "def say_hello(): # Function definition\n",
        "    print(\"Hello!\")"
      ],
      "metadata": {
        "id": "elNQvHYr125t"
      },
      "execution_count": null,
      "outputs": []
    },
    {
      "cell_type": "markdown",
      "source": [
        "**Calling a function:**\n",
        "\n",
        " Functions are called by using their name followed by parentheses (). If the function has parameters, arguments are passed inside the parentheses.\n",
        "Example:"
      ],
      "metadata": {
        "id": "tY5wCGm917lq"
      }
    },
    {
      "cell_type": "code",
      "source": [
        "say_hello() # Calling the function without arguments\n",
        "# Output: Hello!\n",
        "\n",
        "def greet(name):\n",
        "    print(f\"Hi, {name}!\")\n",
        "\n",
        "greet(\"Ajay\") # Calling the function with an argument\n",
        "# Output: Hi, Bob!"
      ],
      "metadata": {
        "colab": {
          "base_uri": "https://localhost:8080/"
        },
        "id": "nfXB9rd62BGb",
        "outputId": "41261698-1eec-4c26-ea5a-cca6289fec30"
      },
      "execution_count": null,
      "outputs": [
        {
          "output_type": "stream",
          "name": "stdout",
          "text": [
            "Hello!\n",
            "Hi, Ajay!\n"
          ]
        }
      ]
    },
    {
      "cell_type": "markdown",
      "source": [
        "**4. What is the purpose of the `return` statement in a Python function?**"
      ],
      "metadata": {
        "id": "O6tTCOoP3TJ1"
      }
    },
    {
      "cell_type": "markdown",
      "source": [
        "**The return statement in a Python function serves two main purposes:**\n",
        "\n",
        "**To exit the function:**\n",
        "\n",
        " When a return statement is encountered, the function immediately stops its execution.\n",
        "\n",
        "**To send a value back to the caller:**\n",
        "\n",
        " The return statement can optionally include an expression, and the value of that expression is sent back as the result of the function call. If no value is specified, or if there's no return statement, the function implicitly returns None.\n",
        "Example:"
      ],
      "metadata": {
        "id": "Q7IGG8Dp3Xpi"
      }
    },
    {
      "cell_type": "code",
      "source": [
        "def multiply(x, y):\n",
        "    product = x * y\n",
        "    return product # Returns the calculated product\n",
        "\n",
        "result = multiply(4, 5)\n",
        "print(result) # Output: 20\n",
        "\n",
        "def do_nothing():\n",
        "    pass # No return statement\n",
        "\n",
        "print(do_nothing()) # Output: None"
      ],
      "metadata": {
        "colab": {
          "base_uri": "https://localhost:8080/"
        },
        "id": "Ax64W-xS3xVv",
        "outputId": "3111eb7d-bb36-4eb0-d9e0-beb44516e99b"
      },
      "execution_count": null,
      "outputs": [
        {
          "output_type": "stream",
          "name": "stdout",
          "text": [
            "20\n",
            "None\n"
          ]
        }
      ]
    },
    {
      "cell_type": "markdown",
      "source": [
        "**5. What are iterators in Python and how do they differ from iterables?**"
      ],
      "metadata": {
        "id": "ZpTJuV1g4ggy"
      }
    },
    {
      "cell_type": "markdown",
      "source": [
        "**Iterable:**\n",
        "\n",
        " An iterable is any Python object that can be \"iterated over,\" meaning you can go through its elements one by one. This usually implies that the object has an __iter__ method that returns an iterator. Examples include lists, tuples, strings, and dictionaries.\n",
        "Example:"
      ],
      "metadata": {
        "id": "fCmVEgFE4m9A"
      }
    },
    {
      "cell_type": "code",
      "source": [
        "my_list = [1, 2, 3] # my_list is an iterable\n",
        "for item in my_list:\n",
        "    print(item)"
      ],
      "metadata": {
        "colab": {
          "base_uri": "https://localhost:8080/"
        },
        "id": "TkSjRFlh49zK",
        "outputId": "74a77947-4b34-4088-cdd9-43fe428e0416"
      },
      "execution_count": null,
      "outputs": [
        {
          "output_type": "stream",
          "name": "stdout",
          "text": [
            "1\n",
            "2\n",
            "3\n"
          ]
        }
      ]
    },
    {
      "cell_type": "markdown",
      "source": [
        "Iterator:\n",
        "\n",
        " An iterator is an object that represents a stream of data. It implements two methods: __iter__() (which returns itself) and __next__(). The __next__() method is used to retrieve the next item from the stream, and it raises a StopIteration exception when there are no more items. An iterator keeps track of its current position.\n",
        "Example:"
      ],
      "metadata": {
        "id": "FHhf9cN_5CH9"
      }
    },
    {
      "cell_type": "code",
      "source": [
        "my_list = [1, 2, 3]\n",
        "my_iterator = iter(my_list) # Get an iterator from the iterable\n",
        "\n",
        "print(next(my_iterator)) # Output: 1\n",
        "print(next(my_iterator)) # Output: 2\n",
        "print(next(my_iterator)) # Output: 3\n",
        "# print(next(my_iterator)) # This would raise StopIteration"
      ],
      "metadata": {
        "colab": {
          "base_uri": "https://localhost:8080/"
        },
        "id": "ZkQQVdlL5HKq",
        "outputId": "212c6fd7-f1a7-4c45-84ad-61d9eb4fbd42"
      },
      "execution_count": null,
      "outputs": [
        {
          "output_type": "stream",
          "name": "stdout",
          "text": [
            "1\n",
            "2\n",
            "3\n"
          ]
        }
      ]
    },
    {
      "cell_type": "markdown",
      "source": [
        "Difference: An iterable is an object that can be iterated over, while an iterator is an object that performs the iteration. You get an iterator from an iterable."
      ],
      "metadata": {
        "id": "3pTYi0Vm5LLD"
      }
    },
    {
      "cell_type": "markdown",
      "source": [
        "**6. Explain the concept of generators in Python and how they are defined.**"
      ],
      "metadata": {
        "id": "hl85jwsa5O1f"
      }
    },
    {
      "cell_type": "markdown",
      "source": [
        "**Concept of Generators:**\n",
        "\n",
        " Generators are a special type of function in Python that allow you to declare a function that behaves like an iterator. They produce a sequence of results on demand, one at a time, instead of computing all results at once and storing them in memory. This \"lazy evaluation\" makes them very memory-efficient, especially for large sequences.\n",
        "\n",
        "**How they are defined:**\n",
        "\n",
        " Generators are defined like regular functions, but instead of using the return statement to send back a final result, they use the yield keyword to produce a sequence of results. When yield is encountered, the function's state is saved, and execution is paused until the next value is requested."
      ],
      "metadata": {
        "id": "BEa4SP3y6AnG"
      }
    },
    {
      "cell_type": "code",
      "source": [
        "def count_up_to(n):\n",
        "    i = 0\n",
        "    while i <= n:\n",
        "        yield i # Yields a value, pauses, and resumes from here next time\n",
        "        i += 1\n",
        "\n",
        "# Creating a generator object\n",
        "my_generator = count_up_to(3)\n",
        "\n",
        "print(next(my_generator)) # Output: 0\n",
        "print(next(my_generator)) # Output: 1\n",
        "print(next(my_generator)) # Output: 2\n",
        "print(next(my_generator)) # Output: 3\n",
        "# print(next(my_generator)) # Raises StopIteration"
      ],
      "metadata": {
        "colab": {
          "base_uri": "https://localhost:8080/"
        },
        "id": "eLMZTEAs6PuW",
        "outputId": "5986534a-8fd7-4c81-d9bd-7ca6f5fd0e11"
      },
      "execution_count": null,
      "outputs": [
        {
          "output_type": "stream",
          "name": "stdout",
          "text": [
            "0\n",
            "1\n",
            "2\n",
            "3\n"
          ]
        }
      ]
    },
    {
      "cell_type": "markdown",
      "source": [
        "**7. What are the advantages of using generators over regular functions?**"
      ],
      "metadata": {
        "id": "oN62SFsK6Veg"
      }
    },
    {
      "cell_type": "markdown",
      "source": [
        "**Memory Efficiency:**\n",
        "\n",
        " This is the primary advantage. Generators produce items one by one and don't store the entire sequence in memory. This is crucial when dealing with very large datasets or infinite sequences, as it prevents memory exhaustion.\n",
        "\n",
        "**Performance:**\n",
        "\n",
        " For very large sequences, generating values on the fly can be faster than building an entire list in memory, especially if not all values are consumed.\n",
        "\n",
        "**Lazy Evaluation:**\n",
        "\n",
        " Values are computed only when they are requested. This can save computation time if not all generated values are needed.\n",
        "\n",
        "**Simpler Code for Iterators:**\n",
        "\n",
        " Generators provide a more concise and readable way to create iterators compared to writing a full iterator class with __iter__ and __next__ methods.\n",
        "Example (Memory Efficiency):"
      ],
      "metadata": {
        "id": "QCXUU4Tb6ZMo"
      }
    },
    {
      "cell_type": "code",
      "source": [
        "# Using a list (potentially high memory for large n)\n",
        "def create_list(n):\n",
        "    return [i*i for i in range(n)]\n",
        "\n",
        "# Using a generator (memory efficient)\n",
        "def create_generator(n):\n",
        "    for i in range(n):\n",
        "        yield i*i\n",
        "\n",
        "# For n = 100000000, the list would consume huge memory, the generator very little.\n",
        "# list_of_squares = create_list(100000000) # This would likely crash for large n\n",
        "# generator_of_squares = create_generator(100000000) # This works efficiently"
      ],
      "metadata": {
        "id": "oB2sDOwL6zgY"
      },
      "execution_count": null,
      "outputs": []
    },
    {
      "cell_type": "markdown",
      "source": [
        "**8. What is a lambda function in Python and when is it typically used?**"
      ],
      "metadata": {
        "id": "0VnAtoBj7JFE"
      }
    },
    {
      "cell_type": "markdown",
      "source": [
        "* What is a lambda function:\n",
        "\n",
        " A lambda function is a small, anonymous (nameless) function in Python. It can take any number of arguments but can only have one expression. The result of this expression is implicitly returned.  They are defined using the lambda keyword.\n",
        "\n",
        "* **When is it typically used**\n",
        "\n",
        "Lambda functions are typically used for:\n",
        "\n",
        "**Short, simple operations:**\n",
        "\n",
        " When you need a function that performs a simple operation and you don't want to formally define it using def.\n",
        "\n",
        "**As arguments to higher-order functions:**\n",
        "\n",
        " They are very commonly used with functions like map(), filter(), sorted(), and reduce() that accept other functions as arguments.\n",
        "\n",
        "**Encapsulating simple logic:**\n",
        "\n",
        " For quick, on-the-fly functional programming constructs.  <!-- end list -->\n",
        "Example (with sorted()):"
      ],
      "metadata": {
        "id": "vJlZqNIH7LGV"
      }
    },
    {
      "cell_type": "code",
      "source": [
        "add = lambda x, y: x + y\n",
        "print(add(2, 3))"
      ],
      "metadata": {
        "colab": {
          "base_uri": "https://localhost:8080/"
        },
        "id": "uyVnT9pq8LnP",
        "outputId": "2fd80d21-45c8-4b51-e71c-fb0d1d8f497a"
      },
      "execution_count": null,
      "outputs": [
        {
          "output_type": "stream",
          "name": "stdout",
          "text": [
            "5\n"
          ]
        }
      ]
    },
    {
      "cell_type": "markdown",
      "source": [
        "**9. Explain the purpose and usage of the `map()` function in Python.**"
      ],
      "metadata": {
        "id": "2NqYNXzL8npY"
      }
    },
    {
      "cell_type": "markdown",
      "source": [
        "Purpose:\n",
        "\n",
        " The map() function in Python is used to apply a specified function to every item of an iterable (like a list or tuple) and return an iterator that yields the results. It's a way to transform elements of an iterable.\n",
        "\n",
        "Usage:\n",
        "\n",
        " It takes two main arguments: the function to apply and one or more iterables.\n",
        "\n",
        "Syntax: map(function, iterable, ...)\n",
        "\n",
        "Example:"
      ],
      "metadata": {
        "id": "Aj2YSaJw8rvA"
      }
    },
    {
      "cell_type": "code",
      "source": [
        "nums = [1, 2, 3]\n",
        "squares = list(map(lambda x: x*x, nums))\n",
        "print(squares)  # [1, 4, 9]"
      ],
      "metadata": {
        "colab": {
          "base_uri": "https://localhost:8080/"
        },
        "id": "w1Rupcdi86GT",
        "outputId": "121de2d4-a41f-4f9b-dfcf-f440e43e4e72"
      },
      "execution_count": null,
      "outputs": [
        {
          "output_type": "stream",
          "name": "stdout",
          "text": [
            "[1, 4, 9]\n"
          ]
        }
      ]
    },
    {
      "cell_type": "markdown",
      "source": [
        "**10. What is the difference between `map()`, `reduce()`, and `filter()` functions in Python?**"
      ],
      "metadata": {
        "id": "rE-cT2Zk9LuP"
      }
    },
    {
      "cell_type": "markdown",
      "source": [
        "**map():**\n",
        "\n",
        "**Purpose:** Applies a given function to each item of an iterable (or multiple iterables) and returns an iterator of the results. It transforms each element individually.\n",
        "\n",
        "**Output:** Returns a new iterable where each element is the result of applying the function to the corresponding original element.\n",
        "Example:"
      ],
      "metadata": {
        "id": "b819T-GQ936e"
      }
    },
    {
      "cell_type": "code",
      "source": [
        "numbers = [1, 2, 3]\n",
        "doubled = list(map(lambda x: x * 2, numbers))\n",
        "print(doubled) # Output: [2, 4, 6]"
      ],
      "metadata": {
        "colab": {
          "base_uri": "https://localhost:8080/"
        },
        "id": "rDWaNxrU-FfH",
        "outputId": "c24efbcd-2b6e-4369-b555-d3b97a15d1d1"
      },
      "execution_count": null,
      "outputs": [
        {
          "output_type": "stream",
          "name": "stdout",
          "text": [
            "[2, 4, 6]\n"
          ]
        }
      ]
    },
    {
      "cell_type": "markdown",
      "source": [
        "**filter():**\n",
        "\n",
        "**Purpose:** Constructs an iterator from elements of an iterable for which a function returns true. It \"filters\" elements based on a condition.\n",
        "**Output:** Returns a new iterable containing only the elements for which the filtering function returned True.\n",
        "\n",
        "**Example:**"
      ],
      "metadata": {
        "id": "M1DV2IsM-JQW"
      }
    },
    {
      "cell_type": "code",
      "source": [
        "numbers = [1, 2, 3, 4, 5, 6]\n",
        "evens = list(filter(lambda x: x % 2 == 0, numbers))"
      ],
      "metadata": {
        "id": "RqBR6zKD-XwE"
      },
      "execution_count": null,
      "outputs": []
    },
    {
      "cell_type": "markdown",
      "source": [
        "**reduce()**\n",
        "\n",
        "**Purpose:** (Needs to be imported from `functools`) Applies a function of two arguments cumulatively to the items of an iterable, from left to right, so as to reduce the iterable to a single value. It \"reduces\" the entire iterable to one result.\n",
        " * **Output:** Returns a single cumulative value.\n",
        " * **Example:**python\n",
        "from functools import reduce"
      ],
      "metadata": {
        "id": "L6eA4MeV-aEd"
      }
    },
    {
      "cell_type": "code",
      "source": [
        "from functools import reduce\n",
        "\n",
        "numbers = [1, 2, 3, 4]\n",
        "\n",
        "# Function to add two numbers\n",
        "result = reduce(lambda x, y: x + y, numbers)\n",
        "\n",
        "print(\"Sum:\", result)"
      ],
      "metadata": {
        "colab": {
          "base_uri": "https://localhost:8080/"
        },
        "id": "ceqvmmge_sHX",
        "outputId": "84ac4611-0f2b-4466-8e16-9ef43500f753"
      },
      "execution_count": null,
      "outputs": [
        {
          "output_type": "stream",
          "name": "stdout",
          "text": [
            "Sum: 10\n"
          ]
        }
      ]
    },
    {
      "cell_type": "markdown",
      "source": [
        "| Function   | Purpose                         | Example                         |\n",
        "| ---------- | ------------------------------- | ------------------------------- |\n",
        "| `map()`    | Applies a function to each item | `map(lambda x: x+1, list)`      |\n",
        "| `filter()` | Filters items using condition   | `filter(lambda x: x>2, list)`   |\n",
        "| `reduce()` | Combines items to one value     | `reduce(lambda x,y: x+y, list)` |\n"
      ],
      "metadata": {
        "id": "p4rWTppv9Q76"
      }
    },
    {
      "cell_type": "markdown",
      "source": [
        "# Practical Questions:"
      ],
      "metadata": {
        "id": "uSTAYM8gPk0J"
      }
    },
    {
      "cell_type": "markdown",
      "source": [
        "1. Write a Python function that takes a list of numbers as input and returns the sum of all even numbers in\n",
        "the list."
      ],
      "metadata": {
        "id": "AKyD2JxyPrtN"
      }
    },
    {
      "cell_type": "code",
      "source": [
        "def sum_of_even_numbers(numbers_list):\n",
        "    total_even = 0\n",
        "    for num in numbers_list:\n",
        "        if num % 2 == 0:\n",
        "            total_even += num\n",
        "    return total_even\n",
        "\n",
        "# Example usage:\n",
        "my_numbers = [1, 2, 3, 4, 5, 6, 7, 8, 9, 10]\n",
        "result = sum_of_even_numbers(my_numbers)\n",
        "print(f\"The sum of even numbers is: {result}\")"
      ],
      "metadata": {
        "colab": {
          "base_uri": "https://localhost:8080/"
        },
        "id": "JCJRumICPxMo",
        "outputId": "95b6d61f-2693-4d03-abd9-e85c32bbc6b2"
      },
      "execution_count": 4,
      "outputs": [
        {
          "output_type": "stream",
          "name": "stdout",
          "text": [
            "The sum of even numbers is: 30\n"
          ]
        }
      ]
    },
    {
      "cell_type": "markdown",
      "source": [
        "2. Create a Python function that accepts a string and returns the reverse of that string."
      ],
      "metadata": {
        "id": "9x2354bDR0vV"
      }
    },
    {
      "cell_type": "code",
      "source": [
        "def reverse_string(input_string):\n",
        "    return input_string[::-1]\n",
        "\n",
        "# Example usage:\n",
        "my_string = \"Hello Python\"\n",
        "reversed_str = reverse_string(my_string)\n",
        "print(f\"The reversed string is: {reversed_str}\")"
      ],
      "metadata": {
        "colab": {
          "base_uri": "https://localhost:8080/"
        },
        "id": "BF5sL3mCTp42",
        "outputId": "609a1b9b-02d7-470d-b872-77bdce2d3169"
      },
      "execution_count": 5,
      "outputs": [
        {
          "output_type": "stream",
          "name": "stdout",
          "text": [
            "The reversed string is: nohtyP olleH\n"
          ]
        }
      ]
    },
    {
      "cell_type": "markdown",
      "source": [
        "3. Implement a Python function that takes a list of integers and returns a new list containing the squares of\n",
        "each number."
      ],
      "metadata": {
        "id": "4laj6VIfR2Fp"
      }
    },
    {
      "cell_type": "code",
      "source": [
        "def square_numbers(int_list):\n",
        "    squared_list = []\n",
        "    for num in int_list:\n",
        "        squared_list.append(num ** 2)\n",
        "    return squared_list\n",
        "\n",
        "# Example usage:\n",
        "my_integers = [1, 2, 3, 4, 5]\n",
        "squares = square_numbers(my_integers)\n",
        "print(f\"The list of squares is: {squares}\")"
      ],
      "metadata": {
        "colab": {
          "base_uri": "https://localhost:8080/"
        },
        "id": "i_1Cb-dyYzmu",
        "outputId": "ab4eab52-e41d-4f81-da4f-272d59c8db95"
      },
      "execution_count": 6,
      "outputs": [
        {
          "output_type": "stream",
          "name": "stdout",
          "text": [
            "The list of squares is: [1, 4, 9, 16, 25]\n"
          ]
        }
      ]
    },
    {
      "cell_type": "markdown",
      "source": [
        "4. Write a Python function that checks if a given number is prime or not from 1 to 200."
      ],
      "metadata": {
        "id": "2714BWo9R5z1"
      }
    },
    {
      "cell_type": "code",
      "source": [
        "def is_prime(number):\n",
        "    if number <= 1:\n",
        "        return False\n",
        "    for i in range(2, int(number**0.5) + 1):\n",
        "        if number % i == 0:\n",
        "            return False\n",
        "    return True\n",
        "\n",
        "# Example usage (checking numbers from 1 to 200):\n",
        "print(\"Prime numbers from 1 to 200:\")\n",
        "for num in range(1, 201):\n",
        "    if is_prime(num):\n",
        "        print(num, end=\" \")\n",
        "print(\"\\n\")\n",
        "\n",
        "# Example for a single number:\n",
        "print(f\"Is 17 prime? {is_prime(17)}\")\n",
        "print(f\"Is 20 prime? {is_prime(20)}\")"
      ],
      "metadata": {
        "id": "hX0_4K9PY-eF",
        "colab": {
          "base_uri": "https://localhost:8080/"
        },
        "outputId": "23b61fcc-da21-4559-8dd3-326914f43ce0"
      },
      "execution_count": 7,
      "outputs": [
        {
          "output_type": "stream",
          "name": "stdout",
          "text": [
            "Prime numbers from 1 to 200:\n",
            "2 3 5 7 11 13 17 19 23 29 31 37 41 43 47 53 59 61 67 71 73 79 83 89 97 101 103 107 109 113 127 131 137 139 149 151 157 163 167 173 179 181 191 193 197 199 \n",
            "\n",
            "Is 17 prime? True\n",
            "Is 20 prime? False\n"
          ]
        }
      ]
    },
    {
      "cell_type": "markdown",
      "source": [
        "5. Create an iterator class in Python that generates the Fibonacci sequence up to a specified number of\n",
        "terms."
      ],
      "metadata": {
        "id": "Lz_RmQE_R8sM"
      }
    },
    {
      "cell_type": "code",
      "source": [
        "class FibonacciIterator:\n",
        "    def __init__(self, terms):\n",
        "        self.terms = terms\n",
        "        self.count = 0\n",
        "        self.a = 0\n",
        "        self.b = 1\n",
        "\n",
        "    def __iter__(self):\n",
        "        return self\n",
        "\n",
        "    def __next__(self):\n",
        "        if self.count < self.terms:\n",
        "            if self.count == 0:\n",
        "                self.count += 1\n",
        "                return self.a\n",
        "            elif self.count == 1:\n",
        "                self.count += 1\n",
        "                return self.b\n",
        "            else:\n",
        "                next_fib = self.a + self.b\n",
        "                self.a = self.b\n",
        "                self.b = next_fib\n",
        "                self.count += 1\n",
        "                return next_fib\n",
        "        else:\n",
        "            raise StopIteration\n",
        "\n",
        "# Example usage:\n",
        "fib_sequence = FibonacciIterator(10)\n",
        "print(\"Fibonacci sequence (10 terms):\")\n",
        "for num in fib_sequence:\n",
        "    print(num, end=\" \")\n",
        "print(\"\\n\")\n",
        "\n",
        "# Another example:\n",
        "fib_sequence_5 = FibonacciIterator(5)\n",
        "print(\"Fibonacci sequence (5 terms):\")\n",
        "print(list(fib_sequence_5))"
      ],
      "metadata": {
        "id": "EWqPcER5ZAP8",
        "colab": {
          "base_uri": "https://localhost:8080/"
        },
        "outputId": "868492c6-9bf7-4c3a-b4f4-2da9fa826f3e"
      },
      "execution_count": 8,
      "outputs": [
        {
          "output_type": "stream",
          "name": "stdout",
          "text": [
            "Fibonacci sequence (10 terms):\n",
            "0 1 1 2 3 5 8 13 21 34 \n",
            "\n",
            "Fibonacci sequence (5 terms):\n",
            "[0, 1, 1, 2, 3]\n"
          ]
        }
      ]
    },
    {
      "cell_type": "markdown",
      "source": [
        "6. Write a generator function in Python that yields the powers of 2 up to a given exponent."
      ],
      "metadata": {
        "id": "gm9rHbzaR_gM"
      }
    },
    {
      "cell_type": "code",
      "source": [
        "def powers_of_2_generator(exponent):\n",
        "    for i in range(exponent + 1):\n",
        "        yield 2 ** i\n",
        "\n",
        "# Example usage:\n",
        "pow2_gen = powers_of_2_generator(5)\n",
        "print(\"Powers of 2 up to exponent 5:\")\n",
        "for power in pow2_gen:\n",
        "    print(power, end=\" \")\n",
        "print(\"\\n\")\n",
        "\n",
        "# Convert to a list:\n",
        "print(f\"Powers of 2 up to exponent 3: {list(powers_of_2_generator(3))}\")"
      ],
      "metadata": {
        "colab": {
          "base_uri": "https://localhost:8080/"
        },
        "id": "EQ54UvUEZNTt",
        "outputId": "5c623af4-277e-4f93-e4a4-304a2965a5bc"
      },
      "execution_count": 9,
      "outputs": [
        {
          "output_type": "stream",
          "name": "stdout",
          "text": [
            "Powers of 2 up to exponent 5:\n",
            "1 2 4 8 16 32 \n",
            "\n",
            "Powers of 2 up to exponent 3: [1, 2, 4, 8]\n"
          ]
        }
      ]
    },
    {
      "cell_type": "markdown",
      "source": [
        "7. Implement a generator function that reads a file line by line and yields each line as a string."
      ],
      "metadata": {
        "id": "H5lLM3uTSDFB"
      }
    },
    {
      "cell_type": "code",
      "source": [
        "def read_file_line_by_line(filepath):\n",
        "    try:\n",
        "        with open(filepath, 'r') as file:\n",
        "            for line in file:\n",
        "                yield line.strip() # .strip() removes leading/trailing whitespace including newline characters\n",
        "    except FileNotFoundError:\n",
        "        print(f\"Error: File '{filepath}' not found.\")\n",
        "    except Exception as e:\n",
        "        print(f\"An error occurred: {e}\")\n",
        "\n",
        "# Create a dummy file for testing:\n",
        "with open(\"sample.txt\", \"w\") as f:\n",
        "    f.write(\"First line of text.\\n\")\n",
        "    f.write(\"Second line here.\\n\")\n",
        "    f.write(\"Third and final line.\")\n",
        "\n",
        "# Example usage:\n",
        "print(\"Reading file line by line:\")\n",
        "for line in read_file_line_by_line(\"sample.txt\"):\n",
        "    print(line)\n",
        "# Expected output:\n",
        "# First line of text.\n",
        "# Second line here.\n",
        "# Third and final line."
      ],
      "metadata": {
        "id": "3_JiNxF5ZRaN",
        "colab": {
          "base_uri": "https://localhost:8080/"
        },
        "outputId": "464cd413-bf0b-4bd1-973a-8293ec04158c"
      },
      "execution_count": 10,
      "outputs": [
        {
          "output_type": "stream",
          "name": "stdout",
          "text": [
            "Reading file line by line:\n",
            "First line of text.\n",
            "Second line here.\n",
            "Third and final line.\n"
          ]
        }
      ]
    },
    {
      "cell_type": "markdown",
      "source": [
        "8. Use a lambda function in Python to sort a list of tuples based on the second element of each tuple."
      ],
      "metadata": {
        "id": "4IRzJ6S5SGA7"
      }
    },
    {
      "cell_type": "code",
      "source": [
        "list_of_tuples = [('apple', 5), ('banana', 2), ('cherry', 8), ('date', 1)]\n",
        "\n",
        "# Sort using a lambda function as the key\n",
        "sorted_list = sorted(list_of_tuples, key=lambda item: item[1])\n",
        "print(f\"Sorted list of tuples: {sorted_list}\")"
      ],
      "metadata": {
        "colab": {
          "base_uri": "https://localhost:8080/"
        },
        "id": "dpj1Y4-YZV3o",
        "outputId": "7c412894-1fc9-42e7-afc4-cc5c5850c18f"
      },
      "execution_count": 11,
      "outputs": [
        {
          "output_type": "stream",
          "name": "stdout",
          "text": [
            "Sorted list of tuples: [('date', 1), ('banana', 2), ('apple', 5), ('cherry', 8)]\n"
          ]
        }
      ]
    },
    {
      "cell_type": "markdown",
      "source": [
        "9. Write a Python program that uses `map()` to convert a list of temperatures from Celsius to Fahrenheit."
      ],
      "metadata": {
        "id": "QdTDPGJiSKBm"
      }
    },
    {
      "cell_type": "code",
      "source": [
        "celsius_temps = [0, 10, 20, 30, 40, 100]\n",
        "\n",
        "# Lambda function to convert Celsius to Fahrenheit\n",
        "# Formula: F = (C * 9/5) + 32\n",
        "celsius_to_fahrenheit = lambda c: (c * 9/5) + 32\n",
        "\n",
        "# Use map() to apply the conversion to all elements\n",
        "fahrenheit_temps = list(map(celsius_to_fahrenheit, celsius_temps))\n",
        "print(f\"Celsius temperatures: {celsius_temps}\")\n",
        "print(f\"Fahrenheit temperatures: {fahrenheit_temps}\")\n",
        "# Output:\n",
        "# Celsius temperatures: [0, 10, 20, 30, 40, 100]\n",
        "# Fahrenheit temperatures: [32.0, 50.0, 68.0, 86.0, 104.0, 212.0]"
      ],
      "metadata": {
        "colab": {
          "base_uri": "https://localhost:8080/"
        },
        "id": "CO6OO0QsZaaX",
        "outputId": "e7345753-0909-474a-c85e-b63d4a93bb66"
      },
      "execution_count": null,
      "outputs": [
        {
          "output_type": "stream",
          "name": "stdout",
          "text": [
            "Celsius temperatures: [0, 10, 20, 30, 40, 100]\n",
            "Fahrenheit temperatures: [32.0, 50.0, 68.0, 86.0, 104.0, 212.0]\n"
          ]
        }
      ]
    },
    {
      "cell_type": "markdown",
      "source": [
        "10. Create a Python program that uses `filter()` to remove all the vowels from a given string."
      ],
      "metadata": {
        "id": "zA_s90gGSM59"
      }
    },
    {
      "cell_type": "code",
      "source": [
        "my_string = \"Hello World\"\n",
        "vowels = \"aeiouAEIOU\"\n",
        "\n",
        "# Lambda function to check if a character is NOT a vowel\n",
        "is_not_vowel = lambda char: char not in vowels\n",
        "\n",
        "# Use filter() to keep only non-vowel characters\n",
        "filtered_chars = filter(is_not_vowel, my_string)\n",
        "\n",
        "# Join the filtered characters back into a string\n",
        "result_string = \"\".join(filtered_chars)\n",
        "print(f\"Original string: {my_string}\")\n",
        "print(f\"String after removing vowels: {result_string}\")"
      ],
      "metadata": {
        "id": "g1Qo5E9UZe9j",
        "outputId": "9a5a9631-945e-49f9-e67c-549b6bf2eb81",
        "colab": {
          "base_uri": "https://localhost:8080/"
        }
      },
      "execution_count": 12,
      "outputs": [
        {
          "output_type": "stream",
          "name": "stdout",
          "text": [
            "Original string: Hello World\n",
            "String after removing vowels: Hll Wrld\n"
          ]
        }
      ]
    },
    {
      "cell_type": "markdown",
      "source": [
        "11) Imagine an accounting routine used in a book shop. It works on a list with sublists, which look like this:\n",
        "\n",
        "\n",
        "\n",
        "Write a Python program, which returns a list with 2-tuples. Each tuple consists of the order number and the\n",
        "product of the price per item and the quantity. The product should be increased by 10,- € if the value of the\n",
        "order is smaller than 100,00 €.\n",
        "\n",
        "Write a Python program using lambda and map."
      ],
      "metadata": {
        "id": "VC3YumEgSXXt"
      }
    },
    {
      "cell_type": "code",
      "source": [
        "orders = [\n",
        "    [\"34587\", \"Learning Python, Mark Lutz\", 4, 40.95],\n",
        "    [\"98762\", \"Programming Python, Mark Lutz\", 5, 56.80],\n",
        "    [\"77226\", \"Head First Python, Paul Barry\", 3, 32.95],\n",
        "    [\"88112\", \"Einführung in Python3, Bernd Klein\", 3, 24.99]\n",
        "]\n",
        "\n",
        "# Lambda function to calculate total value and apply the surcharge\n",
        "# order_item is a sublist: [Order Number, Book Title and Author, Quantity, Price per Item]\n",
        "calculate_order_value = lambda order_item: (\n",
        "    order_item[0], # Order Number\n",
        "    (order_item[2] * order_item[3]) + (10 if (order_item[2] * order_item[3]) < 100 else 0)\n",
        ")\n",
        "\n",
        "# Use map() to apply the lambda function to each order\n",
        "result_list = list(map(calculate_order_value, orders))\n",
        "\n",
        "print(\"Order number and adjusted total value (with 10 EUR surcharge if < 100 EUR):\")\n",
        "print(result_list)\n",
        "# Expected Output:\n",
        "# Order number and adjusted total value (with 10 EUR surcharge if < 100 EUR):\n",
        "# [('34587', 163.8), ('98762', 284.0), ('77226', 108.85), ('88112', 84.97)]\n",
        "# Calculation breakdown:\n",
        "# 34587: 4 * 40.95 = 163.80 (>=100, no surcharge)\n",
        "# 98762: 5 * 56.80 = 284.00 (>=100, no surcharge)\n",
        "# 77226: 3 * 32.95 = 98.85 (<100, +10) => 108.85\n",
        "# 88112: 3 * 24.99 = 74.97 (<100, +10) => 84.97"
      ],
      "metadata": {
        "colab": {
          "base_uri": "https://localhost:8080/"
        },
        "id": "_pjhWdO5bHLD",
        "outputId": "1380577e-e544-4547-f4d0-3513003f1f65"
      },
      "execution_count": null,
      "outputs": [
        {
          "output_type": "stream",
          "name": "stdout",
          "text": [
            "Order number and adjusted total value (with 10 EUR surcharge if < 100 EUR):\n",
            "[('34587', 163.8), ('98762', 284.0), ('77226', 108.85000000000001), ('88112', 84.97)]\n"
          ]
        }
      ]
    }
  ]
}
{
  "nbformat": 4,
  "nbformat_minor": 0,
  "metadata": {
    "colab": {
      "provenance": []
    },
    "kernelspec": {
      "name": "python3",
      "display_name": "Python 3"
    },
    "language_info": {
      "name": "python"
    }
  },
  "cells": [
    {
      "cell_type": "markdown",
      "source": [
        "# Data Toolkit"
      ],
      "metadata": {
        "id": "Qo2ZZ_MkiS5D"
      }
    },
    {
      "cell_type": "markdown",
      "source": [
        "# Theoretical Questions"
      ],
      "metadata": {
        "id": "Sy1LcBXerGjc"
      }
    },
    {
      "cell_type": "markdown",
      "source": [
        "1. What is NumPy, and why is it widely used in Python?"
      ],
      "metadata": {
        "id": "KnT8iqu5npqb"
      }
    },
    {
      "cell_type": "markdown",
      "source": [
        "NumPy (Numerical Python) is a fundamental Python library for numerical computing. Its core feature is the ndarray object, which is an N-dimensional array that can store homogeneous (same type) data efficiently. NumPy is widely used in Python due to its ability to perform high-performance numerical operations on large datasets, significantly faster than standard Python lists. This speed is achieved through vectorized operations, which leverage underlying C implementations, avoiding the need for explicit Python loops. This efficiency makes it indispensable for scientific computing, data analysis, and machine learning tasks in Python."
      ],
      "metadata": {
        "id": "-Y32MEfdExAi"
      }
    },
    {
      "cell_type": "markdown",
      "source": [
        "2. How does broadcasting work in NumPy?"
      ],
      "metadata": {
        "id": "h9GIo-DAntYB"
      }
    },
    {
      "cell_type": "markdown",
      "source": [
        "Broadcasting in NumPy is a powerful mechanism that allows arithmetic operations to be performed on arrays of different shapes. When operations are applied to arrays that do not have the exact same dimensions, NumPy attempts to \"broadcast\" the smaller array across the larger array so that they become compatible in shape. This is done without making redundant copies of data, which contributes to its efficiency. For broadcasting to occur, the dimensions of the arrays must be compatible, meaning they are either equal or one of them is 1. If these conditions are met, NumPy effectively stretches the smaller array to match the larger one, enabling element-wise operations."
      ],
      "metadata": {
        "id": "2_55YlvpE4d1"
      }
    },
    {
      "cell_type": "markdown",
      "source": [
        "3. What is a Pandas DataFrame?"
      ],
      "metadata": {
        "id": "jkLMQzE1nt69"
      }
    },
    {
      "cell_type": "markdown",
      "source": [
        "A Pandas DataFrame is a two-dimensional, size-mutable, and potentially heterogeneous tabular data structure with labeled axes (rows and columns). It can be thought of as a table, similar to a spreadsheet or a SQL table, where each column can hold data of a different type. DataFrames are highly flexible and are a primary tool in Pandas for data manipulation, cleaning, and analysis, providing powerful methods for selecting, filtering, grouping, and transforming data."
      ],
      "metadata": {
        "id": "Gp0beP03E8nQ"
      }
    },
    {
      "cell_type": "markdown",
      "source": [
        "4. Explain the use of the groupby() method in Pandas."
      ],
      "metadata": {
        "id": "Ro4sqvXen3jK"
      }
    },
    {
      "cell_type": "markdown",
      "source": [
        "The groupby() method in Pandas is used for grouping rows of a DataFrame based on common values in one or more columns. This process involves three steps: \"split,\" \"apply,\" and \"combine.\" First, data is split into groups based on the specified column(s). Second, a function (e.g., sum, mean, count, min, max) is applied independently to each group. Finally, the results from each group are combined into a single Series or DataFrame. This method is exceptionally useful for performing aggregate calculations and understanding patterns within different categories of data."
      ],
      "metadata": {
        "id": "jeEaLslzFA9Q"
      }
    },
    {
      "cell_type": "markdown",
      "source": [
        "5. Why is Seaborn preferred for statistical visualizations?"
      ],
      "metadata": {
        "id": "ezhkvqV3n9g-"
      }
    },
    {
      "cell_type": "markdown",
      "source": [
        "Seaborn is preferred for statistical visualizations because it provides a high-level interface for drawing attractive and informative statistical graphics. Built on top of Matplotlib, it offers specialized plot types that are well-suited for statistical data exploration, such as distributions, relationships between variables, and categorical data analysis. Seaborn also integrates seamlessly with Pandas DataFrames, simplifying the process of creating complex statistical plots with minimal code, and often provides better default aesthetics than Matplotlib for statistical plots."
      ],
      "metadata": {
        "id": "Psq9ROvaFGEr"
      }
    },
    {
      "cell_type": "markdown",
      "source": [
        "6. What are the differences between NumPy arrays and Python lists?"
      ],
      "metadata": {
        "id": "r8_yPQB1oBRF"
      }
    },
    {
      "cell_type": "markdown",
      "source": [
        "The key differences between NumPy arrays and Python lists lie in their structure, performance, and functionality:\n",
        "\n",
        "* **Homogeneity vs. Heterogeneity:**\n",
        "\n",
        " NumPy arrays are homogeneous, meaning all elements must be of the same data type, which allows for more efficient storage and mathematical operations. Python lists, conversely, are heterogeneous and can store elements of different data types.\n",
        "* Performance:\n",
        "\n",
        " NumPy arrays are significantly faster for numerical operations on large datasets due to their underlying implementation in C and support for vectorized operations. Python lists are generally slower for numerical computations because they are generic Python objects.\n",
        "\n",
        "* Memory Usage:\n",
        "\n",
        " NumPy arrays typically consume less memory for storing large amounts of numerical data compared to Python lists, again due to their fixed data type and contiguous memory allocation.\n",
        "\n",
        "* Functionality:\n",
        "\n",
        " NumPy provides a vast collection of optimized mathematical functions for array operations (e.g., linear algebra, Fourier transforms) that are not intrinsically available for standard Python lists."
      ],
      "metadata": {
        "id": "npBx_zIwFK49"
      }
    },
    {
      "cell_type": "markdown",
      "source": [
        "7. What is a heatmap, and when should it be used?"
      ],
      "metadata": {
        "id": "fdnt2se8oFsB"
      }
    },
    {
      "cell_type": "markdown",
      "source": [
        "A heatmap is a graphical representation of data where the individual values within a matrix are represented as colors. The intensity or shade of the color typically corresponds to the magnitude of the value. Heatmaps should be used when you want to visualize patterns, correlations, or densities within a two-dimensional dataset. Common use cases include visualizing correlation matrices between variables in a dataset, displaying the density of data points in a 2D space, or showing gene expression levels in biological data."
      ],
      "metadata": {
        "id": "1oyuRnwGFuK1"
      }
    },
    {
      "cell_type": "markdown",
      "source": [
        "8. What does the term “vectorized operation” mean in NumPy?"
      ],
      "metadata": {
        "id": "H93NUHGgoKGN"
      }
    },
    {
      "cell_type": "markdown",
      "source": [
        "In NumPy, a \"vectorized operation\" refers to performing operations on entire arrays at once, rather than iterating over individual elements using explicit Python loops. This is a core strength of NumPy that contributes significantly to its speed. Instead of writing loops, you apply operations directly to the NumPy array, and NumPy's optimized C-level implementations handle the element-wise computations efficiently. This approach avoids the overhead of Python's interpreter loop, leading to substantial performance gains for numerical tasks."
      ],
      "metadata": {
        "id": "5Axfon-bFwr_"
      }
    },
    {
      "cell_type": "markdown",
      "source": [
        "9. How does Matplotlib differ from Plotly?"
      ],
      "metadata": {
        "id": "0sA71uKNoOQR"
      }
    },
    {
      "cell_type": "markdown",
      "source": [
        "Matplotlib and Plotly are both powerful Python visualization libraries, but they differ primarily in their output and interactivity:\n",
        "\n",
        "* Interactivity:\n",
        "\n",
        " Plotly specializes in creating interactive and web-ready visualizations, allowing users to zoom, pan, hover over data points to see details, and export plots in various interactive formats. Matplotlib primarily creates static, publication-quality plots, although some basic interactivity can be added.\n",
        "\n",
        "* Usage Context:\n",
        "\n",
        " Matplotlib is often chosen when fine-grained control over static plot elements is required, making it ideal for academic papers and reports. Plotly is geared towards interactive dashboards, web applications, and dynamic data exploration.\n",
        "\n",
        "* Output Format: Matplotlib typically generates static image files (PNG, JPG, PDF) or displays plots in interactive windows. Plotly generates HTML-based interactive plots that can be embedded in web pages or viewed directly in browsers."
      ],
      "metadata": {
        "id": "OfA_4ipuF286"
      }
    },
    {
      "cell_type": "markdown",
      "source": [
        "10. What is the significance of hierarchical indexing in Pandas?"
      ],
      "metadata": {
        "id": "dGcuLLDXokHg"
      }
    },
    {
      "cell_type": "markdown",
      "source": [
        "Hierarchical indexing, also known as MultiIndex, is a significant feature in Pandas that allows you to have multiple index levels on an axis (rows or columns). Its significance lies in its ability to enable you to work with higher-dimensional data in a lower-dimensional (2D) structure like a DataFrame. This provides a powerful way to organize, select, and reshape complex datasets with multiple categorical dimensions, making data analysis more intuitive and efficient, especially when dealing with data that naturally fits a hierarchical structure."
      ],
      "metadata": {
        "id": "GAqnZqr9HfUF"
      }
    },
    {
      "cell_type": "markdown",
      "source": [
        "11. What is the role of Seaborn’s pairplot() function?"
      ],
      "metadata": {
        "id": "wblL3Xk4onVB"
      }
    },
    {
      "cell_type": "markdown",
      "source": [
        "The role of Seaborn's pairplot() function is to create a grid of pairwise relationships in a dataset. For each numerical variable pair, it generates a scatter plot to show their relationship. On the diagonal, for each single variable, it displays a univariate distribution plot (like a histogram or kernel density estimate). This function is extremely useful for quickly visualizing the distributions of individual variables and identifying potential correlations, patterns, or anomalies across all pairs of numerical variables in a DataFrame during exploratory data analysis."
      ],
      "metadata": {
        "id": "KaR3nGR6Hj9-"
      }
    },
    {
      "cell_type": "markdown",
      "source": [
        "12. What is the purpose of the describe() function in Pandas?"
      ],
      "metadata": {
        "id": "l4m1APpborV1"
      }
    },
    {
      "cell_type": "markdown",
      "source": [
        "The purpose of the describe() function in Pandas is to generate descriptive (summary) statistics of a DataFrame or Series. When called on a DataFrame, it returns a summary for numerical columns, including the count of non-null values, mean, standard deviation, minimum value, maximum value, and quartiles (25th, 50th/median, 75th percentiles). For non-numerical columns, it might provide count, unique values, top occurring value, and its frequency. This function provides a quick and insightful overview of the central tendency, dispersion, and shape of a dataset's distribution."
      ],
      "metadata": {
        "id": "gwTEeLa2HlxE"
      }
    },
    {
      "cell_type": "markdown",
      "source": [
        "13. Why is handling missing data important in Pandas?"
      ],
      "metadata": {
        "id": "vQuRfYx_ovn0"
      }
    },
    {
      "cell_type": "markdown",
      "source": [
        "Handling missing data is critically important in Pandas (and data analysis in general) because missing values can significantly impact the reliability and accuracy of data analysis, statistical models, and machine learning algorithms. If missing data is not addressed, it can lead to:\n",
        "\n",
        "* Incorrect Results: Calculations (like means, sums) can be skewed.\n",
        "* Biased Models: Machine learning models might learn incorrect patterns.\n",
        "* Errors: Many statistical and ML algorithms cannot directly handle missing values and will throw errors.\n",
        "* Reduced Statistical Power: Decreases the effective sample size. Properly addressing missing data, through methods like imputation (filling in values) or removal, ensures the integrity and validity of subsequent analyses."
      ],
      "metadata": {
        "id": "T1uZasgAHqkj"
      }
    },
    {
      "cell_type": "markdown",
      "source": [
        "14. What are the benefits of using Plotly for data visualization?"
      ],
      "metadata": {
        "id": "QdpGANYyozzA"
      }
    },
    {
      "cell_type": "markdown",
      "source": [
        "The benefits of using Plotly for data visualization include:\n",
        "\n",
        "Its ability to create interactive and visually appealing plots.\n",
        "Its support for a wide range of chart types.\n",
        "Its easy integration with web applications.\n",
        "It allows users to explore data dynamically and share insights effectively."
      ],
      "metadata": {
        "id": "SDnam6lddMu8"
      }
    },
    {
      "cell_type": "markdown",
      "source": [
        "15. How does NumPy handle multidimensional arrays?"
      ],
      "metadata": {
        "id": "PnDRBazoo3bG"
      }
    },
    {
      "cell_type": "markdown",
      "source": [
        "NumPy handles multidimensional arrays by providing the ndarray object. This object is a generic multidimensional container for homogeneous data. These arrays are indexed by tuples of non-negative integers, and dimensions are called axes. NumPy offers efficient functions and methods for creating, manipulating, and performing operations on these arrays, regardless of their number of dimensions."
      ],
      "metadata": {
        "id": "rt1KbzTzdPUK"
      }
    },
    {
      "cell_type": "markdown",
      "source": [
        "16. What is the role of Bokeh in data visualization?"
      ],
      "metadata": {
        "id": "3dc9i3d1o7z8"
      }
    },
    {
      "cell_type": "markdown",
      "source": [
        "The role of Bokeh in data visualization is to enable the creation of interactive plots, dashboards, and data applications for modern web browsers. It allows for highly customizable visualizations and supports streaming data, making it suitable for real-time data exploration."
      ],
      "metadata": {
        "id": "AnSSkSLZeQus"
      }
    },
    {
      "cell_type": "markdown",
      "source": [
        "17. Explain the difference between apply() and map() in Pandas."
      ],
      "metadata": {
        "id": "5icMUzccpAKL"
      }
    },
    {
      "cell_type": "markdown",
      "source": [
        "In Pandas, both apply() and map() are used to perform operations on DataFrame or Series data, but they differ in their primary use cases and how they operate:\n",
        "\n",
        "**apply():**\n",
        "\n",
        "* Purpose: This method is used to apply a function along an axis of a DataFrame or Series. It is highly versatile and can operate element-wise, row-wise, or column-wise, making it flexible for various transformations.\n",
        "* Flexibility: You can apply complex functions that operate on entire rows or columns, or even functions that return a Series or DataFrame themselves.\n",
        "* Usage Example: Calculating a custom statistic for each row, or transforming multiple columns based on a shared logic.\n",
        "\n",
        "**map():**\n",
        "\n",
        "* Purpose: This method is used for element-wise application of a function or a dictionary-like object to a Series. It's typically used for substituting values or mapping one set of values to another based on a predefined correspondence.\n",
        "* Scope: map() is strictly for Series operations, applying a function or mapping to each individual element of a Series.\n",
        "* Performance: map() is generally faster than apply() for element-wise operations on Series.\n",
        "* Usage Example: Replacing categorical string values with numerical codes, or converting specific values in a column.\n",
        "\n",
        "**In summary:**\n",
        "\n",
        "* Use map() when you need to transform values in a single Series element by element, often based on a dictionary or a simple function.\n",
        "\n",
        "* Use apply() when you need to apply a function to rows or columns of a DataFrame, or when the transformation logic is more complex and might involve multiple columns or return different data structures."
      ],
      "metadata": {
        "id": "IiRGOgOwexA8"
      }
    },
    {
      "cell_type": "markdown",
      "source": [
        "18. What are some advanced features of NumPy?"
      ],
      "metadata": {
        "id": "Fy7yy0LBpEof"
      }
    },
    {
      "cell_type": "markdown",
      "source": [
        "Some advanced features of NumPy include:\n",
        "\n",
        "* **Broadcasting:** This describes how NumPy handles arrays of different shapes during arithmetic operations, allowing operations on arrays that would not normally be compatible by \"stretching\" the smaller array.\n",
        "\n",
        "* **Universal Functions (ufuncs)**: These are functions that operate element-wise on ndarrays.\n",
        "* **Linear Algebra Routines:** NumPy provides capabilities for matrix operations, decompositions, and solving linear equations.\n",
        "Fancy Indexing and Boolean Masking: These are powerful ways to select and manipulate data based on conditions or arbitrary indices.\n",
        "* **Memory Mapping:** This feature allows for working with very large arrays that don't fit into memory.\n",
        "Structured Arrays: These are arrays with different data types for different fields, similar to C structs or database rows."
      ],
      "metadata": {
        "id": "k7lfJ2iBfZJh"
      }
    },
    {
      "cell_type": "markdown",
      "source": [
        "19. How does Pandas simplify time series analysis?"
      ],
      "metadata": {
        "id": "GQ7beXeWpK2n"
      }
    },
    {
      "cell_type": "markdown",
      "source": [
        "Pandas simplifies time series analysis by providing specialized data structures and functions that are optimized for handling time-stamped data.\n",
        "\n",
        "It offers capabilities for:\n",
        "\n",
        "* Parsing and manipulating dates and times.\n",
        "* Resampling and frequency conversion.\n",
        "* Handling time zones.\n",
        "* Calculating rolling statistics.\n",
        "* Plotting time series data easily."
      ],
      "metadata": {
        "id": "PJW6pZrOgTOt"
      }
    },
    {
      "cell_type": "markdown",
      "source": [
        "20. What is the role of a pivot table in Pandas?"
      ],
      "metadata": {
        "id": "N8gI9LYlpNAx"
      }
    },
    {
      "cell_type": "markdown",
      "source": [
        "The role of a pivot table in Pandas is to summarize and rearrange data of a DataFrame in a tabular format. It allows you to transform rows into columns and aggregate data based on one or more key columns, providing a powerful tool for data summarization and analysis, similar to pivot tables in spreadsheet software."
      ],
      "metadata": {
        "id": "5n__6rkKJLvd"
      }
    },
    {
      "cell_type": "markdown",
      "source": [
        "21. Why is NumPy’s array slicing faster than Python’s list slicing?"
      ],
      "metadata": {
        "id": "dmkE7X82pR0i"
      }
    },
    {
      "cell_type": "markdown",
      "source": [
        "NumPy's array slicing is faster than Python's list slicing primarily because NumPy arrays store data contiguously in memory and are implemented in C. When you slice a NumPy array, it often creates a view into the original array's memory without copying the data, leading to very efficient operations. Python list slicing, on the other hand, typically creates a new list and copies the sliced elements, which is less efficient for large datasets."
      ],
      "metadata": {
        "id": "8KbDIezaJDsR"
      }
    },
    {
      "cell_type": "markdown",
      "source": [
        "22. What are some common use cases for Seaborn?"
      ],
      "metadata": {
        "id": "XB8fEXZ0pVZX"
      }
    },
    {
      "cell_type": "markdown",
      "source": [
        "Some common use cases for Seaborn include:\n",
        "\n",
        "* **Exploratory Data Analysis (EDA):** Visualizing distributions and relationships between variables.\n",
        "* **Regression Analysis:** Plotting linear models and residuals.\n",
        "* **Categorical Data Visualization:** Creating bar plots, box plots, violin plots for categorical data.\n",
        "* **Matrix Plots:** Generating heatmaps for correlation matrices or cluster maps.\n",
        "* **Time Series Visualization:** Plotting trends and patterns in time series data."
      ],
      "metadata": {
        "id": "RcrI7vAsIiUZ"
      }
    },
    {
      "cell_type": "markdown",
      "source": [
        "# Practical"
      ],
      "metadata": {
        "id": "T4CWYxk7ppiz"
      }
    },
    {
      "cell_type": "markdown",
      "source": [
        "1. How do you create a 2D NumPy array and calculate the sum of each row?"
      ],
      "metadata": {
        "id": "kMKPa5HApuXF"
      }
    },
    {
      "cell_type": "code",
      "source": [
        "import numpy as np\n",
        "\n",
        "# Create a 2D NumPy array\n",
        "array_2d = np.array([[1, 2, 3],[4, 5, 6],[7, 8, 9]])\n",
        "\n",
        "# Calculate the sum of each row\n",
        "row_sums = array_2d.sum(axis=1)\n",
        "\n",
        "print(\"2D Array:\\n\", array_2d)\n",
        "print(\"Sum of each row:\", row_sums)"
      ],
      "metadata": {
        "colab": {
          "base_uri": "https://localhost:8080/"
        },
        "id": "1sdePnFrsYfC",
        "outputId": "3a3836a9-8cf3-452a-def9-71e0952026cf"
      },
      "execution_count": 1,
      "outputs": [
        {
          "output_type": "stream",
          "name": "stdout",
          "text": [
            "2D Array:\n",
            " [[1 2 3]\n",
            " [4 5 6]\n",
            " [7 8 9]]\n",
            "Sum of each row: [ 6 15 24]\n"
          ]
        }
      ]
    },
    {
      "cell_type": "markdown",
      "source": [
        "2. Write a Pandas script to find the mean of a specific column in a DataFrame."
      ],
      "metadata": {
        "id": "5xM81a_Op1DL"
      }
    },
    {
      "cell_type": "code",
      "source": [
        "import pandas as pd\n",
        "\n",
        "# Create a DataFrame\n",
        "data = {'A': [10, 20, 30, 40],\n",
        "        'B': [1, 2, 3, 4],\n",
        "        'C': [100, 200, 300, 400]}\n",
        "df = pd.DataFrame(data)\n",
        "\n",
        "# Find the mean of column 'A'\n",
        "mean_of_column_a = df['A'].mean()\n",
        "\n",
        "print(\"DataFrame:\\n\", df)\n",
        "print(\"\\nMean of column 'A':\", mean_of_column_a)"
      ],
      "metadata": {
        "colab": {
          "base_uri": "https://localhost:8080/"
        },
        "id": "VGAulTjQtCLC",
        "outputId": "c69c2da4-4255-44af-c4a1-465339204e50"
      },
      "execution_count": 2,
      "outputs": [
        {
          "output_type": "stream",
          "name": "stdout",
          "text": [
            "DataFrame:\n",
            "     A  B    C\n",
            "0  10  1  100\n",
            "1  20  2  200\n",
            "2  30  3  300\n",
            "3  40  4  400\n",
            "\n",
            "Mean of column 'A': 25.0\n"
          ]
        }
      ]
    },
    {
      "cell_type": "markdown",
      "source": [
        "3. Create a scatter plot using Matplotlib."
      ],
      "metadata": {
        "id": "ehdfIER8p8Lw"
      }
    },
    {
      "cell_type": "code",
      "source": [
        "import matplotlib.pyplot as plt\n",
        "import numpy as np\n",
        "\n",
        "# Sample data\n",
        "x = np.array([1, 2, 3, 4, 5])\n",
        "y = np.array([2, 4, 5, 4, 5])\n",
        "\n",
        "# Create scatter plot\n",
        "plt.scatter(x, y)\n",
        "plt.title(\"Scatter Plot Example\")\n",
        "plt.xlabel(\"X-axis\")\n",
        "plt.ylabel(\"Y-axis\")\n",
        "plt.grid(True)\n",
        "plt.show()"
      ],
      "metadata": {
        "colab": {
          "base_uri": "https://localhost:8080/",
          "height": 472
        },
        "id": "VYfq4J9gt26U",
        "outputId": "a7edc5d0-8bfc-4219-a1e1-fae3949046ec"
      },
      "execution_count": 3,
      "outputs": [
        {
          "output_type": "display_data",
          "data": {
            "text/plain": [
              "<Figure size 640x480 with 1 Axes>"
            ],
            "image/png": "[encoded data removed]"
          },
          "metadata": {}
        }
      ]
    },
    {
      "cell_type": "markdown",
      "source": [
        "4.  How do you calculate the correlation matrix using Seaborn and visualize it with a heatmap?"
      ],
      "metadata": {
        "id": "jy57wUImp-RA"
      }
    },
    {
      "cell_type": "code",
      "source": [
        "import pandas as pd\n",
        "import seaborn as sns\n",
        "import matplotlib.pyplot as plt\n",
        "\n",
        "# Create a sample DataFrame\n",
        "data = {'A': [10, 20, 30, 40, 50],\n",
        "        'B': [1, 2, 3, 4, 5],\n",
        "        'C': [5, 4, 3, 2, 1],\n",
        "        'D': [100, 80, 60, 40, 20]}\n",
        "df = pd.DataFrame(data)\n",
        "\n",
        "# Calculate the correlation matrix\n",
        "correlation_matrix = df.corr()\n",
        "\n",
        "# Visualize with a heatmap\n",
        "plt.figure(figsize=(8, 6))\n",
        "sns.heatmap(correlation_matrix, annot=True, cmap='coolwarm', fmt=\".2f\")\n",
        "plt.title(\"Correlation Matrix Heatmap\")\n",
        "plt.show()"
      ],
      "metadata": {
        "colab": {
          "base_uri": "https://localhost:8080/",
          "height": 545
        },
        "id": "mWWPvlVyuZto",
        "outputId": "863e670e-fd17-4640-ae78-1ee8292cdb03"
      },
      "execution_count": 4,
      "outputs": [
        {
          "output_type": "display_data",
          "data": {
            "text/plain": [
              "<Figure size 800x600 with 2 Axes>"
            ],
            "image/png": "[encoded data removed]"
          },
          "metadata": {}
        }
      ]
    },
    {
      "cell_type": "markdown",
      "source": [
        "5. Generate a bar plot using Plotly."
      ],
      "metadata": {
        "id": "DjHmaKPqqDzJ"
      }
    },
    {
      "cell_type": "code",
      "source": [
        "import plotly.express as px\n",
        "\n",
        "# Sample data\n",
        "data = {'Category': ['A', 'B', 'C', 'D'],\n",
        "        'Values': [23, 45, 56, 12]}\n",
        "\n",
        "# Create bar plot\n",
        "fig = px.bar(data, x='Category', y='Values', title='Bar Plot Example')\n",
        "fig.show()"
      ],
      "metadata": {
        "colab": {
          "base_uri": "https://localhost:8080/",
          "height": 542
        },
        "id": "1KoxuGbMud_a",
        "outputId": "0bd77685-8a56-4db6-9d58-dffad7c46634"
      },
      "execution_count": 5,
      "outputs": [
        {
          "output_type": "display_data",
          "data": {
            "text/html": [
              "<html>\n",
              "<head><meta charset=\"utf-8\" /></head>\n",
              "<body>\n",
              "    <div>            <script src=\"https://cdnjs.cloudflare.com/ajax/libs/mathjax/2.7.5/MathJax.js?config=TeX-AMS-MML_SVG\"></script><script type=\"text/javascript\">if (window.MathJax && window.MathJax.Hub && window.MathJax.Hub.Config) {window.MathJax.Hub.Config({SVG: {font: \"STIX-Web\"}});}</script>                <script type=\"text/javascript\">window.PlotlyConfig = {MathJaxConfig: 'local'};</script>\n",
              "        <script charset=\"utf-8\" src=\"https://cdn.plot.ly/plotly-2.35.2.min.js\"></script>                <div id=\"28018a51-2494-4dd2-ad90-96058c14f045\" class=\"plotly-graph-div\" style=\"height:525px; width:100%;\"></div>            <script type=\"text/javascript\">                                    window.PLOTLYENV=window.PLOTLYENV || {};                                    if (document.getElementById(\"28018a51-2494-4dd2-ad90-96058c14f045\")) {                    Plotly.newPlot(                        \"28018a51-2494-4dd2-ad90-96058c14f045\",                        [{\"alignmentgroup\":\"True\",\"hovertemplate\":\"Category=%{x}\\u003cbr\\u003eValues=%{y}\\u003cextra\\u003e\\u003c\\u002fextra\\u003e\",\"legendgroup\":\"\",\"marker\":{\"color\":\"#636efa\",\"pattern\":{\"shape\":\"\"}},\"name\":\"\",\"offsetgroup\":\"\",\"orientation\":\"v\",\"showlegend\":false,\"textposition\":\"auto\",\"x\":[\"A\",\"B\",\"C\",\"D\"],\"xaxis\":\"x\",\"y\":[23,45,56,12],\"yaxis\":\"y\",\"type\":\"bar\"}],                        {\"template\":{\"data\":{\"histogram2dcontour\":[{\"type\":\"histogram2dcontour\",\"colorbar\":{\"outlinewidth\":0,\"ticks\":\"\"},\"colorscale\":[[0.0,\"#0d0887\"],[0.1111111111111111,\"#46039f\"],[0.2222222222222222,\"#7201a8\"],[0.3333333333333333,\"#9c179e\"],[0.4444444444444444,\"#bd3786\"],[0.5555555555555556,\"#d8576b\"],[0.6666666666666666,\"#ed7953\"],[0.7777777777777778,\"#fb9f3a\"],[0.8888888888888888,\"#fdca26\"],[1.0,\"#f0f921\"]]}],\"choropleth\":[{\"type\":\"choropleth\",\"colorbar\":{\"outlinewidth\":0,\"ticks\":\"\"}}],\"histogram2d\":[{\"type\":\"histogram2d\",\"colorbar\":{\"outlinewidth\":0,\"ticks\":\"\"},\"colorscale\":[[0.0,\"#0d0887\"],[0.1111111111111111,\"#46039f\"],[0.2222222222222222,\"#7201a8\"],[0.3333333333333333,\"#9c179e\"],[0.4444444444444444,\"#bd3786\"],[0.5555555555555556,\"#d8576b\"],[0.6666666666666666,\"#ed7953\"],[0.7777777777777778,\"#fb9f3a\"],[0.8888888888888888,\"#fdca26\"],[1.0,\"#f0f921\"]]}],\"heatmap\":[{\"type\":\"heatmap\",\"colorbar\":{\"outlinewidth\":0,\"ticks\":\"\"},\"colorscale\":[[0.0,\"#0d0887\"],[0.1111111111111111,\"#46039f\"],[0.2222222222222222,\"#7201a8\"],[0.3333333333333333,\"#9c179e\"],[0.4444444444444444,\"#bd3786\"],[0.5555555555555556,\"#d8576b\"],[0.6666666666666666,\"#ed7953\"],[0.7777777777777778,\"#fb9f3a\"],[0.8888888888888888,\"#fdca26\"],[1.0,\"#f0f921\"]]}],\"heatmapgl\":[{\"type\":\"heatmapgl\",\"colorbar\":{\"outlinewidth\":0,\"ticks\":\"\"},\"colorscale\":[[0.0,\"#0d0887\"],[0.1111111111111111,\"#46039f\"],[0.2222222222222222,\"#7201a8\"],[0.3333333333333333,\"#9c179e\"],[0.4444444444444444,\"#bd3786\"],[0.5555555555555556,\"#d8576b\"],[0.6666666666666666,\"#ed7953\"],[0.7777777777777778,\"#fb9f3a\"],[0.8888888888888888,\"#fdca26\"],[1.0,\"#f0f921\"]]}],\"contourcarpet\":[{\"type\":\"contourcarpet\",\"colorbar\":{\"outlinewidth\":0,\"ticks\":\"\"}}],\"contour\":[{\"type\":\"contour\",\"colorbar\":{\"outlinewidth\":0,\"ticks\":\"\"},\"colorscale\":[[0.0,\"#0d0887\"],[0.1111111111111111,\"#46039f\"],[0.2222222222222222,\"#7201a8\"],[0.3333333333333333,\"#9c179e\"],[0.4444444444444444,\"#bd3786\"],[0.5555555555555556,\"#d8576b\"],[0.6666666666666666,\"#ed7953\"],[0.7777777777777778,\"#fb9f3a\"],[0.8888888888888888,\"#fdca26\"],[1.0,\"#f0f921\"]]}],\"surface\":[{\"type\":\"surface\",\"colorbar\":{\"outlinewidth\":0,\"ticks\":\"\"},\"colorscale\":[[0.0,\"#0d0887\"],[0.1111111111111111,\"#46039f\"],[0.2222222222222222,\"#7201a8\"],[0.3333333333333333,\"#9c179e\"],[0.4444444444444444,\"#bd3786\"],[0.5555555555555556,\"#d8576b\"],[0.6666666666666666,\"#ed7953\"],[0.7777777777777778,\"#fb9f3a\"],[0.8888888888888888,\"#fdca26\"],[1.0,\"#f0f921\"]]}],\"mesh3d\":[{\"type\":\"mesh3d\",\"colorbar\":{\"outlinewidth\":0,\"ticks\":\"\"}}],\"scatter\":[{\"fillpattern\":{\"fillmode\":\"overlay\",\"size\":10,\"solidity\":0.2},\"type\":\"scatter\"}],\"parcoords\":[{\"type\":\"parcoords\",\"line\":{\"colorbar\":{\"outlinewidth\":0,\"ticks\":\"\"}}}],\"scatterpolargl\":[{\"type\":\"scatterpolargl\",\"marker\":{\"colorbar\":{\"outlinewidth\":0,\"ticks\":\"\"}}}],\"bar\":[{\"error_x\":{\"color\":\"#2a3f5f\"},\"error_y\":{\"color\":\"#2a3f5f\"},\"marker\":{\"line\":{\"color\":\"#E5ECF6\",\"width\":0.5},\"pattern\":{\"fillmode\":\"overlay\",\"size\":10,\"solidity\":0.2}},\"type\":\"bar\"}],\"scattergeo\":[{\"type\":\"scattergeo\",\"marker\":{\"colorbar\":{\"outlinewidth\":0,\"ticks\":\"\"}}}],\"scatterpolar\":[{\"type\":\"scatterpolar\",\"marker\":{\"colorbar\":{\"outlinewidth\":0,\"ticks\":\"\"}}}],\"histogram\":[{\"marker\":{\"pattern\":{\"fillmode\":\"overlay\",\"size\":10,\"solidity\":0.2}},\"type\":\"histogram\"}],\"scattergl\":[{\"type\":\"scattergl\",\"marker\":{\"colorbar\":{\"outlinewidth\":0,\"ticks\":\"\"}}}],\"scatter3d\":[{\"type\":\"scatter3d\",\"line\":{\"colorbar\":{\"outlinewidth\":0,\"ticks\":\"\"}},\"marker\":{\"colorbar\":{\"outlinewidth\":0,\"ticks\":\"\"}}}],\"scattermapbox\":[{\"type\":\"scattermapbox\",\"marker\":{\"colorbar\":{\"outlinewidth\":0,\"ticks\":\"\"}}}],\"scatterternary\":[{\"type\":\"scatterternary\",\"marker\":{\"colorbar\":{\"outlinewidth\":0,\"ticks\":\"\"}}}],\"scattercarpet\":[{\"type\":\"scattercarpet\",\"marker\":{\"colorbar\":{\"outlinewidth\":0,\"ticks\":\"\"}}}],\"carpet\":[{\"aaxis\":{\"endlinecolor\":\"#2a3f5f\",\"gridcolor\":\"white\",\"linecolor\":\"white\",\"minorgridcolor\":\"white\",\"startlinecolor\":\"#2a3f5f\"},\"baxis\":{\"endlinecolor\":\"#2a3f5f\",\"gridcolor\":\"white\",\"linecolor\":\"white\",\"minorgridcolor\":\"white\",\"startlinecolor\":\"#2a3f5f\"},\"type\":\"carpet\"}],\"table\":[{\"cells\":{\"fill\":{\"color\":\"#EBF0F8\"},\"line\":{\"color\":\"white\"}},\"header\":{\"fill\":{\"color\":\"#C8D4E3\"},\"line\":{\"color\":\"white\"}},\"type\":\"table\"}],\"barpolar\":[{\"marker\":{\"line\":{\"color\":\"#E5ECF6\",\"width\":0.5},\"pattern\":{\"fillmode\":\"overlay\",\"size\":10,\"solidity\":0.2}},\"type\":\"barpolar\"}],\"pie\":[{\"automargin\":true,\"type\":\"pie\"}]},\"layout\":{\"autotypenumbers\":\"strict\",\"colorway\":[\"#636efa\",\"#EF553B\",\"#00cc96\",\"#ab63fa\",\"#FFA15A\",\"#19d3f3\",\"#FF6692\",\"#B6E880\",\"#FF97FF\",\"#FECB52\"],\"font\":{\"color\":\"#2a3f5f\"},\"hovermode\":\"closest\",\"hoverlabel\":{\"align\":\"left\"},\"paper_bgcolor\":\"white\",\"plot_bgcolor\":\"#E5ECF6\",\"polar\":{\"bgcolor\":\"#E5ECF6\",\"angularaxis\":{\"gridcolor\":\"white\",\"linecolor\":\"white\",\"ticks\":\"\"},\"radialaxis\":{\"gridcolor\":\"white\",\"linecolor\":\"white\",\"ticks\":\"\"}},\"ternary\":{\"bgcolor\":\"#E5ECF6\",\"aaxis\":{\"gridcolor\":\"white\",\"linecolor\":\"white\",\"ticks\":\"\"},\"baxis\":{\"gridcolor\":\"white\",\"linecolor\":\"white\",\"ticks\":\"\"},\"caxis\":{\"gridcolor\":\"white\",\"linecolor\":\"white\",\"ticks\":\"\"}},\"coloraxis\":{\"colorbar\":{\"outlinewidth\":0,\"ticks\":\"\"}},\"colorscale\":{\"sequential\":[[0.0,\"#0d0887\"],[0.1111111111111111,\"#46039f\"],[0.2222222222222222,\"#7201a8\"],[0.3333333333333333,\"#9c179e\"],[0.4444444444444444,\"#bd3786\"],[0.5555555555555556,\"#d8576b\"],[0.6666666666666666,\"#ed7953\"],[0.7777777777777778,\"#fb9f3a\"],[0.8888888888888888,\"#fdca26\"],[1.0,\"#f0f921\"]],\"sequentialminus\":[[0.0,\"#0d0887\"],[0.1111111111111111,\"#46039f\"],[0.2222222222222222,\"#7201a8\"],[0.3333333333333333,\"#9c179e\"],[0.4444444444444444,\"#bd3786\"],[0.5555555555555556,\"#d8576b\"],[0.6666666666666666,\"#ed7953\"],[0.7777777777777778,\"#fb9f3a\"],[0.8888888888888888,\"#fdca26\"],[1.0,\"#f0f921\"]],\"diverging\":[[0,\"#8e0152\"],[0.1,\"#c51b7d\"],[0.2,\"#de77ae\"],[0.3,\"#f1b6da\"],[0.4,\"#fde0ef\"],[0.5,\"#f7f7f7\"],[0.6,\"#e6f5d0\"],[0.7,\"#b8e186\"],[0.8,\"#7fbc41\"],[0.9,\"#4d9221\"],[1,\"#276419\"]]},\"xaxis\":{\"gridcolor\":\"white\",\"linecolor\":\"white\",\"ticks\":\"\",\"title\":{\"standoff\":15},\"zerolinecolor\":\"white\",\"automargin\":true,\"zerolinewidth\":2},\"yaxis\":{\"gridcolor\":\"white\",\"linecolor\":\"white\",\"ticks\":\"\",\"title\":{\"standoff\":15},\"zerolinecolor\":\"white\",\"automargin\":true,\"zerolinewidth\":2},\"scene\":{\"xaxis\":{\"backgroundcolor\":\"#E5ECF6\",\"gridcolor\":\"white\",\"linecolor\":\"white\",\"showbackground\":true,\"ticks\":\"\",\"zerolinecolor\":\"white\",\"gridwidth\":2},\"yaxis\":{\"backgroundcolor\":\"#E5ECF6\",\"gridcolor\":\"white\",\"linecolor\":\"white\",\"showbackground\":true,\"ticks\":\"\",\"zerolinecolor\":\"white\",\"gridwidth\":2},\"zaxis\":{\"backgroundcolor\":\"#E5ECF6\",\"gridcolor\":\"white\",\"linecolor\":\"white\",\"showbackground\":true,\"ticks\":\"\",\"zerolinecolor\":\"white\",\"gridwidth\":2}},\"shapedefaults\":{\"line\":{\"color\":\"#2a3f5f\"}},\"annotationdefaults\":{\"arrowcolor\":\"#2a3f5f\",\"arrowhead\":0,\"arrowwidth\":1},\"geo\":{\"bgcolor\":\"white\",\"landcolor\":\"#E5ECF6\",\"subunitcolor\":\"white\",\"showland\":true,\"showlakes\":true,\"lakecolor\":\"white\"},\"title\":{\"x\":0.05},\"mapbox\":{\"style\":\"light\"}}},\"xaxis\":{\"anchor\":\"y\",\"domain\":[0.0,1.0],\"title\":{\"text\":\"Category\"}},\"yaxis\":{\"anchor\":\"x\",\"domain\":[0.0,1.0],\"title\":{\"text\":\"Values\"}},\"legend\":{\"tracegroupgap\":0},\"title\":{\"text\":\"Bar Plot Example\"},\"barmode\":\"relative\"},                        {\"responsive\": true}                    ).then(function(){\n",
              "                            \n",
              "var gd = document.getElementById('28018a51-2494-4dd2-ad90-96058c14f045');\n",
              "var x = new MutationObserver(function (mutations, observer) {{\n",
              "        var display = window.getComputedStyle(gd).display;\n",
              "        if (!display || display === 'none') {{\n",
              "            console.log([gd, 'removed!']);\n",
              "            Plotly.purge(gd);\n",
              "            observer.disconnect();\n",
              "        }}\n",
              "}});\n",
              "\n",
              "// Listen for the removal of the full notebook cells\n",
              "var notebookContainer = gd.closest('#notebook-container');\n",
              "if (notebookContainer) {{\n",
              "    x.observe(notebookContainer, {childList: true});\n",
              "}}\n",
              "\n",
              "// Listen for the clearing of the current output cell\n",
              "var outputEl = gd.closest('.output');\n",
              "if (outputEl) {{\n",
              "    x.observe(outputEl, {childList: true});\n",
              "}}\n",
              "\n",
              "                        })                };                            </script>        </div>\n",
              "</body>\n",
              "</html>"
            ]
          },
          "metadata": {}
        }
      ]
    },
    {
      "cell_type": "markdown",
      "source": [
        "6.  Create a DataFrame and add a new column based on an existing column."
      ],
      "metadata": {
        "id": "6FfV0Z0QqK79"
      }
    },
    {
      "cell_type": "code",
      "source": [
        "import pandas as pd\n",
        "\n",
        "# Create a DataFrame\n",
        "data = {'Name': ['Alice', 'Bob', 'Charlie', 'David'],\n",
        "        'Score': [85, 92, 78, 95]}\n",
        "df = pd.DataFrame(data)\n",
        "\n",
        "# Add a new column 'Grade' based on 'Score'\n",
        "# For example, if score >= 90 is 'A', else 'B'\n",
        "df['Grade'] = ['A' if score >= 90 else 'B' for score in df['Score']]\n",
        "\n",
        "print(\"DataFrame with new column:\\n\", df)"
      ],
      "metadata": {
        "colab": {
          "base_uri": "https://localhost:8080/"
        },
        "id": "N9bpS9GWulVG",
        "outputId": "6af0a781-c331-41ab-9fd6-5fa1d4680b2e"
      },
      "execution_count": 6,
      "outputs": [
        {
          "output_type": "stream",
          "name": "stdout",
          "text": [
            "DataFrame with new column:\n",
            "       Name  Score Grade\n",
            "0    Alice     85     B\n",
            "1      Bob     92     A\n",
            "2  Charlie     78     B\n",
            "3    David     95     A\n"
          ]
        }
      ]
    },
    {
      "cell_type": "markdown",
      "source": [
        "7. Write a program to perform element-wise multiplication of two NumPy arrays."
      ],
      "metadata": {
        "id": "5VKQ1rglqNB-"
      }
    },
    {
      "cell_type": "code",
      "source": [
        "import numpy as np\n",
        "\n",
        "# Define two NumPy arrays\n",
        "array1 = np.array([1, 2, 3, 4])\n",
        "array2 = np.array([5, 6, 7, 8])\n",
        "\n",
        "# Perform element-wise multiplication\n",
        "result = array1 * array2\n",
        "\n",
        "# Display the result\n",
        "print(\"Array 1:\", array1)\n",
        "print(\"Array 2:\", array2)\n",
        "print(\"Element-wise multiplication:\", result)\n"
      ],
      "metadata": {
        "colab": {
          "base_uri": "https://localhost:8080/"
        },
        "id": "UQgNbs8BBkrx",
        "outputId": "af5a0a1b-93fd-474c-ce7f-fa3bd4625b80"
      },
      "execution_count": 1,
      "outputs": [
        {
          "output_type": "stream",
          "name": "stdout",
          "text": [
            "Array 1: [1 2 3 4]\n",
            "Array 2: [5 6 7 8]\n",
            "Element-wise multiplication: [ 5 12 21 32]\n"
          ]
        }
      ]
    },
    {
      "cell_type": "markdown",
      "source": [
        "8.  Create a line plot with multiple lines using Matplotlib."
      ],
      "metadata": {
        "id": "9ZDEW6TuqUsF"
      }
    },
    {
      "cell_type": "code",
      "source": [
        "import matplotlib.pyplot as plt\n",
        "import numpy as np\n",
        "\n",
        "# Sample data\n",
        "x = np.array([1, 2, 3, 4, 5])\n",
        "y1 = np.array([2, 3, 5, 7, 6])\n",
        "y2 = np.array([1, 4, 2, 6, 8])\n",
        "\n",
        "# Create a line plot with multiple lines\n",
        "plt.plot(x, y1, label='Line 1', marker='o')\n",
        "plt.plot(x, y2, label='Line 2', marker='x')\n",
        "\n",
        "plt.title(\"Line Plot with Multiple Lines\")\n",
        "plt.xlabel(\"X-axis\")\n",
        "plt.ylabel(\"Y-axis\")\n",
        "plt.legend() # Show legend for labels\n",
        "plt.grid(True)\n",
        "plt.show()"
      ],
      "metadata": {
        "colab": {
          "base_uri": "https://localhost:8080/",
          "height": 472
        },
        "id": "RO6xNj4PBtsn",
        "outputId": "b4bd44a1-8805-405f-d832-30d7e1caea2c"
      },
      "execution_count": 2,
      "outputs": [
        {
          "output_type": "display_data",
          "data": {
            "text/plain": [
              "<Figure size 640x480 with 1 Axes>"
            ],
            "image/png": "[encoded data removed]"
          },
          "metadata": {}
        }
      ]
    },
    {
      "cell_type": "markdown",
      "source": [
        "9. Generate a Pandas DataFrame and filter rows where a column value is greater than a threshold."
      ],
      "metadata": {
        "id": "NK-9EJ2pqZJH"
      }
    },
    {
      "cell_type": "code",
      "source": [
        "import pandas as pd\n",
        "\n",
        "# Create a DataFrame\n",
        "data = {'Product': ['A', 'B', 'C', 'D', 'E'],\n",
        "        'Price': [10.5, 25.0, 5.75, 12.0, 30.0],\n",
        "        'Quantity': [100, 50, 200, 80, 30]}\n",
        "df = pd.DataFrame(data)\n",
        "\n",
        "# Set a threshold\n",
        "price_threshold = 15.0\n",
        "\n",
        "# Filter rows where 'Price' is greater than the threshold\n",
        "filtered_df = df[df['Price'] > price_threshold]\n",
        "\n",
        "print(\"Original DataFrame:\\n\", df)\n",
        "print(f\"\\nFiltered DataFrame (Price > {price_threshold}):\\n\", filtered_df)"
      ],
      "metadata": {
        "colab": {
          "base_uri": "https://localhost:8080/"
        },
        "id": "GI8nse98CD_L",
        "outputId": "32dcce2e-55a3-4b9c-fe0c-0db39744be96"
      },
      "execution_count": 3,
      "outputs": [
        {
          "output_type": "stream",
          "name": "stdout",
          "text": [
            "Original DataFrame:\n",
            "   Product  Price  Quantity\n",
            "0       A  10.50       100\n",
            "1       B  25.00        50\n",
            "2       C   5.75       200\n",
            "3       D  12.00        80\n",
            "4       E  30.00        30\n",
            "\n",
            "Filtered DataFrame (Price > 15.0):\n",
            "   Product  Price  Quantity\n",
            "1       B   25.0        50\n",
            "4       E   30.0        30\n"
          ]
        }
      ]
    },
    {
      "cell_type": "markdown",
      "source": [
        "10. Create a histogram using Seaborn to visualize a distribution."
      ],
      "metadata": {
        "id": "35n4Cm_Iqd1A"
      }
    },
    {
      "cell_type": "code",
      "source": [
        "import seaborn as sns\n",
        "import matplotlib.pyplot as plt\n",
        "import numpy as np\n",
        "\n",
        "# Generate some random data for distribution\n",
        "data = np.random.normal(loc=0, scale=1, size=1000) # Mean=0, StdDev=1, 1000 samples\n",
        "\n",
        "# Create a histogram using Seaborn\n",
        "plt.figure(figsize=(8, 6))\n",
        "sns.histplot(data, kde=True, bins=30) # kde=True for Kernel Density Estimate\n",
        "plt.title(\"Distribution Histogram\")\n",
        "plt.xlabel(\"Value\")\n",
        "plt.ylabel(\"Frequency\")\n",
        "plt.show()"
      ],
      "metadata": {
        "colab": {
          "base_uri": "https://localhost:8080/",
          "height": 564
        },
        "id": "iM4BnFG4CRbZ",
        "outputId": "4bc7b8e3-d784-4ee7-8321-0b201f3a55c3"
      },
      "execution_count": 4,
      "outputs": [
        {
          "output_type": "display_data",
          "data": {
            "text/plain": [
              "<Figure size 800x600 with 1 Axes>"
            ],
            "image/png": "[encoded data removed]"
          },
          "metadata": {}
        }
      ]
    },
    {
      "cell_type": "markdown",
      "source": [
        "11. Perform matrix multiplication using NumPy."
      ],
      "metadata": {
        "id": "4hDJZouzqkJ8"
      }
    },
    {
      "cell_type": "code",
      "source": [
        "# Define two matrices\n",
        "matrix1 = np.array([[1, 2],\n",
        "                    [3, 4]])\n",
        "\n",
        "matrix2 = np.array([[5, 6],\n",
        "                    [7, 8]])\n",
        "\n",
        "# Perform matrix multiplication\n",
        "# Use the @ operator or np.dot()\n",
        "result_matrix = matrix1 @ matrix2\n",
        "# Alternatively: result_matrix = np.dot(matrix1, matrix2)\n",
        "\n",
        "print(\"Matrix 1:\\n\", matrix1)\n",
        "print(\"\\nMatrix 2:\\n\", matrix2)\n",
        "print(\"\\nResult of Matrix Multiplication:\\n\", result_matrix)"
      ],
      "metadata": {
        "colab": {
          "base_uri": "https://localhost:8080/"
        },
        "id": "88ecia4ECVew",
        "outputId": "e21ec202-6cd3-4be1-8712-1de450610c49"
      },
      "execution_count": 5,
      "outputs": [
        {
          "output_type": "stream",
          "name": "stdout",
          "text": [
            "Matrix 1:\n",
            " [[1 2]\n",
            " [3 4]]\n",
            "\n",
            "Matrix 2:\n",
            " [[5 6]\n",
            " [7 8]]\n",
            "\n",
            "Result of Matrix Multiplication:\n",
            " [[19 22]\n",
            " [43 50]]\n"
          ]
        }
      ]
    },
    {
      "cell_type": "markdown",
      "source": [
        "12. Use Pandas to load a CSV file and display its first 5 rows."
      ],
      "metadata": {
        "id": "lxu5uivjqpZe"
      }
    },
    {
      "cell_type": "code",
      "source": [
        "import pandas as pd\n",
        "\n",
        "# Create a dummy CSV file for demonstration\n",
        "# In a real scenario, you would have an existing 'data.csv' file\n",
        "csv_content = \"\"\"col1,col2,col3\n",
        "1,A,10.1\n",
        "2,B,11.2\n",
        "3,C,12.3\n",
        "4,D,13.4\n",
        "5,E,14.5\n",
        "6,F,15.6\n",
        "7,G,16.7\n",
        "\"\"\"\n",
        "with open('dummy_data.csv', 'w') as f:\n",
        "    f.write(csv_content)\n",
        "\n",
        "# Load the CSV file into a DataFrame\n",
        "df = pd.read_csv('dummy_data.csv')\n",
        "\n",
        "# Display the first 5 rows\n",
        "print(\"First 5 rows of the DataFrame:\\n\", df.head(5))\n",
        "\n",
        "# Clean up the dummy file\n",
        "import os\n",
        "os.remove('dummy_data.csv')"
      ],
      "metadata": {
        "colab": {
          "base_uri": "https://localhost:8080/"
        },
        "id": "YJu4juReCuYH",
        "outputId": "70e93411-2b86-4cfd-b357-d5464f97f3c9"
      },
      "execution_count": 6,
      "outputs": [
        {
          "output_type": "stream",
          "name": "stdout",
          "text": [
            "First 5 rows of the DataFrame:\n",
            "    col1 col2  col3\n",
            "0     1    A  10.1\n",
            "1     2    B  11.2\n",
            "2     3    C  12.3\n",
            "3     4    D  13.4\n",
            "4     5    E  14.5\n"
          ]
        }
      ]
    },
    {
      "cell_type": "markdown",
      "source": [
        "13. Create a 3D scatter plot using Plotly."
      ],
      "metadata": {
        "id": "Rc4xTOqmquBX"
      }
    },
    {
      "cell_type": "code",
      "source": [
        "import plotly.graph_objects as go\n",
        "import numpy as np\n",
        "\n",
        "# Generate random data\n",
        "np.random.seed(42)\n",
        "x = np.random.randn(50)\n",
        "y = np.random.randn(50)\n",
        "z = np.random.randn(50)\n",
        "\n",
        "# Create 3D scatter plot\n",
        "fig = go.Figure(data=[go.Scatter3d(\n",
        "    x=x, y=y, z=z,\n",
        "    mode='markers',\n",
        "    marker=dict(\n",
        "        size=6,\n",
        "        color=z,                # Set color to the 'z' values\n",
        "        colorscale='Viridis',  # Choose a colorscale\n",
        "        opacity=0.8\n",
        "    )\n",
        ")])\n",
        "\n",
        "# Add layout\n",
        "fig.update_layout(\n",
        "    title='3D Scatter Plot using Plotly',\n",
        "    scene=dict(\n",
        "        xaxis_title='X Axis',\n",
        "        yaxis_title='Y Axis',\n",
        "        zaxis_title='Z Axis'\n",
        "    )\n",
        ")\n",
        "\n",
        "# Show the plot\n",
        "fig.show()"
      ],
      "metadata": {
        "colab": {
          "base_uri": "https://localhost:8080/",
          "height": 542
        },
        "id": "lkLa9OHRCyyv",
        "outputId": "0ea195e3-2ae5-48f2-c141-c2733fd8d91c"
      },
      "execution_count": 9,
      "outputs": [
        {
          "output_type": "display_data",
          "data": {
            "text/html": [
              "<html>\n",
              "<head><meta charset=\"utf-8\" /></head>\n",
              "<body>\n",
              "    <div>            <script src=\"https://cdnjs.cloudflare.com/ajax/libs/mathjax/2.7.5/MathJax.js?config=TeX-AMS-MML_SVG\"></script><script type=\"text/javascript\">if (window.MathJax && window.MathJax.Hub && window.MathJax.Hub.Config) {window.MathJax.Hub.Config({SVG: {font: \"STIX-Web\"}});}</script>                <script type=\"text/javascript\">window.PlotlyConfig = {MathJaxConfig: 'local'};</script>\n",
              "        <script charset=\"utf-8\" src=\"https://cdn.plot.ly/plotly-2.35.2.min.js\"></script>                <div id=\"ac1745c1-ef62-4fe7-8838-1e2da4a909cb\" class=\"plotly-graph-div\" style=\"height:525px; width:100%;\"></div>            <script type=\"text/javascript\">                                    window.PLOTLYENV=window.PLOTLYENV || {};                                    if (document.getElementById(\"ac1745c1-ef62-4fe7-8838-1e2da4a909cb\")) {                    Plotly.newPlot(                        \"ac1745c1-ef62-4fe7-8838-1e2da4a909cb\",                        [{\"marker\":{\"color\":[-1.4153707420504142,-0.42064532276535904,-0.3427145165267695,-0.8022772692216189,-0.16128571166600914,0.4040508568145384,1.8861859012105302,0.17457781283183896,0.25755039072276437,-0.07444591576616721,-1.9187712152990415,-0.026513875449216878,0.06023020994102644,2.463242112485286,-0.19236096478112252,0.30154734233361247,-0.03471176970524331,-1.168678037619532,1.1428228145150205,0.7519330326867741,0.7910319470430469,-0.9093874547947389,1.4027943109360992,-1.4018510627922809,0.5868570938002703,2.1904556258099785,-0.9905363251306883,-0.5662977296027719,0.09965136508764122,-0.5034756541161992,-1.5506634310661327,0.06856297480602733,-1.0623037137261049,0.4735924306351816,-0.9194242342338032,1.5499344050175394,-0.7832532923362371,-0.3220615162056756,0.8135172173696698,-1.2308643164339552,0.22745993460412942,1.307142754282428,-1.6074832345612275,0.1846338585323042,0.25988279424842353,0.7818228717773104,-1.236950710878082,-1.3204566130842763,0.5219415656168976,0.29698467323318606],\"colorscale\":[[0.0,\"#440154\"],[0.1111111111111111,\"#482878\"],[0.2222222222222222,\"#3e4989\"],[0.3333333333333333,\"#31688e\"],[0.4444444444444444,\"#26828e\"],[0.5555555555555556,\"#1f9e89\"],[0.6666666666666666,\"#35b779\"],[0.7777777777777778,\"#6ece58\"],[0.8888888888888888,\"#b5de2b\"],[1.0,\"#fde725\"]],\"opacity\":0.8,\"size\":6},\"mode\":\"markers\",\"x\":[0.4967141530112327,-0.13826430117118466,0.6476885381006925,1.5230298564080254,-0.23415337472333597,-0.23413695694918055,1.5792128155073915,0.7674347291529088,-0.4694743859349521,0.5425600435859647,-0.46341769281246226,-0.46572975357025687,0.24196227156603412,-1.913280244657798,-1.7249178325130328,-0.5622875292409727,-1.0128311203344238,0.3142473325952739,-0.9080240755212109,-1.4123037013352915,1.465648768921554,-0.22577630048653566,0.06752820468792384,-1.4247481862134568,-0.5443827245251827,0.11092258970986608,-1.1509935774223028,0.37569801834567196,-0.600638689918805,-0.2916937497932768,-0.6017066122293969,1.8522781845089378,-0.013497224737933921,-1.0577109289559004,0.822544912103189,-1.2208436499710222,0.2088635950047554,-1.9596701238797756,-1.3281860488984305,0.19686123586912352,0.7384665799954104,0.1713682811899705,-0.11564828238824053,-0.3011036955892888,-1.4785219903674274,-0.7198442083947086,-0.4606387709597875,1.0571222262189157,0.3436182895684614,-1.763040155362734],\"y\":[0.324083969394795,-0.38508228041631654,-0.6769220003059587,0.6116762888408679,1.030999522495951,0.9312801191161986,-0.8392175232226385,-0.3092123758512146,0.33126343140356396,0.9755451271223592,-0.47917423784528995,-0.18565897666381712,-1.1063349740060282,-1.1962066240806708,0.812525822394198,1.356240028570823,-0.07201012158033385,1.0035328978920242,0.36163602504763415,-0.6451197546051243,0.36139560550841393,1.5380365664659692,-0.03582603910995154,1.5646436558140062,-2.6197451040897444,0.8219025043752238,0.08704706823817122,-0.29900735046586746,0.0917607765355023,-1.9875689146008928,-0.21967188783751193,0.3571125715117464,1.477894044741516,-0.5182702182736474,-0.8084936028931876,-0.5017570435845365,0.9154021177020741,0.32875110965968446,-0.5297602037670388,0.5132674331133561,0.09707754934804039,0.9686449905328892,-0.7020530938773524,-0.3276621465977682,-0.39210815313215763,-1.4635149481321186,0.29612027706457605,0.26105527217988933,0.00511345664246089,-0.23458713337514692],\"z\":[-1.4153707420504142,-0.42064532276535904,-0.3427145165267695,-0.8022772692216189,-0.16128571166600914,0.4040508568145384,1.8861859012105302,0.17457781283183896,0.25755039072276437,-0.07444591576616721,-1.9187712152990415,-0.026513875449216878,0.06023020994102644,2.463242112485286,-0.19236096478112252,0.30154734233361247,-0.03471176970524331,-1.168678037619532,1.1428228145150205,0.7519330326867741,0.7910319470430469,-0.9093874547947389,1.4027943109360992,-1.4018510627922809,0.5868570938002703,2.1904556258099785,-0.9905363251306883,-0.5662977296027719,0.09965136508764122,-0.5034756541161992,-1.5506634310661327,0.06856297480602733,-1.0623037137261049,0.4735924306351816,-0.9194242342338032,1.5499344050175394,-0.7832532923362371,-0.3220615162056756,0.8135172173696698,-1.2308643164339552,0.22745993460412942,1.307142754282428,-1.6074832345612275,0.1846338585323042,0.25988279424842353,0.7818228717773104,-1.236950710878082,-1.3204566130842763,0.5219415656168976,0.29698467323318606],\"type\":\"scatter3d\"}],                        {\"template\":{\"data\":{\"histogram2dcontour\":[{\"type\":\"histogram2dcontour\",\"colorbar\":{\"outlinewidth\":0,\"ticks\":\"\"},\"colorscale\":[[0.0,\"#0d0887\"],[0.1111111111111111,\"#46039f\"],[0.2222222222222222,\"#7201a8\"],[0.3333333333333333,\"#9c179e\"],[0.4444444444444444,\"#bd3786\"],[0.5555555555555556,\"#d8576b\"],[0.6666666666666666,\"#ed7953\"],[0.7777777777777778,\"#fb9f3a\"],[0.8888888888888888,\"#fdca26\"],[1.0,\"#f0f921\"]]}],\"choropleth\":[{\"type\":\"choropleth\",\"colorbar\":{\"outlinewidth\":0,\"ticks\":\"\"}}],\"histogram2d\":[{\"type\":\"histogram2d\",\"colorbar\":{\"outlinewidth\":0,\"ticks\":\"\"},\"colorscale\":[[0.0,\"#0d0887\"],[0.1111111111111111,\"#46039f\"],[0.2222222222222222,\"#7201a8\"],[0.3333333333333333,\"#9c179e\"],[0.4444444444444444,\"#bd3786\"],[0.5555555555555556,\"#d8576b\"],[0.6666666666666666,\"#ed7953\"],[0.7777777777777778,\"#fb9f3a\"],[0.8888888888888888,\"#fdca26\"],[1.0,\"#f0f921\"]]}],\"heatmap\":[{\"type\":\"heatmap\",\"colorbar\":{\"outlinewidth\":0,\"ticks\":\"\"},\"colorscale\":[[0.0,\"#0d0887\"],[0.1111111111111111,\"#46039f\"],[0.2222222222222222,\"#7201a8\"],[0.3333333333333333,\"#9c179e\"],[0.4444444444444444,\"#bd3786\"],[0.5555555555555556,\"#d8576b\"],[0.6666666666666666,\"#ed7953\"],[0.7777777777777778,\"#fb9f3a\"],[0.8888888888888888,\"#fdca26\"],[1.0,\"#f0f921\"]]}],\"heatmapgl\":[{\"type\":\"heatmapgl\",\"colorbar\":{\"outlinewidth\":0,\"ticks\":\"\"},\"colorscale\":[[0.0,\"#0d0887\"],[0.1111111111111111,\"#46039f\"],[0.2222222222222222,\"#7201a8\"],[0.3333333333333333,\"#9c179e\"],[0.4444444444444444,\"#bd3786\"],[0.5555555555555556,\"#d8576b\"],[0.6666666666666666,\"#ed7953\"],[0.7777777777777778,\"#fb9f3a\"],[0.8888888888888888,\"#fdca26\"],[1.0,\"#f0f921\"]]}],\"contourcarpet\":[{\"type\":\"contourcarpet\",\"colorbar\":{\"outlinewidth\":0,\"ticks\":\"\"}}],\"contour\":[{\"type\":\"contour\",\"colorbar\":{\"outlinewidth\":0,\"ticks\":\"\"},\"colorscale\":[[0.0,\"#0d0887\"],[0.1111111111111111,\"#46039f\"],[0.2222222222222222,\"#7201a8\"],[0.3333333333333333,\"#9c179e\"],[0.4444444444444444,\"#bd3786\"],[0.5555555555555556,\"#d8576b\"],[0.6666666666666666,\"#ed7953\"],[0.7777777777777778,\"#fb9f3a\"],[0.8888888888888888,\"#fdca26\"],[1.0,\"#f0f921\"]]}],\"surface\":[{\"type\":\"surface\",\"colorbar\":{\"outlinewidth\":0,\"ticks\":\"\"},\"colorscale\":[[0.0,\"#0d0887\"],[0.1111111111111111,\"#46039f\"],[0.2222222222222222,\"#7201a8\"],[0.3333333333333333,\"#9c179e\"],[0.4444444444444444,\"#bd3786\"],[0.5555555555555556,\"#d8576b\"],[0.6666666666666666,\"#ed7953\"],[0.7777777777777778,\"#fb9f3a\"],[0.8888888888888888,\"#fdca26\"],[1.0,\"#f0f921\"]]}],\"mesh3d\":[{\"type\":\"mesh3d\",\"colorbar\":{\"outlinewidth\":0,\"ticks\":\"\"}}],\"scatter\":[{\"fillpattern\":{\"fillmode\":\"overlay\",\"size\":10,\"solidity\":0.2},\"type\":\"scatter\"}],\"parcoords\":[{\"type\":\"parcoords\",\"line\":{\"colorbar\":{\"outlinewidth\":0,\"ticks\":\"\"}}}],\"scatterpolargl\":[{\"type\":\"scatterpolargl\",\"marker\":{\"colorbar\":{\"outlinewidth\":0,\"ticks\":\"\"}}}],\"bar\":[{\"error_x\":{\"color\":\"#2a3f5f\"},\"error_y\":{\"color\":\"#2a3f5f\"},\"marker\":{\"line\":{\"color\":\"#E5ECF6\",\"width\":0.5},\"pattern\":{\"fillmode\":\"overlay\",\"size\":10,\"solidity\":0.2}},\"type\":\"bar\"}],\"scattergeo\":[{\"type\":\"scattergeo\",\"marker\":{\"colorbar\":{\"outlinewidth\":0,\"ticks\":\"\"}}}],\"scatterpolar\":[{\"type\":\"scatterpolar\",\"marker\":{\"colorbar\":{\"outlinewidth\":0,\"ticks\":\"\"}}}],\"histogram\":[{\"marker\":{\"pattern\":{\"fillmode\":\"overlay\",\"size\":10,\"solidity\":0.2}},\"type\":\"histogram\"}],\"scattergl\":[{\"type\":\"scattergl\",\"marker\":{\"colorbar\":{\"outlinewidth\":0,\"ticks\":\"\"}}}],\"scatter3d\":[{\"type\":\"scatter3d\",\"line\":{\"colorbar\":{\"outlinewidth\":0,\"ticks\":\"\"}},\"marker\":{\"colorbar\":{\"outlinewidth\":0,\"ticks\":\"\"}}}],\"scattermapbox\":[{\"type\":\"scattermapbox\",\"marker\":{\"colorbar\":{\"outlinewidth\":0,\"ticks\":\"\"}}}],\"scatterternary\":[{\"type\":\"scatterternary\",\"marker\":{\"colorbar\":{\"outlinewidth\":0,\"ticks\":\"\"}}}],\"scattercarpet\":[{\"type\":\"scattercarpet\",\"marker\":{\"colorbar\":{\"outlinewidth\":0,\"ticks\":\"\"}}}],\"carpet\":[{\"aaxis\":{\"endlinecolor\":\"#2a3f5f\",\"gridcolor\":\"white\",\"linecolor\":\"white\",\"minorgridcolor\":\"white\",\"startlinecolor\":\"#2a3f5f\"},\"baxis\":{\"endlinecolor\":\"#2a3f5f\",\"gridcolor\":\"white\",\"linecolor\":\"white\",\"minorgridcolor\":\"white\",\"startlinecolor\":\"#2a3f5f\"},\"type\":\"carpet\"}],\"table\":[{\"cells\":{\"fill\":{\"color\":\"#EBF0F8\"},\"line\":{\"color\":\"white\"}},\"header\":{\"fill\":{\"color\":\"#C8D4E3\"},\"line\":{\"color\":\"white\"}},\"type\":\"table\"}],\"barpolar\":[{\"marker\":{\"line\":{\"color\":\"#E5ECF6\",\"width\":0.5},\"pattern\":{\"fillmode\":\"overlay\",\"size\":10,\"solidity\":0.2}},\"type\":\"barpolar\"}],\"pie\":[{\"automargin\":true,\"type\":\"pie\"}]},\"layout\":{\"autotypenumbers\":\"strict\",\"colorway\":[\"#636efa\",\"#EF553B\",\"#00cc96\",\"#ab63fa\",\"#FFA15A\",\"#19d3f3\",\"#FF6692\",\"#B6E880\",\"#FF97FF\",\"#FECB52\"],\"font\":{\"color\":\"#2a3f5f\"},\"hovermode\":\"closest\",\"hoverlabel\":{\"align\":\"left\"},\"paper_bgcolor\":\"white\",\"plot_bgcolor\":\"#E5ECF6\",\"polar\":{\"bgcolor\":\"#E5ECF6\",\"angularaxis\":{\"gridcolor\":\"white\",\"linecolor\":\"white\",\"ticks\":\"\"},\"radialaxis\":{\"gridcolor\":\"white\",\"linecolor\":\"white\",\"ticks\":\"\"}},\"ternary\":{\"bgcolor\":\"#E5ECF6\",\"aaxis\":{\"gridcolor\":\"white\",\"linecolor\":\"white\",\"ticks\":\"\"},\"baxis\":{\"gridcolor\":\"white\",\"linecolor\":\"white\",\"ticks\":\"\"},\"caxis\":{\"gridcolor\":\"white\",\"linecolor\":\"white\",\"ticks\":\"\"}},\"coloraxis\":{\"colorbar\":{\"outlinewidth\":0,\"ticks\":\"\"}},\"colorscale\":{\"sequential\":[[0.0,\"#0d0887\"],[0.1111111111111111,\"#46039f\"],[0.2222222222222222,\"#7201a8\"],[0.3333333333333333,\"#9c179e\"],[0.4444444444444444,\"#bd3786\"],[0.5555555555555556,\"#d8576b\"],[0.6666666666666666,\"#ed7953\"],[0.7777777777777778,\"#fb9f3a\"],[0.8888888888888888,\"#fdca26\"],[1.0,\"#f0f921\"]],\"sequentialminus\":[[0.0,\"#0d0887\"],[0.1111111111111111,\"#46039f\"],[0.2222222222222222,\"#7201a8\"],[0.3333333333333333,\"#9c179e\"],[0.4444444444444444,\"#bd3786\"],[0.5555555555555556,\"#d8576b\"],[0.6666666666666666,\"#ed7953\"],[0.7777777777777778,\"#fb9f3a\"],[0.8888888888888888,\"#fdca26\"],[1.0,\"#f0f921\"]],\"diverging\":[[0,\"#8e0152\"],[0.1,\"#c51b7d\"],[0.2,\"#de77ae\"],[0.3,\"#f1b6da\"],[0.4,\"#fde0ef\"],[0.5,\"#f7f7f7\"],[0.6,\"#e6f5d0\"],[0.7,\"#b8e186\"],[0.8,\"#7fbc41\"],[0.9,\"#4d9221\"],[1,\"#276419\"]]},\"xaxis\":{\"gridcolor\":\"white\",\"linecolor\":\"white\",\"ticks\":\"\",\"title\":{\"standoff\":15},\"zerolinecolor\":\"white\",\"automargin\":true,\"zerolinewidth\":2},\"yaxis\":{\"gridcolor\":\"white\",\"linecolor\":\"white\",\"ticks\":\"\",\"title\":{\"standoff\":15},\"zerolinecolor\":\"white\",\"automargin\":true,\"zerolinewidth\":2},\"scene\":{\"xaxis\":{\"backgroundcolor\":\"#E5ECF6\",\"gridcolor\":\"white\",\"linecolor\":\"white\",\"showbackground\":true,\"ticks\":\"\",\"zerolinecolor\":\"white\",\"gridwidth\":2},\"yaxis\":{\"backgroundcolor\":\"#E5ECF6\",\"gridcolor\":\"white\",\"linecolor\":\"white\",\"showbackground\":true,\"ticks\":\"\",\"zerolinecolor\":\"white\",\"gridwidth\":2},\"zaxis\":{\"backgroundcolor\":\"#E5ECF6\",\"gridcolor\":\"white\",\"linecolor\":\"white\",\"showbackground\":true,\"ticks\":\"\",\"zerolinecolor\":\"white\",\"gridwidth\":2}},\"shapedefaults\":{\"line\":{\"color\":\"#2a3f5f\"}},\"annotationdefaults\":{\"arrowcolor\":\"#2a3f5f\",\"arrowhead\":0,\"arrowwidth\":1},\"geo\":{\"bgcolor\":\"white\",\"landcolor\":\"#E5ECF6\",\"subunitcolor\":\"white\",\"showland\":true,\"showlakes\":true,\"lakecolor\":\"white\"},\"title\":{\"x\":0.05},\"mapbox\":{\"style\":\"light\"}}},\"title\":{\"text\":\"3D Scatter Plot using Plotly\"},\"scene\":{\"xaxis\":{\"title\":{\"text\":\"X Axis\"}},\"yaxis\":{\"title\":{\"text\":\"Y Axis\"}},\"zaxis\":{\"title\":{\"text\":\"Z Axis\"}}}},                        {\"responsive\": true}                    ).then(function(){\n",
              "                            \n",
              "var gd = document.getElementById('ac1745c1-ef62-4fe7-8838-1e2da4a909cb');\n",
              "var x = new MutationObserver(function (mutations, observer) {{\n",
              "        var display = window.getComputedStyle(gd).display;\n",
              "        if (!display || display === 'none') {{\n",
              "            console.log([gd, 'removed!']);\n",
              "            Plotly.purge(gd);\n",
              "            observer.disconnect();\n",
              "        }}\n",
              "}});\n",
              "\n",
              "// Listen for the removal of the full notebook cells\n",
              "var notebookContainer = gd.closest('#notebook-container');\n",
              "if (notebookContainer) {{\n",
              "    x.observe(notebookContainer, {childList: true});\n",
              "}}\n",
              "\n",
              "// Listen for the clearing of the current output cell\n",
              "var outputEl = gd.closest('.output');\n",
              "if (outputEl) {{\n",
              "    x.observe(outputEl, {childList: true});\n",
              "}}\n",
              "\n",
              "                        })                };                            </script>        </div>\n",
              "</body>\n",
              "</html>"
            ]
          },
          "metadata": {}
        }
      ]
    },
    {
      "cell_type": "code",
      "source": [],
      "metadata": {
        "id": "A7VYpheSCzlZ"
      },
      "execution_count": null,
      "outputs": []
    }
  ]
}